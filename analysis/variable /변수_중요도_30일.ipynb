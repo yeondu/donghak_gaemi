{
  "nbformat": 4,
  "nbformat_minor": 0,
  "metadata": {
    "colab": {
      "name": "변수 중요도 30일.ipynb",
      "provenance": [],
      "collapsed_sections": [
        "_-4Qg4kVDHEd",
        "6xtV04dtnR7h"
      ]
    },
    "kernelspec": {
      "display_name": "Python 3",
      "name": "python3"
    },
    "language_info": {
      "name": "python"
    }
  },
  "cells": [
    {
      "cell_type": "code",
      "metadata": {
        "colab": {
          "base_uri": "https://localhost:8080/"
        },
        "id": "R4p_2FEigucw",
        "outputId": "89b0ef3b-8114-499a-ae7b-fb343805f177"
      },
      "source": [
        "# TA-Lib 설치 코드\n",
        "url = 'https://anaconda.org/conda-forge/libta-lib/0.4.0/download/linux-64/libta-lib-0.4.0-h516909a_0.tar.bz2'\n",
        "!curl -L $url | tar xj -C /usr/lib/x86_64-linux-gnu/ lib --strip-components=1\n",
        "url = 'https://anaconda.org/conda-forge/ta-lib/0.4.19/download/linux-64/ta-lib-0.4.19-py37ha21ca33_2.tar.bz2'\n",
        "!curl -L $url | tar xj -C /usr/local/lib/python3.7/dist-packages/ lib/python3.7/site-packages/talib --strip-components=3\n",
        "import talib\n",
        "import numpy as np\n",
        "import matplotlib.pyplot as plt\n",
        "import seaborn as sns\n",
        "import pandas_datareader as pdr\n",
        "import scipy.stats as stats\n",
        "import math\n",
        "from sklearn.preprocessing import MinMaxScaler\n",
        "import collections\n",
        "import pandas as pd\n",
        "from sklearn import datasets\n",
        "from keras.layers import Input, Dense, Conv1D, MaxPooling1D, UpSampling1D, BatchNormalization, LSTM, RepeatVector\n",
        "from keras.models import Model\n",
        "from keras.models import model_from_json\n",
        "from keras import regularizers\n",
        "import datetime\n",
        "import time\n",
        "import requests as req\n",
        "from tqdm import tqdm\n",
        "import matplotlib.pyplot as plt\n",
        "%pylab inline\n",
        "from sklearn.model_selection import train_test_split\n",
        "import tensorflow as tf\n",
        "\n",
        "from sklearn.tree import DecisionTreeClassifier # 결정 트리\n",
        "from sklearn.neighbors import KNeighborsClassifier # KNN\n",
        "from sklearn.linear_model import LogisticRegression # 로지스틱 회귀\n",
        "from lightgbm import LGBMClassifier\n",
        "from xgboost import XGBClassifier\n",
        "from sklearn.ensemble import VotingClassifier,RandomForestClassifier,AdaBoostClassifier,GradientBoostingClassifier # 앙상블 \n",
        "\n",
        "from sklearn.metrics import confusion_matrix, classification_report # 정오분류표\n",
        "from sklearn.metrics import accuracy_score, precision_score, recall_score, f1_score, roc_auc_score \n",
        "from sklearn.metrics import roc_curve, auc, roc_auc_score,classification_report,confusion_matrix  # ROC곡선 그리기\n",
        "\n",
        "from sklearn.model_selection import learning_curve, validation_curve # 학습곡선, 검증곡선\n",
        "from sklearn.model_selection import GridSearchCV, cross_val_score  # 하이퍼파라미터 튜닝, 교차타당도"
      ],
      "execution_count": null,
      "outputs": [
        {
          "name": "stdout",
          "output_type": "stream",
          "text": [
            "  % Total    % Received % Xferd  Average Speed   Time    Time     Time  Current\n",
            "                                 Dload  Upload   Total   Spent    Left  Speed\n",
            "100  3745    0  3745    0     0  16142      0 --:--:-- --:--:-- --:--:-- 16142\n",
            "100  503k  100  503k    0     0   952k      0 --:--:-- --:--:-- --:--:--  952k\n",
            "  % Total    % Received % Xferd  Average Speed   Time    Time     Time  Current\n",
            "                                 Dload  Upload   Total   Spent    Left  Speed\n",
            "100  3749    0  3749    0     0  17197      0 --:--:-- --:--:-- --:--:-- 17197\n",
            "100  406k  100  406k    0     0   767k      0 --:--:-- --:--:-- --:--:--  767k\n",
            "Populating the interactive namespace from numpy and matplotlib\n"
          ]
        }
      ]
    },
    {
      "cell_type": "markdown",
      "metadata": {
        "id": "XmH91KuW-2DZ"
      },
      "source": [
        "# 데이터 불러오기(original)"
      ]
    },
    {
      "cell_type": "code",
      "metadata": {
        "id": "PkW91ZLng2nv"
      },
      "source": [
        "df = pd.read_csv(\"/content/drive/MyDrive/data/original_data.csv\", index_col =['Date'], parse_dates=True)"
      ],
      "execution_count": null,
      "outputs": []
    },
    {
      "cell_type": "code",
      "metadata": {
        "colab": {
          "base_uri": "https://localhost:8080/",
          "height": 339
        },
        "id": "juATs4NK8kmp",
        "outputId": "13e6df1a-ef7f-4cdf-c188-7f37bc113d97"
      },
      "source": [
        "df.head()"
      ],
      "execution_count": null,
      "outputs": [
        {
          "data": {
            "text/html": [
              "<div>\n",
              "<style scoped>\n",
              "    .dataframe tbody tr th:only-of-type {\n",
              "        vertical-align: middle;\n",
              "    }\n",
              "\n",
              "    .dataframe tbody tr th {\n",
              "        vertical-align: top;\n",
              "    }\n",
              "\n",
              "    .dataframe thead th {\n",
              "        text-align: right;\n",
              "    }\n",
              "</style>\n",
              "<table border=\"1\" class=\"dataframe\">\n",
              "  <thead>\n",
              "    <tr style=\"text-align: right;\">\n",
              "      <th></th>\n",
              "      <th>Open</th>\n",
              "      <th>High</th>\n",
              "      <th>Low</th>\n",
              "      <th>Close</th>\n",
              "      <th>Adj Close</th>\n",
              "      <th>Volume</th>\n",
              "      <th>S&amp;P500</th>\n",
              "      <th>SOX</th>\n",
              "      <th>VIX</th>\n",
              "      <th>KOSPI</th>\n",
              "      <th>log_return</th>\n",
              "      <th>CCI</th>\n",
              "      <th>MA5</th>\n",
              "      <th>MA10</th>\n",
              "      <th>MA20</th>\n",
              "      <th>MA60</th>\n",
              "      <th>MA20_ratio</th>\n",
              "      <th>MA60_ratio</th>\n",
              "      <th>MA20_volume</th>\n",
              "      <th>MA60_volumne</th>\n",
              "      <th>RASD5</th>\n",
              "      <th>RASD10</th>\n",
              "      <th>MACD</th>\n",
              "      <th>ATR</th>\n",
              "      <th>ub</th>\n",
              "      <th>middle</th>\n",
              "      <th>lb</th>\n",
              "      <th>MTM1</th>\n",
              "      <th>MTM3</th>\n",
              "      <th>ROC</th>\n",
              "      <th>WPR</th>\n",
              "    </tr>\n",
              "    <tr>\n",
              "      <th>Date</th>\n",
              "      <th></th>\n",
              "      <th></th>\n",
              "      <th></th>\n",
              "      <th></th>\n",
              "      <th></th>\n",
              "      <th></th>\n",
              "      <th></th>\n",
              "      <th></th>\n",
              "      <th></th>\n",
              "      <th></th>\n",
              "      <th></th>\n",
              "      <th></th>\n",
              "      <th></th>\n",
              "      <th></th>\n",
              "      <th></th>\n",
              "      <th></th>\n",
              "      <th></th>\n",
              "      <th></th>\n",
              "      <th></th>\n",
              "      <th></th>\n",
              "      <th></th>\n",
              "      <th></th>\n",
              "      <th></th>\n",
              "      <th></th>\n",
              "      <th></th>\n",
              "      <th></th>\n",
              "      <th></th>\n",
              "      <th></th>\n",
              "      <th></th>\n",
              "      <th></th>\n",
              "      <th></th>\n",
              "    </tr>\n",
              "  </thead>\n",
              "  <tbody>\n",
              "    <tr>\n",
              "      <th>2005-01-04</th>\n",
              "      <td>7068.327148</td>\n",
              "      <td>7109.184570</td>\n",
              "      <td>6913.069336</td>\n",
              "      <td>7027.469727</td>\n",
              "      <td>6893.216309</td>\n",
              "      <td>2256630</td>\n",
              "      <td>1188.050049</td>\n",
              "      <td>410.359985</td>\n",
              "      <td>13.98</td>\n",
              "      <td>886.900024</td>\n",
              "      <td>NaN</td>\n",
              "      <td>NaN</td>\n",
              "      <td>NaN</td>\n",
              "      <td>NaN</td>\n",
              "      <td>NaN</td>\n",
              "      <td>NaN</td>\n",
              "      <td>NaN</td>\n",
              "      <td>NaN</td>\n",
              "      <td>NaN</td>\n",
              "      <td>NaN</td>\n",
              "      <td>NaN</td>\n",
              "      <td>NaN</td>\n",
              "      <td>NaN</td>\n",
              "      <td>NaN</td>\n",
              "      <td>NaN</td>\n",
              "      <td>NaN</td>\n",
              "      <td>NaN</td>\n",
              "      <td>NaN</td>\n",
              "      <td>NaN</td>\n",
              "      <td>NaN</td>\n",
              "      <td>NaN</td>\n",
              "    </tr>\n",
              "    <tr>\n",
              "      <th>2005-01-05</th>\n",
              "      <td>6913.069336</td>\n",
              "      <td>6978.440918</td>\n",
              "      <td>6815.011230</td>\n",
              "      <td>6945.754883</td>\n",
              "      <td>6813.062500</td>\n",
              "      <td>1773241</td>\n",
              "      <td>1183.739990</td>\n",
              "      <td>404.250000</td>\n",
              "      <td>14.09</td>\n",
              "      <td>885.190002</td>\n",
              "      <td>-0.011696</td>\n",
              "      <td>NaN</td>\n",
              "      <td>NaN</td>\n",
              "      <td>NaN</td>\n",
              "      <td>NaN</td>\n",
              "      <td>NaN</td>\n",
              "      <td>NaN</td>\n",
              "      <td>NaN</td>\n",
              "      <td>NaN</td>\n",
              "      <td>NaN</td>\n",
              "      <td>NaN</td>\n",
              "      <td>NaN</td>\n",
              "      <td>NaN</td>\n",
              "      <td>NaN</td>\n",
              "      <td>NaN</td>\n",
              "      <td>NaN</td>\n",
              "      <td>NaN</td>\n",
              "      <td>-81.714844</td>\n",
              "      <td>NaN</td>\n",
              "      <td>NaN</td>\n",
              "      <td>NaN</td>\n",
              "    </tr>\n",
              "    <tr>\n",
              "      <th>2005-01-06</th>\n",
              "      <td>6978.440918</td>\n",
              "      <td>7305.299805</td>\n",
              "      <td>6847.697266</td>\n",
              "      <td>6986.612305</td>\n",
              "      <td>6853.140137</td>\n",
              "      <td>7480900</td>\n",
              "      <td>1187.890015</td>\n",
              "      <td>402.140015</td>\n",
              "      <td>13.58</td>\n",
              "      <td>871.280029</td>\n",
              "      <td>0.005865</td>\n",
              "      <td>NaN</td>\n",
              "      <td>NaN</td>\n",
              "      <td>NaN</td>\n",
              "      <td>NaN</td>\n",
              "      <td>NaN</td>\n",
              "      <td>NaN</td>\n",
              "      <td>NaN</td>\n",
              "      <td>NaN</td>\n",
              "      <td>NaN</td>\n",
              "      <td>NaN</td>\n",
              "      <td>NaN</td>\n",
              "      <td>NaN</td>\n",
              "      <td>NaN</td>\n",
              "      <td>NaN</td>\n",
              "      <td>NaN</td>\n",
              "      <td>NaN</td>\n",
              "      <td>40.857422</td>\n",
              "      <td>NaN</td>\n",
              "      <td>NaN</td>\n",
              "      <td>NaN</td>\n",
              "    </tr>\n",
              "    <tr>\n",
              "      <th>2005-01-07</th>\n",
              "      <td>7043.812500</td>\n",
              "      <td>7231.756836</td>\n",
              "      <td>7019.298340</td>\n",
              "      <td>7223.585449</td>\n",
              "      <td>7085.585449</td>\n",
              "      <td>4612385</td>\n",
              "      <td>1186.189941</td>\n",
              "      <td>407.559998</td>\n",
              "      <td>13.49</td>\n",
              "      <td>870.840027</td>\n",
              "      <td>0.033356</td>\n",
              "      <td>NaN</td>\n",
              "      <td>NaN</td>\n",
              "      <td>NaN</td>\n",
              "      <td>NaN</td>\n",
              "      <td>NaN</td>\n",
              "      <td>NaN</td>\n",
              "      <td>NaN</td>\n",
              "      <td>NaN</td>\n",
              "      <td>NaN</td>\n",
              "      <td>NaN</td>\n",
              "      <td>NaN</td>\n",
              "      <td>NaN</td>\n",
              "      <td>NaN</td>\n",
              "      <td>NaN</td>\n",
              "      <td>NaN</td>\n",
              "      <td>NaN</td>\n",
              "      <td>236.973145</td>\n",
              "      <td>196.115723</td>\n",
              "      <td>NaN</td>\n",
              "      <td>NaN</td>\n",
              "    </tr>\n",
              "    <tr>\n",
              "      <th>2005-01-10</th>\n",
              "      <td>7313.471680</td>\n",
              "      <td>7599.473145</td>\n",
              "      <td>7313.471680</td>\n",
              "      <td>7395.186035</td>\n",
              "      <td>7253.907715</td>\n",
              "      <td>4720077</td>\n",
              "      <td>1190.250000</td>\n",
              "      <td>406.250000</td>\n",
              "      <td>13.23</td>\n",
              "      <td>874.179993</td>\n",
              "      <td>0.023478</td>\n",
              "      <td>NaN</td>\n",
              "      <td>7115.72168</td>\n",
              "      <td>NaN</td>\n",
              "      <td>NaN</td>\n",
              "      <td>NaN</td>\n",
              "      <td>NaN</td>\n",
              "      <td>NaN</td>\n",
              "      <td>NaN</td>\n",
              "      <td>NaN</td>\n",
              "      <td>NaN</td>\n",
              "      <td>NaN</td>\n",
              "      <td>NaN</td>\n",
              "      <td>NaN</td>\n",
              "      <td>NaN</td>\n",
              "      <td>NaN</td>\n",
              "      <td>NaN</td>\n",
              "      <td>171.600586</td>\n",
              "      <td>449.431152</td>\n",
              "      <td>NaN</td>\n",
              "      <td>NaN</td>\n",
              "    </tr>\n",
              "  </tbody>\n",
              "</table>\n",
              "</div>"
            ],
            "text/plain": [
              "                   Open         High          Low  ...        MTM3  ROC  WPR\n",
              "Date                                               ...                      \n",
              "2005-01-04  7068.327148  7109.184570  6913.069336  ...         NaN  NaN  NaN\n",
              "2005-01-05  6913.069336  6978.440918  6815.011230  ...         NaN  NaN  NaN\n",
              "2005-01-06  6978.440918  7305.299805  6847.697266  ...         NaN  NaN  NaN\n",
              "2005-01-07  7043.812500  7231.756836  7019.298340  ...  196.115723  NaN  NaN\n",
              "2005-01-10  7313.471680  7599.473145  7313.471680  ...  449.431152  NaN  NaN\n",
              "\n",
              "[5 rows x 31 columns]"
            ]
          },
          "execution_count": 5,
          "metadata": {},
          "output_type": "execute_result"
        }
      ]
    },
    {
      "cell_type": "code",
      "metadata": {
        "colab": {
          "base_uri": "https://localhost:8080/"
        },
        "id": "IXYxqi-_9za4",
        "outputId": "8c03f3d9-466d-45f4-9626-a22279cf10dd"
      },
      "source": [
        "df['next_rtn'] = df['Close'] / df['Open']-1\n",
        "feature1 = ['MA20_ratio', 'MA60_ratio', 'MA20_volume', 'MA60_volumne'] # 새로 추가한 것(MA20,MA60 제외)\n",
        "df = df.drop(feature1, axis = 1)\n",
        "df.columns"
      ],
      "execution_count": null,
      "outputs": [
        {
          "data": {
            "text/plain": [
              "Index(['Open', 'High', 'Low', 'Close', 'Adj Close', 'Volume', 'S&P500', 'SOX',\n",
              "       'VIX', 'KOSPI', 'log_return', 'CCI', 'MA5', 'MA10', 'MA20', 'MA60',\n",
              "       'RASD5', 'RASD10', 'MACD', 'ATR', 'ub', 'middle', 'lb', 'MTM1', 'MTM3',\n",
              "       'ROC', 'WPR', 'next_rtn'],\n",
              "      dtype='object')"
            ]
          },
          "execution_count": 6,
          "metadata": {},
          "output_type": "execute_result"
        }
      ]
    },
    {
      "cell_type": "code",
      "metadata": {
        "colab": {
          "base_uri": "https://localhost:8080/"
        },
        "id": "YOvjFuHXjd1_",
        "outputId": "32876448-f606-48c4-e3fd-f9d2ecb62ff3"
      },
      "source": [
        "df.isnull().any()"
      ],
      "execution_count": null,
      "outputs": [
        {
          "data": {
            "text/plain": [
              "Open          False\n",
              "High          False\n",
              "Low           False\n",
              "Close         False\n",
              "Adj Close     False\n",
              "Volume        False\n",
              "S&P500         True\n",
              "SOX            True\n",
              "VIX            True\n",
              "KOSPI          True\n",
              "log_return     True\n",
              "CCI            True\n",
              "MA5            True\n",
              "MA10           True\n",
              "MA20           True\n",
              "MA60           True\n",
              "RASD5          True\n",
              "RASD10         True\n",
              "MACD           True\n",
              "ATR            True\n",
              "ub             True\n",
              "middle         True\n",
              "lb             True\n",
              "MTM1           True\n",
              "MTM3           True\n",
              "ROC            True\n",
              "WPR            True\n",
              "next_rtn      False\n",
              "dtype: bool"
            ]
          },
          "execution_count": 7,
          "metadata": {},
          "output_type": "execute_result"
        }
      ]
    },
    {
      "cell_type": "code",
      "metadata": {
        "id": "VJWkQcFSjg5k"
      },
      "source": [
        "df = df.dropna(axis=0)"
      ],
      "execution_count": null,
      "outputs": []
    },
    {
      "cell_type": "code",
      "metadata": {
        "colab": {
          "base_uri": "https://localhost:8080/",
          "height": 339
        },
        "id": "wJbPuJVshgpM",
        "outputId": "9a8b4e61-f35f-4f68-a619-12c65d9cc955"
      },
      "source": [
        "df.head()"
      ],
      "execution_count": null,
      "outputs": [
        {
          "data": {
            "text/html": [
              "<div>\n",
              "<style scoped>\n",
              "    .dataframe tbody tr th:only-of-type {\n",
              "        vertical-align: middle;\n",
              "    }\n",
              "\n",
              "    .dataframe tbody tr th {\n",
              "        vertical-align: top;\n",
              "    }\n",
              "\n",
              "    .dataframe thead th {\n",
              "        text-align: right;\n",
              "    }\n",
              "</style>\n",
              "<table border=\"1\" class=\"dataframe\">\n",
              "  <thead>\n",
              "    <tr style=\"text-align: right;\">\n",
              "      <th></th>\n",
              "      <th>Open</th>\n",
              "      <th>High</th>\n",
              "      <th>Low</th>\n",
              "      <th>Close</th>\n",
              "      <th>Adj Close</th>\n",
              "      <th>Volume</th>\n",
              "      <th>S&amp;P500</th>\n",
              "      <th>SOX</th>\n",
              "      <th>VIX</th>\n",
              "      <th>KOSPI</th>\n",
              "      <th>log_return</th>\n",
              "      <th>CCI</th>\n",
              "      <th>MA5</th>\n",
              "      <th>MA10</th>\n",
              "      <th>MA20</th>\n",
              "      <th>MA60</th>\n",
              "      <th>RASD5</th>\n",
              "      <th>RASD10</th>\n",
              "      <th>MACD</th>\n",
              "      <th>ATR</th>\n",
              "      <th>ub</th>\n",
              "      <th>middle</th>\n",
              "      <th>lb</th>\n",
              "      <th>MTM1</th>\n",
              "      <th>MTM3</th>\n",
              "      <th>ROC</th>\n",
              "      <th>WPR</th>\n",
              "      <th>next_rtn</th>\n",
              "    </tr>\n",
              "    <tr>\n",
              "      <th>Date</th>\n",
              "      <th></th>\n",
              "      <th></th>\n",
              "      <th></th>\n",
              "      <th></th>\n",
              "      <th></th>\n",
              "      <th></th>\n",
              "      <th></th>\n",
              "      <th></th>\n",
              "      <th></th>\n",
              "      <th></th>\n",
              "      <th></th>\n",
              "      <th></th>\n",
              "      <th></th>\n",
              "      <th></th>\n",
              "      <th></th>\n",
              "      <th></th>\n",
              "      <th></th>\n",
              "      <th></th>\n",
              "      <th></th>\n",
              "      <th></th>\n",
              "      <th></th>\n",
              "      <th></th>\n",
              "      <th></th>\n",
              "      <th></th>\n",
              "      <th></th>\n",
              "      <th></th>\n",
              "      <th></th>\n",
              "      <th></th>\n",
              "    </tr>\n",
              "  </thead>\n",
              "  <tbody>\n",
              "    <tr>\n",
              "      <th>2005-03-31</th>\n",
              "      <td>7395.186035</td>\n",
              "      <td>7436.043457</td>\n",
              "      <td>7223.585449</td>\n",
              "      <td>7239.928223</td>\n",
              "      <td>7101.616211</td>\n",
              "      <td>1958030</td>\n",
              "      <td>1180.589966</td>\n",
              "      <td>416.989990</td>\n",
              "      <td>14.02</td>\n",
              "      <td>965.679993</td>\n",
              "      <td>-0.002255</td>\n",
              "      <td>77.408536</td>\n",
              "      <td>7277.516895</td>\n",
              "      <td>7039.726953</td>\n",
              "      <td>7114.904565</td>\n",
              "      <td>7271.660718</td>\n",
              "      <td>213.150136</td>\n",
              "      <td>158.625026</td>\n",
              "      <td>-12.354711</td>\n",
              "      <td>227.920020</td>\n",
              "      <td>7561.611597</td>\n",
              "      <td>7114.904565</td>\n",
              "      <td>6668.197534</td>\n",
              "      <td>-16.342773</td>\n",
              "      <td>-114.400391</td>\n",
              "      <td>3.023257</td>\n",
              "      <td>-28.155320</td>\n",
              "      <td>-0.020994</td>\n",
              "    </tr>\n",
              "    <tr>\n",
              "      <th>2005-04-01</th>\n",
              "      <td>7166.384766</td>\n",
              "      <td>7313.471680</td>\n",
              "      <td>7166.384766</td>\n",
              "      <td>7272.614258</td>\n",
              "      <td>7133.678711</td>\n",
              "      <td>1740199</td>\n",
              "      <td>1172.920044</td>\n",
              "      <td>411.220001</td>\n",
              "      <td>14.09</td>\n",
              "      <td>981.900024</td>\n",
              "      <td>0.004505</td>\n",
              "      <td>63.909019</td>\n",
              "      <td>7288.957031</td>\n",
              "      <td>7082.218652</td>\n",
              "      <td>7119.398877</td>\n",
              "      <td>7277.108374</td>\n",
              "      <td>181.928256</td>\n",
              "      <td>147.849453</td>\n",
              "      <td>-0.317474</td>\n",
              "      <td>222.146227</td>\n",
              "      <td>7570.531720</td>\n",
              "      <td>7119.398877</td>\n",
              "      <td>6668.266034</td>\n",
              "      <td>32.686035</td>\n",
              "      <td>-49.028809</td>\n",
              "      <td>4.705887</td>\n",
              "      <td>-22.772258</td>\n",
              "      <td>0.014823</td>\n",
              "    </tr>\n",
              "    <tr>\n",
              "      <th>2005-04-04</th>\n",
              "      <td>7346.157227</td>\n",
              "      <td>7346.157227</td>\n",
              "      <td>7166.384766</td>\n",
              "      <td>7190.899414</td>\n",
              "      <td>7053.524414</td>\n",
              "      <td>1038979</td>\n",
              "      <td>1176.119995</td>\n",
              "      <td>409.420013</td>\n",
              "      <td>14.11</td>\n",
              "      <td>982.500000</td>\n",
              "      <td>-0.011300</td>\n",
              "      <td>56.086788</td>\n",
              "      <td>7256.271191</td>\n",
              "      <td>7110.001660</td>\n",
              "      <td>7120.624609</td>\n",
              "      <td>7280.513159</td>\n",
              "      <td>134.852992</td>\n",
              "      <td>141.939089</td>\n",
              "      <td>2.598465</td>\n",
              "      <td>219.119529</td>\n",
              "      <td>7572.394200</td>\n",
              "      <td>7120.624609</td>\n",
              "      <td>6668.855019</td>\n",
              "      <td>-81.714844</td>\n",
              "      <td>-65.371582</td>\n",
              "      <td>2.923979</td>\n",
              "      <td>-32.673255</td>\n",
              "      <td>-0.021135</td>\n",
              "    </tr>\n",
              "    <tr>\n",
              "      <th>2005-04-06</th>\n",
              "      <td>7174.556152</td>\n",
              "      <td>7517.758301</td>\n",
              "      <td>7174.556152</td>\n",
              "      <td>7444.214844</td>\n",
              "      <td>7302.000000</td>\n",
              "      <td>3884242</td>\n",
              "      <td>1184.069946</td>\n",
              "      <td>410.869995</td>\n",
              "      <td>13.15</td>\n",
              "      <td>988.000000</td>\n",
              "      <td>0.034621</td>\n",
              "      <td>88.750882</td>\n",
              "      <td>7267.711230</td>\n",
              "      <td>7221.133740</td>\n",
              "      <td>7126.753198</td>\n",
              "      <td>7280.785539</td>\n",
              "      <td>52.904059</td>\n",
              "      <td>138.366320</td>\n",
              "      <td>26.772312</td>\n",
              "      <td>213.449135</td>\n",
              "      <td>7591.889648</td>\n",
              "      <td>7126.753198</td>\n",
              "      <td>6661.616748</td>\n",
              "      <td>253.315430</td>\n",
              "      <td>171.600586</td>\n",
              "      <td>0.662983</td>\n",
              "      <td>-8.333352</td>\n",
              "      <td>0.037585</td>\n",
              "    </tr>\n",
              "    <tr>\n",
              "      <th>2005-04-07</th>\n",
              "      <td>7517.758301</td>\n",
              "      <td>7648.501953</td>\n",
              "      <td>7493.244141</td>\n",
              "      <td>7566.787109</td>\n",
              "      <td>7422.230957</td>\n",
              "      <td>2261525</td>\n",
              "      <td>1191.140015</td>\n",
              "      <td>418.970001</td>\n",
              "      <td>12.33</td>\n",
              "      <td>988.900024</td>\n",
              "      <td>0.016331</td>\n",
              "      <td>136.064574</td>\n",
              "      <td>7333.083008</td>\n",
              "      <td>7305.299951</td>\n",
              "      <td>7140.236133</td>\n",
              "      <td>7282.283643</td>\n",
              "      <td>72.292447</td>\n",
              "      <td>142.721292</td>\n",
              "      <td>53.417980</td>\n",
              "      <td>212.794705</td>\n",
              "      <td>7638.779194</td>\n",
              "      <td>7140.236133</td>\n",
              "      <td>6641.693071</td>\n",
              "      <td>122.572266</td>\n",
              "      <td>375.887695</td>\n",
              "      <td>1.202186</td>\n",
              "      <td>-8.064523</td>\n",
              "      <td>0.006522</td>\n",
              "    </tr>\n",
              "  </tbody>\n",
              "</table>\n",
              "</div>"
            ],
            "text/plain": [
              "                   Open         High  ...        WPR  next_rtn\n",
              "Date                                  ...                     \n",
              "2005-03-31  7395.186035  7436.043457  ... -28.155320 -0.020994\n",
              "2005-04-01  7166.384766  7313.471680  ... -22.772258  0.014823\n",
              "2005-04-04  7346.157227  7346.157227  ... -32.673255 -0.021135\n",
              "2005-04-06  7174.556152  7517.758301  ...  -8.333352  0.037585\n",
              "2005-04-07  7517.758301  7648.501953  ...  -8.064523  0.006522\n",
              "\n",
              "[5 rows x 28 columns]"
            ]
          },
          "execution_count": 9,
          "metadata": {},
          "output_type": "execute_result"
        }
      ]
    },
    {
      "cell_type": "code",
      "metadata": {
        "colab": {
          "base_uri": "https://localhost:8080/"
        },
        "id": "rEo3CF0O4RGj",
        "outputId": "a62b5dde-f950-4ba5-f48e-d15ed009cf6d"
      },
      "source": [
        "df.shape"
      ],
      "execution_count": null,
      "outputs": [
        {
          "data": {
            "text/plain": [
              "(3908, 28)"
            ]
          },
          "execution_count": 10,
          "metadata": {},
          "output_type": "execute_result"
        }
      ]
    },
    {
      "cell_type": "markdown",
      "metadata": {
        "id": "Ie8vkQukkiHo"
      },
      "source": [
        "# feature"
      ]
    },
    {
      "cell_type": "code",
      "metadata": {
        "id": "7CWj1WBvkkUO"
      },
      "source": [
        "df['next_price'] = df['Close'].rolling(window = 30).mean()\n",
        "df['next_price'] = df['next_price'].shift(-30) # 30일 후 예상"
      ],
      "execution_count": null,
      "outputs": []
    },
    {
      "cell_type": "markdown",
      "metadata": {
        "id": "v3mcpWZomU3-"
      },
      "source": [
        "# 라벨링"
      ]
    },
    {
      "cell_type": "code",
      "metadata": {
        "id": "AQJp3Y1_kmQp"
      },
      "source": [
        "diffs = df['next_price']-df['Close']\n",
        "df['label'] = np.where(diffs>0,1,0)"
      ],
      "execution_count": null,
      "outputs": []
    },
    {
      "cell_type": "code",
      "metadata": {
        "colab": {
          "base_uri": "https://localhost:8080/",
          "height": 280
        },
        "id": "AURUl2qVmXQi",
        "outputId": "29e73c80-ccae-4272-863b-f8f44704640d"
      },
      "source": [
        "df['label'].value_counts().plot.bar()"
      ],
      "execution_count": null,
      "outputs": [
        {
          "data": {
            "text/plain": [
              "<matplotlib.axes._subplots.AxesSubplot at 0x7f4ca0ba51d0>"
            ]
          },
          "execution_count": 12,
          "metadata": {},
          "output_type": "execute_result"
        },
        {
          "data": {
            "image/png": "[encoded data removed]",
            "text/plain": [
              "<Figure size 432x288 with 1 Axes>"
            ]
          },
          "metadata": {},
          "output_type": "display_data"
        }
      ]
    },
    {
      "cell_type": "code",
      "metadata": {
        "colab": {
          "base_uri": "https://localhost:8080/",
          "height": 339
        },
        "id": "KRXeyx4amivR",
        "outputId": "b25c0ecb-0247-4ecb-9261-04d7dbacbb69"
      },
      "source": [
        "# 예측기간 2011-01-03 ~ 2020-12-31\n",
        "df = df.loc['2011-01-03':'2020-12-31']\n",
        "df.head()\n",
        "#df = df.drop(feature3, axis = 1)"
      ],
      "execution_count": null,
      "outputs": [
        {
          "data": {
            "text/html": [
              "<div>\n",
              "<style scoped>\n",
              "    .dataframe tbody tr th:only-of-type {\n",
              "        vertical-align: middle;\n",
              "    }\n",
              "\n",
              "    .dataframe tbody tr th {\n",
              "        vertical-align: top;\n",
              "    }\n",
              "\n",
              "    .dataframe thead th {\n",
              "        text-align: right;\n",
              "    }\n",
              "</style>\n",
              "<table border=\"1\" class=\"dataframe\">\n",
              "  <thead>\n",
              "    <tr style=\"text-align: right;\">\n",
              "      <th></th>\n",
              "      <th>Open</th>\n",
              "      <th>High</th>\n",
              "      <th>Low</th>\n",
              "      <th>Close</th>\n",
              "      <th>Adj Close</th>\n",
              "      <th>Volume</th>\n",
              "      <th>S&amp;P500</th>\n",
              "      <th>SOX</th>\n",
              "      <th>VIX</th>\n",
              "      <th>KOSPI</th>\n",
              "      <th>log_return</th>\n",
              "      <th>CCI</th>\n",
              "      <th>MA5</th>\n",
              "      <th>MA10</th>\n",
              "      <th>MA20</th>\n",
              "      <th>MA60</th>\n",
              "      <th>RASD5</th>\n",
              "      <th>RASD10</th>\n",
              "      <th>MACD</th>\n",
              "      <th>ATR</th>\n",
              "      <th>ub</th>\n",
              "      <th>middle</th>\n",
              "      <th>lb</th>\n",
              "      <th>MTM1</th>\n",
              "      <th>MTM3</th>\n",
              "      <th>ROC</th>\n",
              "      <th>WPR</th>\n",
              "      <th>next_rtn</th>\n",
              "      <th>next_price</th>\n",
              "      <th>label</th>\n",
              "    </tr>\n",
              "    <tr>\n",
              "      <th>Date</th>\n",
              "      <th></th>\n",
              "      <th></th>\n",
              "      <th></th>\n",
              "      <th></th>\n",
              "      <th></th>\n",
              "      <th></th>\n",
              "      <th></th>\n",
              "      <th></th>\n",
              "      <th></th>\n",
              "      <th></th>\n",
              "      <th></th>\n",
              "      <th></th>\n",
              "      <th></th>\n",
              "      <th></th>\n",
              "      <th></th>\n",
              "      <th></th>\n",
              "      <th></th>\n",
              "      <th></th>\n",
              "      <th></th>\n",
              "      <th></th>\n",
              "      <th></th>\n",
              "      <th></th>\n",
              "      <th></th>\n",
              "      <th></th>\n",
              "      <th></th>\n",
              "      <th></th>\n",
              "      <th></th>\n",
              "      <th></th>\n",
              "      <th></th>\n",
              "      <th></th>\n",
              "    </tr>\n",
              "  </thead>\n",
              "  <tbody>\n",
              "    <tr>\n",
              "      <th>2011-01-03</th>\n",
              "      <td>56138.042969</td>\n",
              "      <td>56260.617188</td>\n",
              "      <td>53931.746094</td>\n",
              "      <td>54299.460938</td>\n",
              "      <td>53262.128906</td>\n",
              "      <td>620732</td>\n",
              "      <td>1271.869995</td>\n",
              "      <td>415.049988</td>\n",
              "      <td>17.610001</td>\n",
              "      <td>2070.080078</td>\n",
              "      <td>-0.024527</td>\n",
              "      <td>154.460116</td>\n",
              "      <td>53122.768750</td>\n",
              "      <td>52031.876563</td>\n",
              "      <td>49623.333984</td>\n",
              "      <td>48967.572917</td>\n",
              "      <td>1236.712248</td>\n",
              "      <td>1151.430055</td>\n",
              "      <td>1620.414990</td>\n",
              "      <td>1677.743121</td>\n",
              "      <td>55274.042427</td>\n",
              "      <td>49623.333984</td>\n",
              "      <td>43972.625542</td>\n",
              "      <td>-1348.292969</td>\n",
              "      <td>2451.441406</td>\n",
              "      <td>4.481133</td>\n",
              "      <td>-20.512837</td>\n",
              "      <td>-0.032751</td>\n",
              "      <td>53423.945871</td>\n",
              "      <td>0</td>\n",
              "    </tr>\n",
              "    <tr>\n",
              "      <th>2011-01-04</th>\n",
              "      <td>54789.750000</td>\n",
              "      <td>55280.039062</td>\n",
              "      <td>53196.312500</td>\n",
              "      <td>54299.460938</td>\n",
              "      <td>53262.128906</td>\n",
              "      <td>622788</td>\n",
              "      <td>1270.199951</td>\n",
              "      <td>415.579987</td>\n",
              "      <td>17.379999</td>\n",
              "      <td>2085.139893</td>\n",
              "      <td>0.000000</td>\n",
              "      <td>110.166821</td>\n",
              "      <td>53907.230469</td>\n",
              "      <td>52313.792578</td>\n",
              "      <td>50058.465039</td>\n",
              "      <td>48998.215951</td>\n",
              "      <td>1380.811404</td>\n",
              "      <td>1117.982020</td>\n",
              "      <td>1703.556372</td>\n",
              "      <td>1706.741938</td>\n",
              "      <td>55742.112759</td>\n",
              "      <td>50058.465039</td>\n",
              "      <td>44374.817319</td>\n",
              "      <td>0.000000</td>\n",
              "      <td>858.003906</td>\n",
              "      <td>3.504673</td>\n",
              "      <td>-20.512837</td>\n",
              "      <td>-0.008949</td>\n",
              "      <td>52758.554129</td>\n",
              "      <td>0</td>\n",
              "    </tr>\n",
              "    <tr>\n",
              "      <th>2011-01-05</th>\n",
              "      <td>53686.601562</td>\n",
              "      <td>55770.328125</td>\n",
              "      <td>53686.601562</td>\n",
              "      <td>54544.605469</td>\n",
              "      <td>53502.585938</td>\n",
              "      <td>764757</td>\n",
              "      <td>1276.560059</td>\n",
              "      <td>417.089996</td>\n",
              "      <td>17.020000</td>\n",
              "      <td>2082.550049</td>\n",
              "      <td>0.004504</td>\n",
              "      <td>104.650453</td>\n",
              "      <td>54446.547656</td>\n",
              "      <td>52742.794922</td>\n",
              "      <td>50475.210352</td>\n",
              "      <td>49034.987565</td>\n",
              "      <td>1397.787736</td>\n",
              "      <td>1046.805197</td>\n",
              "      <td>1768.837573</td>\n",
              "      <td>1733.669411</td>\n",
              "      <td>56191.121155</td>\n",
              "      <td>50475.210352</td>\n",
              "      <td>44759.299548</td>\n",
              "      <td>245.144531</td>\n",
              "      <td>-1103.148438</td>\n",
              "      <td>4.215453</td>\n",
              "      <td>-18.918935</td>\n",
              "      <td>0.015982</td>\n",
              "      <td>52215.734375</td>\n",
              "      <td>0</td>\n",
              "    </tr>\n",
              "    <tr>\n",
              "      <th>2011-01-06</th>\n",
              "      <td>55034.894531</td>\n",
              "      <td>55280.039062</td>\n",
              "      <td>53809.171875</td>\n",
              "      <td>54299.460938</td>\n",
              "      <td>53262.128906</td>\n",
              "      <td>779263</td>\n",
              "      <td>1273.849976</td>\n",
              "      <td>424.769989</td>\n",
              "      <td>17.400000</td>\n",
              "      <td>2077.610107</td>\n",
              "      <td>-0.004504</td>\n",
              "      <td>80.880012</td>\n",
              "      <td>54618.148438</td>\n",
              "      <td>53049.225391</td>\n",
              "      <td>50861.312500</td>\n",
              "      <td>49088.102148</td>\n",
              "      <td>1270.956296</td>\n",
              "      <td>989.796333</td>\n",
              "      <td>1780.270430</td>\n",
              "      <td>1714.897824</td>\n",
              "      <td>56514.785614</td>\n",
              "      <td>50861.312500</td>\n",
              "      <td>45207.839386</td>\n",
              "      <td>-245.144531</td>\n",
              "      <td>0.000000</td>\n",
              "      <td>6.235010</td>\n",
              "      <td>-25.806465</td>\n",
              "      <td>-0.013363</td>\n",
              "      <td>51672.915179</td>\n",
              "      <td>0</td>\n",
              "    </tr>\n",
              "    <tr>\n",
              "      <th>2011-01-07</th>\n",
              "      <td>54299.460938</td>\n",
              "      <td>55770.328125</td>\n",
              "      <td>54299.460938</td>\n",
              "      <td>55157.464844</td>\n",
              "      <td>54103.734375</td>\n",
              "      <td>826631</td>\n",
              "      <td>1271.500000</td>\n",
              "      <td>425.760010</td>\n",
              "      <td>17.139999</td>\n",
              "      <td>2086.199951</td>\n",
              "      <td>0.015678</td>\n",
              "      <td>89.220552</td>\n",
              "      <td>54520.090625</td>\n",
              "      <td>53416.941797</td>\n",
              "      <td>51259.671875</td>\n",
              "      <td>49165.731120</td>\n",
              "      <td>931.557834</td>\n",
              "      <td>956.362888</td>\n",
              "      <td>1837.384571</td>\n",
              "      <td>1697.467064</td>\n",
              "      <td>56945.011148</td>\n",
              "      <td>51259.671875</td>\n",
              "      <td>45574.332602</td>\n",
              "      <td>858.003906</td>\n",
              "      <td>858.003906</td>\n",
              "      <td>9.223294</td>\n",
              "      <td>-15.789515</td>\n",
              "      <td>0.015801</td>\n",
              "      <td>50779.889509</td>\n",
              "      <td>0</td>\n",
              "    </tr>\n",
              "  </tbody>\n",
              "</table>\n",
              "</div>"
            ],
            "text/plain": [
              "                    Open          High  ...    next_price  label\n",
              "Date                                    ...                     \n",
              "2011-01-03  56138.042969  56260.617188  ...  53423.945871      0\n",
              "2011-01-04  54789.750000  55280.039062  ...  52758.554129      0\n",
              "2011-01-05  53686.601562  55770.328125  ...  52215.734375      0\n",
              "2011-01-06  55034.894531  55280.039062  ...  51672.915179      0\n",
              "2011-01-07  54299.460938  55770.328125  ...  50779.889509      0\n",
              "\n",
              "[5 rows x 30 columns]"
            ]
          },
          "execution_count": 13,
          "metadata": {},
          "output_type": "execute_result"
        }
      ]
    },
    {
      "cell_type": "code",
      "metadata": {
        "colab": {
          "base_uri": "https://localhost:8080/"
        },
        "id": "VQHAr0tz489W",
        "outputId": "037fe2e5-73fd-4d4e-fd27-03e8f7386cbe"
      },
      "source": [
        "X = df.drop(['next_price','label'], axis=1)\n",
        "y = df['label']\n",
        "\n",
        "y.shape"
      ],
      "execution_count": null,
      "outputs": [
        {
          "data": {
            "text/plain": [
              "(2361,)"
            ]
          },
          "execution_count": 14,
          "metadata": {},
          "output_type": "execute_result"
        }
      ]
    },
    {
      "cell_type": "code",
      "metadata": {
        "colab": {
          "base_uri": "https://localhost:8080/"
        },
        "id": "G-MQpvfSAgkd",
        "outputId": "29db4f5d-6b00-412b-8011-06412561bcf6"
      },
      "source": [
        "X.shape"
      ],
      "execution_count": null,
      "outputs": [
        {
          "data": {
            "text/plain": [
              "(2361, 28)"
            ]
          },
          "execution_count": 15,
          "metadata": {},
          "output_type": "execute_result"
        }
      ]
    },
    {
      "cell_type": "markdown",
      "metadata": {
        "id": "_-4Qg4kVDHEd"
      },
      "source": [
        "# 전처리"
      ]
    },
    {
      "cell_type": "code",
      "metadata": {
        "id": "dzzpDKBVmkdH"
      },
      "source": [
        "from sklearn.preprocessing import LabelEncoder,MinMaxScaler\n",
        "\n",
        "scaler = MinMaxScaler()\n",
        "scaler.fit(X)\n",
        "X_scaled = scaler.transform(X)\n",
        "\n",
        "le = LabelEncoder()        \n",
        "y = le.fit_transform(y)   \n"
      ],
      "execution_count": null,
      "outputs": []
    },
    {
      "cell_type": "code",
      "metadata": {
        "colab": {
          "base_uri": "https://localhost:8080/"
        },
        "id": "AkCsrBQTmo-g",
        "outputId": "767280f0-dd72-46d5-a535-e0815c3d8b8e"
      },
      "source": [
        "sum(y)/len(df) * 100"
      ],
      "execution_count": null,
      "outputs": [
        {
          "data": {
            "text/plain": [
              "52.22363405336722"
            ]
          },
          "execution_count": 28,
          "metadata": {},
          "output_type": "execute_result"
        }
      ]
    },
    {
      "cell_type": "code",
      "metadata": {
        "colab": {
          "base_uri": "https://localhost:8080/"
        },
        "id": "REDYiwo-8MvW",
        "outputId": "abcc78d9-65bc-4a77-eabb-49416609596c"
      },
      "source": [
        "X_scaled.shape"
      ],
      "execution_count": null,
      "outputs": [
        {
          "data": {
            "text/plain": [
              "(2361, 28)"
            ]
          },
          "execution_count": 29,
          "metadata": {},
          "output_type": "execute_result"
        }
      ]
    },
    {
      "cell_type": "code",
      "metadata": {
        "id": "KLoG5WGtmswi"
      },
      "source": [
        "X_train, X_test, y_train, y_test = train_test_split(X_scaled,y, test_size=0.2, random_state=1234, stratify=y)"
      ],
      "execution_count": null,
      "outputs": []
    },
    {
      "cell_type": "markdown",
      "metadata": {
        "id": "uARSF-UKmxBd"
      },
      "source": [
        "# 함수 정의"
      ]
    },
    {
      "cell_type": "code",
      "metadata": {
        "id": "sqBfHoHImvXG"
      },
      "source": [
        "def report(clf):\n",
        "    y_pred = clf.predict(X_test)\n",
        "    print(classification_report(y_test, y_pred))\n",
        "    print('Random Forest Accuracy:', np.mean(y_pred == y_test))\n",
        "    ax = plt.figure(figsize=(10, 5))\n",
        "    sns.heatmap(confusion_matrix(y_test, y_pred), linewidths=0.5, fmt='.1f', annot=True)"
      ],
      "execution_count": null,
      "outputs": []
    },
    {
      "cell_type": "code",
      "metadata": {
        "id": "mBtDy1q2mzlN"
      },
      "source": [
        "def feature_importance(clf):\n",
        "    feature_importance = clf.feature_importances_\n",
        "    # plot\n",
        "    df_fi = pd.DataFrame({'columns':X.columns, 'importances':feature_importance})\n",
        "    df_fi = df_fi[df_fi['importances'] > 0] # importance가 0이상인 것만 \n",
        "    df_fi = df_fi.sort_values(by=['importances'], ascending=False)\n",
        "\n",
        "    fig = plt.figure(figsize=(15,7))\n",
        "    ax = sns.barplot(df_fi['columns'], df_fi['importances'])\n",
        "    ax.set_xticklabels(df_fi['columns'], rotation=80, fontsize=13)\n",
        "    plt.tight_layout()\n",
        "    plt.show()"
      ],
      "execution_count": null,
      "outputs": []
    },
    {
      "cell_type": "markdown",
      "metadata": {
        "id": "gDHe32uTm11e"
      },
      "source": [
        "# 모델"
      ]
    },
    {
      "cell_type": "code",
      "metadata": {
        "id": "rZTXbq8xm1Zi"
      },
      "source": [
        "logistic = LogisticRegression(solver='liblinear',penalty='l2',C= 0.1,random_state=1)\n",
        "tree = DecisionTreeClassifier(max_depth=4,criterion='entropy',random_state=1)\n",
        "knn = KNeighborsClassifier(n_neighbors=41,p=2,metric='minkowski')\n",
        "\n",
        "voting_estimators = [('logistic', logistic), ('tree', tree), ('knn', knn)]\n",
        "\n",
        "voting = VotingClassifier(estimators = voting_estimators,voting='soft')\n",
        "\n",
        "forest = RandomForestClassifier(criterion='entropy',n_estimators=700,random_state=1)\n",
        "\n",
        "lgb = LGBMClassifier(random_state=42)\n",
        "xgb = XGBClassifier(tree_method='hist',random_state=41)\n",
        "\n",
        "adaboost = AdaBoostClassifier(base_estimator=tree, \n",
        "                                n_estimators=100,\n",
        "                                learning_rate = 0.01, \n",
        "                                random_state=42)\n",
        "\n",
        "clf_labels = ['Random forest','Ada boost','XGB','LIGHTGBM']\n",
        "\n",
        "all_clf = [ forest,adaboost,xgb,lgb]"
      ],
      "execution_count": null,
      "outputs": []
    },
    {
      "cell_type": "code",
      "metadata": {
        "colab": {
          "base_uri": "https://localhost:8080/"
        },
        "id": "yRz2k0jFa9jz",
        "outputId": "1d9c456b-1546-4a33-feb1-f8ff4a01867e"
      },
      "source": [
        "forest.fit(X_train, y_train)\n",
        "lgb.fit(X_train, y_train)\n",
        "xgb.fit(X_train, y_train)\n",
        "adaboost.fit(X_train, y_train)"
      ],
      "execution_count": null,
      "outputs": [
        {
          "data": {
            "text/plain": [
              "AdaBoostClassifier(algorithm='SAMME.R',\n",
              "                   base_estimator=DecisionTreeClassifier(ccp_alpha=0.0,\n",
              "                                                         class_weight=None,\n",
              "                                                         criterion='entropy',\n",
              "                                                         max_depth=4,\n",
              "                                                         max_features=None,\n",
              "                                                         max_leaf_nodes=None,\n",
              "                                                         min_impurity_decrease=0.0,\n",
              "                                                         min_impurity_split=None,\n",
              "                                                         min_samples_leaf=1,\n",
              "                                                         min_samples_split=2,\n",
              "                                                         min_weight_fraction_leaf=0.0,\n",
              "                                                         presort='deprecated',\n",
              "                                                         random_state=1,\n",
              "                                                         splitter='best'),\n",
              "                   learning_rate=0.01, n_estimators=100, random_state=42)"
            ]
          },
          "execution_count": 44,
          "metadata": {},
          "output_type": "execute_result"
        }
      ]
    },
    {
      "cell_type": "markdown",
      "metadata": {
        "id": "CZTC1AAym78c"
      },
      "source": [
        "# AUC 검정"
      ]
    },
    {
      "cell_type": "code",
      "metadata": {
        "colab": {
          "base_uri": "https://localhost:8080/",
          "height": 372
        },
        "id": "sEfIfHLlm457",
        "outputId": "5a741b70-a2a7-436e-c85d-ce22e8f358ef"
      },
      "source": [
        "for clf, label in zip(all_clf, clf_labels):\n",
        "  scores = cross_val_score(estimator=clf,X=X_train,y=y_train,cv=10,scoring='roc_auc')\n",
        "  print(\"ROC AUC: %0.3f (+/- %0.3f) [%s]\"\n",
        "  % (scores.mean(), scores.std(), label))"
      ],
      "execution_count": null,
      "outputs": [
        {
          "ename": "KeyboardInterrupt",
          "evalue": "ignored",
          "output_type": "error",
          "traceback": [
            "\u001b[0;31m---------------------------------------------------------------------------\u001b[0m",
            "\u001b[0;31mKeyboardInterrupt\u001b[0m                         Traceback (most recent call last)",
            "\u001b[0;32m<ipython-input-41-751859c88d04>\u001b[0m in \u001b[0;36m<module>\u001b[0;34m()\u001b[0m\n\u001b[1;32m      1\u001b[0m \u001b[0;32mfor\u001b[0m \u001b[0mclf\u001b[0m\u001b[0;34m,\u001b[0m \u001b[0mlabel\u001b[0m \u001b[0;32min\u001b[0m \u001b[0mzip\u001b[0m\u001b[0;34m(\u001b[0m\u001b[0mall_clf\u001b[0m\u001b[0;34m,\u001b[0m \u001b[0mclf_labels\u001b[0m\u001b[0;34m)\u001b[0m\u001b[0;34m:\u001b[0m\u001b[0;34m\u001b[0m\u001b[0;34m\u001b[0m\u001b[0m\n\u001b[0;32m----> 2\u001b[0;31m   \u001b[0mscores\u001b[0m \u001b[0;34m=\u001b[0m \u001b[0mcross_val_score\u001b[0m\u001b[0;34m(\u001b[0m\u001b[0mestimator\u001b[0m\u001b[0;34m=\u001b[0m\u001b[0mclf\u001b[0m\u001b[0;34m,\u001b[0m\u001b[0mX\u001b[0m\u001b[0;34m=\u001b[0m\u001b[0mX_train\u001b[0m\u001b[0;34m,\u001b[0m\u001b[0my\u001b[0m\u001b[0;34m=\u001b[0m\u001b[0my_train\u001b[0m\u001b[0;34m,\u001b[0m\u001b[0mcv\u001b[0m\u001b[0;34m=\u001b[0m\u001b[0;36m10\u001b[0m\u001b[0;34m,\u001b[0m\u001b[0mscoring\u001b[0m\u001b[0;34m=\u001b[0m\u001b[0;34m'roc_auc'\u001b[0m\u001b[0;34m)\u001b[0m\u001b[0;34m\u001b[0m\u001b[0;34m\u001b[0m\u001b[0m\n\u001b[0m\u001b[1;32m      3\u001b[0m   print(\"ROC AUC: %0.3f (+/- %0.3f) [%s]\"\n\u001b[1;32m      4\u001b[0m   % (scores.mean(), scores.std(), label))\n",
            "\u001b[0;32m/usr/local/lib/python3.7/dist-packages/sklearn/model_selection/_validation.py\u001b[0m in \u001b[0;36mcross_val_score\u001b[0;34m(estimator, X, y, groups, scoring, cv, n_jobs, verbose, fit_params, pre_dispatch, error_score)\u001b[0m\n\u001b[1;32m    388\u001b[0m                                 \u001b[0mfit_params\u001b[0m\u001b[0;34m=\u001b[0m\u001b[0mfit_params\u001b[0m\u001b[0;34m,\u001b[0m\u001b[0;34m\u001b[0m\u001b[0;34m\u001b[0m\u001b[0m\n\u001b[1;32m    389\u001b[0m                                 \u001b[0mpre_dispatch\u001b[0m\u001b[0;34m=\u001b[0m\u001b[0mpre_dispatch\u001b[0m\u001b[0;34m,\u001b[0m\u001b[0;34m\u001b[0m\u001b[0;34m\u001b[0m\u001b[0m\n\u001b[0;32m--> 390\u001b[0;31m                                 error_score=error_score)\n\u001b[0m\u001b[1;32m    391\u001b[0m     \u001b[0;32mreturn\u001b[0m \u001b[0mcv_results\u001b[0m\u001b[0;34m[\u001b[0m\u001b[0;34m'test_score'\u001b[0m\u001b[0;34m]\u001b[0m\u001b[0;34m\u001b[0m\u001b[0;34m\u001b[0m\u001b[0m\n\u001b[1;32m    392\u001b[0m \u001b[0;34m\u001b[0m\u001b[0m\n",
            "\u001b[0;32m/usr/local/lib/python3.7/dist-packages/sklearn/model_selection/_validation.py\u001b[0m in \u001b[0;36mcross_validate\u001b[0;34m(estimator, X, y, groups, scoring, cv, n_jobs, verbose, fit_params, pre_dispatch, return_train_score, return_estimator, error_score)\u001b[0m\n\u001b[1;32m    234\u001b[0m             \u001b[0mreturn_times\u001b[0m\u001b[0;34m=\u001b[0m\u001b[0;32mTrue\u001b[0m\u001b[0;34m,\u001b[0m \u001b[0mreturn_estimator\u001b[0m\u001b[0;34m=\u001b[0m\u001b[0mreturn_estimator\u001b[0m\u001b[0;34m,\u001b[0m\u001b[0;34m\u001b[0m\u001b[0;34m\u001b[0m\u001b[0m\n\u001b[1;32m    235\u001b[0m             error_score=error_score)\n\u001b[0;32m--> 236\u001b[0;31m         for train, test in cv.split(X, y, groups))\n\u001b[0m\u001b[1;32m    237\u001b[0m \u001b[0;34m\u001b[0m\u001b[0m\n\u001b[1;32m    238\u001b[0m     \u001b[0mzipped_scores\u001b[0m \u001b[0;34m=\u001b[0m \u001b[0mlist\u001b[0m\u001b[0;34m(\u001b[0m\u001b[0mzip\u001b[0m\u001b[0;34m(\u001b[0m\u001b[0;34m*\u001b[0m\u001b[0mscores\u001b[0m\u001b[0;34m)\u001b[0m\u001b[0;34m)\u001b[0m\u001b[0;34m\u001b[0m\u001b[0;34m\u001b[0m\u001b[0m\n",
            "\u001b[0;32m/usr/local/lib/python3.7/dist-packages/joblib/parallel.py\u001b[0m in \u001b[0;36m__call__\u001b[0;34m(self, iterable)\u001b[0m\n\u001b[1;32m   1039\u001b[0m             \u001b[0;31m# remaining jobs.\u001b[0m\u001b[0;34m\u001b[0m\u001b[0;34m\u001b[0m\u001b[0;34m\u001b[0m\u001b[0m\n\u001b[1;32m   1040\u001b[0m             \u001b[0mself\u001b[0m\u001b[0;34m.\u001b[0m\u001b[0m_iterating\u001b[0m \u001b[0;34m=\u001b[0m \u001b[0;32mFalse\u001b[0m\u001b[0;34m\u001b[0m\u001b[0;34m\u001b[0m\u001b[0m\n\u001b[0;32m-> 1041\u001b[0;31m             \u001b[0;32mif\u001b[0m \u001b[0mself\u001b[0m\u001b[0;34m.\u001b[0m\u001b[0mdispatch_one_batch\u001b[0m\u001b[0;34m(\u001b[0m\u001b[0miterator\u001b[0m\u001b[0;34m)\u001b[0m\u001b[0;34m:\u001b[0m\u001b[0;34m\u001b[0m\u001b[0;34m\u001b[0m\u001b[0m\n\u001b[0m\u001b[1;32m   1042\u001b[0m                 \u001b[0mself\u001b[0m\u001b[0;34m.\u001b[0m\u001b[0m_iterating\u001b[0m \u001b[0;34m=\u001b[0m \u001b[0mself\u001b[0m\u001b[0;34m.\u001b[0m\u001b[0m_original_iterator\u001b[0m \u001b[0;32mis\u001b[0m \u001b[0;32mnot\u001b[0m \u001b[0;32mNone\u001b[0m\u001b[0;34m\u001b[0m\u001b[0;34m\u001b[0m\u001b[0m\n\u001b[1;32m   1043\u001b[0m \u001b[0;34m\u001b[0m\u001b[0m\n",
            "\u001b[0;32m/usr/local/lib/python3.7/dist-packages/joblib/parallel.py\u001b[0m in \u001b[0;36mdispatch_one_batch\u001b[0;34m(self, iterator)\u001b[0m\n\u001b[1;32m    857\u001b[0m                 \u001b[0;32mreturn\u001b[0m \u001b[0;32mFalse\u001b[0m\u001b[0;34m\u001b[0m\u001b[0;34m\u001b[0m\u001b[0m\n\u001b[1;32m    858\u001b[0m             \u001b[0;32melse\u001b[0m\u001b[0;34m:\u001b[0m\u001b[0;34m\u001b[0m\u001b[0;34m\u001b[0m\u001b[0m\n\u001b[0;32m--> 859\u001b[0;31m                 \u001b[0mself\u001b[0m\u001b[0;34m.\u001b[0m\u001b[0m_dispatch\u001b[0m\u001b[0;34m(\u001b[0m\u001b[0mtasks\u001b[0m\u001b[0;34m)\u001b[0m\u001b[0;34m\u001b[0m\u001b[0;34m\u001b[0m\u001b[0m\n\u001b[0m\u001b[1;32m    860\u001b[0m                 \u001b[0;32mreturn\u001b[0m \u001b[0;32mTrue\u001b[0m\u001b[0;34m\u001b[0m\u001b[0;34m\u001b[0m\u001b[0m\n\u001b[1;32m    861\u001b[0m \u001b[0;34m\u001b[0m\u001b[0m\n",
            "\u001b[0;32m/usr/local/lib/python3.7/dist-packages/joblib/parallel.py\u001b[0m in \u001b[0;36m_dispatch\u001b[0;34m(self, batch)\u001b[0m\n\u001b[1;32m    775\u001b[0m         \u001b[0;32mwith\u001b[0m \u001b[0mself\u001b[0m\u001b[0;34m.\u001b[0m\u001b[0m_lock\u001b[0m\u001b[0;34m:\u001b[0m\u001b[0;34m\u001b[0m\u001b[0;34m\u001b[0m\u001b[0m\n\u001b[1;32m    776\u001b[0m             \u001b[0mjob_idx\u001b[0m \u001b[0;34m=\u001b[0m \u001b[0mlen\u001b[0m\u001b[0;34m(\u001b[0m\u001b[0mself\u001b[0m\u001b[0;34m.\u001b[0m\u001b[0m_jobs\u001b[0m\u001b[0;34m)\u001b[0m\u001b[0;34m\u001b[0m\u001b[0;34m\u001b[0m\u001b[0m\n\u001b[0;32m--> 777\u001b[0;31m             \u001b[0mjob\u001b[0m \u001b[0;34m=\u001b[0m \u001b[0mself\u001b[0m\u001b[0;34m.\u001b[0m\u001b[0m_backend\u001b[0m\u001b[0;34m.\u001b[0m\u001b[0mapply_async\u001b[0m\u001b[0;34m(\u001b[0m\u001b[0mbatch\u001b[0m\u001b[0;34m,\u001b[0m \u001b[0mcallback\u001b[0m\u001b[0;34m=\u001b[0m\u001b[0mcb\u001b[0m\u001b[0;34m)\u001b[0m\u001b[0;34m\u001b[0m\u001b[0;34m\u001b[0m\u001b[0m\n\u001b[0m\u001b[1;32m    778\u001b[0m             \u001b[0;31m# A job can complete so quickly than its callback is\u001b[0m\u001b[0;34m\u001b[0m\u001b[0;34m\u001b[0m\u001b[0;34m\u001b[0m\u001b[0m\n\u001b[1;32m    779\u001b[0m             \u001b[0;31m# called before we get here, causing self._jobs to\u001b[0m\u001b[0;34m\u001b[0m\u001b[0;34m\u001b[0m\u001b[0;34m\u001b[0m\u001b[0m\n",
            "\u001b[0;32m/usr/local/lib/python3.7/dist-packages/joblib/_parallel_backends.py\u001b[0m in \u001b[0;36mapply_async\u001b[0;34m(self, func, callback)\u001b[0m\n\u001b[1;32m    206\u001b[0m     \u001b[0;32mdef\u001b[0m \u001b[0mapply_async\u001b[0m\u001b[0;34m(\u001b[0m\u001b[0mself\u001b[0m\u001b[0;34m,\u001b[0m \u001b[0mfunc\u001b[0m\u001b[0;34m,\u001b[0m \u001b[0mcallback\u001b[0m\u001b[0;34m=\u001b[0m\u001b[0;32mNone\u001b[0m\u001b[0;34m)\u001b[0m\u001b[0;34m:\u001b[0m\u001b[0;34m\u001b[0m\u001b[0;34m\u001b[0m\u001b[0m\n\u001b[1;32m    207\u001b[0m         \u001b[0;34m\"\"\"Schedule a func to be run\"\"\"\u001b[0m\u001b[0;34m\u001b[0m\u001b[0;34m\u001b[0m\u001b[0m\n\u001b[0;32m--> 208\u001b[0;31m         \u001b[0mresult\u001b[0m \u001b[0;34m=\u001b[0m \u001b[0mImmediateResult\u001b[0m\u001b[0;34m(\u001b[0m\u001b[0mfunc\u001b[0m\u001b[0;34m)\u001b[0m\u001b[0;34m\u001b[0m\u001b[0;34m\u001b[0m\u001b[0m\n\u001b[0m\u001b[1;32m    209\u001b[0m         \u001b[0;32mif\u001b[0m \u001b[0mcallback\u001b[0m\u001b[0;34m:\u001b[0m\u001b[0;34m\u001b[0m\u001b[0;34m\u001b[0m\u001b[0m\n\u001b[1;32m    210\u001b[0m             \u001b[0mcallback\u001b[0m\u001b[0;34m(\u001b[0m\u001b[0mresult\u001b[0m\u001b[0;34m)\u001b[0m\u001b[0;34m\u001b[0m\u001b[0;34m\u001b[0m\u001b[0m\n",
            "\u001b[0;32m/usr/local/lib/python3.7/dist-packages/joblib/_parallel_backends.py\u001b[0m in \u001b[0;36m__init__\u001b[0;34m(self, batch)\u001b[0m\n\u001b[1;32m    570\u001b[0m         \u001b[0;31m# Don't delay the application, to avoid keeping the input\u001b[0m\u001b[0;34m\u001b[0m\u001b[0;34m\u001b[0m\u001b[0;34m\u001b[0m\u001b[0m\n\u001b[1;32m    571\u001b[0m         \u001b[0;31m# arguments in memory\u001b[0m\u001b[0;34m\u001b[0m\u001b[0;34m\u001b[0m\u001b[0;34m\u001b[0m\u001b[0m\n\u001b[0;32m--> 572\u001b[0;31m         \u001b[0mself\u001b[0m\u001b[0;34m.\u001b[0m\u001b[0mresults\u001b[0m \u001b[0;34m=\u001b[0m \u001b[0mbatch\u001b[0m\u001b[0;34m(\u001b[0m\u001b[0;34m)\u001b[0m\u001b[0;34m\u001b[0m\u001b[0;34m\u001b[0m\u001b[0m\n\u001b[0m\u001b[1;32m    573\u001b[0m \u001b[0;34m\u001b[0m\u001b[0m\n\u001b[1;32m    574\u001b[0m     \u001b[0;32mdef\u001b[0m \u001b[0mget\u001b[0m\u001b[0;34m(\u001b[0m\u001b[0mself\u001b[0m\u001b[0;34m)\u001b[0m\u001b[0;34m:\u001b[0m\u001b[0;34m\u001b[0m\u001b[0;34m\u001b[0m\u001b[0m\n",
            "\u001b[0;32m/usr/local/lib/python3.7/dist-packages/joblib/parallel.py\u001b[0m in \u001b[0;36m__call__\u001b[0;34m(self)\u001b[0m\n\u001b[1;32m    261\u001b[0m         \u001b[0;32mwith\u001b[0m \u001b[0mparallel_backend\u001b[0m\u001b[0;34m(\u001b[0m\u001b[0mself\u001b[0m\u001b[0;34m.\u001b[0m\u001b[0m_backend\u001b[0m\u001b[0;34m,\u001b[0m \u001b[0mn_jobs\u001b[0m\u001b[0;34m=\u001b[0m\u001b[0mself\u001b[0m\u001b[0;34m.\u001b[0m\u001b[0m_n_jobs\u001b[0m\u001b[0;34m)\u001b[0m\u001b[0;34m:\u001b[0m\u001b[0;34m\u001b[0m\u001b[0;34m\u001b[0m\u001b[0m\n\u001b[1;32m    262\u001b[0m             return [func(*args, **kwargs)\n\u001b[0;32m--> 263\u001b[0;31m                     for func, args, kwargs in self.items]\n\u001b[0m\u001b[1;32m    264\u001b[0m \u001b[0;34m\u001b[0m\u001b[0m\n\u001b[1;32m    265\u001b[0m     \u001b[0;32mdef\u001b[0m \u001b[0m__reduce__\u001b[0m\u001b[0;34m(\u001b[0m\u001b[0mself\u001b[0m\u001b[0;34m)\u001b[0m\u001b[0;34m:\u001b[0m\u001b[0;34m\u001b[0m\u001b[0;34m\u001b[0m\u001b[0m\n",
            "\u001b[0;32m/usr/local/lib/python3.7/dist-packages/joblib/parallel.py\u001b[0m in \u001b[0;36m<listcomp>\u001b[0;34m(.0)\u001b[0m\n\u001b[1;32m    261\u001b[0m         \u001b[0;32mwith\u001b[0m \u001b[0mparallel_backend\u001b[0m\u001b[0;34m(\u001b[0m\u001b[0mself\u001b[0m\u001b[0;34m.\u001b[0m\u001b[0m_backend\u001b[0m\u001b[0;34m,\u001b[0m \u001b[0mn_jobs\u001b[0m\u001b[0;34m=\u001b[0m\u001b[0mself\u001b[0m\u001b[0;34m.\u001b[0m\u001b[0m_n_jobs\u001b[0m\u001b[0;34m)\u001b[0m\u001b[0;34m:\u001b[0m\u001b[0;34m\u001b[0m\u001b[0;34m\u001b[0m\u001b[0m\n\u001b[1;32m    262\u001b[0m             return [func(*args, **kwargs)\n\u001b[0;32m--> 263\u001b[0;31m                     for func, args, kwargs in self.items]\n\u001b[0m\u001b[1;32m    264\u001b[0m \u001b[0;34m\u001b[0m\u001b[0m\n\u001b[1;32m    265\u001b[0m     \u001b[0;32mdef\u001b[0m \u001b[0m__reduce__\u001b[0m\u001b[0;34m(\u001b[0m\u001b[0mself\u001b[0m\u001b[0;34m)\u001b[0m\u001b[0;34m:\u001b[0m\u001b[0;34m\u001b[0m\u001b[0;34m\u001b[0m\u001b[0m\n",
            "\u001b[0;32m/usr/local/lib/python3.7/dist-packages/sklearn/model_selection/_validation.py\u001b[0m in \u001b[0;36m_fit_and_score\u001b[0;34m(estimator, X, y, scorer, train, test, verbose, parameters, fit_params, return_train_score, return_parameters, return_n_test_samples, return_times, return_estimator, error_score)\u001b[0m\n\u001b[1;32m    513\u001b[0m             \u001b[0mestimator\u001b[0m\u001b[0;34m.\u001b[0m\u001b[0mfit\u001b[0m\u001b[0;34m(\u001b[0m\u001b[0mX_train\u001b[0m\u001b[0;34m,\u001b[0m \u001b[0;34m**\u001b[0m\u001b[0mfit_params\u001b[0m\u001b[0;34m)\u001b[0m\u001b[0;34m\u001b[0m\u001b[0;34m\u001b[0m\u001b[0m\n\u001b[1;32m    514\u001b[0m         \u001b[0;32melse\u001b[0m\u001b[0;34m:\u001b[0m\u001b[0;34m\u001b[0m\u001b[0;34m\u001b[0m\u001b[0m\n\u001b[0;32m--> 515\u001b[0;31m             \u001b[0mestimator\u001b[0m\u001b[0;34m.\u001b[0m\u001b[0mfit\u001b[0m\u001b[0;34m(\u001b[0m\u001b[0mX_train\u001b[0m\u001b[0;34m,\u001b[0m \u001b[0my_train\u001b[0m\u001b[0;34m,\u001b[0m \u001b[0;34m**\u001b[0m\u001b[0mfit_params\u001b[0m\u001b[0;34m)\u001b[0m\u001b[0;34m\u001b[0m\u001b[0;34m\u001b[0m\u001b[0m\n\u001b[0m\u001b[1;32m    516\u001b[0m \u001b[0;34m\u001b[0m\u001b[0m\n\u001b[1;32m    517\u001b[0m     \u001b[0;32mexcept\u001b[0m \u001b[0mException\u001b[0m \u001b[0;32mas\u001b[0m \u001b[0me\u001b[0m\u001b[0;34m:\u001b[0m\u001b[0;34m\u001b[0m\u001b[0;34m\u001b[0m\u001b[0m\n",
            "\u001b[0;32m/usr/local/lib/python3.7/dist-packages/sklearn/ensemble/_forest.py\u001b[0m in \u001b[0;36mfit\u001b[0;34m(self, X, y, sample_weight)\u001b[0m\n\u001b[1;32m    381\u001b[0m                     \u001b[0mverbose\u001b[0m\u001b[0;34m=\u001b[0m\u001b[0mself\u001b[0m\u001b[0;34m.\u001b[0m\u001b[0mverbose\u001b[0m\u001b[0;34m,\u001b[0m \u001b[0mclass_weight\u001b[0m\u001b[0;34m=\u001b[0m\u001b[0mself\u001b[0m\u001b[0;34m.\u001b[0m\u001b[0mclass_weight\u001b[0m\u001b[0;34m,\u001b[0m\u001b[0;34m\u001b[0m\u001b[0;34m\u001b[0m\u001b[0m\n\u001b[1;32m    382\u001b[0m                     n_samples_bootstrap=n_samples_bootstrap)\n\u001b[0;32m--> 383\u001b[0;31m                 for i, t in enumerate(trees))\n\u001b[0m\u001b[1;32m    384\u001b[0m \u001b[0;34m\u001b[0m\u001b[0m\n\u001b[1;32m    385\u001b[0m             \u001b[0;31m# Collect newly grown trees\u001b[0m\u001b[0;34m\u001b[0m\u001b[0;34m\u001b[0m\u001b[0;34m\u001b[0m\u001b[0m\n",
            "\u001b[0;32m/usr/local/lib/python3.7/dist-packages/joblib/parallel.py\u001b[0m in \u001b[0;36m__call__\u001b[0;34m(self, iterable)\u001b[0m\n\u001b[1;32m   1042\u001b[0m                 \u001b[0mself\u001b[0m\u001b[0;34m.\u001b[0m\u001b[0m_iterating\u001b[0m \u001b[0;34m=\u001b[0m \u001b[0mself\u001b[0m\u001b[0;34m.\u001b[0m\u001b[0m_original_iterator\u001b[0m \u001b[0;32mis\u001b[0m \u001b[0;32mnot\u001b[0m \u001b[0;32mNone\u001b[0m\u001b[0;34m\u001b[0m\u001b[0;34m\u001b[0m\u001b[0m\n\u001b[1;32m   1043\u001b[0m \u001b[0;34m\u001b[0m\u001b[0m\n\u001b[0;32m-> 1044\u001b[0;31m             \u001b[0;32mwhile\u001b[0m \u001b[0mself\u001b[0m\u001b[0;34m.\u001b[0m\u001b[0mdispatch_one_batch\u001b[0m\u001b[0;34m(\u001b[0m\u001b[0miterator\u001b[0m\u001b[0;34m)\u001b[0m\u001b[0;34m:\u001b[0m\u001b[0;34m\u001b[0m\u001b[0;34m\u001b[0m\u001b[0m\n\u001b[0m\u001b[1;32m   1045\u001b[0m                 \u001b[0;32mpass\u001b[0m\u001b[0;34m\u001b[0m\u001b[0;34m\u001b[0m\u001b[0m\n\u001b[1;32m   1046\u001b[0m \u001b[0;34m\u001b[0m\u001b[0m\n",
            "\u001b[0;32m/usr/local/lib/python3.7/dist-packages/joblib/parallel.py\u001b[0m in \u001b[0;36mdispatch_one_batch\u001b[0;34m(self, iterator)\u001b[0m\n\u001b[1;32m    857\u001b[0m                 \u001b[0;32mreturn\u001b[0m \u001b[0;32mFalse\u001b[0m\u001b[0;34m\u001b[0m\u001b[0;34m\u001b[0m\u001b[0m\n\u001b[1;32m    858\u001b[0m             \u001b[0;32melse\u001b[0m\u001b[0;34m:\u001b[0m\u001b[0;34m\u001b[0m\u001b[0;34m\u001b[0m\u001b[0m\n\u001b[0;32m--> 859\u001b[0;31m                 \u001b[0mself\u001b[0m\u001b[0;34m.\u001b[0m\u001b[0m_dispatch\u001b[0m\u001b[0;34m(\u001b[0m\u001b[0mtasks\u001b[0m\u001b[0;34m)\u001b[0m\u001b[0;34m\u001b[0m\u001b[0;34m\u001b[0m\u001b[0m\n\u001b[0m\u001b[1;32m    860\u001b[0m                 \u001b[0;32mreturn\u001b[0m \u001b[0;32mTrue\u001b[0m\u001b[0;34m\u001b[0m\u001b[0;34m\u001b[0m\u001b[0m\n\u001b[1;32m    861\u001b[0m \u001b[0;34m\u001b[0m\u001b[0m\n",
            "\u001b[0;32m/usr/local/lib/python3.7/dist-packages/joblib/parallel.py\u001b[0m in \u001b[0;36m_dispatch\u001b[0;34m(self, batch)\u001b[0m\n\u001b[1;32m    775\u001b[0m         \u001b[0;32mwith\u001b[0m \u001b[0mself\u001b[0m\u001b[0;34m.\u001b[0m\u001b[0m_lock\u001b[0m\u001b[0;34m:\u001b[0m\u001b[0;34m\u001b[0m\u001b[0;34m\u001b[0m\u001b[0m\n\u001b[1;32m    776\u001b[0m             \u001b[0mjob_idx\u001b[0m \u001b[0;34m=\u001b[0m \u001b[0mlen\u001b[0m\u001b[0;34m(\u001b[0m\u001b[0mself\u001b[0m\u001b[0;34m.\u001b[0m\u001b[0m_jobs\u001b[0m\u001b[0;34m)\u001b[0m\u001b[0;34m\u001b[0m\u001b[0;34m\u001b[0m\u001b[0m\n\u001b[0;32m--> 777\u001b[0;31m             \u001b[0mjob\u001b[0m \u001b[0;34m=\u001b[0m \u001b[0mself\u001b[0m\u001b[0;34m.\u001b[0m\u001b[0m_backend\u001b[0m\u001b[0;34m.\u001b[0m\u001b[0mapply_async\u001b[0m\u001b[0;34m(\u001b[0m\u001b[0mbatch\u001b[0m\u001b[0;34m,\u001b[0m \u001b[0mcallback\u001b[0m\u001b[0;34m=\u001b[0m\u001b[0mcb\u001b[0m\u001b[0;34m)\u001b[0m\u001b[0;34m\u001b[0m\u001b[0;34m\u001b[0m\u001b[0m\n\u001b[0m\u001b[1;32m    778\u001b[0m             \u001b[0;31m# A job can complete so quickly than its callback is\u001b[0m\u001b[0;34m\u001b[0m\u001b[0;34m\u001b[0m\u001b[0;34m\u001b[0m\u001b[0m\n\u001b[1;32m    779\u001b[0m             \u001b[0;31m# called before we get here, causing self._jobs to\u001b[0m\u001b[0;34m\u001b[0m\u001b[0;34m\u001b[0m\u001b[0;34m\u001b[0m\u001b[0m\n",
            "\u001b[0;32m/usr/local/lib/python3.7/dist-packages/joblib/_parallel_backends.py\u001b[0m in \u001b[0;36mapply_async\u001b[0;34m(self, func, callback)\u001b[0m\n\u001b[1;32m    206\u001b[0m     \u001b[0;32mdef\u001b[0m \u001b[0mapply_async\u001b[0m\u001b[0;34m(\u001b[0m\u001b[0mself\u001b[0m\u001b[0;34m,\u001b[0m \u001b[0mfunc\u001b[0m\u001b[0;34m,\u001b[0m \u001b[0mcallback\u001b[0m\u001b[0;34m=\u001b[0m\u001b[0;32mNone\u001b[0m\u001b[0;34m)\u001b[0m\u001b[0;34m:\u001b[0m\u001b[0;34m\u001b[0m\u001b[0;34m\u001b[0m\u001b[0m\n\u001b[1;32m    207\u001b[0m         \u001b[0;34m\"\"\"Schedule a func to be run\"\"\"\u001b[0m\u001b[0;34m\u001b[0m\u001b[0;34m\u001b[0m\u001b[0m\n\u001b[0;32m--> 208\u001b[0;31m         \u001b[0mresult\u001b[0m \u001b[0;34m=\u001b[0m \u001b[0mImmediateResult\u001b[0m\u001b[0;34m(\u001b[0m\u001b[0mfunc\u001b[0m\u001b[0;34m)\u001b[0m\u001b[0;34m\u001b[0m\u001b[0;34m\u001b[0m\u001b[0m\n\u001b[0m\u001b[1;32m    209\u001b[0m         \u001b[0;32mif\u001b[0m \u001b[0mcallback\u001b[0m\u001b[0;34m:\u001b[0m\u001b[0;34m\u001b[0m\u001b[0;34m\u001b[0m\u001b[0m\n\u001b[1;32m    210\u001b[0m             \u001b[0mcallback\u001b[0m\u001b[0;34m(\u001b[0m\u001b[0mresult\u001b[0m\u001b[0;34m)\u001b[0m\u001b[0;34m\u001b[0m\u001b[0;34m\u001b[0m\u001b[0m\n",
            "\u001b[0;32m/usr/local/lib/python3.7/dist-packages/joblib/_parallel_backends.py\u001b[0m in \u001b[0;36m__init__\u001b[0;34m(self, batch)\u001b[0m\n\u001b[1;32m    570\u001b[0m         \u001b[0;31m# Don't delay the application, to avoid keeping the input\u001b[0m\u001b[0;34m\u001b[0m\u001b[0;34m\u001b[0m\u001b[0;34m\u001b[0m\u001b[0m\n\u001b[1;32m    571\u001b[0m         \u001b[0;31m# arguments in memory\u001b[0m\u001b[0;34m\u001b[0m\u001b[0;34m\u001b[0m\u001b[0;34m\u001b[0m\u001b[0m\n\u001b[0;32m--> 572\u001b[0;31m         \u001b[0mself\u001b[0m\u001b[0;34m.\u001b[0m\u001b[0mresults\u001b[0m \u001b[0;34m=\u001b[0m \u001b[0mbatch\u001b[0m\u001b[0;34m(\u001b[0m\u001b[0;34m)\u001b[0m\u001b[0;34m\u001b[0m\u001b[0;34m\u001b[0m\u001b[0m\n\u001b[0m\u001b[1;32m    573\u001b[0m \u001b[0;34m\u001b[0m\u001b[0m\n\u001b[1;32m    574\u001b[0m     \u001b[0;32mdef\u001b[0m \u001b[0mget\u001b[0m\u001b[0;34m(\u001b[0m\u001b[0mself\u001b[0m\u001b[0;34m)\u001b[0m\u001b[0;34m:\u001b[0m\u001b[0;34m\u001b[0m\u001b[0;34m\u001b[0m\u001b[0m\n",
            "\u001b[0;32m/usr/local/lib/python3.7/dist-packages/joblib/parallel.py\u001b[0m in \u001b[0;36m__call__\u001b[0;34m(self)\u001b[0m\n\u001b[1;32m    261\u001b[0m         \u001b[0;32mwith\u001b[0m \u001b[0mparallel_backend\u001b[0m\u001b[0;34m(\u001b[0m\u001b[0mself\u001b[0m\u001b[0;34m.\u001b[0m\u001b[0m_backend\u001b[0m\u001b[0;34m,\u001b[0m \u001b[0mn_jobs\u001b[0m\u001b[0;34m=\u001b[0m\u001b[0mself\u001b[0m\u001b[0;34m.\u001b[0m\u001b[0m_n_jobs\u001b[0m\u001b[0;34m)\u001b[0m\u001b[0;34m:\u001b[0m\u001b[0;34m\u001b[0m\u001b[0;34m\u001b[0m\u001b[0m\n\u001b[1;32m    262\u001b[0m             return [func(*args, **kwargs)\n\u001b[0;32m--> 263\u001b[0;31m                     for func, args, kwargs in self.items]\n\u001b[0m\u001b[1;32m    264\u001b[0m \u001b[0;34m\u001b[0m\u001b[0m\n\u001b[1;32m    265\u001b[0m     \u001b[0;32mdef\u001b[0m \u001b[0m__reduce__\u001b[0m\u001b[0;34m(\u001b[0m\u001b[0mself\u001b[0m\u001b[0;34m)\u001b[0m\u001b[0;34m:\u001b[0m\u001b[0;34m\u001b[0m\u001b[0;34m\u001b[0m\u001b[0m\n",
            "\u001b[0;32m/usr/local/lib/python3.7/dist-packages/joblib/parallel.py\u001b[0m in \u001b[0;36m<listcomp>\u001b[0;34m(.0)\u001b[0m\n\u001b[1;32m    261\u001b[0m         \u001b[0;32mwith\u001b[0m \u001b[0mparallel_backend\u001b[0m\u001b[0;34m(\u001b[0m\u001b[0mself\u001b[0m\u001b[0;34m.\u001b[0m\u001b[0m_backend\u001b[0m\u001b[0;34m,\u001b[0m \u001b[0mn_jobs\u001b[0m\u001b[0;34m=\u001b[0m\u001b[0mself\u001b[0m\u001b[0;34m.\u001b[0m\u001b[0m_n_jobs\u001b[0m\u001b[0;34m)\u001b[0m\u001b[0;34m:\u001b[0m\u001b[0;34m\u001b[0m\u001b[0;34m\u001b[0m\u001b[0m\n\u001b[1;32m    262\u001b[0m             return [func(*args, **kwargs)\n\u001b[0;32m--> 263\u001b[0;31m                     for func, args, kwargs in self.items]\n\u001b[0m\u001b[1;32m    264\u001b[0m \u001b[0;34m\u001b[0m\u001b[0m\n\u001b[1;32m    265\u001b[0m     \u001b[0;32mdef\u001b[0m \u001b[0m__reduce__\u001b[0m\u001b[0;34m(\u001b[0m\u001b[0mself\u001b[0m\u001b[0;34m)\u001b[0m\u001b[0;34m:\u001b[0m\u001b[0;34m\u001b[0m\u001b[0;34m\u001b[0m\u001b[0m\n",
            "\u001b[0;32m/usr/local/lib/python3.7/dist-packages/sklearn/ensemble/_forest.py\u001b[0m in \u001b[0;36m_parallel_build_trees\u001b[0;34m(tree, forest, X, y, sample_weight, tree_idx, n_trees, verbose, class_weight, n_samples_bootstrap)\u001b[0m\n\u001b[1;32m    163\u001b[0m             \u001b[0mcurr_sample_weight\u001b[0m \u001b[0;34m*=\u001b[0m \u001b[0mcompute_sample_weight\u001b[0m\u001b[0;34m(\u001b[0m\u001b[0;34m'balanced'\u001b[0m\u001b[0;34m,\u001b[0m \u001b[0my\u001b[0m\u001b[0;34m,\u001b[0m \u001b[0mindices\u001b[0m\u001b[0;34m)\u001b[0m\u001b[0;34m\u001b[0m\u001b[0;34m\u001b[0m\u001b[0m\n\u001b[1;32m    164\u001b[0m \u001b[0;34m\u001b[0m\u001b[0m\n\u001b[0;32m--> 165\u001b[0;31m         \u001b[0mtree\u001b[0m\u001b[0;34m.\u001b[0m\u001b[0mfit\u001b[0m\u001b[0;34m(\u001b[0m\u001b[0mX\u001b[0m\u001b[0;34m,\u001b[0m \u001b[0my\u001b[0m\u001b[0;34m,\u001b[0m \u001b[0msample_weight\u001b[0m\u001b[0;34m=\u001b[0m\u001b[0mcurr_sample_weight\u001b[0m\u001b[0;34m,\u001b[0m \u001b[0mcheck_input\u001b[0m\u001b[0;34m=\u001b[0m\u001b[0;32mFalse\u001b[0m\u001b[0;34m)\u001b[0m\u001b[0;34m\u001b[0m\u001b[0;34m\u001b[0m\u001b[0m\n\u001b[0m\u001b[1;32m    166\u001b[0m     \u001b[0;32melse\u001b[0m\u001b[0;34m:\u001b[0m\u001b[0;34m\u001b[0m\u001b[0;34m\u001b[0m\u001b[0m\n\u001b[1;32m    167\u001b[0m         \u001b[0mtree\u001b[0m\u001b[0;34m.\u001b[0m\u001b[0mfit\u001b[0m\u001b[0;34m(\u001b[0m\u001b[0mX\u001b[0m\u001b[0;34m,\u001b[0m \u001b[0my\u001b[0m\u001b[0;34m,\u001b[0m \u001b[0msample_weight\u001b[0m\u001b[0;34m=\u001b[0m\u001b[0msample_weight\u001b[0m\u001b[0;34m,\u001b[0m \u001b[0mcheck_input\u001b[0m\u001b[0;34m=\u001b[0m\u001b[0;32mFalse\u001b[0m\u001b[0;34m)\u001b[0m\u001b[0;34m\u001b[0m\u001b[0;34m\u001b[0m\u001b[0m\n",
            "\u001b[0;32m/usr/local/lib/python3.7/dist-packages/sklearn/tree/_classes.py\u001b[0m in \u001b[0;36mfit\u001b[0;34m(self, X, y, sample_weight, check_input, X_idx_sorted)\u001b[0m\n\u001b[1;32m    875\u001b[0m             \u001b[0msample_weight\u001b[0m\u001b[0;34m=\u001b[0m\u001b[0msample_weight\u001b[0m\u001b[0;34m,\u001b[0m\u001b[0;34m\u001b[0m\u001b[0;34m\u001b[0m\u001b[0m\n\u001b[1;32m    876\u001b[0m             \u001b[0mcheck_input\u001b[0m\u001b[0;34m=\u001b[0m\u001b[0mcheck_input\u001b[0m\u001b[0;34m,\u001b[0m\u001b[0;34m\u001b[0m\u001b[0;34m\u001b[0m\u001b[0m\n\u001b[0;32m--> 877\u001b[0;31m             X_idx_sorted=X_idx_sorted)\n\u001b[0m\u001b[1;32m    878\u001b[0m         \u001b[0;32mreturn\u001b[0m \u001b[0mself\u001b[0m\u001b[0;34m\u001b[0m\u001b[0;34m\u001b[0m\u001b[0m\n\u001b[1;32m    879\u001b[0m \u001b[0;34m\u001b[0m\u001b[0m\n",
            "\u001b[0;32m/usr/local/lib/python3.7/dist-packages/sklearn/tree/_classes.py\u001b[0m in \u001b[0;36mfit\u001b[0;34m(self, X, y, sample_weight, check_input, X_idx_sorted)\u001b[0m\n\u001b[1;32m    365\u001b[0m                                            min_impurity_split)\n\u001b[1;32m    366\u001b[0m \u001b[0;34m\u001b[0m\u001b[0m\n\u001b[0;32m--> 367\u001b[0;31m         \u001b[0mbuilder\u001b[0m\u001b[0;34m.\u001b[0m\u001b[0mbuild\u001b[0m\u001b[0;34m(\u001b[0m\u001b[0mself\u001b[0m\u001b[0;34m.\u001b[0m\u001b[0mtree_\u001b[0m\u001b[0;34m,\u001b[0m \u001b[0mX\u001b[0m\u001b[0;34m,\u001b[0m \u001b[0my\u001b[0m\u001b[0;34m,\u001b[0m \u001b[0msample_weight\u001b[0m\u001b[0;34m,\u001b[0m \u001b[0mX_idx_sorted\u001b[0m\u001b[0;34m)\u001b[0m\u001b[0;34m\u001b[0m\u001b[0;34m\u001b[0m\u001b[0m\n\u001b[0m\u001b[1;32m    368\u001b[0m \u001b[0;34m\u001b[0m\u001b[0m\n\u001b[1;32m    369\u001b[0m         \u001b[0;32mif\u001b[0m \u001b[0mself\u001b[0m\u001b[0;34m.\u001b[0m\u001b[0mn_outputs_\u001b[0m \u001b[0;34m==\u001b[0m \u001b[0;36m1\u001b[0m \u001b[0;32mand\u001b[0m \u001b[0mis_classifier\u001b[0m\u001b[0;34m(\u001b[0m\u001b[0mself\u001b[0m\u001b[0;34m)\u001b[0m\u001b[0;34m:\u001b[0m\u001b[0;34m\u001b[0m\u001b[0;34m\u001b[0m\u001b[0m\n",
            "\u001b[0;31mKeyboardInterrupt\u001b[0m: "
          ]
        }
      ]
    },
    {
      "cell_type": "markdown",
      "metadata": {
        "id": "RzCGTZTxm_WI"
      },
      "source": [
        "# ROC 커브"
      ]
    },
    {
      "cell_type": "code",
      "metadata": {
        "colab": {
          "background_save": true
        },
        "id": "YJWAk2Ebm6x-",
        "outputId": "f0b30309-30a5-4b02-9eb6-aa47094c4cf1"
      },
      "source": [
        "colors = ['black', 'orange', 'blue', 'green']\n",
        "linestyles = [':', '-','solid','dashdot']\n",
        "for clf, label, clr, ls \\\n",
        "        in zip(all_clf, clf_labels, colors, linestyles):\n",
        "\n",
        "  clf.fit(X_train, y_train)\n",
        "  y_pred = clf.predict_proba(X_test)[:, 1]\n",
        "  fpr, tpr, thresholds = roc_curve(y_true=y_test,\n",
        "                                  y_score=y_pred)\n",
        "  roc_auc = auc(x=fpr, y=tpr) # 교차검증 X\n",
        "  plt.plot(fpr, tpr,\n",
        "            color=clr,\n",
        "            linestyle=ls,\n",
        "            label='%s (auc = %0.3f)' % (label, roc_auc))\n",
        "  \n",
        "plt.legend(loc='lower right')\n",
        "plt.plot([0, 1], [0, 1],\n",
        "          linestyle='--',\n",
        "          color='gray',\n",
        "          linewidth=2)\n",
        "\n",
        "plt.xlim([-0.1, 1.1])\n",
        "plt.ylim([-0.1, 1.1])\n",
        "plt.grid(alpha=0.5)\n",
        "plt.xlabel('False positive rate (FPR)')\n",
        "plt.ylabel('True positive rate (TPR)')\n",
        "\n",
        "plt.show()"
      ],
      "execution_count": null,
      "outputs": [
        {
          "data": {
            "image/png": "[encoded data removed]",
            "text/plain": [
              "<Figure size 432x288 with 1 Axes>"
            ]
          },
          "metadata": {},
          "output_type": "display_data"
        }
      ]
    },
    {
      "cell_type": "markdown",
      "metadata": {
        "id": "60BmQ7Rj2r5k"
      },
      "source": [
        ""
      ]
    },
    {
      "cell_type": "code",
      "metadata": {
        "colab": {
          "base_uri": "https://localhost:8080/",
          "height": 204
        },
        "id": "y8lJYWmZWcGR",
        "outputId": "17ebdc3f-7d5b-4581-9418-a8f4aafdc621"
      },
      "source": [
        "feature_importance = forest.feature_importances_\n",
        "forest_ma = pd.DataFrame({'variable':X.columns, 'importances':feature_importance})\n",
        "forest_ma.sort_values(by=['importances'],ascending=False, axis=0, inplace=True)\n",
        "forest_ma['rank'] = forest_ma['importances'].rank(ascending = False)\n",
        "forest_ma['term'] = '30일'\n",
        "forest_ma = forest_ma[['term', 'variable', 'importances', 'rank']]\n",
        "forest_ma['model'] = 'forest'\n",
        "forest_ma.head()"
      ],
      "execution_count": null,
      "outputs": [
        {
          "data": {
            "text/html": [
              "<div>\n",
              "<style scoped>\n",
              "    .dataframe tbody tr th:only-of-type {\n",
              "        vertical-align: middle;\n",
              "    }\n",
              "\n",
              "    .dataframe tbody tr th {\n",
              "        vertical-align: top;\n",
              "    }\n",
              "\n",
              "    .dataframe thead th {\n",
              "        text-align: right;\n",
              "    }\n",
              "</style>\n",
              "<table border=\"1\" class=\"dataframe\">\n",
              "  <thead>\n",
              "    <tr style=\"text-align: right;\">\n",
              "      <th></th>\n",
              "      <th>term</th>\n",
              "      <th>variable</th>\n",
              "      <th>importances</th>\n",
              "      <th>rank</th>\n",
              "      <th>model</th>\n",
              "    </tr>\n",
              "  </thead>\n",
              "  <tbody>\n",
              "    <tr>\n",
              "      <th>9</th>\n",
              "      <td>7일</td>\n",
              "      <td>KOSPI</td>\n",
              "      <td>0.051960</td>\n",
              "      <td>1.0</td>\n",
              "      <td>forest</td>\n",
              "    </tr>\n",
              "    <tr>\n",
              "      <th>25</th>\n",
              "      <td>7일</td>\n",
              "      <td>ROC</td>\n",
              "      <td>0.047655</td>\n",
              "      <td>2.0</td>\n",
              "      <td>forest</td>\n",
              "    </tr>\n",
              "    <tr>\n",
              "      <th>18</th>\n",
              "      <td>7일</td>\n",
              "      <td>MACD</td>\n",
              "      <td>0.045902</td>\n",
              "      <td>3.0</td>\n",
              "      <td>forest</td>\n",
              "    </tr>\n",
              "    <tr>\n",
              "      <th>6</th>\n",
              "      <td>7일</td>\n",
              "      <td>S&amp;P500</td>\n",
              "      <td>0.045875</td>\n",
              "      <td>4.0</td>\n",
              "      <td>forest</td>\n",
              "    </tr>\n",
              "    <tr>\n",
              "      <th>7</th>\n",
              "      <td>7일</td>\n",
              "      <td>SOX</td>\n",
              "      <td>0.045731</td>\n",
              "      <td>5.0</td>\n",
              "      <td>forest</td>\n",
              "    </tr>\n",
              "  </tbody>\n",
              "</table>\n",
              "</div>"
            ],
            "text/plain": [
              "   term variable  importances  rank   model\n",
              "9    7일    KOSPI     0.051960   1.0  forest\n",
              "25   7일      ROC     0.047655   2.0  forest\n",
              "18   7일     MACD     0.045902   3.0  forest\n",
              "6    7일   S&P500     0.045875   4.0  forest\n",
              "7    7일      SOX     0.045731   5.0  forest"
            ]
          },
          "execution_count": 57,
          "metadata": {},
          "output_type": "execute_result"
        }
      ]
    },
    {
      "cell_type": "code",
      "metadata": {
        "colab": {
          "base_uri": "https://localhost:8080/",
          "height": 204
        },
        "id": "X2DrccKEcKho",
        "outputId": "934c5582-adf9-4383-916b-c8493cf23534"
      },
      "source": [
        "feature_importance = lgb.feature_importances_\n",
        "lgb_ma = pd.DataFrame({'variable':X.columns, 'importances':feature_importance})\n",
        "lgb_ma.sort_values(by=['importances'],ascending=False, axis=0, inplace=True)\n",
        "lgb_ma['rank'] = lgb_ma['importances'].rank(ascending = False)\n",
        "lgb_ma['term'] = '30일'\n",
        "lgb_ma = lgb_ma[['term', 'variable', 'importances', 'rank']]\n",
        "lgb_ma['model'] = 'lgb'\n",
        "lgb_ma.head()"
      ],
      "execution_count": null,
      "outputs": [
        {
          "data": {
            "text/html": [
              "<div>\n",
              "<style scoped>\n",
              "    .dataframe tbody tr th:only-of-type {\n",
              "        vertical-align: middle;\n",
              "    }\n",
              "\n",
              "    .dataframe tbody tr th {\n",
              "        vertical-align: top;\n",
              "    }\n",
              "\n",
              "    .dataframe thead th {\n",
              "        text-align: right;\n",
              "    }\n",
              "</style>\n",
              "<table border=\"1\" class=\"dataframe\">\n",
              "  <thead>\n",
              "    <tr style=\"text-align: right;\">\n",
              "      <th></th>\n",
              "      <th>term</th>\n",
              "      <th>variable</th>\n",
              "      <th>importances</th>\n",
              "      <th>rank</th>\n",
              "      <th>model</th>\n",
              "    </tr>\n",
              "  </thead>\n",
              "  <tbody>\n",
              "    <tr>\n",
              "      <th>9</th>\n",
              "      <td>7일</td>\n",
              "      <td>KOSPI</td>\n",
              "      <td>207</td>\n",
              "      <td>1.0</td>\n",
              "      <td>lgb</td>\n",
              "    </tr>\n",
              "    <tr>\n",
              "      <th>18</th>\n",
              "      <td>7일</td>\n",
              "      <td>MACD</td>\n",
              "      <td>200</td>\n",
              "      <td>2.0</td>\n",
              "      <td>lgb</td>\n",
              "    </tr>\n",
              "    <tr>\n",
              "      <th>25</th>\n",
              "      <td>7일</td>\n",
              "      <td>ROC</td>\n",
              "      <td>198</td>\n",
              "      <td>3.0</td>\n",
              "      <td>lgb</td>\n",
              "    </tr>\n",
              "    <tr>\n",
              "      <th>8</th>\n",
              "      <td>7일</td>\n",
              "      <td>VIX</td>\n",
              "      <td>174</td>\n",
              "      <td>4.0</td>\n",
              "      <td>lgb</td>\n",
              "    </tr>\n",
              "    <tr>\n",
              "      <th>19</th>\n",
              "      <td>7일</td>\n",
              "      <td>ATR</td>\n",
              "      <td>157</td>\n",
              "      <td>5.0</td>\n",
              "      <td>lgb</td>\n",
              "    </tr>\n",
              "  </tbody>\n",
              "</table>\n",
              "</div>"
            ],
            "text/plain": [
              "   term variable  importances  rank model\n",
              "9    7일    KOSPI          207   1.0   lgb\n",
              "18   7일     MACD          200   2.0   lgb\n",
              "25   7일      ROC          198   3.0   lgb\n",
              "8    7일      VIX          174   4.0   lgb\n",
              "19   7일      ATR          157   5.0   lgb"
            ]
          },
          "execution_count": 58,
          "metadata": {},
          "output_type": "execute_result"
        }
      ]
    },
    {
      "cell_type": "code",
      "metadata": {
        "colab": {
          "base_uri": "https://localhost:8080/",
          "height": 204
        },
        "id": "YHmMQYHlcLBI",
        "outputId": "471ad925-eb06-4675-c479-33ae0f03a433"
      },
      "source": [
        "feature_importance = xgb.feature_importances_\n",
        "xgb_ma = pd.DataFrame({'variable':X.columns, 'importances':feature_importance})\n",
        "xgb_ma.sort_values(by=['importances'],ascending=False, axis=0, inplace=True)\n",
        "xgb_ma['rank'] = xgb_ma['importances'].rank(ascending = False)\n",
        "xgb_ma['term'] = '30일'\n",
        "xgb_ma = xgb_ma[['term', 'variable', 'importances', 'rank']]\n",
        "xgb_ma['model'] = 'xgb'\n",
        "xgb_ma.head()"
      ],
      "execution_count": null,
      "outputs": [
        {
          "data": {
            "text/html": [
              "<div>\n",
              "<style scoped>\n",
              "    .dataframe tbody tr th:only-of-type {\n",
              "        vertical-align: middle;\n",
              "    }\n",
              "\n",
              "    .dataframe tbody tr th {\n",
              "        vertical-align: top;\n",
              "    }\n",
              "\n",
              "    .dataframe thead th {\n",
              "        text-align: right;\n",
              "    }\n",
              "</style>\n",
              "<table border=\"1\" class=\"dataframe\">\n",
              "  <thead>\n",
              "    <tr style=\"text-align: right;\">\n",
              "      <th></th>\n",
              "      <th>term</th>\n",
              "      <th>variable</th>\n",
              "      <th>importances</th>\n",
              "      <th>rank</th>\n",
              "      <th>model</th>\n",
              "    </tr>\n",
              "  </thead>\n",
              "  <tbody>\n",
              "    <tr>\n",
              "      <th>1</th>\n",
              "      <td>7일</td>\n",
              "      <td>High</td>\n",
              "      <td>0.069231</td>\n",
              "      <td>1.0</td>\n",
              "      <td>xgb</td>\n",
              "    </tr>\n",
              "    <tr>\n",
              "      <th>4</th>\n",
              "      <td>7일</td>\n",
              "      <td>Adj Close</td>\n",
              "      <td>0.066408</td>\n",
              "      <td>2.0</td>\n",
              "      <td>xgb</td>\n",
              "    </tr>\n",
              "    <tr>\n",
              "      <th>13</th>\n",
              "      <td>7일</td>\n",
              "      <td>MA10</td>\n",
              "      <td>0.055706</td>\n",
              "      <td>3.0</td>\n",
              "      <td>xgb</td>\n",
              "    </tr>\n",
              "    <tr>\n",
              "      <th>12</th>\n",
              "      <td>7일</td>\n",
              "      <td>MA5</td>\n",
              "      <td>0.053442</td>\n",
              "      <td>4.0</td>\n",
              "      <td>xgb</td>\n",
              "    </tr>\n",
              "    <tr>\n",
              "      <th>20</th>\n",
              "      <td>7일</td>\n",
              "      <td>ub</td>\n",
              "      <td>0.051423</td>\n",
              "      <td>5.0</td>\n",
              "      <td>xgb</td>\n",
              "    </tr>\n",
              "  </tbody>\n",
              "</table>\n",
              "</div>"
            ],
            "text/plain": [
              "   term   variable  importances  rank model\n",
              "1    7일       High     0.069231   1.0   xgb\n",
              "4    7일  Adj Close     0.066408   2.0   xgb\n",
              "13   7일       MA10     0.055706   3.0   xgb\n",
              "12   7일        MA5     0.053442   4.0   xgb\n",
              "20   7일         ub     0.051423   5.0   xgb"
            ]
          },
          "execution_count": 60,
          "metadata": {},
          "output_type": "execute_result"
        }
      ]
    },
    {
      "cell_type": "code",
      "metadata": {
        "colab": {
          "base_uri": "https://localhost:8080/",
          "height": 204
        },
        "id": "ngjYljC9cLfG",
        "outputId": "c5603302-7062-4bd8-e43a-e832874e1308"
      },
      "source": [
        "feature_importance = adaboost.feature_importances_\n",
        "adaboost_ma = pd.DataFrame({'variable':X.columns, 'importances':feature_importance})\n",
        "adaboost_ma.sort_values(by=['importances'],ascending=False, axis=0, inplace=True)\n",
        "adaboost_ma['rank'] = adaboost_ma['importances'].rank(ascending = False)\n",
        "adaboost_ma['term'] = '30일'\n",
        "adaboost_ma = adaboost_ma[['term', 'variable', 'importances', 'rank']]\n",
        "adaboost_ma['model'] = 'adaboost'\n",
        "adaboost_ma.head()"
      ],
      "execution_count": null,
      "outputs": [
        {
          "data": {
            "text/html": [
              "<div>\n",
              "<style scoped>\n",
              "    .dataframe tbody tr th:only-of-type {\n",
              "        vertical-align: middle;\n",
              "    }\n",
              "\n",
              "    .dataframe tbody tr th {\n",
              "        vertical-align: top;\n",
              "    }\n",
              "\n",
              "    .dataframe thead th {\n",
              "        text-align: right;\n",
              "    }\n",
              "</style>\n",
              "<table border=\"1\" class=\"dataframe\">\n",
              "  <thead>\n",
              "    <tr style=\"text-align: right;\">\n",
              "      <th></th>\n",
              "      <th>term</th>\n",
              "      <th>variable</th>\n",
              "      <th>importances</th>\n",
              "      <th>rank</th>\n",
              "      <th>model</th>\n",
              "    </tr>\n",
              "  </thead>\n",
              "  <tbody>\n",
              "    <tr>\n",
              "      <th>9</th>\n",
              "      <td>7일</td>\n",
              "      <td>KOSPI</td>\n",
              "      <td>0.109420</td>\n",
              "      <td>1.0</td>\n",
              "      <td>adaboost</td>\n",
              "    </tr>\n",
              "    <tr>\n",
              "      <th>15</th>\n",
              "      <td>7일</td>\n",
              "      <td>MA60</td>\n",
              "      <td>0.092301</td>\n",
              "      <td>2.0</td>\n",
              "      <td>adaboost</td>\n",
              "    </tr>\n",
              "    <tr>\n",
              "      <th>18</th>\n",
              "      <td>7일</td>\n",
              "      <td>MACD</td>\n",
              "      <td>0.082110</td>\n",
              "      <td>3.0</td>\n",
              "      <td>adaboost</td>\n",
              "    </tr>\n",
              "    <tr>\n",
              "      <th>7</th>\n",
              "      <td>7일</td>\n",
              "      <td>SOX</td>\n",
              "      <td>0.074032</td>\n",
              "      <td>4.0</td>\n",
              "      <td>adaboost</td>\n",
              "    </tr>\n",
              "    <tr>\n",
              "      <th>11</th>\n",
              "      <td>7일</td>\n",
              "      <td>CCI</td>\n",
              "      <td>0.069551</td>\n",
              "      <td>5.0</td>\n",
              "      <td>adaboost</td>\n",
              "    </tr>\n",
              "  </tbody>\n",
              "</table>\n",
              "</div>"
            ],
            "text/plain": [
              "   term variable  importances  rank     model\n",
              "9    7일    KOSPI     0.109420   1.0  adaboost\n",
              "15   7일     MA60     0.092301   2.0  adaboost\n",
              "18   7일     MACD     0.082110   3.0  adaboost\n",
              "7    7일      SOX     0.074032   4.0  adaboost\n",
              "11   7일      CCI     0.069551   5.0  adaboost"
            ]
          },
          "execution_count": 61,
          "metadata": {},
          "output_type": "execute_result"
        }
      ]
    },
    {
      "cell_type": "code",
      "metadata": {
        "id": "8wQS6i1LZCIb"
      },
      "source": [
        "variable = pd.concat([forest_ma, lgb_ma, xgb_ma, adaboost_ma])"
      ],
      "execution_count": null,
      "outputs": []
    },
    {
      "cell_type": "code",
      "metadata": {
        "colab": {
          "base_uri": "https://localhost:8080/",
          "height": 418
        },
        "id": "fEfHEC8IeSIX",
        "outputId": "cba9e791-e842-4da9-ea38-9611149ad497"
      },
      "source": [
        "variable"
      ],
      "execution_count": null,
      "outputs": [
        {
          "data": {
            "text/html": [
              "<div>\n",
              "<style scoped>\n",
              "    .dataframe tbody tr th:only-of-type {\n",
              "        vertical-align: middle;\n",
              "    }\n",
              "\n",
              "    .dataframe tbody tr th {\n",
              "        vertical-align: top;\n",
              "    }\n",
              "\n",
              "    .dataframe thead th {\n",
              "        text-align: right;\n",
              "    }\n",
              "</style>\n",
              "<table border=\"1\" class=\"dataframe\">\n",
              "  <thead>\n",
              "    <tr style=\"text-align: right;\">\n",
              "      <th></th>\n",
              "      <th>term</th>\n",
              "      <th>variable</th>\n",
              "      <th>importances</th>\n",
              "      <th>rank</th>\n",
              "      <th>model</th>\n",
              "    </tr>\n",
              "  </thead>\n",
              "  <tbody>\n",
              "    <tr>\n",
              "      <th>9</th>\n",
              "      <td>7일</td>\n",
              "      <td>KOSPI</td>\n",
              "      <td>0.051960</td>\n",
              "      <td>1.0</td>\n",
              "      <td>forest</td>\n",
              "    </tr>\n",
              "    <tr>\n",
              "      <th>25</th>\n",
              "      <td>7일</td>\n",
              "      <td>ROC</td>\n",
              "      <td>0.047655</td>\n",
              "      <td>2.0</td>\n",
              "      <td>forest</td>\n",
              "    </tr>\n",
              "    <tr>\n",
              "      <th>18</th>\n",
              "      <td>7일</td>\n",
              "      <td>MACD</td>\n",
              "      <td>0.045902</td>\n",
              "      <td>3.0</td>\n",
              "      <td>forest</td>\n",
              "    </tr>\n",
              "    <tr>\n",
              "      <th>6</th>\n",
              "      <td>7일</td>\n",
              "      <td>S&amp;P500</td>\n",
              "      <td>0.045875</td>\n",
              "      <td>4.0</td>\n",
              "      <td>forest</td>\n",
              "    </tr>\n",
              "    <tr>\n",
              "      <th>7</th>\n",
              "      <td>7일</td>\n",
              "      <td>SOX</td>\n",
              "      <td>0.045731</td>\n",
              "      <td>5.0</td>\n",
              "      <td>forest</td>\n",
              "    </tr>\n",
              "    <tr>\n",
              "      <th>...</th>\n",
              "      <td>...</td>\n",
              "      <td>...</td>\n",
              "      <td>...</td>\n",
              "      <td>...</td>\n",
              "      <td>...</td>\n",
              "    </tr>\n",
              "    <tr>\n",
              "      <th>0</th>\n",
              "      <td>7일</td>\n",
              "      <td>Open</td>\n",
              "      <td>0.010160</td>\n",
              "      <td>24.0</td>\n",
              "      <td>adaboost</td>\n",
              "    </tr>\n",
              "    <tr>\n",
              "      <th>24</th>\n",
              "      <td>7일</td>\n",
              "      <td>MTM3</td>\n",
              "      <td>0.009113</td>\n",
              "      <td>25.0</td>\n",
              "      <td>adaboost</td>\n",
              "    </tr>\n",
              "    <tr>\n",
              "      <th>21</th>\n",
              "      <td>7일</td>\n",
              "      <td>middle</td>\n",
              "      <td>0.009107</td>\n",
              "      <td>26.0</td>\n",
              "      <td>adaboost</td>\n",
              "    </tr>\n",
              "    <tr>\n",
              "      <th>14</th>\n",
              "      <td>7일</td>\n",
              "      <td>MA20</td>\n",
              "      <td>0.007546</td>\n",
              "      <td>27.0</td>\n",
              "      <td>adaboost</td>\n",
              "    </tr>\n",
              "    <tr>\n",
              "      <th>23</th>\n",
              "      <td>7일</td>\n",
              "      <td>MTM1</td>\n",
              "      <td>0.003476</td>\n",
              "      <td>28.0</td>\n",
              "      <td>adaboost</td>\n",
              "    </tr>\n",
              "  </tbody>\n",
              "</table>\n",
              "<p>112 rows × 5 columns</p>\n",
              "</div>"
            ],
            "text/plain": [
              "   term variable  importances  rank     model\n",
              "9    7일    KOSPI     0.051960   1.0    forest\n",
              "25   7일      ROC     0.047655   2.0    forest\n",
              "18   7일     MACD     0.045902   3.0    forest\n",
              "6    7일   S&P500     0.045875   4.0    forest\n",
              "7    7일      SOX     0.045731   5.0    forest\n",
              "..  ...      ...          ...   ...       ...\n",
              "0    7일     Open     0.010160  24.0  adaboost\n",
              "24   7일     MTM3     0.009113  25.0  adaboost\n",
              "21   7일   middle     0.009107  26.0  adaboost\n",
              "14   7일     MA20     0.007546  27.0  adaboost\n",
              "23   7일     MTM1     0.003476  28.0  adaboost\n",
              "\n",
              "[112 rows x 5 columns]"
            ]
          },
          "execution_count": 72,
          "metadata": {},
          "output_type": "execute_result"
        }
      ]
    },
    {
      "cell_type": "code",
      "metadata": {
        "id": "6PvRNpvpdgEp"
      },
      "source": [
        "variable.to_csv('/content/drive/MyDrive/data/이동평균선 변수 중요도_30일.csv', index = False)"
      ],
      "execution_count": null,
      "outputs": []
    },
    {
      "cell_type": "markdown",
      "metadata": {
        "id": "nE5fVARL2wtV"
      },
      "source": [
        "# RF"
      ]
    },
    {
      "cell_type": "code",
      "metadata": {
        "id": "Q8SWo1zynNoZ"
      },
      "source": [
        "report(forest)"
      ],
      "execution_count": null,
      "outputs": []
    },
    {
      "cell_type": "code",
      "metadata": {
        "colab": {
          "base_uri": "https://localhost:8080/",
          "height": 568
        },
        "id": "xO2zzqtKnRen",
        "outputId": "7bbb6611-ec9f-4739-e682-17dc16616b1a"
      },
      "source": [
        "feature_importance(forest)"
      ],
      "execution_count": null,
      "outputs": [
        {
          "name": "stderr",
          "output_type": "stream",
          "text": [
            "/usr/local/lib/python3.7/dist-packages/seaborn/_decorators.py:43: FutureWarning: Pass the following variables as keyword args: x, y. From version 0.12, the only valid positional argument will be `data`, and passing other arguments without an explicit keyword will result in an error or misinterpretation.\n",
            "  FutureWarning\n"
          ]
        },
        {
          "data": {
            "image/png": "[encoded data removed]",
            "text/plain": [
              "<Figure size 1080x504 with 1 Axes>"
            ]
          },
          "metadata": {},
          "output_type": "display_data"
        }
      ]
    },
    {
      "cell_type": "markdown",
      "metadata": {
        "id": "LRfBeKsunH0w"
      },
      "source": [
        "# voting"
      ]
    },
    {
      "cell_type": "code",
      "metadata": {
        "id": "M6xaEQm6mryi"
      },
      "source": [
        "report(voting)"
      ],
      "execution_count": null,
      "outputs": []
    },
    {
      "cell_type": "markdown",
      "metadata": {
        "id": "6xtV04dtnR7h"
      },
      "source": [
        "# DT"
      ]
    },
    {
      "cell_type": "code",
      "metadata": {
        "id": "aO7LzcAXnVET"
      },
      "source": [
        "report(tree)"
      ],
      "execution_count": null,
      "outputs": []
    },
    {
      "cell_type": "code",
      "metadata": {
        "id": "xuSzPUpznZHu"
      },
      "source": [
        "feature_importance(forest)"
      ],
      "execution_count": null,
      "outputs": []
    },
    {
      "cell_type": "markdown",
      "metadata": {
        "id": "nzHQKzSlnay_"
      },
      "source": [
        "# LGBM"
      ]
    },
    {
      "cell_type": "code",
      "metadata": {
        "id": "DkHHMrVondu0"
      },
      "source": [
        "report(lgb)"
      ],
      "execution_count": null,
      "outputs": []
    },
    {
      "cell_type": "code",
      "metadata": {
        "colab": {
          "base_uri": "https://localhost:8080/",
          "height": 568
        },
        "id": "-J9uIpuFngHN",
        "outputId": "bedd31ee-0064-4917-b9e0-fbc41a13a57d"
      },
      "source": [
        "feature_importance(lgb)"
      ],
      "execution_count": null,
      "outputs": [
        {
          "name": "stderr",
          "output_type": "stream",
          "text": [
            "/usr/local/lib/python3.7/dist-packages/seaborn/_decorators.py:43: FutureWarning: Pass the following variables as keyword args: x, y. From version 0.12, the only valid positional argument will be `data`, and passing other arguments without an explicit keyword will result in an error or misinterpretation.\n",
            "  FutureWarning\n"
          ]
        },
        {
          "data": {
            "image/png": "[encoded data removed]",
            "text/plain": [
              "<Figure size 1080x504 with 1 Axes>"
            ]
          },
          "metadata": {},
          "output_type": "display_data"
        }
      ]
    },
    {
      "cell_type": "markdown",
      "metadata": {
        "id": "KrKcU_hsniCQ"
      },
      "source": [
        "#XGB"
      ]
    },
    {
      "cell_type": "code",
      "metadata": {
        "id": "ceKchcY-nyuy"
      },
      "source": [
        "report(xgb)"
      ],
      "execution_count": null,
      "outputs": []
    },
    {
      "cell_type": "code",
      "metadata": {
        "colab": {
          "base_uri": "https://localhost:8080/",
          "height": 568
        },
        "id": "SnqrowKsn1DQ",
        "outputId": "ecf2d3b0-7fdb-49b3-a290-36fec7ac1061"
      },
      "source": [
        "feature_importance(xgb)"
      ],
      "execution_count": null,
      "outputs": [
        {
          "name": "stderr",
          "output_type": "stream",
          "text": [
            "/usr/local/lib/python3.7/dist-packages/seaborn/_decorators.py:43: FutureWarning: Pass the following variables as keyword args: x, y. From version 0.12, the only valid positional argument will be `data`, and passing other arguments without an explicit keyword will result in an error or misinterpretation.\n",
            "  FutureWarning\n"
          ]
        },
        {
          "data": {
            "image/png": "[encoded data removed]",
            "text/plain": [
              "<Figure size 1080x504 with 1 Axes>"
            ]
          },
          "metadata": {},
          "output_type": "display_data"
        }
      ]
    },
    {
      "cell_type": "markdown",
      "metadata": {
        "id": "s3vRb-1Hn5fL"
      },
      "source": [
        "# ADA"
      ]
    },
    {
      "cell_type": "code",
      "metadata": {
        "colab": {
          "base_uri": "https://localhost:8080/",
          "height": 496
        },
        "id": "y1oDOxoqn4uH",
        "outputId": "8bdec729-5f8c-4d87-a5f3-21218d6206e4"
      },
      "source": [
        "report(adaboost)"
      ],
      "execution_count": null,
      "outputs": [
        {
          "name": "stdout",
          "output_type": "stream",
          "text": [
            "              precision    recall  f1-score   support\n",
            "\n",
            "           0       0.54      0.45      0.49       231\n",
            "           1       0.57      0.65      0.61       257\n",
            "\n",
            "    accuracy                           0.56       488\n",
            "   macro avg       0.56      0.55      0.55       488\n",
            "weighted avg       0.56      0.56      0.56       488\n",
            "\n",
            "Random Forest Accuracy: 0.5594262295081968\n"
          ]
        },
        {
          "data": {
            "image/png": "[encoded data removed]",
            "text/plain": [
              "<Figure size 720x360 with 2 Axes>"
            ]
          },
          "metadata": {},
          "output_type": "display_data"
        }
      ]
    },
    {
      "cell_type": "code",
      "metadata": {
        "colab": {
          "base_uri": "https://localhost:8080/",
          "height": 496
        },
        "id": "FwZYolvfoCnf",
        "outputId": "08fa8697-3793-4d02-ddc8-5cae5e32b9d1"
      },
      "source": [
        "report(adaboost)"
      ],
      "execution_count": null,
      "outputs": [
        {
          "name": "stdout",
          "output_type": "stream",
          "text": [
            "              precision    recall  f1-score   support\n",
            "\n",
            "           0       0.71      0.65      0.67       231\n",
            "           1       0.70      0.76      0.73       257\n",
            "\n",
            "    accuracy                           0.70       488\n",
            "   macro avg       0.71      0.70      0.70       488\n",
            "weighted avg       0.71      0.70      0.70       488\n",
            "\n",
            "Random Forest Accuracy: 0.7049180327868853\n"
          ]
        },
        {
          "data": {
            "image/png": "[encoded data removed]",
            "text/plain": [
              "<Figure size 720x360 with 2 Axes>"
            ]
          },
          "metadata": {},
          "output_type": "display_data"
        }
      ]
    },
    {
      "cell_type": "code",
      "metadata": {
        "colab": {
          "base_uri": "https://localhost:8080/",
          "height": 568
        },
        "id": "k4t54Jo7oEWt",
        "outputId": "0f39c518-803d-49f6-967d-7bcdcff41507"
      },
      "source": [
        "feature_importance(adaboost)"
      ],
      "execution_count": null,
      "outputs": [
        {
          "name": "stderr",
          "output_type": "stream",
          "text": [
            "/usr/local/lib/python3.7/dist-packages/seaborn/_decorators.py:43: FutureWarning: Pass the following variables as keyword args: x, y. From version 0.12, the only valid positional argument will be `data`, and passing other arguments without an explicit keyword will result in an error or misinterpretation.\n",
            "  FutureWarning\n"
          ]
        },
        {
          "data": {
            "image/png": "[encoded data removed]",
            "text/plain": [
              "<Figure size 1080x504 with 1 Axes>"
            ]
          },
          "metadata": {},
          "output_type": "display_data"
        }
      ]
    }
  ]
}