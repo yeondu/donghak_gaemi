{
  "nbformat": 4,
  "nbformat_minor": 0,
  "metadata": {
    "colab": {
      "name": "stacking(naver, 7일 후).ipynb",
      "provenance": [],
      "collapsed_sections": []
    },
    "kernelspec": {
      "name": "python3",
      "display_name": "Python 3"
    },
    "language_info": {
      "name": "python"
    }
  },
  "cells": [
    {
      "cell_type": "markdown",
      "metadata": {
        "id": "bFoBnbvxm6O3"
      },
      "source": [
        "# 기본 패키지 설정"
      ]
    },
    {
      "cell_type": "code",
      "metadata": {
        "id": "2swAysDEJaGZ"
      },
      "source": [
        "import numpy as np\n",
        "import pandas as pd\n",
        "\n",
        "from sklearn.neighbors import KNeighborsClassifier\n",
        "from sklearn.ensemble import RandomForestClassifier\n",
        "from sklearn.ensemble import AdaBoostClassifier\n",
        "from sklearn.tree import DecisionTreeClassifier\n",
        "from sklearn.linear_model import LogisticRegression\n",
        "from lightgbm import LGBMClassifier\n",
        "from xgboost import XGBClassifier\n",
        "\n",
        "from sklearn.datasets import load_breast_cancer\n",
        "from sklearn.model_selection import train_test_split\n",
        "from sklearn.metrics import accuracy_score"
      ],
      "execution_count": 186,
      "outputs": []
    },
    {
      "cell_type": "markdown",
      "metadata": {
        "id": "llDcsFsOnBuF"
      },
      "source": [
        "# 데이터 읽기"
      ]
    },
    {
      "cell_type": "code",
      "metadata": {
        "id": "L-d1xkzLm2Pn"
      },
      "source": [
        "df = pd.read_csv(\"baseline_data.csv\", index_col=['Date'], parse_dates=True)"
      ],
      "execution_count": 187,
      "outputs": []
    },
    {
      "cell_type": "code",
      "metadata": {
        "id": "Ti5MPt1cmz1D",
        "colab": {
          "base_uri": "https://localhost:8080/"
        },
        "outputId": "b0e452a2-85c8-48bd-ea22-d200c3e3b42b"
      },
      "source": [
        "df.info()"
      ],
      "execution_count": 188,
      "outputs": [
        {
          "output_type": "stream",
          "name": "stdout",
          "text": [
            "<class 'pandas.core.frame.DataFrame'>\n",
            "DatetimeIndex: 4103 entries, 2005-01-04 to 2021-08-13\n",
            "Data columns (total 27 columns):\n",
            " #   Column      Non-Null Count  Dtype  \n",
            "---  ------      --------------  -----  \n",
            " 0   Open        4103 non-null   float64\n",
            " 1   High        4103 non-null   float64\n",
            " 2   Low         4103 non-null   float64\n",
            " 3   Close       4103 non-null   float64\n",
            " 4   Adj Close   4103 non-null   float64\n",
            " 5   Volume      4103 non-null   int64  \n",
            " 6   next_price  4102 non-null   float64\n",
            " 7   next_rtn    4103 non-null   float64\n",
            " 8   log_return  4102 non-null   float64\n",
            " 9   CCI         4090 non-null   float64\n",
            " 10  MA5         4099 non-null   float64\n",
            " 11  MA10        4094 non-null   float64\n",
            " 12  RASD5       4095 non-null   float64\n",
            " 13  RASD10      4090 non-null   float64\n",
            " 14  MACD        4070 non-null   float64\n",
            " 15  ATR         4089 non-null   float64\n",
            " 16  ub          4084 non-null   float64\n",
            " 17  middle      4084 non-null   float64\n",
            " 18  lb          4084 non-null   float64\n",
            " 19  MTM1        4102 non-null   float64\n",
            " 20  MTM3        4100 non-null   float64\n",
            " 21  ROC         4043 non-null   float64\n",
            " 22  WPR         4090 non-null   float64\n",
            " 23  S&P500      3979 non-null   float64\n",
            " 24  SOX         3978 non-null   float64\n",
            " 25  VIX         3978 non-null   float64\n",
            " 26  KOSPI       4083 non-null   float64\n",
            "dtypes: float64(26), int64(1)\n",
            "memory usage: 897.5 KB\n"
          ]
        }
      ]
    },
    {
      "cell_type": "markdown",
      "metadata": {
        "id": "7m0tOApiz8eH"
      },
      "source": [
        "# 결측치 제거"
      ]
    },
    {
      "cell_type": "code",
      "metadata": {
        "colab": {
          "base_uri": "https://localhost:8080/"
        },
        "id": "lo-mthd0z8JK",
        "outputId": "872d16d4-b815-4df9-db44-bca1a59d6f8a"
      },
      "source": [
        "df.isnull().sum()"
      ],
      "execution_count": 190,
      "outputs": [
        {
          "output_type": "execute_result",
          "data": {
            "text/plain": [
              "Open            0\n",
              "High            0\n",
              "Low             0\n",
              "Close           0\n",
              "Adj Close       0\n",
              "Volume          0\n",
              "next_price      1\n",
              "next_rtn        0\n",
              "log_return      1\n",
              "CCI            13\n",
              "MA5             4\n",
              "MA10            9\n",
              "RASD5           8\n",
              "RASD10         13\n",
              "MACD           33\n",
              "ATR            14\n",
              "ub             19\n",
              "middle         19\n",
              "lb             19\n",
              "MTM1            1\n",
              "MTM3            3\n",
              "ROC            60\n",
              "WPR            13\n",
              "S&P500        124\n",
              "SOX           125\n",
              "VIX           125\n",
              "KOSPI          20\n",
              "dtype: int64"
            ]
          },
          "metadata": {},
          "execution_count": 190
        }
      ]
    },
    {
      "cell_type": "code",
      "metadata": {
        "id": "O0tf0PFQ7jFc"
      },
      "source": [
        "df = df.dropna()\n",
        "df = df.loc['2011':'2020']"
      ],
      "execution_count": 191,
      "outputs": []
    },
    {
      "cell_type": "code",
      "metadata": {
        "colab": {
          "base_uri": "https://localhost:8080/"
        },
        "id": "Mf1sGi5H7s-u",
        "outputId": "c419fd94-2823-4a1b-a523-10adb519bf21"
      },
      "source": [
        "df.isnull().sum()"
      ],
      "execution_count": 192,
      "outputs": [
        {
          "output_type": "execute_result",
          "data": {
            "text/plain": [
              "Open          0\n",
              "High          0\n",
              "Low           0\n",
              "Close         0\n",
              "Adj Close     0\n",
              "Volume        0\n",
              "next_price    0\n",
              "next_rtn      0\n",
              "log_return    0\n",
              "CCI           0\n",
              "MA5           0\n",
              "MA10          0\n",
              "RASD5         0\n",
              "RASD10        0\n",
              "MACD          0\n",
              "ATR           0\n",
              "ub            0\n",
              "middle        0\n",
              "lb            0\n",
              "MTM1          0\n",
              "MTM3          0\n",
              "ROC           0\n",
              "WPR           0\n",
              "S&P500        0\n",
              "SOX           0\n",
              "VIX           0\n",
              "KOSPI         0\n",
              "dtype: int64"
            ]
          },
          "metadata": {},
          "execution_count": 192
        }
      ]
    },
    {
      "cell_type": "code",
      "metadata": {
        "colab": {
          "base_uri": "https://localhost:8080/"
        },
        "id": "POSRAECk_9Ry",
        "outputId": "796cbc76-51e0-4d57-c35f-3e507f91b17c"
      },
      "source": [
        "df.shape"
      ],
      "execution_count": 195,
      "outputs": [
        {
          "output_type": "execute_result",
          "data": {
            "text/plain": [
              "(2361, 27)"
            ]
          },
          "metadata": {},
          "execution_count": 195
        }
      ]
    },
    {
      "cell_type": "markdown",
      "metadata": {
        "id": "fNjIuAAX0ZSX"
      },
      "source": [
        "# 라벨링"
      ]
    },
    {
      "cell_type": "code",
      "metadata": {
        "id": "aGv46bXi0Opn"
      },
      "source": [
        "df['next_price'] = df['Close'].shift(-7)\n",
        "diffs = df['next_price']-df['Close']\n",
        "df['label'] = np.where(diffs>0,1,0)"
      ],
      "execution_count": 197,
      "outputs": []
    },
    {
      "cell_type": "code",
      "metadata": {
        "colab": {
          "base_uri": "https://localhost:8080/",
          "height": 280
        },
        "id": "7oc3XQlo0dSO",
        "outputId": "4a99ee78-51fe-4bd0-e090-f00a8545a524"
      },
      "source": [
        "df['label'].value_counts().plot.bar()"
      ],
      "execution_count": 198,
      "outputs": [
        {
          "output_type": "execute_result",
          "data": {
            "text/plain": [
              "<matplotlib.axes._subplots.AxesSubplot at 0x7fe146cfec90>"
            ]
          },
          "metadata": {},
          "execution_count": 198
        },
        {
          "output_type": "display_data",
          "data": {
            "image/png": "[encoded data removed]",
            "text/plain": [
              "<Figure size 432x288 with 1 Axes>"
            ]
          },
          "metadata": {
            "needs_background": "light"
          }
        }
      ]
    },
    {
      "cell_type": "code",
      "metadata": {
        "id": "uPGVx3q201Fd"
      },
      "source": [
        "X = df.drop(['next_price', 'label'], axis=1)\n",
        "y = df['label']"
      ],
      "execution_count": 199,
      "outputs": []
    },
    {
      "cell_type": "code",
      "metadata": {
        "colab": {
          "base_uri": "https://localhost:8080/"
        },
        "id": "ltmgCyypYKe1",
        "outputId": "149a1032-dacc-4926-817c-67a1bedfb77c"
      },
      "source": [
        "X.info()"
      ],
      "execution_count": 200,
      "outputs": [
        {
          "output_type": "stream",
          "name": "stdout",
          "text": [
            "<class 'pandas.core.frame.DataFrame'>\n",
            "DatetimeIndex: 2361 entries, 2011-01-03 to 2020-12-30\n",
            "Data columns (total 26 columns):\n",
            " #   Column      Non-Null Count  Dtype  \n",
            "---  ------      --------------  -----  \n",
            " 0   Open        2361 non-null   float64\n",
            " 1   High        2361 non-null   float64\n",
            " 2   Low         2361 non-null   float64\n",
            " 3   Close       2361 non-null   float64\n",
            " 4   Adj Close   2361 non-null   float64\n",
            " 5   Volume      2361 non-null   int64  \n",
            " 6   next_rtn    2361 non-null   float64\n",
            " 7   log_return  2361 non-null   float64\n",
            " 8   CCI         2361 non-null   float64\n",
            " 9   MA5         2361 non-null   float64\n",
            " 10  MA10        2361 non-null   float64\n",
            " 11  RASD5       2361 non-null   float64\n",
            " 12  RASD10      2361 non-null   float64\n",
            " 13  MACD        2361 non-null   float64\n",
            " 14  ATR         2361 non-null   float64\n",
            " 15  ub          2361 non-null   float64\n",
            " 16  middle      2361 non-null   float64\n",
            " 17  lb          2361 non-null   float64\n",
            " 18  MTM1        2361 non-null   float64\n",
            " 19  MTM3        2361 non-null   float64\n",
            " 20  ROC         2361 non-null   float64\n",
            " 21  WPR         2361 non-null   float64\n",
            " 22  S&P500      2361 non-null   float64\n",
            " 23  SOX         2361 non-null   float64\n",
            " 24  VIX         2361 non-null   float64\n",
            " 25  KOSPI       2361 non-null   float64\n",
            "dtypes: float64(25), int64(1)\n",
            "memory usage: 498.0 KB\n"
          ]
        }
      ]
    },
    {
      "cell_type": "markdown",
      "metadata": {
        "id": "PZiVnweW0ch_"
      },
      "source": [
        "# 전처리"
      ]
    },
    {
      "cell_type": "code",
      "metadata": {
        "id": "tKHXdSulmmLG"
      },
      "source": [
        "from sklearn.preprocessing import LabelEncoder,MinMaxScaler\n",
        "\n",
        "scaler = MinMaxScaler()\n",
        "le = LabelEncoder()\n",
        "\n",
        "scaler.fit(X)\n",
        "X_scaled = scaler.transform(X)\n",
        "y = le.fit_transform(y)"
      ],
      "execution_count": 201,
      "outputs": []
    },
    {
      "cell_type": "code",
      "metadata": {
        "colab": {
          "base_uri": "https://localhost:8080/"
        },
        "id": "b1MizpEo1a93",
        "outputId": "c5b632b1-eec0-451b-b460-636ae161468c"
      },
      "source": [
        "sum(y)/len(df)*100"
      ],
      "execution_count": 202,
      "outputs": [
        {
          "output_type": "execute_result",
          "data": {
            "text/plain": [
              "52.81660313426514"
            ]
          },
          "metadata": {},
          "execution_count": 202
        }
      ]
    },
    {
      "cell_type": "code",
      "metadata": {
        "id": "B4F6lTKYmcz_",
        "colab": {
          "base_uri": "https://localhost:8080/"
        },
        "outputId": "9e7908f8-4460-4416-9428-63805feecf90"
      },
      "source": [
        "X_train, X_test, y_train, y_test = train_test_split(X_scaled, y, test_size=0.2, random_state=1234, shuffle=True, stratify=y)\n",
        "\n",
        "# 개별 ML 모델을 위한 Classifier 생성.\n",
        "rf_clf = RandomForestClassifier(criterion='entropy',n_estimators=700,random_state=1234) #랜덤포레스트\n",
        "tree = DecisionTreeClassifier(max_depth=4,criterion='entropy',random_state=1234)\n",
        "ada_clf = AdaBoostClassifier(base_estimator=tree, \n",
        "                                n_estimators=100,\n",
        "                                learning_rate = 0.01, \n",
        "                                random_state=1234) #아다부스트\n",
        "lgb_clf = LGBMClassifier(random_state=1234)\n",
        "xgb_clf = XGBClassifier(tree_method='hist',random_state=1234)\n",
        "\n",
        "# 개별 모델들을 학습. \n",
        "rf_clf.fit(X_train , y_train)  \n",
        "ada_clf.fit(X_train, y_train)\n",
        "lgb_clf.fit(X_train, y_train)\n",
        "xgb_clf.fit(X_train , y_train)\n",
        "\n",
        "# 학습된 개별 모델들이 각자 반환하는 예측 데이터 셋을 생성하고 개별 모델의 정확도 측정. \n",
        "rf_pred = rf_clf.predict(X_test)\n",
        "ada_pred = ada_clf.predict(X_test)\n",
        "lgb_pred = lgb_clf.predict(X_test)\n",
        "xgb_pred = xgb_clf.predict(X_test)\n",
        "\n",
        "print('랜덤 포레스트 정확도: {0:.4f}'.format(accuracy_score(y_test, rf_pred)))\n",
        "print('에이다부스트 정확도: {0:.4f}'.format(accuracy_score(y_test, ada_pred)))\n",
        "print('LGB 정확도: {0:.4f}'.format(accuracy_score(y_test, lgb_pred)))\n",
        "print('XGB 정확도: {0:.4f}'.format(accuracy_score(y_test, xgb_pred)))"
      ],
      "execution_count": 203,
      "outputs": [
        {
          "output_type": "stream",
          "name": "stdout",
          "text": [
            "랜덤 포레스트 정확도: 0.8055\n",
            "에이다부스트 정확도: 0.7188\n",
            "LGB 정확도: 0.7928\n",
            "XGB 정확도: 0.6956\n"
          ]
        }
      ]
    },
    {
      "cell_type": "markdown",
      "metadata": {
        "id": "ycDH_Whd2h90"
      },
      "source": [
        "# Stacking"
      ]
    },
    {
      "cell_type": "code",
      "metadata": {
        "id": "W4SUD4uycrMA",
        "colab": {
          "base_uri": "https://localhost:8080/"
        },
        "outputId": "41573ed1-38a0-4ee2-bfdc-a693df088424"
      },
      "source": [
        "# 시험데이터로 예측한 4가지 모델의 결과를 합침\n",
        "pred = np.array([rf_pred, ada_pred, lgb_pred, xgb_pred])\n",
        "print(pred.shape)\n",
        "\n",
        "# transpose를 이용해 행과 열의 위치 교환. 컬럼 레벨로 각 알고리즘의 예측 결과를 피처로 만듦. \n",
        "pred = np.transpose(pred)\n",
        "print(pred.shape)\n",
        "\n",
        "# 최종 분류기 모델 생성\n",
        "lr_final = LogisticRegression(C=10)\n",
        "\n",
        "# 최종 분류기 학습 및 예측\n",
        "lr_final.fit(pred, y_test)\n",
        "final = lr_final.predict(pred)\n",
        "\n",
        "print('최종 메타 모델의 예측 정확도: {0:.4f}'.format(accuracy_score(y_test , final)))"
      ],
      "execution_count": 204,
      "outputs": [
        {
          "output_type": "stream",
          "name": "stdout",
          "text": [
            "(4, 473)\n",
            "(473, 4)\n",
            "최종 메타 모델의 예측 정확도: 0.8055\n"
          ]
        }
      ]
    },
    {
      "cell_type": "markdown",
      "metadata": {
        "id": "3auODH202mtq"
      },
      "source": [
        "# Kfold 기반 Stacking"
      ]
    },
    {
      "cell_type": "code",
      "metadata": {
        "id": "q83uVXjv2mKj"
      },
      "source": [
        "from sklearn.model_selection import KFold, StratifiedKFold\n",
        "from sklearn.metrics import accuracy_score"
      ],
      "execution_count": 205,
      "outputs": []
    },
    {
      "cell_type": "code",
      "metadata": {
        "id": "237lizWq2xhm"
      },
      "source": [
        "# 스태킹 함수\n",
        "def get_stacking_datasets(model, Xtrain, ytrain, Xtest, n_folds=5):\n",
        "  # cv하기 위해 K-fold 설정\n",
        "  kfold = KFold(n_splits=n_folds, shuffle=True, random_state=1234)\n",
        "\n",
        "  # 최종 메타 모델이 사용할 학습 데이터 반환을 위해서 넘파이 배열을 0으로 만들어서 초기화\n",
        "  train_fold_pred = np.zeros((X_train.shape[0], 1)) # 2차원\n",
        "  test_pred = np.zeros((Xtest.shape[0], n_folds))\n",
        "  print('model: ', model.__class__.__name__)\n",
        "\n",
        "  for cnt, (train_index, valid_index) in enumerate(kfold.split(Xtrain)):\n",
        "    # 개별 모델 내부에서 학습하고 1개의 fold로 예측할 데이터셋 추출\n",
        "    print(f\" Fold 횟수 : {cnt+1}\")\n",
        "    x_tr = Xtrain[train_index]\n",
        "    y_tr = ytrain[train_index]\n",
        "    x_te = Xtrain[valid_index]\n",
        "\n",
        "    # 학습\n",
        "    model.fit(x_tr, y_tr)\n",
        "    # 1개의 fold데이터셋으로 예측값 반환 후 최종 메타모델이 학습할 데이터셋에 첨가\n",
        "    train_fold_pred[valid_index, :] = model.predict(x_te).reshape(-1, 1)\n",
        "    # 해당 폴드에서 생성된 모델에게 원본 테스트 데이터(Xtest)를 이용해서 예측을 수행하고 저장\n",
        "    test_pred[:, cnt] = model.predict(Xtest)\n",
        "\n",
        "  # 개별 모델 안에서 테스트 데이터셋을 기반으로 예측한 결과값들 mean취해주고 2차원으로 바꾸기\n",
        "  test_pred_mean = np.mean(test_pred, axis=1).reshape(-1, 1)\n",
        "\n",
        "  return train_fold_pred, test_pred_mean\n"
      ],
      "execution_count": 206,
      "outputs": []
    },
    {
      "cell_type": "code",
      "metadata": {
        "colab": {
          "base_uri": "https://localhost:8080/"
        },
        "id": "7onAGhmNASpb",
        "outputId": "c73fd636-c59b-42bd-cb5d-d0e60bc1eeff"
      },
      "source": [
        "rf_train, rf_test = get_stacking_datasets(rf_clf, X_train, y_train, X_test, 5)\n",
        "ada_train, ada_test = get_stacking_datasets(ada_clf, X_train, y_train, X_test, 5)\n",
        "lgb_train, lgb_test = get_stacking_datasets(lgb_clf, X_train, y_train, X_test, 5)\n",
        "xgb_train, xgb_test = get_stacking_datasets(xgb_clf, X_train, y_train, X_test, 5)"
      ],
      "execution_count": 207,
      "outputs": [
        {
          "output_type": "stream",
          "name": "stdout",
          "text": [
            "model:  RandomForestClassifier\n",
            " Fold 횟수 : 1\n",
            " Fold 횟수 : 2\n",
            " Fold 횟수 : 3\n",
            " Fold 횟수 : 4\n",
            " Fold 횟수 : 5\n",
            "model:  AdaBoostClassifier\n",
            " Fold 횟수 : 1\n",
            " Fold 횟수 : 2\n",
            " Fold 횟수 : 3\n",
            " Fold 횟수 : 4\n",
            " Fold 횟수 : 5\n",
            "model:  LGBMClassifier\n",
            " Fold 횟수 : 1\n",
            " Fold 횟수 : 2\n",
            " Fold 횟수 : 3\n",
            " Fold 횟수 : 4\n",
            " Fold 횟수 : 5\n",
            "model:  XGBClassifier\n",
            " Fold 횟수 : 1\n",
            " Fold 횟수 : 2\n",
            " Fold 횟수 : 3\n",
            " Fold 횟수 : 4\n",
            " Fold 횟수 : 5\n"
          ]
        }
      ]
    },
    {
      "cell_type": "code",
      "metadata": {
        "colab": {
          "base_uri": "https://localhost:8080/"
        },
        "id": "fIYBpMj-BSVU",
        "outputId": "fda44440-85e6-46c6-9357-3a077a9eef77"
      },
      "source": [
        "stack_final_x_train = np.concatenate((rf_train, ada_train, lgb_train, xgb_train), axis=1)\n",
        "stack_final_x_test = np.concatenate((rf_test, ada_test, lgb_test, xgb_test), axis=1)\n",
        "\n",
        "#최종 메타모델로 학습\n",
        "lr_final.fit(stack_final_x_train, y_train)\n",
        "stack_final_pred = lr_final.predict(stack_final_x_test)\n",
        "\n",
        "#최종 메타모델 성능 평가\n",
        "print('최종 메타 모델의 예측 정확도: {0:.4f}'.format(accuracy_score(y_test , stack_final_pred)))"
      ],
      "execution_count": 208,
      "outputs": [
        {
          "output_type": "stream",
          "name": "stdout",
          "text": [
            "최종 메타 모델의 예측 정확도: 0.8076\n"
          ]
        }
      ]
    }
  ]
}