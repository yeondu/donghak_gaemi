{
 "cells": [
  {
   "cell_type": "markdown",
   "metadata": {
    "id": "bFoBnbvxm6O3"
   },
   "source": [
    "# 기본 패키지 설정"
   ]
  },
  {
   "cell_type": "code",
   "execution_count": 25,
   "metadata": {
    "id": "2swAysDEJaGZ"
   },
   "outputs": [],
   "source": [
    "import numpy as np\n",
    "import pandas as pd\n",
    "\n",
    "from sklearn.neighbors import KNeighborsClassifier\n",
    "from sklearn.ensemble import RandomForestClassifier\n",
    "from sklearn.ensemble import AdaBoostClassifier\n",
    "from sklearn.tree import DecisionTreeClassifier\n",
    "from sklearn.linear_model import LogisticRegression\n",
    "from lightgbm import LGBMClassifier\n",
    "from xgboost import XGBClassifier\n",
    "\n",
    "from sklearn.datasets import load_breast_cancer\n",
    "from sklearn.model_selection import train_test_split\n",
    "from sklearn.metrics import accuracy_score"
   ]
  },
  {
   "cell_type": "markdown",
   "metadata": {
    "id": "llDcsFsOnBuF"
   },
   "source": [
    "# 데이터 읽기"
   ]
  },
  {
   "cell_type": "code",
   "execution_count": 26,
   "metadata": {
    "id": "L-d1xkzLm2Pn"
   },
   "outputs": [],
   "source": [
    "df = pd.read_csv(\"baseline_data.csv\", index_col=['Date'], parse_dates=True)"
   ]
  },
  {
   "cell_type": "code",
   "execution_count": 27,
   "metadata": {
    "colab": {
     "base_uri": "https://localhost:8080/"
    },
    "id": "Ti5MPt1cmz1D",
    "outputId": "5fbe5b9d-7346-4044-e7b7-2f83ad1d5e3d"
   },
   "outputs": [
    {
     "name": "stdout",
     "output_type": "stream",
     "text": [
      "<class 'pandas.core.frame.DataFrame'>\n",
      "DatetimeIndex: 4103 entries, 2005-01-04 to 2021-08-13\n",
      "Data columns (total 27 columns):\n",
      " #   Column      Non-Null Count  Dtype  \n",
      "---  ------      --------------  -----  \n",
      " 0   Open        4103 non-null   float64\n",
      " 1   High        4103 non-null   float64\n",
      " 2   Low         4103 non-null   float64\n",
      " 3   Close       4103 non-null   float64\n",
      " 4   Adj Close   4103 non-null   float64\n",
      " 5   Volume      4103 non-null   int64  \n",
      " 6   next_price  4102 non-null   float64\n",
      " 7   next_rtn    4103 non-null   float64\n",
      " 8   log_return  4102 non-null   float64\n",
      " 9   CCI         4090 non-null   float64\n",
      " 10  MA5         4099 non-null   float64\n",
      " 11  MA10        4094 non-null   float64\n",
      " 12  RASD5       4095 non-null   float64\n",
      " 13  RASD10      4090 non-null   float64\n",
      " 14  MACD        4070 non-null   float64\n",
      " 15  ATR         4089 non-null   float64\n",
      " 16  ub          4084 non-null   float64\n",
      " 17  middle      4084 non-null   float64\n",
      " 18  lb          4084 non-null   float64\n",
      " 19  MTM1        4102 non-null   float64\n",
      " 20  MTM3        4100 non-null   float64\n",
      " 21  ROC         4043 non-null   float64\n",
      " 22  WPR         4090 non-null   float64\n",
      " 23  S&P500      3979 non-null   float64\n",
      " 24  SOX         3978 non-null   float64\n",
      " 25  VIX         3978 non-null   float64\n",
      " 26  KOSPI       4083 non-null   float64\n",
      "dtypes: float64(26), int64(1)\n",
      "memory usage: 897.5 KB\n"
     ]
    }
   ],
   "source": [
    "df.info()"
   ]
  },
  {
   "cell_type": "markdown",
   "metadata": {
    "id": "7m0tOApiz8eH"
   },
   "source": [
    "# 결측치 제거"
   ]
  },
  {
   "cell_type": "code",
   "execution_count": 28,
   "metadata": {
    "colab": {
     "base_uri": "https://localhost:8080/"
    },
    "id": "lo-mthd0z8JK",
    "outputId": "2e221d7a-1aa2-4231-c9ce-d395f01e9c2e"
   },
   "outputs": [
    {
     "data": {
      "text/plain": [
       "Open            0\n",
       "High            0\n",
       "Low             0\n",
       "Close           0\n",
       "Adj Close       0\n",
       "Volume          0\n",
       "next_price      1\n",
       "next_rtn        0\n",
       "log_return      1\n",
       "CCI            13\n",
       "MA5             4\n",
       "MA10            9\n",
       "RASD5           8\n",
       "RASD10         13\n",
       "MACD           33\n",
       "ATR            14\n",
       "ub             19\n",
       "middle         19\n",
       "lb             19\n",
       "MTM1            1\n",
       "MTM3            3\n",
       "ROC            60\n",
       "WPR            13\n",
       "S&P500        124\n",
       "SOX           125\n",
       "VIX           125\n",
       "KOSPI          20\n",
       "dtype: int64"
      ]
     },
     "execution_count": 28,
     "metadata": {},
     "output_type": "execute_result"
    }
   ],
   "source": [
    "df.isnull().sum()"
   ]
  },
  {
   "cell_type": "code",
   "execution_count": 29,
   "metadata": {
    "id": "O0tf0PFQ7jFc"
   },
   "outputs": [],
   "source": [
    "df = df.dropna()\n",
    "df = df.loc['2011':'2020']"
   ]
  },
  {
   "cell_type": "code",
   "execution_count": 30,
   "metadata": {
    "colab": {
     "base_uri": "https://localhost:8080/"
    },
    "id": "Mf1sGi5H7s-u",
    "outputId": "274c75bd-3219-4aed-a24a-8ada406c3bf4"
   },
   "outputs": [
    {
     "data": {
      "text/plain": [
       "Open          0\n",
       "High          0\n",
       "Low           0\n",
       "Close         0\n",
       "Adj Close     0\n",
       "Volume        0\n",
       "next_price    0\n",
       "next_rtn      0\n",
       "log_return    0\n",
       "CCI           0\n",
       "MA5           0\n",
       "MA10          0\n",
       "RASD5         0\n",
       "RASD10        0\n",
       "MACD          0\n",
       "ATR           0\n",
       "ub            0\n",
       "middle        0\n",
       "lb            0\n",
       "MTM1          0\n",
       "MTM3          0\n",
       "ROC           0\n",
       "WPR           0\n",
       "S&P500        0\n",
       "SOX           0\n",
       "VIX           0\n",
       "KOSPI         0\n",
       "dtype: int64"
      ]
     },
     "execution_count": 30,
     "metadata": {},
     "output_type": "execute_result"
    }
   ],
   "source": [
    "df.isnull().sum()"
   ]
  },
  {
   "cell_type": "code",
   "execution_count": 31,
   "metadata": {
    "colab": {
     "base_uri": "https://localhost:8080/"
    },
    "id": "POSRAECk_9Ry",
    "outputId": "3063da75-1300-4a80-aaa5-6ce63dedaed7"
   },
   "outputs": [
    {
     "data": {
      "text/plain": [
       "(2361, 27)"
      ]
     },
     "execution_count": 31,
     "metadata": {},
     "output_type": "execute_result"
    }
   ],
   "source": [
    "df.shape"
   ]
  },
  {
   "cell_type": "markdown",
   "metadata": {
    "id": "fNjIuAAX0ZSX"
   },
   "source": [
    "# 라벨링"
   ]
  },
  {
   "cell_type": "code",
   "execution_count": 32,
   "metadata": {
    "id": "aGv46bXi0Opn"
   },
   "outputs": [],
   "source": [
    "df['next_price'] = df['Close'].shift(-30)\n",
    "diffs = df['next_price']-df['Close']\n",
    "df['label'] = np.where(diffs>0,1,0)"
   ]
  },
  {
   "cell_type": "code",
   "execution_count": 33,
   "metadata": {
    "colab": {
     "base_uri": "https://localhost:8080/",
     "height": 280
    },
    "id": "7oc3XQlo0dSO",
    "outputId": "e2e65b2a-1580-486a-8bea-54098860b699"
   },
   "outputs": [
    {
     "data": {
      "text/plain": [
       "<matplotlib.axes._subplots.AxesSubplot at 0x7f1c61d1b250>"
      ]
     },
     "execution_count": 33,
     "metadata": {},
     "output_type": "execute_result"
    },
    {
     "data": {
      "image/png": "[encoded data removed]",
      "text/plain": [
       "<Figure size 432x288 with 1 Axes>"
      ]
     },
     "metadata": {
      "needs_background": "light"
     },
     "output_type": "display_data"
    }
   ],
   "source": [
    "df['label'].value_counts().plot.bar()"
   ]
  },
  {
   "cell_type": "code",
   "execution_count": 34,
   "metadata": {
    "id": "uPGVx3q201Fd"
   },
   "outputs": [],
   "source": [
    "X = df.drop(['next_price', 'label'], axis=1)\n",
    "y = df['label']"
   ]
  },
  {
   "cell_type": "code",
   "execution_count": 35,
   "metadata": {
    "colab": {
     "base_uri": "https://localhost:8080/"
    },
    "id": "ltmgCyypYKe1",
    "outputId": "92d07843-1a19-4a03-f23f-177637652036"
   },
   "outputs": [
    {
     "name": "stdout",
     "output_type": "stream",
     "text": [
      "<class 'pandas.core.frame.DataFrame'>\n",
      "DatetimeIndex: 2361 entries, 2011-01-03 to 2020-12-30\n",
      "Data columns (total 26 columns):\n",
      " #   Column      Non-Null Count  Dtype  \n",
      "---  ------      --------------  -----  \n",
      " 0   Open        2361 non-null   float64\n",
      " 1   High        2361 non-null   float64\n",
      " 2   Low         2361 non-null   float64\n",
      " 3   Close       2361 non-null   float64\n",
      " 4   Adj Close   2361 non-null   float64\n",
      " 5   Volume      2361 non-null   int64  \n",
      " 6   next_rtn    2361 non-null   float64\n",
      " 7   log_return  2361 non-null   float64\n",
      " 8   CCI         2361 non-null   float64\n",
      " 9   MA5         2361 non-null   float64\n",
      " 10  MA10        2361 non-null   float64\n",
      " 11  RASD5       2361 non-null   float64\n",
      " 12  RASD10      2361 non-null   float64\n",
      " 13  MACD        2361 non-null   float64\n",
      " 14  ATR         2361 non-null   float64\n",
      " 15  ub          2361 non-null   float64\n",
      " 16  middle      2361 non-null   float64\n",
      " 17  lb          2361 non-null   float64\n",
      " 18  MTM1        2361 non-null   float64\n",
      " 19  MTM3        2361 non-null   float64\n",
      " 20  ROC         2361 non-null   float64\n",
      " 21  WPR         2361 non-null   float64\n",
      " 22  S&P500      2361 non-null   float64\n",
      " 23  SOX         2361 non-null   float64\n",
      " 24  VIX         2361 non-null   float64\n",
      " 25  KOSPI       2361 non-null   float64\n",
      "dtypes: float64(25), int64(1)\n",
      "memory usage: 498.0 KB\n"
     ]
    }
   ],
   "source": [
    "X.info()"
   ]
  },
  {
   "cell_type": "markdown",
   "metadata": {
    "id": "PZiVnweW0ch_"
   },
   "source": [
    "# 전처리"
   ]
  },
  {
   "cell_type": "code",
   "execution_count": 36,
   "metadata": {
    "id": "tKHXdSulmmLG"
   },
   "outputs": [],
   "source": [
    "from sklearn.preprocessing import LabelEncoder,MinMaxScaler\n",
    "\n",
    "scaler = MinMaxScaler()\n",
    "le = LabelEncoder()\n",
    "\n",
    "scaler.fit(X)\n",
    "X_scaled = scaler.transform(X)\n",
    "y = le.fit_transform(y)"
   ]
  },
  {
   "cell_type": "code",
   "execution_count": 37,
   "metadata": {
    "colab": {
     "base_uri": "https://localhost:8080/"
    },
    "id": "b1MizpEo1a93",
    "outputId": "a780176f-cca3-4ef0-99af-7de08cca3997"
   },
   "outputs": [
    {
     "data": {
      "text/plain": [
       "55.10376958915714"
      ]
     },
     "execution_count": 37,
     "metadata": {},
     "output_type": "execute_result"
    }
   ],
   "source": [
    "sum(y)/len(df)*100"
   ]
  },
  {
   "cell_type": "code",
   "execution_count": 38,
   "metadata": {
    "colab": {
     "base_uri": "https://localhost:8080/"
    },
    "id": "B4F6lTKYmcz_",
    "outputId": "b28d3d73-1b45-47b2-dda1-2f105d1cca41"
   },
   "outputs": [
    {
     "name": "stdout",
     "output_type": "stream",
     "text": [
      "랜덤 포레스트 정확도: 0.9218\n",
      "에이다부스트 정확도: 0.8393\n",
      "LGB 정확도: 0.9133\n",
      "XGB 정확도: 0.8626\n"
     ]
    }
   ],
   "source": [
    "X_train, X_test, y_train, y_test = train_test_split(X_scaled, y, test_size=0.2, random_state=1234, shuffle=True, stratify=y)\n",
    "\n",
    "# 개별 ML 모델을 위한 Classifier 생성.\n",
    "rf_clf = RandomForestClassifier(criterion='entropy',n_estimators=700,random_state=1234) #랜덤포레스트\n",
    "tree = DecisionTreeClassifier(max_depth=4,criterion='entropy',random_state=1234)\n",
    "ada_clf = AdaBoostClassifier(base_estimator=tree, \n",
    "                                n_estimators=100,\n",
    "                                learning_rate = 0.01, \n",
    "                                random_state=1234) #아다부스트\n",
    "lgb_clf = LGBMClassifier(random_state=1234)\n",
    "xgb_clf = XGBClassifier(tree_method='hist',random_state=1234)\n",
    "\n",
    "# 개별 모델들을 학습. \n",
    "rf_clf.fit(X_train , y_train)  \n",
    "ada_clf.fit(X_train, y_train)\n",
    "lgb_clf.fit(X_train, y_train)\n",
    "xgb_clf.fit(X_train , y_train)\n",
    "\n",
    "# 학습된 개별 모델들이 각자 반환하는 예측 데이터 셋을 생성하고 개별 모델의 정확도 측정. \n",
    "rf_pred = rf_clf.predict(X_test)\n",
    "ada_pred = ada_clf.predict(X_test)\n",
    "lgb_pred = lgb_clf.predict(X_test)\n",
    "xgb_pred = xgb_clf.predict(X_test)\n",
    "\n",
    "print('랜덤 포레스트 정확도: {0:.4f}'.format(accuracy_score(y_test, rf_pred)))\n",
    "print('에이다부스트 정확도: {0:.4f}'.format(accuracy_score(y_test, ada_pred)))\n",
    "print('LGB 정확도: {0:.4f}'.format(accuracy_score(y_test, lgb_pred)))\n",
    "print('XGB 정확도: {0:.4f}'.format(accuracy_score(y_test, xgb_pred)))"
   ]
  },
  {
   "cell_type": "markdown",
   "metadata": {
    "id": "ycDH_Whd2h90"
   },
   "source": [
    "# Stacking"
   ]
  },
  {
   "cell_type": "code",
   "execution_count": 39,
   "metadata": {
    "colab": {
     "base_uri": "https://localhost:8080/"
    },
    "id": "W4SUD4uycrMA",
    "outputId": "093a6d7b-24b1-45d1-b9c2-c62367849a4b"
   },
   "outputs": [
    {
     "name": "stdout",
     "output_type": "stream",
     "text": [
      "(4, 473)\n",
      "(473, 4)\n",
      "최종 메타 모델의 예측 정확도: 0.9260\n"
     ]
    }
   ],
   "source": [
    "# 시험데이터로 예측한 4가지 모델의 결과를 합침\n",
    "pred = np.array([rf_pred, ada_pred, lgb_pred, xgb_pred])\n",
    "print(pred.shape)\n",
    "\n",
    "# transpose를 이용해 행과 열의 위치 교환. 컬럼 레벨로 각 알고리즘의 예측 결과를 피처로 만듦. \n",
    "pred = np.transpose(pred)\n",
    "print(pred.shape)\n",
    "\n",
    "# 최종 분류기 모델 생성\n",
    "lr_final = LogisticRegression(C=10)\n",
    "\n",
    "# 최종 분류기 학습 및 예측\n",
    "lr_final.fit(pred, y_test)\n",
    "final = lr_final.predict(pred)\n",
    "\n",
    "print('최종 메타 모델의 예측 정확도: {0:.4f}'.format(accuracy_score(y_test , final)))"
   ]
  },
  {
   "cell_type": "markdown",
   "metadata": {
    "id": "3auODH202mtq"
   },
   "source": [
    "# Kfold 기반 Stacking"
   ]
  },
  {
   "cell_type": "code",
   "execution_count": 40,
   "metadata": {
    "id": "q83uVXjv2mKj"
   },
   "outputs": [],
   "source": [
    "from sklearn.model_selection import KFold, StratifiedKFold\n",
    "from sklearn.metrics import accuracy_score"
   ]
  },
  {
   "cell_type": "code",
   "execution_count": 41,
   "metadata": {
    "id": "237lizWq2xhm"
   },
   "outputs": [],
   "source": [
    "# 스태킹 함수\n",
    "def get_stacking_datasets(model, Xtrain, ytrain, Xtest, n_folds=5):\n",
    "  # cv하기 위해 K-fold 설정\n",
    "  kfold = KFold(n_splits=n_folds, shuffle=True, random_state=1234)\n",
    "\n",
    "  # 최종 메타 모델이 사용할 학습 데이터 반환을 위해서 넘파이 배열을 0으로 만들어서 초기화\n",
    "  train_fold_pred = np.zeros((X_train.shape[0], 1)) # 2차원\n",
    "  test_pred = np.zeros((Xtest.shape[0], n_folds))\n",
    "  print('model: ', model.__class__.__name__)\n",
    "\n",
    "  for cnt, (train_index, valid_index) in enumerate(kfold.split(Xtrain)):\n",
    "    # 개별 모델 내부에서 학습하고 1개의 fold로 예측할 데이터셋 추출\n",
    "    print(f\" Fold 횟수 : {cnt+1}\")\n",
    "    X_tr = Xtrain[train_index]\n",
    "    y_tr = ytrain[train_index]\n",
    "    X_validation = Xtrain[valid_index]\n",
    "\n",
    "    # 학습\n",
    "    model.fit(X_tr, y_tr)\n",
    "    # 1개의 fold데이터셋으로 예측값 반환 후 최종 메타모델이 학습할 데이터셋에 첨가\n",
    "    train_fold_pred[valid_index, :] = model.predict(X_validation).reshape(-1, 1)\n",
    "    # 해당 폴드에서 생성된 모델에게 원본 테스트 데이터(Xtest)를 이용해서 예측을 수행하고 저장\n",
    "    test_pred[:, cnt] = model.predict(Xtest)\n",
    "\n",
    "  # 개별 모델 안에서 테스트 데이터셋을 기반으로 예측한 결과값들 mean 취해주고 2차원으로 바꾸기\n",
    "  test_pred_mean = np.mean(test_pred, axis=1).reshape(-1, 1)\n",
    "\n",
    "  return train_fold_pred, test_pred_mean\n"
   ]
  },
  {
   "cell_type": "code",
   "execution_count": 42,
   "metadata": {
    "id": "0Nnjt35nia55"
   },
   "outputs": [],
   "source": [
    "# 개별 ML 모델을 위한 Classifier 생성.\n",
    "rf_clf = RandomForestClassifier(criterion='entropy',n_estimators=700,random_state=1234) #랜덤포레스트\n",
    "tree = DecisionTreeClassifier(max_depth=4,criterion='entropy',random_state=1234)\n",
    "ada_clf = AdaBoostClassifier(base_estimator=tree, \n",
    "                                n_estimators=100,\n",
    "                                learning_rate = 0.01, \n",
    "                                random_state=1234) #아다부스트\n",
    "lgb_clf = LGBMClassifier(random_state=1234)\n",
    "xgb_clf = XGBClassifier(tree_method='hist',random_state=1234)"
   ]
  },
  {
   "cell_type": "code",
   "execution_count": 43,
   "metadata": {
    "colab": {
     "base_uri": "https://localhost:8080/"
    },
    "id": "7onAGhmNASpb",
    "outputId": "7be5957f-7f87-4303-c60f-0f77eb57c107"
   },
   "outputs": [
    {
     "name": "stdout",
     "output_type": "stream",
     "text": [
      "model:  RandomForestClassifier\n",
      " Fold 횟수 : 1\n",
      " Fold 횟수 : 2\n",
      " Fold 횟수 : 3\n",
      " Fold 횟수 : 4\n",
      " Fold 횟수 : 5\n",
      "model:  AdaBoostClassifier\n",
      " Fold 횟수 : 1\n",
      " Fold 횟수 : 2\n",
      " Fold 횟수 : 3\n",
      " Fold 횟수 : 4\n",
      " Fold 횟수 : 5\n",
      "model:  LGBMClassifier\n",
      " Fold 횟수 : 1\n",
      " Fold 횟수 : 2\n",
      " Fold 횟수 : 3\n",
      " Fold 횟수 : 4\n",
      " Fold 횟수 : 5\n",
      "model:  XGBClassifier\n",
      " Fold 횟수 : 1\n",
      " Fold 횟수 : 2\n",
      " Fold 횟수 : 3\n",
      " Fold 횟수 : 4\n",
      " Fold 횟수 : 5\n"
     ]
    }
   ],
   "source": [
    "rf_train, rf_test = get_stacking_datasets(rf_clf, X_train, y_train, X_test)\n",
    "ada_train, ada_test = get_stacking_datasets(ada_clf, X_train, y_train, X_test)\n",
    "lgb_train, lgb_test = get_stacking_datasets(lgb_clf, X_train, y_train, X_test)\n",
    "xgb_train, xgb_test = get_stacking_datasets(xgb_clf, X_train, y_train, X_test)"
   ]
  },
  {
   "cell_type": "code",
   "execution_count": 44,
   "metadata": {
    "colab": {
     "base_uri": "https://localhost:8080/"
    },
    "id": "fIYBpMj-BSVU",
    "outputId": "7ef92239-aa1d-4ab2-84d0-81dc46ae83de"
   },
   "outputs": [
    {
     "name": "stdout",
     "output_type": "stream",
     "text": [
      "최종 메타 모델의 예측 정확도: 0.9260\n"
     ]
    }
   ],
   "source": [
    "stack_final_x_train = np.concatenate((rf_train, ada_train, lgb_train, xgb_train), axis=1)\n",
    "stack_final_x_test = np.concatenate((rf_test, ada_test, lgb_test, xgb_test), axis=1)\n",
    "\n",
    "# 최종 분류기 모델 생성\n",
    "lr_final = LogisticRegression(C=10)\n",
    "\n",
    "#최종 메타모델로 학습\n",
    "lr_final.fit(stack_final_x_train, y_train)\n",
    "stack_final_pred = lr_final.predict(stack_final_x_test)\n",
    "\n",
    "#최종 메타모델 성능 평가\n",
    "print('최종 메타 모델의 예측 정확도: {0:.4f}'.format(accuracy_score(stack_final_pred, y_test)))"
   ]
  },
  {
   "cell_type": "markdown",
   "metadata": {
    "id": "LD-tEZfmL54M"
   },
   "source": [
    "# StratifiedKFold"
   ]
  },
  {
   "cell_type": "code",
   "execution_count": 45,
   "metadata": {
    "id": "toUNzY_bO92y"
   },
   "outputs": [],
   "source": [
    "#스태킹 함수\n",
    "def get_stacking_datasets2(model, X_train, y_train, X_test, n_folds=5):\n",
    "  skf = StratifiedKFold(n_splits=n_folds)\n",
    "\n",
    "  # 최종 메타 모델이 사용할 학습 데이터 반환을 위해서 넘파이 배열을 0으로 만들어서 초기화\n",
    "  train_fold_pred2 = np.zeros((X_train.shape[0], 1))\n",
    "\n",
    "  test_pred2 = np.zeros((X_test.shape[0], n_folds))\n",
    "  print('model: ', model.__class__.__name__)\n",
    "\n",
    "  for cnt, (train_index, valid_index) in enumerate(skf.split(X_train, y_train)):\n",
    "    # 개별 모델 내부에서 학습하고 1개의 fold로 예측할 데이터셋 추출\n",
    "    print(f\" Fold 횟수 : {cnt+1}\")\n",
    "    X_tr2 = X_train[train_index]\n",
    "    y_tr2 = y_train[train_index] \n",
    "    X_validation = X_train[valid_index]\n",
    "\n",
    "    # 학습\n",
    "    model.fit(X_tr2, y_tr2)\n",
    "    # 1개의 fold데이터셋으로 예측값 반환 후 최종 메타모델이 학습할 데이터셋에 첨가\n",
    "    train_fold_pred2[valid_index,:] = model.predict(X_validation).reshape(-1, 1)\n",
    "     # 해당 폴드에서 생성된 모델에게 원본 테스트 데이터(X_test)를 이용해서 예측을 수행하고 저장\n",
    "    test_pred2[:, cnt] = model.predict(X_test)\n",
    "\n",
    "  test_pred_mean2 = np.mean(test_pred2, axis=1).reshape(-1, 1)\n",
    "  return train_fold_pred2, test_pred_mean2"
   ]
  },
  {
   "cell_type": "code",
   "execution_count": 46,
   "metadata": {
    "id": "ozCleIxXin9L"
   },
   "outputs": [],
   "source": [
    "# 개별 ML 모델을 위한 Classifier 생성.\n",
    "rf_clf = RandomForestClassifier(criterion='entropy',n_estimators=700,random_state=1234) #랜덤포레스트\n",
    "tree = DecisionTreeClassifier(max_depth=4,criterion='entropy',random_state=1234)\n",
    "ada_clf = AdaBoostClassifier(base_estimator=tree, \n",
    "                                n_estimators=100,\n",
    "                                learning_rate = 0.01, \n",
    "                                random_state=1234) #아다부스트\n",
    "lgb_clf = LGBMClassifier(random_state=1234)\n",
    "xgb_clf = XGBClassifier(tree_method='hist',random_state=1234)"
   ]
  },
  {
   "cell_type": "code",
   "execution_count": 47,
   "metadata": {
    "colab": {
     "base_uri": "https://localhost:8080/"
    },
    "id": "wKRXPnj9L8q7",
    "outputId": "61f5c41f-ecd8-400b-ade3-ae9cd4d28a24"
   },
   "outputs": [
    {
     "name": "stdout",
     "output_type": "stream",
     "text": [
      "model:  RandomForestClassifier\n",
      " Fold 횟수 : 1\n",
      " Fold 횟수 : 2\n",
      " Fold 횟수 : 3\n",
      " Fold 횟수 : 4\n",
      " Fold 횟수 : 5\n",
      "model:  AdaBoostClassifier\n",
      " Fold 횟수 : 1\n",
      " Fold 횟수 : 2\n",
      " Fold 횟수 : 3\n",
      " Fold 횟수 : 4\n",
      " Fold 횟수 : 5\n",
      "model:  LGBMClassifier\n",
      " Fold 횟수 : 1\n",
      " Fold 횟수 : 2\n",
      " Fold 횟수 : 3\n",
      " Fold 횟수 : 4\n",
      " Fold 횟수 : 5\n",
      "model:  XGBClassifier\n",
      " Fold 횟수 : 1\n",
      " Fold 횟수 : 2\n",
      " Fold 횟수 : 3\n",
      " Fold 횟수 : 4\n",
      " Fold 횟수 : 5\n"
     ]
    }
   ],
   "source": [
    "rf_train, rf_test = get_stacking_datasets2(rf_clf, X_train, y_train, X_test)\n",
    "ada_train, ada_test = get_stacking_datasets2(ada_clf, X_train, y_train, X_test)\n",
    "lgb_train, lgb_test = get_stacking_datasets2(lgb_clf, X_train, y_train, X_test)\n",
    "xgb_train, xgb_test = get_stacking_datasets2(xgb_clf, X_train, y_train, X_test)"
   ]
  },
  {
   "cell_type": "code",
   "execution_count": 48,
   "metadata": {
    "colab": {
     "base_uri": "https://localhost:8080/"
    },
    "id": "szYX4dtngZhL",
    "outputId": "b83f8498-0f02-4496-b92e-3b15383d9d91"
   },
   "outputs": [
    {
     "name": "stdout",
     "output_type": "stream",
     "text": [
      "최종 메타 모델의 예측 정확도: 0.9197\n"
     ]
    }
   ],
   "source": [
    "stack_final_x_train2 = np.concatenate((rf_train, ada_train, lgb_train, xgb_train), axis=1)\n",
    "stack_final_x_test2 = np.concatenate((rf_test, ada_test, lgb_test, xgb_test), axis=1)\n",
    "\n",
    "#최종 분류기 모델 생성\n",
    "lr_final = LogisticRegression(C=10)\n",
    "\n",
    "#최종 메타모델로 학습\n",
    "lr_final.fit(stack_final_x_train2, y_train)\n",
    "stack_final_pred2 = lr_final.predict(stack_final_x_test2)\n",
    "\n",
    "#최종 메타모델 성능 평가\n",
    "print('최종 메타 모델의 예측 정확도: {0:.4f}'.format(accuracy_score(stack_final_pred2, y_test)))"
   ]
  }
 ],
 "metadata": {
  "colab": {
   "collapsed_sections": [],
   "name": "stacking(naver, 30일 후).ipynb",
   "provenance": []
  },
  "hide_input": false,
  "kernelspec": {
   "display_name": "Python 3",
   "language": "python",
   "name": "python3"
  },
  "language_info": {
   "codemirror_mode": {
    "name": "ipython",
    "version": 3
   },
   "file_extension": ".py",
   "mimetype": "text/x-python",
   "name": "python",
   "nbconvert_exporter": "python",
   "pygments_lexer": "ipython3",
   "version": "3.7.10"
  },
  "toc": {
   "base_numbering": 1,
   "nav_menu": {},
   "number_sections": true,
   "sideBar": true,
   "skip_h1_title": false,
   "title_cell": "Table of Contents",
   "title_sidebar": "Contents",
   "toc_cell": false,
   "toc_position": {},
   "toc_section_display": true,
   "toc_window_display": false
  },
  "varInspector": {
   "cols": {
    "lenName": 16,
    "lenType": 16,
    "lenVar": 40
   },
   "kernels_config": {
    "python": {
     "delete_cmd_postfix": "",
     "delete_cmd_prefix": "del ",
     "library": "var_list.py",
     "varRefreshCmd": "print(var_dic_list())"
    },
    "r": {
     "delete_cmd_postfix": ") ",
     "delete_cmd_prefix": "rm(",
     "library": "var_list.r",
     "varRefreshCmd": "cat(var_dic_list()) "
    }
   },
   "types_to_exclude": [
    "module",
    "function",
    "builtin_function_or_method",
    "instance",
    "_Feature"
   ],
   "window_display": false
  }
 },
 "nbformat": 4,
 "nbformat_minor": 1
}
