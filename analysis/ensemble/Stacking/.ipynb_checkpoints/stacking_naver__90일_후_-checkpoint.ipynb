{
 "cells": [
  {
   "cell_type": "markdown",
   "metadata": {
    "id": "bFoBnbvxm6O3"
   },
   "source": [
    "# 기본 패키지 설정"
   ]
  },
  {
   "cell_type": "code",
   "execution_count": 3,
   "metadata": {
    "id": "2swAysDEJaGZ"
   },
   "outputs": [],
   "source": [
    "import numpy as np\n",
    "import pandas as pd\n",
    "\n",
    "from sklearn.neighbors import KNeighborsClassifier\n",
    "from sklearn.ensemble import RandomForestClassifier\n",
    "from sklearn.ensemble import AdaBoostClassifier\n",
    "from sklearn.tree import DecisionTreeClassifier\n",
    "from sklearn.linear_model import LogisticRegression\n",
    "from lightgbm import LGBMClassifier\n",
    "from xgboost import XGBClassifier\n",
    "\n",
    "from sklearn.datasets import load_breast_cancer\n",
    "from sklearn.model_selection import train_test_split\n",
    "from sklearn.metrics import accuracy_score"
   ]
  },
  {
   "cell_type": "markdown",
   "metadata": {
    "id": "llDcsFsOnBuF"
   },
   "source": [
    "# 데이터 읽기"
   ]
  },
  {
   "cell_type": "code",
   "execution_count": 4,
   "metadata": {
    "id": "L-d1xkzLm2Pn"
   },
   "outputs": [],
   "source": [
    "df = pd.read_csv(\"baseline_data.csv\", index_col=['Date'], parse_dates=True)"
   ]
  },
  {
   "cell_type": "code",
   "execution_count": 5,
   "metadata": {
    "colab": {
     "base_uri": "https://localhost:8080/"
    },
    "id": "Ti5MPt1cmz1D",
    "outputId": "41c06361-eec3-4f33-ac24-500ea61a0ca0"
   },
   "outputs": [
    {
     "name": "stdout",
     "output_type": "stream",
     "text": [
      "<class 'pandas.core.frame.DataFrame'>\n",
      "DatetimeIndex: 2345 entries, 2005-01-04 to 2014-06-12\n",
      "Data columns (total 27 columns):\n",
      " #   Column      Non-Null Count  Dtype  \n",
      "---  ------      --------------  -----  \n",
      " 0   Open        2345 non-null   float64\n",
      " 1   High        2345 non-null   float64\n",
      " 2   Low         2345 non-null   float64\n",
      " 3   Close       2345 non-null   float64\n",
      " 4   Adj Close   2345 non-null   float64\n",
      " 5   Volume      2345 non-null   int64  \n",
      " 6   next_price  2345 non-null   float64\n",
      " 7   next_rtn    2345 non-null   float64\n",
      " 8   log_return  2344 non-null   float64\n",
      " 9   CCI         2332 non-null   float64\n",
      " 10  MA5         2341 non-null   float64\n",
      " 11  MA10        2336 non-null   float64\n",
      " 12  RASD5       2337 non-null   float64\n",
      " 13  RASD10      2331 non-null   float64\n",
      " 14  MACD        2311 non-null   float64\n",
      " 15  ATR         2330 non-null   float64\n",
      " 16  ub          2325 non-null   float64\n",
      " 17  middle      2325 non-null   float64\n",
      " 18  lb          2325 non-null   float64\n",
      " 19  MTM1        2343 non-null   float64\n",
      " 20  MTM3        2341 non-null   float64\n",
      " 21  ROC         2284 non-null   float64\n",
      " 22  WPR         2331 non-null   float64\n",
      " 23  S&P500      2271 non-null   float64\n",
      " 24  SOX         2271 non-null   float64\n",
      " 25  VIX         2271 non-null   float64\n",
      " 26  KOSPI       2325 non-null   float64\n",
      "dtypes: float64(26), int64(1)\n",
      "memory usage: 513.0 KB\n"
     ]
    }
   ],
   "source": [
    "df.info()"
   ]
  },
  {
   "cell_type": "markdown",
   "metadata": {
    "id": "7m0tOApiz8eH"
   },
   "source": [
    "# 결측치 제거"
   ]
  },
  {
   "cell_type": "code",
   "execution_count": 6,
   "metadata": {
    "colab": {
     "base_uri": "https://localhost:8080/"
    },
    "id": "lo-mthd0z8JK",
    "outputId": "b8971d15-d154-416f-9a4d-731bbe803916"
   },
   "outputs": [
    {
     "data": {
      "text/plain": [
       "Open           0\n",
       "High           0\n",
       "Low            0\n",
       "Close          0\n",
       "Adj Close      0\n",
       "Volume         0\n",
       "next_price     0\n",
       "next_rtn       0\n",
       "log_return     1\n",
       "CCI           13\n",
       "MA5            4\n",
       "MA10           9\n",
       "RASD5          8\n",
       "RASD10        14\n",
       "MACD          34\n",
       "ATR           15\n",
       "ub            20\n",
       "middle        20\n",
       "lb            20\n",
       "MTM1           2\n",
       "MTM3           4\n",
       "ROC           61\n",
       "WPR           14\n",
       "S&P500        74\n",
       "SOX           74\n",
       "VIX           74\n",
       "KOSPI         20\n",
       "dtype: int64"
      ]
     },
     "execution_count": 6,
     "metadata": {},
     "output_type": "execute_result"
    }
   ],
   "source": [
    "df.isnull().sum()"
   ]
  },
  {
   "cell_type": "code",
   "execution_count": 7,
   "metadata": {
    "id": "O0tf0PFQ7jFc"
   },
   "outputs": [],
   "source": [
    "df = df.dropna()\n",
    "df = df.loc['2011':'2020']"
   ]
  },
  {
   "cell_type": "code",
   "execution_count": 8,
   "metadata": {
    "colab": {
     "base_uri": "https://localhost:8080/"
    },
    "id": "Mf1sGi5H7s-u",
    "outputId": "33068847-f494-42a4-8e4a-e05180d0bf50"
   },
   "outputs": [
    {
     "data": {
      "text/plain": [
       "Open          0\n",
       "High          0\n",
       "Low           0\n",
       "Close         0\n",
       "Adj Close     0\n",
       "Volume        0\n",
       "next_price    0\n",
       "next_rtn      0\n",
       "log_return    0\n",
       "CCI           0\n",
       "MA5           0\n",
       "MA10          0\n",
       "RASD5         0\n",
       "RASD10        0\n",
       "MACD          0\n",
       "ATR           0\n",
       "ub            0\n",
       "middle        0\n",
       "lb            0\n",
       "MTM1          0\n",
       "MTM3          0\n",
       "ROC           0\n",
       "WPR           0\n",
       "S&P500        0\n",
       "SOX           0\n",
       "VIX           0\n",
       "KOSPI         0\n",
       "dtype: int64"
      ]
     },
     "execution_count": 8,
     "metadata": {},
     "output_type": "execute_result"
    }
   ],
   "source": [
    "df.isnull().sum()"
   ]
  },
  {
   "cell_type": "code",
   "execution_count": 9,
   "metadata": {
    "colab": {
     "base_uri": "https://localhost:8080/"
    },
    "id": "POSRAECk_9Ry",
    "outputId": "de0c60d8-e3dd-4abd-a9ab-52bd5989b205"
   },
   "outputs": [
    {
     "data": {
      "text/plain": [
       "(805, 27)"
      ]
     },
     "execution_count": 9,
     "metadata": {},
     "output_type": "execute_result"
    }
   ],
   "source": [
    "df.shape"
   ]
  },
  {
   "cell_type": "markdown",
   "metadata": {
    "id": "fNjIuAAX0ZSX"
   },
   "source": [
    "# 라벨링"
   ]
  },
  {
   "cell_type": "code",
   "execution_count": 10,
   "metadata": {
    "id": "aGv46bXi0Opn"
   },
   "outputs": [],
   "source": [
    "df['next_price'] = df['Close'].shift(-90)\n",
    "diffs = df['next_price']-df['Close']\n",
    "df['label'] = np.where(diffs>0,1,0)"
   ]
  },
  {
   "cell_type": "code",
   "execution_count": 11,
   "metadata": {
    "colab": {
     "base_uri": "https://localhost:8080/",
     "height": 280
    },
    "id": "7oc3XQlo0dSO",
    "outputId": "4c53fc7c-4481-43f0-b16c-1cb985a2384c"
   },
   "outputs": [
    {
     "data": {
      "text/plain": [
       "<matplotlib.axes._subplots.AxesSubplot at 0x7f001dacc710>"
      ]
     },
     "execution_count": 11,
     "metadata": {},
     "output_type": "execute_result"
    },
    {
     "data": {
      "image/png": "[encoded data removed]",
      "text/plain": [
       "<Figure size 432x288 with 1 Axes>"
      ]
     },
     "metadata": {
      "needs_background": "light"
     },
     "output_type": "display_data"
    }
   ],
   "source": [
    "df['label'].value_counts().plot.bar()"
   ]
  },
  {
   "cell_type": "code",
   "execution_count": 12,
   "metadata": {
    "id": "uPGVx3q201Fd"
   },
   "outputs": [],
   "source": [
    "X = df.drop(['next_price', 'label'], axis=1)\n",
    "y = df['label']"
   ]
  },
  {
   "cell_type": "code",
   "execution_count": 13,
   "metadata": {
    "colab": {
     "base_uri": "https://localhost:8080/"
    },
    "id": "ltmgCyypYKe1",
    "outputId": "834d5f29-d9c4-45f9-b8f6-8c5380b93195"
   },
   "outputs": [
    {
     "name": "stdout",
     "output_type": "stream",
     "text": [
      "<class 'pandas.core.frame.DataFrame'>\n",
      "DatetimeIndex: 805 entries, 2011-01-03 to 2014-06-11\n",
      "Data columns (total 26 columns):\n",
      " #   Column      Non-Null Count  Dtype  \n",
      "---  ------      --------------  -----  \n",
      " 0   Open        805 non-null    float64\n",
      " 1   High        805 non-null    float64\n",
      " 2   Low         805 non-null    float64\n",
      " 3   Close       805 non-null    float64\n",
      " 4   Adj Close   805 non-null    float64\n",
      " 5   Volume      805 non-null    int64  \n",
      " 6   next_rtn    805 non-null    float64\n",
      " 7   log_return  805 non-null    float64\n",
      " 8   CCI         805 non-null    float64\n",
      " 9   MA5         805 non-null    float64\n",
      " 10  MA10        805 non-null    float64\n",
      " 11  RASD5       805 non-null    float64\n",
      " 12  RASD10      805 non-null    float64\n",
      " 13  MACD        805 non-null    float64\n",
      " 14  ATR         805 non-null    float64\n",
      " 15  ub          805 non-null    float64\n",
      " 16  middle      805 non-null    float64\n",
      " 17  lb          805 non-null    float64\n",
      " 18  MTM1        805 non-null    float64\n",
      " 19  MTM3        805 non-null    float64\n",
      " 20  ROC         805 non-null    float64\n",
      " 21  WPR         805 non-null    float64\n",
      " 22  S&P500      805 non-null    float64\n",
      " 23  SOX         805 non-null    float64\n",
      " 24  VIX         805 non-null    float64\n",
      " 25  KOSPI       805 non-null    float64\n",
      "dtypes: float64(25), int64(1)\n",
      "memory usage: 169.8 KB\n"
     ]
    }
   ],
   "source": [
    "X.info()"
   ]
  },
  {
   "cell_type": "markdown",
   "metadata": {
    "id": "PZiVnweW0ch_"
   },
   "source": [
    "# 전처리"
   ]
  },
  {
   "cell_type": "code",
   "execution_count": 14,
   "metadata": {
    "id": "tKHXdSulmmLG"
   },
   "outputs": [],
   "source": [
    "from sklearn.preprocessing import LabelEncoder,MinMaxScaler\n",
    "\n",
    "scaler = MinMaxScaler()\n",
    "le = LabelEncoder()\n",
    "\n",
    "scaler.fit(X)\n",
    "X_scaled = scaler.transform(X)\n",
    "y = le.fit_transform(y)"
   ]
  },
  {
   "cell_type": "code",
   "execution_count": 15,
   "metadata": {
    "colab": {
     "base_uri": "https://localhost:8080/"
    },
    "id": "b1MizpEo1a93",
    "outputId": "a6ff3141-e759-450a-9c3a-581fa2a81f54"
   },
   "outputs": [
    {
     "data": {
      "text/plain": [
       "69.8136645962733"
      ]
     },
     "execution_count": 15,
     "metadata": {},
     "output_type": "execute_result"
    }
   ],
   "source": [
    "sum(y)/len(df)*100"
   ]
  },
  {
   "cell_type": "code",
   "execution_count": 16,
   "metadata": {
    "colab": {
     "base_uri": "https://localhost:8080/"
    },
    "id": "B4F6lTKYmcz_",
    "outputId": "e4feb8f8-3f31-48c0-cbb7-d8782e598d07"
   },
   "outputs": [
    {
     "name": "stdout",
     "output_type": "stream",
     "text": [
      "랜덤 포레스트 정확도: 0.9752\n",
      "에이다부스트 정확도: 0.9503\n",
      "LGB 정확도: 0.9255\n",
      "XGB 정확도: 0.9255\n"
     ]
    }
   ],
   "source": [
    "X_train, X_test, y_train, y_test = train_test_split(X_scaled, y, test_size=0.2, random_state=1234, shuffle=True, stratify=y)\n",
    "\n",
    "# 개별 ML 모델을 위한 Classifier 생성.\n",
    "rf_clf = RandomForestClassifier(criterion='entropy',n_estimators=700,random_state=1234) #랜덤포레스트\n",
    "tree = DecisionTreeClassifier(max_depth=4,criterion='entropy',random_state=1234)\n",
    "ada_clf = AdaBoostClassifier(base_estimator=tree, \n",
    "                                n_estimators=100,\n",
    "                                learning_rate = 0.01, \n",
    "                                random_state=1234) #아다부스트\n",
    "lgb_clf = LGBMClassifier(random_state=1234)\n",
    "xgb_clf = XGBClassifier(tree_method='hist',random_state=1234)\n",
    "\n",
    "# 개별 모델들을 학습. \n",
    "rf_clf.fit(X_train , y_train)  \n",
    "ada_clf.fit(X_train, y_train)\n",
    "lgb_clf.fit(X_train, y_train)\n",
    "xgb_clf.fit(X_train , y_train)\n",
    "\n",
    "# 학습된 개별 모델들이 각자 반환하는 예측 데이터 셋을 생성하고 개별 모델의 정확도 측정. \n",
    "rf_pred = rf_clf.predict(X_test)\n",
    "ada_pred = ada_clf.predict(X_test)\n",
    "lgb_pred = lgb_clf.predict(X_test)\n",
    "xgb_pred = xgb_clf.predict(X_test)\n",
    "\n",
    "print('랜덤 포레스트 정확도: {0:.4f}'.format(accuracy_score(y_test, rf_pred)))\n",
    "print('에이다부스트 정확도: {0:.4f}'.format(accuracy_score(y_test, ada_pred)))\n",
    "print('LGB 정확도: {0:.4f}'.format(accuracy_score(y_test, lgb_pred)))\n",
    "print('XGB 정확도: {0:.4f}'.format(accuracy_score(y_test, xgb_pred)))"
   ]
  },
  {
   "cell_type": "markdown",
   "metadata": {
    "id": "ycDH_Whd2h90"
   },
   "source": [
    "# Stacking"
   ]
  },
  {
   "cell_type": "code",
   "execution_count": 17,
   "metadata": {
    "colab": {
     "base_uri": "https://localhost:8080/"
    },
    "id": "W4SUD4uycrMA",
    "outputId": "a4412029-d552-4ed4-9d2e-e408c2b463fa"
   },
   "outputs": [
    {
     "name": "stdout",
     "output_type": "stream",
     "text": [
      "(4, 161)\n",
      "(161, 4)\n",
      "최종 메타 모델의 예측 정확도: 0.9752\n"
     ]
    }
   ],
   "source": [
    "# 시험데이터로 예측한 4가지 모델의 결과를 합침\n",
    "pred = np.array([rf_pred, ada_pred, lgb_pred, xgb_pred])\n",
    "print(pred.shape)\n",
    "\n",
    "# transpose를 이용해 행과 열의 위치 교환. 컬럼 레벨로 각 알고리즘의 예측 결과를 피처로 만듦. \n",
    "pred = np.transpose(pred)\n",
    "print(pred.shape)\n",
    "\n",
    "# 최종 분류기 모델 생성\n",
    "lr_final = LogisticRegression(C=10)\n",
    "\n",
    "# 최종 분류기 학습 및 예측\n",
    "lr_final.fit(pred, y_test)\n",
    "final = lr_final.predict(pred)\n",
    "\n",
    "print('최종 메타 모델의 예측 정확도: {0:.4f}'.format(accuracy_score(y_test , final)))"
   ]
  },
  {
   "cell_type": "markdown",
   "metadata": {
    "id": "3auODH202mtq"
   },
   "source": [
    "# Kfold 기반 Stacking"
   ]
  },
  {
   "cell_type": "code",
   "execution_count": 18,
   "metadata": {
    "id": "q83uVXjv2mKj"
   },
   "outputs": [],
   "source": [
    "from sklearn.model_selection import KFold, StratifiedKFold\n",
    "from sklearn.metrics import accuracy_score"
   ]
  },
  {
   "cell_type": "code",
   "execution_count": 19,
   "metadata": {
    "id": "237lizWq2xhm"
   },
   "outputs": [],
   "source": [
    "# 스태킹 함수\n",
    "def get_stacking_datasets(model, Xtrain, ytrain, Xtest, n_folds=5):\n",
    "  # cv하기 위해 K-fold 설정\n",
    "  kfold = KFold(n_splits=n_folds, shuffle=True, random_state=1234)\n",
    "\n",
    "  # 최종 메타 모델이 사용할 학습 데이터 반환을 위해서 넘파이 배열을 0으로 만들어서 초기화\n",
    "  train_fold_pred = np.zeros((X_train.shape[0], 1)) # 2차원\n",
    "  test_pred = np.zeros((Xtest.shape[0], n_folds))\n",
    "  print('model: ', model.__class__.__name__)\n",
    "\n",
    "  for cnt, (train_index, valid_index) in enumerate(kfold.split(Xtrain)):\n",
    "    # 개별 모델 내부에서 학습하고 1개의 fold로 예측할 데이터셋 추출\n",
    "    print(f\" Fold 횟수 : {cnt+1}\")\n",
    "    X_tr = Xtrain[train_index]\n",
    "    y_tr = ytrain[train_index]\n",
    "    X_validation = Xtrain[valid_index]\n",
    "\n",
    "    # 학습\n",
    "    model.fit(X_tr, y_tr)\n",
    "    # 1개의 fold데이터셋으로 예측값 반환 후 최종 메타모델이 학습할 데이터셋에 첨가\n",
    "    train_fold_pred[valid_index, :] = model.predict(X_validation).reshape(-1, 1)\n",
    "    # 해당 폴드에서 생성된 모델에게 원본 테스트 데이터(Xtest)를 이용해서 예측을 수행하고 저장\n",
    "    test_pred[:, cnt] = model.predict(Xtest)\n",
    "\n",
    "  # 개별 모델 안에서 테스트 데이터셋을 기반으로 예측한 결과값들 mean 취해주고 2차원으로 바꾸기\n",
    "  test_pred_mean = np.mean(test_pred, axis=1).reshape(-1, 1)\n",
    "\n",
    "  return train_fold_pred, test_pred_mean\n"
   ]
  },
  {
   "cell_type": "code",
   "execution_count": 20,
   "metadata": {
    "id": "0Nnjt35nia55"
   },
   "outputs": [],
   "source": [
    "# 개별 ML 모델을 위한 Classifier 생성.\n",
    "rf_clf = RandomForestClassifier(criterion='entropy',n_estimators=700,random_state=1234) #랜덤포레스트\n",
    "tree = DecisionTreeClassifier(max_depth=4,criterion='entropy',random_state=1234)\n",
    "ada_clf = AdaBoostClassifier(base_estimator=tree, \n",
    "                                n_estimators=100,\n",
    "                                learning_rate = 0.01, \n",
    "                                random_state=1234) #아다부스트\n",
    "lgb_clf = LGBMClassifier(random_state=1234)\n",
    "xgb_clf = XGBClassifier(tree_method='hist',random_state=1234)"
   ]
  },
  {
   "cell_type": "code",
   "execution_count": 21,
   "metadata": {
    "colab": {
     "base_uri": "https://localhost:8080/"
    },
    "id": "7onAGhmNASpb",
    "outputId": "a6f8fb46-e2ee-4424-a342-2e4b3b6f77d5"
   },
   "outputs": [
    {
     "name": "stdout",
     "output_type": "stream",
     "text": [
      "model:  RandomForestClassifier\n",
      " Fold 횟수 : 1\n",
      " Fold 횟수 : 2\n",
      " Fold 횟수 : 3\n",
      " Fold 횟수 : 4\n",
      " Fold 횟수 : 5\n",
      "model:  AdaBoostClassifier\n",
      " Fold 횟수 : 1\n",
      " Fold 횟수 : 2\n",
      " Fold 횟수 : 3\n",
      " Fold 횟수 : 4\n",
      " Fold 횟수 : 5\n",
      "model:  LGBMClassifier\n",
      " Fold 횟수 : 1\n",
      " Fold 횟수 : 2\n",
      " Fold 횟수 : 3\n",
      " Fold 횟수 : 4\n",
      " Fold 횟수 : 5\n",
      "model:  XGBClassifier\n",
      " Fold 횟수 : 1\n",
      " Fold 횟수 : 2\n",
      " Fold 횟수 : 3\n",
      " Fold 횟수 : 4\n",
      " Fold 횟수 : 5\n"
     ]
    }
   ],
   "source": [
    "rf_train, rf_test = get_stacking_datasets(rf_clf, X_train, y_train, X_test)\n",
    "ada_train, ada_test = get_stacking_datasets(ada_clf, X_train, y_train, X_test)\n",
    "lgb_train, lgb_test = get_stacking_datasets(lgb_clf, X_train, y_train, X_test)\n",
    "xgb_train, xgb_test = get_stacking_datasets(xgb_clf, X_train, y_train, X_test)"
   ]
  },
  {
   "cell_type": "code",
   "execution_count": 22,
   "metadata": {
    "colab": {
     "base_uri": "https://localhost:8080/"
    },
    "id": "fIYBpMj-BSVU",
    "outputId": "2c7ee5f1-4bd3-42fe-c795-002b6d07a142"
   },
   "outputs": [
    {
     "name": "stdout",
     "output_type": "stream",
     "text": [
      "최종 메타 모델의 예측 정확도: 0.9689\n"
     ]
    }
   ],
   "source": [
    "stack_final_x_train = np.concatenate((rf_train, ada_train, lgb_train, xgb_train), axis=1)\n",
    "stack_final_x_test = np.concatenate((rf_test, ada_test, lgb_test, xgb_test), axis=1)\n",
    "\n",
    "# 최종 분류기 모델 생성\n",
    "lr_final = LogisticRegression(C=10)\n",
    "\n",
    "#최종 메타모델로 학습\n",
    "lr_final.fit(stack_final_x_train, y_train)\n",
    "stack_final_pred = lr_final.predict(stack_final_x_test)\n",
    "\n",
    "#최종 메타모델 성능 평가\n",
    "print('최종 메타 모델의 예측 정확도: {0:.4f}'.format(accuracy_score(stack_final_pred, y_test)))"
   ]
  },
  {
   "cell_type": "markdown",
   "metadata": {
    "id": "LD-tEZfmL54M"
   },
   "source": [
    "# StratifiedKFold"
   ]
  },
  {
   "cell_type": "code",
   "execution_count": 23,
   "metadata": {
    "id": "toUNzY_bO92y"
   },
   "outputs": [],
   "source": [
    "#스태킹 함수\n",
    "def get_stacking_datasets2(model, X_train, y_train, X_test, n_folds=5):\n",
    "  skf = StratifiedKFold(n_splits=n_folds)\n",
    "\n",
    "  # 최종 메타 모델이 사용할 학습 데이터 반환을 위해서 넘파이 배열을 0으로 만들어서 초기화\n",
    "  train_fold_pred2 = np.zeros((X_train.shape[0], 1))\n",
    "\n",
    "  test_pred2 = np.zeros((X_test.shape[0], n_folds))\n",
    "  print('model: ', model.__class__.__name__)\n",
    "\n",
    "  for cnt, (train_index, valid_index) in enumerate(skf.split(X_train, y_train)):\n",
    "    # 개별 모델 내부에서 학습하고 1개의 fold로 예측할 데이터셋 추출\n",
    "    print(f\" Fold 횟수 : {cnt+1}\")\n",
    "    X_tr2 = X_train[train_index]\n",
    "    y_tr2 = y_train[train_index] \n",
    "    X_validation = X_train[valid_index]\n",
    "\n",
    "    # 학습\n",
    "    model.fit(X_tr2, y_tr2)\n",
    "    # 1개의 fold데이터셋으로 예측값 반환 후 최종 메타모델이 학습할 데이터셋에 첨가\n",
    "    train_fold_pred2[valid_index,:] = model.predict(X_validation).reshape(-1, 1)\n",
    "     # 해당 폴드에서 생성된 모델에게 원본 테스트 데이터(X_test)를 이용해서 예측을 수행하고 저장\n",
    "    test_pred2[:, cnt] = model.predict(X_test)\n",
    "\n",
    "  test_pred_mean2 = np.mean(test_pred2, axis=1).reshape(-1, 1)\n",
    "  return train_fold_pred2, test_pred_mean2"
   ]
  },
  {
   "cell_type": "code",
   "execution_count": 24,
   "metadata": {
    "id": "ozCleIxXin9L"
   },
   "outputs": [],
   "source": [
    "# 개별 ML 모델을 위한 Classifier 생성.\n",
    "rf_clf = RandomForestClassifier(criterion='entropy',n_estimators=700,random_state=1234) #랜덤포레스트\n",
    "tree = DecisionTreeClassifier(max_depth=4,criterion='entropy',random_state=1234)\n",
    "ada_clf = AdaBoostClassifier(base_estimator=tree, \n",
    "                                n_estimators=100,\n",
    "                                learning_rate = 0.01, \n",
    "                                random_state=1234) #아다부스트\n",
    "lgb_clf = LGBMClassifier(random_state=1234)\n",
    "xgb_clf = XGBClassifier(tree_method='hist',random_state=1234)"
   ]
  },
  {
   "cell_type": "code",
   "execution_count": 25,
   "metadata": {
    "colab": {
     "base_uri": "https://localhost:8080/"
    },
    "id": "wKRXPnj9L8q7",
    "outputId": "f5b81977-b405-4790-8ee2-f039cf197dd9"
   },
   "outputs": [
    {
     "name": "stdout",
     "output_type": "stream",
     "text": [
      "model:  RandomForestClassifier\n",
      " Fold 횟수 : 1\n",
      " Fold 횟수 : 2\n",
      " Fold 횟수 : 3\n",
      " Fold 횟수 : 4\n",
      " Fold 횟수 : 5\n",
      "model:  AdaBoostClassifier\n",
      " Fold 횟수 : 1\n",
      " Fold 횟수 : 2\n",
      " Fold 횟수 : 3\n",
      " Fold 횟수 : 4\n",
      " Fold 횟수 : 5\n",
      "model:  LGBMClassifier\n",
      " Fold 횟수 : 1\n",
      " Fold 횟수 : 2\n",
      " Fold 횟수 : 3\n",
      " Fold 횟수 : 4\n",
      " Fold 횟수 : 5\n",
      "model:  XGBClassifier\n",
      " Fold 횟수 : 1\n",
      " Fold 횟수 : 2\n",
      " Fold 횟수 : 3\n",
      " Fold 횟수 : 4\n",
      " Fold 횟수 : 5\n"
     ]
    }
   ],
   "source": [
    "rf_train, rf_test = get_stacking_datasets2(rf_clf, X_train, y_train, X_test)\n",
    "ada_train, ada_test = get_stacking_datasets2(ada_clf, X_train, y_train, X_test)\n",
    "lgb_train, lgb_test = get_stacking_datasets2(lgb_clf, X_train, y_train, X_test)\n",
    "xgb_train, xgb_test = get_stacking_datasets2(xgb_clf, X_train, y_train, X_test)"
   ]
  },
  {
   "cell_type": "code",
   "execution_count": 26,
   "metadata": {
    "colab": {
     "base_uri": "https://localhost:8080/"
    },
    "id": "szYX4dtngZhL",
    "outputId": "0ea418d7-aad6-4457-c39c-6f82d0c65022"
   },
   "outputs": [
    {
     "name": "stdout",
     "output_type": "stream",
     "text": [
      "최종 메타 모델의 예측 정확도: 0.9565\n"
     ]
    }
   ],
   "source": [
    "stack_final_x_train2 = np.concatenate((rf_train, ada_train, lgb_train, xgb_train), axis=1)\n",
    "stack_final_x_test2 = np.concatenate((rf_test, ada_test, lgb_test, xgb_test), axis=1)\n",
    "\n",
    "#최종 분류기 모델 생성\n",
    "lr_final = LogisticRegression(C=10)\n",
    "\n",
    "#최종 메타모델로 학습\n",
    "lr_final.fit(stack_final_x_train2, y_train)\n",
    "stack_final_pred2 = lr_final.predict(stack_final_x_test2)\n",
    "\n",
    "#최종 메타모델 성능 평가\n",
    "print('최종 메타 모델의 예측 정확도: {0:.4f}'.format(accuracy_score(stack_final_pred2, y_test)))"
   ]
  }
 ],
 "metadata": {
  "colab": {
   "collapsed_sections": [],
   "name": "stacking(naver, 90일 후).ipynb",
   "provenance": []
  },
  "hide_input": false,
  "kernelspec": {
   "display_name": "Python 3",
   "language": "python",
   "name": "python3"
  },
  "language_info": {
   "codemirror_mode": {
    "name": "ipython",
    "version": 3
   },
   "file_extension": ".py",
   "mimetype": "text/x-python",
   "name": "python",
   "nbconvert_exporter": "python",
   "pygments_lexer": "ipython3",
   "version": "3.7.10"
  },
  "toc": {
   "base_numbering": 1,
   "nav_menu": {},
   "number_sections": true,
   "sideBar": true,
   "skip_h1_title": false,
   "title_cell": "Table of Contents",
   "title_sidebar": "Contents",
   "toc_cell": false,
   "toc_position": {},
   "toc_section_display": true,
   "toc_window_display": false
  },
  "varInspector": {
   "cols": {
    "lenName": 16,
    "lenType": 16,
    "lenVar": 40
   },
   "kernels_config": {
    "python": {
     "delete_cmd_postfix": "",
     "delete_cmd_prefix": "del ",
     "library": "var_list.py",
     "varRefreshCmd": "print(var_dic_list())"
    },
    "r": {
     "delete_cmd_postfix": ") ",
     "delete_cmd_prefix": "rm(",
     "library": "var_list.r",
     "varRefreshCmd": "cat(var_dic_list()) "
    }
   },
   "types_to_exclude": [
    "module",
    "function",
    "builtin_function_or_method",
    "instance",
    "_Feature"
   ],
   "window_display": false
  }
 },
 "nbformat": 4,
 "nbformat_minor": 1
}
