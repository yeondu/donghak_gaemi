{
  "nbformat": 4,
  "nbformat_minor": 0,
  "metadata": {
    "colab": {
      "name": "30일 후",
      "provenance": []
    },
    "kernelspec": {
      "name": "python3",
      "display_name": "Python 3"
    },
    "language_info": {
      "name": "python"
    }
  },
  "cells": [
    {
      "cell_type": "code",
      "metadata": {
        "id": "R4p_2FEigucw",
        "colab": {
          "base_uri": "https://localhost:8080/"
        },
        "outputId": "7f70d519-e427-42cd-8cb6-0c786aeef0b7"
      },
      "source": [
        "# TA-Lib 설치 코드\n",
        "url = 'https://anaconda.org/conda-forge/libta-lib/0.4.0/download/linux-64/libta-lib-0.4.0-h516909a_0.tar.bz2'\n",
        "!curl -L $url | tar xj -C /usr/lib/x86_64-linux-gnu/ lib --strip-components=1\n",
        "url = 'https://anaconda.org/conda-forge/ta-lib/0.4.19/download/linux-64/ta-lib-0.4.19-py37ha21ca33_2.tar.bz2'\n",
        "!curl -L $url | tar xj -C /usr/local/lib/python3.7/dist-packages/ lib/python3.7/site-packages/talib --strip-components=3\n",
        "import talib\n",
        "import numpy as np\n",
        "import matplotlib.pyplot as plt\n",
        "import seaborn as sns\n",
        "import pandas_datareader as pdr\n",
        "import scipy.stats as stats\n",
        "import math\n",
        "from sklearn.preprocessing import MinMaxScaler\n",
        "import collections\n",
        "import pandas as pd\n",
        "from sklearn import datasets\n",
        "from keras.layers import Input, Dense, Conv1D, MaxPooling1D, UpSampling1D, BatchNormalization, LSTM, RepeatVector\n",
        "from keras.models import Model\n",
        "from keras.models import model_from_json\n",
        "from keras import regularizers\n",
        "import datetime\n",
        "import time\n",
        "import requests as req\n",
        "from tqdm import tqdm\n",
        "import matplotlib.pyplot as plt\n",
        "%pylab inline\n",
        "from sklearn.model_selection import train_test_split\n",
        "\n",
        "from sklearn.tree import DecisionTreeClassifier # 결정 트리\n",
        "from sklearn.neighbors import KNeighborsClassifier # KNN\n",
        "from sklearn.linear_model import LogisticRegression # 로지스틱 회귀\n",
        "from lightgbm import LGBMClassifier\n",
        "from xgboost import XGBClassifier\n",
        "from sklearn.ensemble import VotingClassifier,RandomForestClassifier,AdaBoostClassifier,GradientBoostingClassifier # 앙상블 \n",
        "\n",
        "from sklearn.metrics import confusion_matrix, classification_report # 정오분류표\n",
        "from sklearn.metrics import accuracy_score, precision_score, recall_score, f1_score, roc_auc_score \n",
        "from sklearn.metrics import roc_curve, auc, roc_auc_score,classification_report,confusion_matrix  # ROC곡선 그리기\n",
        "\n",
        "from sklearn.model_selection import learning_curve, validation_curve # 학습곡선, 검증곡선\n",
        "from sklearn.model_selection import GridSearchCV, cross_val_score  # 하이퍼파라미터 튜닝, 교차타당도"
      ],
      "execution_count": null,
      "outputs": [
        {
          "output_type": "stream",
          "text": [
            "  % Total    % Received % Xferd  Average Speed   Time    Time     Time  Current\n",
            "                                 Dload  Upload   Total   Spent    Left  Speed\n",
            "100  3709    0  3709    0     0   7841      0 --:--:-- --:--:-- --:--:--  7841\n",
            "100  503k  100  503k    0     0   437k      0  0:00:01  0:00:01 --:--:-- 2399k\n",
            "  % Total    % Received % Xferd  Average Speed   Time    Time     Time  Current\n",
            "                                 Dload  Upload   Total   Spent    Left  Speed\n",
            "100  3673    0  3673    0     0   8958      0 --:--:-- --:--:-- --:--:--  8958\n",
            "100  406k  100  406k    0     0   392k      0  0:00:01  0:00:01 --:--:-- 1311k\n",
            "Populating the interactive namespace from numpy and matplotlib\n"
          ],
          "name": "stdout"
        }
      ]
    },
    {
      "cell_type": "markdown",
      "metadata": {
        "id": "XmH91KuW-2DZ"
      },
      "source": [
        "# 데이터 불러오기(original)"
      ]
    },
    {
      "cell_type": "code",
      "metadata": {
        "id": "PkW91ZLng2nv"
      },
      "source": [
        "df = pd.read_csv(\"/content/drive/MyDrive/data/original_data.csv\", index_col =['Date'], parse_dates=True)"
      ],
      "execution_count": null,
      "outputs": []
    },
    {
      "cell_type": "code",
      "metadata": {
        "id": "juATs4NK8kmp",
        "colab": {
          "base_uri": "https://localhost:8080/",
          "height": 354
        },
        "outputId": "7ed7f7c1-4fdd-4ca8-a0e7-9504c1639599"
      },
      "source": [
        "df.tail()"
      ],
      "execution_count": null,
      "outputs": [
        {
          "output_type": "execute_result",
          "data": {
            "text/html": [
              "<div>\n",
              "<style scoped>\n",
              "    .dataframe tbody tr th:only-of-type {\n",
              "        vertical-align: middle;\n",
              "    }\n",
              "\n",
              "    .dataframe tbody tr th {\n",
              "        vertical-align: top;\n",
              "    }\n",
              "\n",
              "    .dataframe thead th {\n",
              "        text-align: right;\n",
              "    }\n",
              "</style>\n",
              "<table border=\"1\" class=\"dataframe\">\n",
              "  <thead>\n",
              "    <tr style=\"text-align: right;\">\n",
              "      <th></th>\n",
              "      <th>Open</th>\n",
              "      <th>High</th>\n",
              "      <th>Low</th>\n",
              "      <th>Close</th>\n",
              "      <th>Adj Close</th>\n",
              "      <th>Volume</th>\n",
              "      <th>S&amp;P500</th>\n",
              "      <th>SOX</th>\n",
              "      <th>VIX</th>\n",
              "      <th>KOSPI</th>\n",
              "      <th>log_return</th>\n",
              "      <th>CCI</th>\n",
              "      <th>MA5</th>\n",
              "      <th>MA10</th>\n",
              "      <th>MA20</th>\n",
              "      <th>MA60</th>\n",
              "      <th>MA20_ratio</th>\n",
              "      <th>MA60_ratio</th>\n",
              "      <th>MA20_volume</th>\n",
              "      <th>MA60_volumne</th>\n",
              "      <th>RASD5</th>\n",
              "      <th>RASD10</th>\n",
              "      <th>MACD</th>\n",
              "      <th>ATR</th>\n",
              "      <th>ub</th>\n",
              "      <th>middle</th>\n",
              "      <th>lb</th>\n",
              "      <th>MTM1</th>\n",
              "      <th>MTM3</th>\n",
              "      <th>ROC</th>\n",
              "      <th>WPR</th>\n",
              "    </tr>\n",
              "    <tr>\n",
              "      <th>Date</th>\n",
              "      <th></th>\n",
              "      <th></th>\n",
              "      <th></th>\n",
              "      <th></th>\n",
              "      <th></th>\n",
              "      <th></th>\n",
              "      <th></th>\n",
              "      <th></th>\n",
              "      <th></th>\n",
              "      <th></th>\n",
              "      <th></th>\n",
              "      <th></th>\n",
              "      <th></th>\n",
              "      <th></th>\n",
              "      <th></th>\n",
              "      <th></th>\n",
              "      <th></th>\n",
              "      <th></th>\n",
              "      <th></th>\n",
              "      <th></th>\n",
              "      <th></th>\n",
              "      <th></th>\n",
              "      <th></th>\n",
              "      <th></th>\n",
              "      <th></th>\n",
              "      <th></th>\n",
              "      <th></th>\n",
              "      <th></th>\n",
              "      <th></th>\n",
              "      <th></th>\n",
              "      <th></th>\n",
              "    </tr>\n",
              "  </thead>\n",
              "  <tbody>\n",
              "    <tr>\n",
              "      <th>2021-08-19</th>\n",
              "      <td>431000.0</td>\n",
              "      <td>434000.0</td>\n",
              "      <td>424500.0</td>\n",
              "      <td>424500.0</td>\n",
              "      <td>424500.0</td>\n",
              "      <td>504352</td>\n",
              "      <td>4405.799805</td>\n",
              "      <td>3235.870117</td>\n",
              "      <td>21.670000</td>\n",
              "      <td>3097.830078</td>\n",
              "      <td>-0.010545</td>\n",
              "      <td>-94.145759</td>\n",
              "      <td>431800.0</td>\n",
              "      <td>438500.0</td>\n",
              "      <td>439525.0</td>\n",
              "      <td>413150.000000</td>\n",
              "      <td>0.965815</td>\n",
              "      <td>1.027472</td>\n",
              "      <td>665965.15</td>\n",
              "      <td>779609.133333</td>\n",
              "      <td>5051.843593</td>\n",
              "      <td>5044.528400</td>\n",
              "      <td>1884.242572</td>\n",
              "      <td>12140.316581</td>\n",
              "      <td>456049.148995</td>\n",
              "      <td>439525.0</td>\n",
              "      <td>423000.851005</td>\n",
              "      <td>-4500.0</td>\n",
              "      <td>-12000.0</td>\n",
              "      <td>16.942149</td>\n",
              "      <td>-86.567164</td>\n",
              "    </tr>\n",
              "    <tr>\n",
              "      <th>2021-08-20</th>\n",
              "      <td>425000.0</td>\n",
              "      <td>432000.0</td>\n",
              "      <td>421000.0</td>\n",
              "      <td>422500.0</td>\n",
              "      <td>422500.0</td>\n",
              "      <td>587940</td>\n",
              "      <td>4441.669922</td>\n",
              "      <td>3256.500000</td>\n",
              "      <td>18.559999</td>\n",
              "      <td>3060.510010</td>\n",
              "      <td>-0.004723</td>\n",
              "      <td>-100.375738</td>\n",
              "      <td>428200.0</td>\n",
              "      <td>436500.0</td>\n",
              "      <td>438650.0</td>\n",
              "      <td>414225.000000</td>\n",
              "      <td>0.963182</td>\n",
              "      <td>1.019977</td>\n",
              "      <td>643568.05</td>\n",
              "      <td>773346.983333</td>\n",
              "      <td>5534.340346</td>\n",
              "      <td>5057.375240</td>\n",
              "      <td>727.170577</td>\n",
              "      <td>12058.865397</td>\n",
              "      <td>456758.285396</td>\n",
              "      <td>438650.0</td>\n",
              "      <td>420541.714604</td>\n",
              "      <td>-2000.0</td>\n",
              "      <td>-6000.0</td>\n",
              "      <td>18.016760</td>\n",
              "      <td>-92.537313</td>\n",
              "    </tr>\n",
              "    <tr>\n",
              "      <th>2021-08-23</th>\n",
              "      <td>428000.0</td>\n",
              "      <td>436000.0</td>\n",
              "      <td>423500.0</td>\n",
              "      <td>429500.0</td>\n",
              "      <td>429500.0</td>\n",
              "      <td>515679</td>\n",
              "      <td>4479.529785</td>\n",
              "      <td>3342.010010</td>\n",
              "      <td>17.150000</td>\n",
              "      <td>3090.209961</td>\n",
              "      <td>0.016432</td>\n",
              "      <td>-55.850234</td>\n",
              "      <td>426800.0</td>\n",
              "      <td>435000.0</td>\n",
              "      <td>437525.0</td>\n",
              "      <td>415416.666667</td>\n",
              "      <td>0.981658</td>\n",
              "      <td>1.033902</td>\n",
              "      <td>614650.70</td>\n",
              "      <td>774623.100000</td>\n",
              "      <td>5267.825466</td>\n",
              "      <td>4714.171343</td>\n",
              "      <td>370.750404</td>\n",
              "      <td>12161.803583</td>\n",
              "      <td>454959.090168</td>\n",
              "      <td>437525.0</td>\n",
              "      <td>420090.909832</td>\n",
              "      <td>7000.0</td>\n",
              "      <td>500.0</td>\n",
              "      <td>19.972067</td>\n",
              "      <td>-71.641791</td>\n",
              "    </tr>\n",
              "    <tr>\n",
              "      <th>2021-08-24</th>\n",
              "      <td>435000.0</td>\n",
              "      <td>439000.0</td>\n",
              "      <td>431500.0</td>\n",
              "      <td>437500.0</td>\n",
              "      <td>437500.0</td>\n",
              "      <td>546884</td>\n",
              "      <td>4486.229980</td>\n",
              "      <td>3345.392822</td>\n",
              "      <td>17.219999</td>\n",
              "      <td>NaN</td>\n",
              "      <td>0.018455</td>\n",
              "      <td>-4.754008</td>\n",
              "      <td>428600.0</td>\n",
              "      <td>434000.0</td>\n",
              "      <td>436800.0</td>\n",
              "      <td>416666.666667</td>\n",
              "      <td>1.001603</td>\n",
              "      <td>1.050000</td>\n",
              "      <td>599231.05</td>\n",
              "      <td>777119.200000</td>\n",
              "      <td>5007.206967</td>\n",
              "      <td>4495.087997</td>\n",
              "      <td>725.455392</td>\n",
              "      <td>11971.674755</td>\n",
              "      <td>452922.654868</td>\n",
              "      <td>436800.0</td>\n",
              "      <td>420677.345132</td>\n",
              "      <td>8000.0</td>\n",
              "      <td>13000.0</td>\n",
              "      <td>20.689655</td>\n",
              "      <td>-47.761194</td>\n",
              "    </tr>\n",
              "    <tr>\n",
              "      <th>2021-08-25</th>\n",
              "      <td>434000.0</td>\n",
              "      <td>439000.0</td>\n",
              "      <td>432500.0</td>\n",
              "      <td>433000.0</td>\n",
              "      <td>433000.0</td>\n",
              "      <td>170243</td>\n",
              "      <td>NaN</td>\n",
              "      <td>NaN</td>\n",
              "      <td>NaN</td>\n",
              "      <td>3143.060059</td>\n",
              "      <td>-0.010339</td>\n",
              "      <td>-19.594203</td>\n",
              "      <td>429400.0</td>\n",
              "      <td>432650.0</td>\n",
              "      <td>435850.0</td>\n",
              "      <td>417766.666667</td>\n",
              "      <td>0.993461</td>\n",
              "      <td>1.036464</td>\n",
              "      <td>569861.30</td>\n",
              "      <td>773221.416667</td>\n",
              "      <td>4817.458343</td>\n",
              "      <td>4523.945382</td>\n",
              "      <td>636.116503</td>\n",
              "      <td>11580.840844</td>\n",
              "      <td>450444.862110</td>\n",
              "      <td>435850.0</td>\n",
              "      <td>421255.137890</td>\n",
              "      <td>-4500.0</td>\n",
              "      <td>10500.0</td>\n",
              "      <td>17.983651</td>\n",
              "      <td>-61.194030</td>\n",
              "    </tr>\n",
              "  </tbody>\n",
              "</table>\n",
              "</div>"
            ],
            "text/plain": [
              "                Open      High       Low  ...     MTM3        ROC        WPR\n",
              "Date                                      ...                               \n",
              "2021-08-19  431000.0  434000.0  424500.0  ... -12000.0  16.942149 -86.567164\n",
              "2021-08-20  425000.0  432000.0  421000.0  ...  -6000.0  18.016760 -92.537313\n",
              "2021-08-23  428000.0  436000.0  423500.0  ...    500.0  19.972067 -71.641791\n",
              "2021-08-24  435000.0  439000.0  431500.0  ...  13000.0  20.689655 -47.761194\n",
              "2021-08-25  434000.0  439000.0  432500.0  ...  10500.0  17.983651 -61.194030\n",
              "\n",
              "[5 rows x 31 columns]"
            ]
          },
          "metadata": {},
          "execution_count": 74
        }
      ]
    },
    {
      "cell_type": "code",
      "metadata": {
        "id": "IXYxqi-_9za4"
      },
      "source": [
        "df = df.drop(['MA20_volume', 'MA60_volumne'], axis = 1)\n",
        "#df.columns\n",
        "#df = df.drop(['log_return', 'MTM1', 'MTM3'], axis = 1)\n",
        "#diff = df['MA20_ratio']-df['MA60_ratio']\n",
        "#df['golden'] = np.where(diff>0,1,-1)"
      ],
      "execution_count": null,
      "outputs": []
    },
    {
      "cell_type": "code",
      "metadata": {
        "colab": {
          "base_uri": "https://localhost:8080/"
        },
        "id": "YOvjFuHXjd1_",
        "outputId": "51a83867-071c-4b7e-907a-8b3a0289eb4a"
      },
      "source": [
        "df.isnull().any()"
      ],
      "execution_count": null,
      "outputs": [
        {
          "output_type": "execute_result",
          "data": {
            "text/plain": [
              "Open          False\n",
              "High          False\n",
              "Low           False\n",
              "Close         False\n",
              "Adj Close     False\n",
              "Volume        False\n",
              "S&P500         True\n",
              "SOX            True\n",
              "VIX            True\n",
              "KOSPI          True\n",
              "log_return     True\n",
              "CCI            True\n",
              "MA5            True\n",
              "MA10           True\n",
              "MA20           True\n",
              "MA60           True\n",
              "MA20_ratio     True\n",
              "MA60_ratio     True\n",
              "RASD5          True\n",
              "RASD10         True\n",
              "MACD           True\n",
              "ATR            True\n",
              "ub             True\n",
              "middle         True\n",
              "lb             True\n",
              "MTM1           True\n",
              "MTM3           True\n",
              "ROC            True\n",
              "WPR            True\n",
              "dtype: bool"
            ]
          },
          "metadata": {},
          "execution_count": 76
        }
      ]
    },
    {
      "cell_type": "code",
      "metadata": {
        "id": "VJWkQcFSjg5k"
      },
      "source": [
        "df = df.dropna(axis=0)"
      ],
      "execution_count": null,
      "outputs": []
    },
    {
      "cell_type": "code",
      "metadata": {
        "colab": {
          "base_uri": "https://localhost:8080/",
          "height": 338
        },
        "id": "wJbPuJVshgpM",
        "outputId": "a1121d04-aa21-4dde-a280-b009712d28de"
      },
      "source": [
        "df.head()"
      ],
      "execution_count": null,
      "outputs": [
        {
          "output_type": "execute_result",
          "data": {
            "text/html": [
              "<div>\n",
              "<style scoped>\n",
              "    .dataframe tbody tr th:only-of-type {\n",
              "        vertical-align: middle;\n",
              "    }\n",
              "\n",
              "    .dataframe tbody tr th {\n",
              "        vertical-align: top;\n",
              "    }\n",
              "\n",
              "    .dataframe thead th {\n",
              "        text-align: right;\n",
              "    }\n",
              "</style>\n",
              "<table border=\"1\" class=\"dataframe\">\n",
              "  <thead>\n",
              "    <tr style=\"text-align: right;\">\n",
              "      <th></th>\n",
              "      <th>Open</th>\n",
              "      <th>High</th>\n",
              "      <th>Low</th>\n",
              "      <th>Close</th>\n",
              "      <th>Adj Close</th>\n",
              "      <th>Volume</th>\n",
              "      <th>S&amp;P500</th>\n",
              "      <th>SOX</th>\n",
              "      <th>VIX</th>\n",
              "      <th>KOSPI</th>\n",
              "      <th>log_return</th>\n",
              "      <th>CCI</th>\n",
              "      <th>MA5</th>\n",
              "      <th>MA10</th>\n",
              "      <th>MA20</th>\n",
              "      <th>MA60</th>\n",
              "      <th>MA20_ratio</th>\n",
              "      <th>MA60_ratio</th>\n",
              "      <th>RASD5</th>\n",
              "      <th>RASD10</th>\n",
              "      <th>MACD</th>\n",
              "      <th>ATR</th>\n",
              "      <th>ub</th>\n",
              "      <th>middle</th>\n",
              "      <th>lb</th>\n",
              "      <th>MTM1</th>\n",
              "      <th>MTM3</th>\n",
              "      <th>ROC</th>\n",
              "      <th>WPR</th>\n",
              "    </tr>\n",
              "    <tr>\n",
              "      <th>Date</th>\n",
              "      <th></th>\n",
              "      <th></th>\n",
              "      <th></th>\n",
              "      <th></th>\n",
              "      <th></th>\n",
              "      <th></th>\n",
              "      <th></th>\n",
              "      <th></th>\n",
              "      <th></th>\n",
              "      <th></th>\n",
              "      <th></th>\n",
              "      <th></th>\n",
              "      <th></th>\n",
              "      <th></th>\n",
              "      <th></th>\n",
              "      <th></th>\n",
              "      <th></th>\n",
              "      <th></th>\n",
              "      <th></th>\n",
              "      <th></th>\n",
              "      <th></th>\n",
              "      <th></th>\n",
              "      <th></th>\n",
              "      <th></th>\n",
              "      <th></th>\n",
              "      <th></th>\n",
              "      <th></th>\n",
              "      <th></th>\n",
              "      <th></th>\n",
              "    </tr>\n",
              "  </thead>\n",
              "  <tbody>\n",
              "    <tr>\n",
              "      <th>2005-03-31</th>\n",
              "      <td>7395.186035</td>\n",
              "      <td>7436.043457</td>\n",
              "      <td>7223.585449</td>\n",
              "      <td>7239.928223</td>\n",
              "      <td>7101.616211</td>\n",
              "      <td>1958030</td>\n",
              "      <td>1180.589966</td>\n",
              "      <td>416.989990</td>\n",
              "      <td>14.02</td>\n",
              "      <td>965.679993</td>\n",
              "      <td>-0.002255</td>\n",
              "      <td>77.408536</td>\n",
              "      <td>7277.516895</td>\n",
              "      <td>7039.726953</td>\n",
              "      <td>7114.904565</td>\n",
              "      <td>7271.660718</td>\n",
              "      <td>1.017572</td>\n",
              "      <td>0.995636</td>\n",
              "      <td>213.150136</td>\n",
              "      <td>158.625026</td>\n",
              "      <td>-12.354711</td>\n",
              "      <td>227.920020</td>\n",
              "      <td>7561.611597</td>\n",
              "      <td>7114.904565</td>\n",
              "      <td>6668.197534</td>\n",
              "      <td>-16.342773</td>\n",
              "      <td>-114.400391</td>\n",
              "      <td>3.023257</td>\n",
              "      <td>-28.155320</td>\n",
              "    </tr>\n",
              "    <tr>\n",
              "      <th>2005-04-01</th>\n",
              "      <td>7166.384766</td>\n",
              "      <td>7313.471680</td>\n",
              "      <td>7166.384766</td>\n",
              "      <td>7272.614258</td>\n",
              "      <td>7133.678711</td>\n",
              "      <td>1740199</td>\n",
              "      <td>1172.920044</td>\n",
              "      <td>411.220001</td>\n",
              "      <td>14.09</td>\n",
              "      <td>981.900024</td>\n",
              "      <td>0.004505</td>\n",
              "      <td>63.909019</td>\n",
              "      <td>7288.957031</td>\n",
              "      <td>7082.218652</td>\n",
              "      <td>7119.398877</td>\n",
              "      <td>7277.108374</td>\n",
              "      <td>1.021521</td>\n",
              "      <td>0.999382</td>\n",
              "      <td>181.928256</td>\n",
              "      <td>147.849453</td>\n",
              "      <td>-0.317474</td>\n",
              "      <td>222.146227</td>\n",
              "      <td>7570.531720</td>\n",
              "      <td>7119.398877</td>\n",
              "      <td>6668.266034</td>\n",
              "      <td>32.686035</td>\n",
              "      <td>-49.028809</td>\n",
              "      <td>4.705887</td>\n",
              "      <td>-22.772258</td>\n",
              "    </tr>\n",
              "    <tr>\n",
              "      <th>2005-04-04</th>\n",
              "      <td>7346.157227</td>\n",
              "      <td>7346.157227</td>\n",
              "      <td>7166.384766</td>\n",
              "      <td>7190.899414</td>\n",
              "      <td>7053.524414</td>\n",
              "      <td>1038979</td>\n",
              "      <td>1176.119995</td>\n",
              "      <td>409.420013</td>\n",
              "      <td>14.11</td>\n",
              "      <td>982.500000</td>\n",
              "      <td>-0.011300</td>\n",
              "      <td>56.086788</td>\n",
              "      <td>7256.271191</td>\n",
              "      <td>7110.001660</td>\n",
              "      <td>7120.624609</td>\n",
              "      <td>7280.513159</td>\n",
              "      <td>1.009869</td>\n",
              "      <td>0.987691</td>\n",
              "      <td>134.852992</td>\n",
              "      <td>141.939089</td>\n",
              "      <td>2.598465</td>\n",
              "      <td>219.119529</td>\n",
              "      <td>7572.394200</td>\n",
              "      <td>7120.624609</td>\n",
              "      <td>6668.855019</td>\n",
              "      <td>-81.714844</td>\n",
              "      <td>-65.371582</td>\n",
              "      <td>2.923979</td>\n",
              "      <td>-32.673255</td>\n",
              "    </tr>\n",
              "    <tr>\n",
              "      <th>2005-04-06</th>\n",
              "      <td>7174.556152</td>\n",
              "      <td>7517.758301</td>\n",
              "      <td>7174.556152</td>\n",
              "      <td>7444.214844</td>\n",
              "      <td>7302.000000</td>\n",
              "      <td>3884242</td>\n",
              "      <td>1184.069946</td>\n",
              "      <td>410.869995</td>\n",
              "      <td>13.15</td>\n",
              "      <td>988.000000</td>\n",
              "      <td>0.034621</td>\n",
              "      <td>88.750882</td>\n",
              "      <td>7267.711230</td>\n",
              "      <td>7221.133740</td>\n",
              "      <td>7126.753198</td>\n",
              "      <td>7280.785539</td>\n",
              "      <td>1.044545</td>\n",
              "      <td>1.022447</td>\n",
              "      <td>52.904059</td>\n",
              "      <td>138.366320</td>\n",
              "      <td>26.772312</td>\n",
              "      <td>213.449135</td>\n",
              "      <td>7591.889648</td>\n",
              "      <td>7126.753198</td>\n",
              "      <td>6661.616748</td>\n",
              "      <td>253.315430</td>\n",
              "      <td>171.600586</td>\n",
              "      <td>0.662983</td>\n",
              "      <td>-8.333352</td>\n",
              "    </tr>\n",
              "    <tr>\n",
              "      <th>2005-04-07</th>\n",
              "      <td>7517.758301</td>\n",
              "      <td>7648.501953</td>\n",
              "      <td>7493.244141</td>\n",
              "      <td>7566.787109</td>\n",
              "      <td>7422.230957</td>\n",
              "      <td>2261525</td>\n",
              "      <td>1191.140015</td>\n",
              "      <td>418.970001</td>\n",
              "      <td>12.33</td>\n",
              "      <td>988.900024</td>\n",
              "      <td>0.016331</td>\n",
              "      <td>136.064574</td>\n",
              "      <td>7333.083008</td>\n",
              "      <td>7305.299951</td>\n",
              "      <td>7140.236133</td>\n",
              "      <td>7282.283643</td>\n",
              "      <td>1.059739</td>\n",
              "      <td>1.039068</td>\n",
              "      <td>72.292447</td>\n",
              "      <td>142.721292</td>\n",
              "      <td>53.417980</td>\n",
              "      <td>212.794705</td>\n",
              "      <td>7638.779194</td>\n",
              "      <td>7140.236133</td>\n",
              "      <td>6641.693071</td>\n",
              "      <td>122.572266</td>\n",
              "      <td>375.887695</td>\n",
              "      <td>1.202186</td>\n",
              "      <td>-8.064523</td>\n",
              "    </tr>\n",
              "  </tbody>\n",
              "</table>\n",
              "</div>"
            ],
            "text/plain": [
              "                   Open         High  ...       ROC        WPR\n",
              "Date                                  ...                     \n",
              "2005-03-31  7395.186035  7436.043457  ...  3.023257 -28.155320\n",
              "2005-04-01  7166.384766  7313.471680  ...  4.705887 -22.772258\n",
              "2005-04-04  7346.157227  7346.157227  ...  2.923979 -32.673255\n",
              "2005-04-06  7174.556152  7517.758301  ...  0.662983  -8.333352\n",
              "2005-04-07  7517.758301  7648.501953  ...  1.202186  -8.064523\n",
              "\n",
              "[5 rows x 29 columns]"
            ]
          },
          "metadata": {},
          "execution_count": 78
        }
      ]
    },
    {
      "cell_type": "code",
      "metadata": {
        "colab": {
          "base_uri": "https://localhost:8080/"
        },
        "id": "rEo3CF0O4RGj",
        "outputId": "b2067b67-ad34-4e59-ced6-5fea103e3447"
      },
      "source": [
        "df.shape"
      ],
      "execution_count": null,
      "outputs": [
        {
          "output_type": "execute_result",
          "data": {
            "text/plain": [
              "(3908, 29)"
            ]
          },
          "metadata": {},
          "execution_count": 79
        }
      ]
    },
    {
      "cell_type": "markdown",
      "metadata": {
        "id": "obu023j3iPvY"
      },
      "source": [
        "# encoder로 특징 추출"
      ]
    },
    {
      "cell_type": "code",
      "metadata": {
        "colab": {
          "base_uri": "https://localhost:8080/"
        },
        "id": "GrXRXzgQhCPs",
        "outputId": "9f9668e7-f44b-437e-b058-150c559cdbbf"
      },
      "source": [
        "MA5 = df['MA5']\n",
        "MA5.head()"
      ],
      "execution_count": null,
      "outputs": [
        {
          "output_type": "execute_result",
          "data": {
            "text/plain": [
              "Date\n",
              "2005-03-31    7277.516895\n",
              "2005-04-01    7288.957031\n",
              "2005-04-04    7256.271191\n",
              "2005-04-06    7267.711230\n",
              "2005-04-07    7333.083008\n",
              "Name: MA5, dtype: float64"
            ]
          },
          "metadata": {},
          "execution_count": 230
        }
      ]
    },
    {
      "cell_type": "code",
      "metadata": {
        "colab": {
          "base_uri": "https://localhost:8080/",
          "height": 286
        },
        "id": "gCD2VjT0isTJ",
        "outputId": "f401b6e1-fc39-4ee8-b7ac-21ddbefa8b56"
      },
      "source": [
        "MA5.plot()"
      ],
      "execution_count": null,
      "outputs": [
        {
          "output_type": "execute_result",
          "data": {
            "text/plain": [
              "<matplotlib.axes._subplots.AxesSubplot at 0x7fe92df2b7d0>"
            ]
          },
          "metadata": {},
          "execution_count": 231
        },
        {
          "output_type": "display_data",
          "data": {
            "image/png": "[encoded data removed]",
            "text/plain": [
              "<Figure size 432x288 with 1 Axes>"
            ]
          },
          "metadata": {
            "needs_background": "light"
          }
        }
      ]
    },
    {
      "cell_type": "code",
      "metadata": {
        "colab": {
          "base_uri": "https://localhost:8080/"
        },
        "id": "ipkhQn7UlEAl",
        "outputId": "b86c41d3-53b8-4b46-dfe3-6de28425a079"
      },
      "source": [
        "MA5.isnull()"
      ],
      "execution_count": null,
      "outputs": [
        {
          "output_type": "execute_result",
          "data": {
            "text/plain": [
              "Date\n",
              "2005-03-31    False\n",
              "2005-04-01    False\n",
              "2005-04-04    False\n",
              "2005-04-06    False\n",
              "2005-04-07    False\n",
              "              ...  \n",
              "2021-08-13    False\n",
              "2021-08-17    False\n",
              "2021-08-18    False\n",
              "2021-08-19    False\n",
              "2021-08-20    False\n",
              "Name: MA5, Length: 3907, dtype: bool"
            ]
          },
          "metadata": {},
          "execution_count": 232
        }
      ]
    },
    {
      "cell_type": "code",
      "metadata": {
        "id": "4JkOUzUwixuW"
      },
      "source": [
        "window_length = 10\n",
        "encoding_dim = 3\n",
        "scaler = MinMaxScaler()\n",
        "x_train = np.array([scaler.fit_transform(MA5.values[i-window_length:i].reshape(-1,1)) for i in range(window_length+1, len(MA5))])"
      ],
      "execution_count": null,
      "outputs": []
    },
    {
      "cell_type": "code",
      "metadata": {
        "colab": {
          "base_uri": "https://localhost:8080/"
        },
        "id": "mGTN7wNOjINq",
        "outputId": "0f42b52f-f46f-452e-c48d-52c2d11c706a"
      },
      "source": [
        "# 훈련 데이터 형태\n",
        "x_train.shape"
      ],
      "execution_count": null,
      "outputs": [
        {
          "output_type": "execute_result",
          "data": {
            "text/plain": [
              "(3896, 10, 1)"
            ]
          },
          "metadata": {},
          "execution_count": 234
        }
      ]
    },
    {
      "cell_type": "code",
      "metadata": {
        "colab": {
          "base_uri": "https://localhost:8080/"
        },
        "id": "x6TwHVw2jIzJ",
        "outputId": "f274043d-0a9c-46e3-f5c3-0bb0a88ce4e9"
      },
      "source": [
        "# 훈련 데이터셋과 테스트 데이터셋 분할\n",
        "test_samples = 200 # 아직도 이거 왜 나누는지 모르겠음\n",
        "x_train = x_train[:-test_samples]\n",
        "x_test = x_train[-test_samples:]\n",
        "\n",
        "x_train = x_train.astype('float32')\n",
        "x_test = x_test.astype('float32')\n",
        "\n",
        "# 전체 데이터 중 테스트 데이터가 사용된 비중 계산\n",
        "print(\"테스트 데이터 비중: {}%\".format((test_samples/len(x_train))*100))"
      ],
      "execution_count": null,
      "outputs": [
        {
          "output_type": "stream",
          "text": [
            "테스트 데이터 비중: 5.411255411255411%\n"
          ],
          "name": "stdout"
        }
      ]
    },
    {
      "cell_type": "code",
      "metadata": {
        "colab": {
          "base_uri": "https://localhost:8080/"
        },
        "id": "7UGcWwXDtdpY",
        "outputId": "aadef9bd-90fe-41c6-b156-252887d8f613"
      },
      "source": [
        "x_train.shape"
      ],
      "execution_count": null,
      "outputs": [
        {
          "output_type": "execute_result",
          "data": {
            "text/plain": [
              "(3696, 10, 1)"
            ]
          },
          "metadata": {},
          "execution_count": 236
        }
      ]
    },
    {
      "cell_type": "code",
      "metadata": {
        "id": "lbwimmoZjMuO"
      },
      "source": [
        "def plot_examples(stock_input, stock_decoded):\n",
        "    n = 10  \n",
        "    plt.figure(figsize=(20, 4))\n",
        "    for i, idx in enumerate(list(np.arange(0, test_samples, 20))):\n",
        "        # display original\n",
        "        ax = plt.subplot(2, n, i + 1)\n",
        "        if i == 0:\n",
        "            ax.set_ylabel(\"Input\", fontweight=600)\n",
        "        else:\n",
        "            ax.get_yaxis().set_visible(False)\n",
        "        plt.plot(stock_input[idx])\n",
        "        ax.get_xaxis().set_visible(False)\n",
        "        \n",
        "\n",
        "        # display reconstruction\n",
        "        ax = plt.subplot(2, n, i + 1 + n)\n",
        "        if i == 0:\n",
        "            ax.set_ylabel(\"Output\", fontweight=600)\n",
        "        else:\n",
        "            ax.get_yaxis().set_visible(False)\n",
        "        plt.plot(stock_decoded[idx])\n",
        "        ax.get_xaxis().set_visible(False)\n",
        "        \n",
        "        \n",
        "def plot_history(history):\n",
        "    plt.figure(figsize=(15, 5))\n",
        "    ax = plt.subplot(1, 2, 1)\n",
        "    plt.plot(history.history[\"loss\"])\n",
        "    plt.title(\"Train loss\")\n",
        "    ax = plt.subplot(1, 2, 2)\n",
        "    plt.plot(history.history[\"val_loss\"])\n",
        "    plt.title(\"Test loss\")\n"
      ],
      "execution_count": null,
      "outputs": []
    },
    {
      "cell_type": "code",
      "metadata": {
        "colab": {
          "base_uri": "https://localhost:8080/",
          "height": 1000
        },
        "id": "mZbxKpSBjP-d",
        "outputId": "2eaee65f-881d-4b6d-ff8d-5261c53f6bfc"
      },
      "source": [
        "from keras.callbacks import EarlyStopping\n",
        "import tensorflow as tf\n",
        "x_train_sample = x_train.reshape((len(x_train), np.prod(x_train.shape[1:])))\n",
        "x_test_sample = x_test.reshape((len(x_test), np.prod(x_test.shape[1:])))\n",
        "\n",
        "\n",
        "input_window = Input(shape=(window_length,))\n",
        "\n",
        "x = Dense(6, activation='relu')(input_window)\n",
        "x = BatchNormalization()(x)\n",
        "encoded = Dense(encoding_dim, activation='relu')(x)\n",
        "# \"decoded\" is the lossy reconstruction of the input\n",
        "\n",
        "x = Dense(6, activation='relu')(encoded)\n",
        "x = BatchNormalization()(x)\n",
        "decoded = Dense(window_length, activation='sigmoid')(x)\n",
        "\n",
        "# this model maps an input to its reconstruction\n",
        "autoencoder = Model(input_window, decoded)\n",
        "\n",
        "# this model maps an input to its encoded representation\n",
        "encoder = Model(input_window, encoded)\n",
        "\n",
        "autoencoder.summary()\n",
        "\n",
        "# early stopping 정의\n",
        "es = EarlyStopping(monitor='val_loss', mode='min', verbose=1, patience=50)\n",
        "\n",
        "autoencoder.compile(optimizer='adam', loss='binary_crossentropy', metrics = ['acc'])\n",
        "history = autoencoder.fit(x_train_sample, x_train_sample,\n",
        "                epochs=500,\n",
        "                batch_size=1024,\n",
        "                shuffle=True,\n",
        "                callbacks = [es],\n",
        "                validation_data=(x_test_sample, x_test_sample))\n",
        "\n",
        "decoded_stocks = autoencoder.predict(x_test_sample)\n",
        "plot_history(history)\n",
        "plot_examples(x_test_sample, decoded_stocks)"
      ],
      "execution_count": null,
      "outputs": [
        {
          "output_type": "stream",
          "text": [
            "Model: \"model_12\"\n",
            "_________________________________________________________________\n",
            "Layer (type)                 Output Shape              Param #   \n",
            "=================================================================\n",
            "input_7 (InputLayer)         [(None, 10)]              0         \n",
            "_________________________________________________________________\n",
            "dense_26 (Dense)             (None, 6)                 66        \n",
            "_________________________________________________________________\n",
            "batch_normalization_13 (Batc (None, 6)                 24        \n",
            "_________________________________________________________________\n",
            "dense_27 (Dense)             (None, 10)                70        \n",
            "=================================================================\n",
            "Total params: 160\n",
            "Trainable params: 148\n",
            "Non-trainable params: 12\n",
            "_________________________________________________________________\n",
            "Epoch 1/500\n",
            "4/4 [==============================] - 1s 53ms/step - loss: 0.6956 - acc: 0.0909 - val_loss: 0.6825 - val_acc: 0.0350\n",
            "Epoch 2/500\n",
            "4/4 [==============================] - 0s 9ms/step - loss: 0.6870 - acc: 0.1031 - val_loss: 0.6806 - val_acc: 0.0400\n",
            "Epoch 3/500\n",
            "4/4 [==============================] - 0s 10ms/step - loss: 0.6792 - acc: 0.1163 - val_loss: 0.6788 - val_acc: 0.0900\n",
            "Epoch 4/500\n",
            "4/4 [==============================] - 0s 12ms/step - loss: 0.6717 - acc: 0.1418 - val_loss: 0.6770 - val_acc: 0.0950\n",
            "Epoch 5/500\n",
            "4/4 [==============================] - 0s 12ms/step - loss: 0.6647 - acc: 0.1448 - val_loss: 0.6751 - val_acc: 0.1000\n",
            "Epoch 6/500\n",
            "4/4 [==============================] - 0s 11ms/step - loss: 0.6583 - acc: 0.1510 - val_loss: 0.6731 - val_acc: 0.1100\n",
            "Epoch 7/500\n",
            "4/4 [==============================] - 0s 9ms/step - loss: 0.6522 - acc: 0.1659 - val_loss: 0.6711 - val_acc: 0.1150\n",
            "Epoch 8/500\n",
            "4/4 [==============================] - 0s 10ms/step - loss: 0.6464 - acc: 0.1756 - val_loss: 0.6691 - val_acc: 0.1200\n",
            "Epoch 9/500\n",
            "4/4 [==============================] - 0s 9ms/step - loss: 0.6408 - acc: 0.1861 - val_loss: 0.6670 - val_acc: 0.1150\n",
            "Epoch 10/500\n",
            "4/4 [==============================] - 0s 9ms/step - loss: 0.6356 - acc: 0.1972 - val_loss: 0.6649 - val_acc: 0.1200\n",
            "Epoch 11/500\n",
            "4/4 [==============================] - 0s 9ms/step - loss: 0.6303 - acc: 0.2083 - val_loss: 0.6627 - val_acc: 0.1300\n",
            "Epoch 12/500\n",
            "4/4 [==============================] - 0s 9ms/step - loss: 0.6254 - acc: 0.2143 - val_loss: 0.6604 - val_acc: 0.1300\n",
            "Epoch 13/500\n",
            "4/4 [==============================] - 0s 18ms/step - loss: 0.6207 - acc: 0.2189 - val_loss: 0.6580 - val_acc: 0.1350\n",
            "Epoch 14/500\n",
            "4/4 [==============================] - 0s 9ms/step - loss: 0.6160 - acc: 0.2294 - val_loss: 0.6555 - val_acc: 0.1550\n",
            "Epoch 15/500\n",
            "4/4 [==============================] - 0s 11ms/step - loss: 0.6115 - acc: 0.2386 - val_loss: 0.6529 - val_acc: 0.1450\n",
            "Epoch 16/500\n",
            "4/4 [==============================] - 0s 9ms/step - loss: 0.6067 - acc: 0.2457 - val_loss: 0.6502 - val_acc: 0.1700\n",
            "Epoch 17/500\n",
            "4/4 [==============================] - 0s 10ms/step - loss: 0.6021 - acc: 0.2600 - val_loss: 0.6474 - val_acc: 0.2000\n",
            "Epoch 18/500\n",
            "4/4 [==============================] - 0s 11ms/step - loss: 0.5975 - acc: 0.2752 - val_loss: 0.6445 - val_acc: 0.2400\n",
            "Epoch 19/500\n",
            "4/4 [==============================] - 0s 14ms/step - loss: 0.5926 - acc: 0.3195 - val_loss: 0.6413 - val_acc: 0.2800\n",
            "Epoch 20/500\n",
            "4/4 [==============================] - 0s 9ms/step - loss: 0.5878 - acc: 0.3669 - val_loss: 0.6381 - val_acc: 0.2900\n",
            "Epoch 21/500\n",
            "4/4 [==============================] - 0s 10ms/step - loss: 0.5828 - acc: 0.3755 - val_loss: 0.6348 - val_acc: 0.3050\n",
            "Epoch 22/500\n",
            "4/4 [==============================] - 0s 10ms/step - loss: 0.5781 - acc: 0.3793 - val_loss: 0.6313 - val_acc: 0.3150\n",
            "Epoch 23/500\n",
            "4/4 [==============================] - 0s 11ms/step - loss: 0.5734 - acc: 0.3912 - val_loss: 0.6277 - val_acc: 0.3400\n",
            "Epoch 24/500\n",
            "4/4 [==============================] - 0s 10ms/step - loss: 0.5690 - acc: 0.3969 - val_loss: 0.6239 - val_acc: 0.3450\n",
            "Epoch 25/500\n",
            "4/4 [==============================] - 0s 10ms/step - loss: 0.5645 - acc: 0.4077 - val_loss: 0.6201 - val_acc: 0.3550\n",
            "Epoch 26/500\n",
            "4/4 [==============================] - 0s 9ms/step - loss: 0.5601 - acc: 0.4145 - val_loss: 0.6161 - val_acc: 0.3900\n",
            "Epoch 27/500\n",
            "4/4 [==============================] - 0s 9ms/step - loss: 0.5561 - acc: 0.4259 - val_loss: 0.6120 - val_acc: 0.3950\n",
            "Epoch 28/500\n",
            "4/4 [==============================] - 0s 11ms/step - loss: 0.5520 - acc: 0.4297 - val_loss: 0.6079 - val_acc: 0.3950\n",
            "Epoch 29/500\n",
            "4/4 [==============================] - 0s 10ms/step - loss: 0.5483 - acc: 0.4345 - val_loss: 0.6038 - val_acc: 0.4050\n",
            "Epoch 30/500\n",
            "4/4 [==============================] - 0s 13ms/step - loss: 0.5445 - acc: 0.4375 - val_loss: 0.5995 - val_acc: 0.3950\n",
            "Epoch 31/500\n",
            "4/4 [==============================] - 0s 9ms/step - loss: 0.5408 - acc: 0.4383 - val_loss: 0.5953 - val_acc: 0.4050\n",
            "Epoch 32/500\n",
            "4/4 [==============================] - 0s 11ms/step - loss: 0.5375 - acc: 0.4421 - val_loss: 0.5911 - val_acc: 0.4150\n",
            "Epoch 33/500\n",
            "4/4 [==============================] - 0s 11ms/step - loss: 0.5341 - acc: 0.4459 - val_loss: 0.5869 - val_acc: 0.4050\n",
            "Epoch 34/500\n",
            "4/4 [==============================] - 0s 11ms/step - loss: 0.5312 - acc: 0.4499 - val_loss: 0.5827 - val_acc: 0.4000\n",
            "Epoch 35/500\n",
            "4/4 [==============================] - 0s 10ms/step - loss: 0.5282 - acc: 0.4505 - val_loss: 0.5785 - val_acc: 0.3850\n",
            "Epoch 36/500\n",
            "4/4 [==============================] - 0s 10ms/step - loss: 0.5253 - acc: 0.4535 - val_loss: 0.5742 - val_acc: 0.3800\n",
            "Epoch 37/500\n",
            "4/4 [==============================] - 0s 12ms/step - loss: 0.5225 - acc: 0.4643 - val_loss: 0.5701 - val_acc: 0.3850\n",
            "Epoch 38/500\n",
            "4/4 [==============================] - 0s 10ms/step - loss: 0.5199 - acc: 0.4673 - val_loss: 0.5659 - val_acc: 0.3950\n",
            "Epoch 39/500\n",
            "4/4 [==============================] - 0s 9ms/step - loss: 0.5173 - acc: 0.4756 - val_loss: 0.5617 - val_acc: 0.4150\n",
            "Epoch 40/500\n",
            "4/4 [==============================] - 0s 10ms/step - loss: 0.5149 - acc: 0.4808 - val_loss: 0.5576 - val_acc: 0.4150\n",
            "Epoch 41/500\n",
            "4/4 [==============================] - 0s 12ms/step - loss: 0.5127 - acc: 0.4857 - val_loss: 0.5535 - val_acc: 0.4200\n",
            "Epoch 42/500\n",
            "4/4 [==============================] - 0s 9ms/step - loss: 0.5102 - acc: 0.4919 - val_loss: 0.5494 - val_acc: 0.4250\n",
            "Epoch 43/500\n",
            "4/4 [==============================] - 0s 9ms/step - loss: 0.5081 - acc: 0.4954 - val_loss: 0.5454 - val_acc: 0.4300\n",
            "Epoch 44/500\n",
            "4/4 [==============================] - 0s 11ms/step - loss: 0.5060 - acc: 0.4997 - val_loss: 0.5414 - val_acc: 0.4450\n",
            "Epoch 45/500\n",
            "4/4 [==============================] - 0s 11ms/step - loss: 0.5041 - acc: 0.5000 - val_loss: 0.5375 - val_acc: 0.4500\n",
            "Epoch 46/500\n",
            "4/4 [==============================] - 0s 10ms/step - loss: 0.5021 - acc: 0.5027 - val_loss: 0.5337 - val_acc: 0.4700\n",
            "Epoch 47/500\n",
            "4/4 [==============================] - 0s 11ms/step - loss: 0.5000 - acc: 0.5054 - val_loss: 0.5299 - val_acc: 0.4750\n",
            "Epoch 48/500\n",
            "4/4 [==============================] - 0s 11ms/step - loss: 0.4981 - acc: 0.5092 - val_loss: 0.5262 - val_acc: 0.4850\n",
            "Epoch 49/500\n",
            "4/4 [==============================] - 0s 9ms/step - loss: 0.4965 - acc: 0.5135 - val_loss: 0.5226 - val_acc: 0.4900\n",
            "Epoch 50/500\n",
            "4/4 [==============================] - 0s 10ms/step - loss: 0.4948 - acc: 0.5135 - val_loss: 0.5191 - val_acc: 0.5100\n",
            "Epoch 51/500\n",
            "4/4 [==============================] - 0s 16ms/step - loss: 0.4929 - acc: 0.5160 - val_loss: 0.5156 - val_acc: 0.5150\n",
            "Epoch 52/500\n",
            "4/4 [==============================] - 0s 10ms/step - loss: 0.4913 - acc: 0.5165 - val_loss: 0.5122 - val_acc: 0.5250\n",
            "Epoch 53/500\n",
            "4/4 [==============================] - 0s 9ms/step - loss: 0.4898 - acc: 0.5162 - val_loss: 0.5088 - val_acc: 0.5400\n",
            "Epoch 54/500\n",
            "4/4 [==============================] - 0s 12ms/step - loss: 0.4882 - acc: 0.5200 - val_loss: 0.5056 - val_acc: 0.5550\n",
            "Epoch 55/500\n",
            "4/4 [==============================] - 0s 10ms/step - loss: 0.4870 - acc: 0.5189 - val_loss: 0.5024 - val_acc: 0.5600\n",
            "Epoch 56/500\n",
            "4/4 [==============================] - 0s 10ms/step - loss: 0.4854 - acc: 0.5241 - val_loss: 0.4994 - val_acc: 0.5650\n",
            "Epoch 57/500\n",
            "4/4 [==============================] - 0s 12ms/step - loss: 0.4843 - acc: 0.5254 - val_loss: 0.4964 - val_acc: 0.5600\n",
            "Epoch 58/500\n",
            "4/4 [==============================] - 0s 10ms/step - loss: 0.4828 - acc: 0.5249 - val_loss: 0.4935 - val_acc: 0.5700\n",
            "Epoch 59/500\n",
            "4/4 [==============================] - 0s 10ms/step - loss: 0.4814 - acc: 0.5235 - val_loss: 0.4907 - val_acc: 0.5750\n",
            "Epoch 60/500\n",
            "4/4 [==============================] - 0s 10ms/step - loss: 0.4801 - acc: 0.5249 - val_loss: 0.4880 - val_acc: 0.5750\n",
            "Epoch 61/500\n",
            "4/4 [==============================] - 0s 11ms/step - loss: 0.4791 - acc: 0.5262 - val_loss: 0.4854 - val_acc: 0.5750\n",
            "Epoch 62/500\n",
            "4/4 [==============================] - 0s 15ms/step - loss: 0.4778 - acc: 0.5295 - val_loss: 0.4828 - val_acc: 0.5750\n",
            "Epoch 63/500\n",
            "4/4 [==============================] - 0s 10ms/step - loss: 0.4767 - acc: 0.5284 - val_loss: 0.4804 - val_acc: 0.5750\n",
            "Epoch 64/500\n",
            "4/4 [==============================] - 0s 10ms/step - loss: 0.4755 - acc: 0.5308 - val_loss: 0.4780 - val_acc: 0.5750\n",
            "Epoch 65/500\n",
            "4/4 [==============================] - 0s 11ms/step - loss: 0.4745 - acc: 0.5333 - val_loss: 0.4757 - val_acc: 0.5850\n",
            "Epoch 66/500\n",
            "4/4 [==============================] - 0s 9ms/step - loss: 0.4737 - acc: 0.5298 - val_loss: 0.4735 - val_acc: 0.5900\n",
            "Epoch 67/500\n",
            "4/4 [==============================] - 0s 11ms/step - loss: 0.4726 - acc: 0.5341 - val_loss: 0.4713 - val_acc: 0.5950\n",
            "Epoch 68/500\n",
            "4/4 [==============================] - 0s 11ms/step - loss: 0.4717 - acc: 0.5325 - val_loss: 0.4692 - val_acc: 0.5950\n",
            "Epoch 69/500\n",
            "4/4 [==============================] - 0s 10ms/step - loss: 0.4707 - acc: 0.5349 - val_loss: 0.4672 - val_acc: 0.5950\n",
            "Epoch 70/500\n",
            "4/4 [==============================] - 0s 10ms/step - loss: 0.4698 - acc: 0.5341 - val_loss: 0.4653 - val_acc: 0.6000\n",
            "Epoch 71/500\n",
            "4/4 [==============================] - 0s 9ms/step - loss: 0.4690 - acc: 0.5387 - val_loss: 0.4635 - val_acc: 0.5950\n",
            "Epoch 72/500\n",
            "4/4 [==============================] - 0s 11ms/step - loss: 0.4681 - acc: 0.5379 - val_loss: 0.4617 - val_acc: 0.5950\n",
            "Epoch 73/500\n",
            "4/4 [==============================] - 0s 10ms/step - loss: 0.4675 - acc: 0.5392 - val_loss: 0.4599 - val_acc: 0.5950\n",
            "Epoch 74/500\n",
            "4/4 [==============================] - 0s 10ms/step - loss: 0.4666 - acc: 0.5392 - val_loss: 0.4583 - val_acc: 0.5950\n",
            "Epoch 75/500\n",
            "4/4 [==============================] - 0s 9ms/step - loss: 0.4658 - acc: 0.5392 - val_loss: 0.4567 - val_acc: 0.5950\n",
            "Epoch 76/500\n",
            "4/4 [==============================] - 0s 9ms/step - loss: 0.4650 - acc: 0.5400 - val_loss: 0.4552 - val_acc: 0.5950\n",
            "Epoch 77/500\n",
            "4/4 [==============================] - 0s 10ms/step - loss: 0.4645 - acc: 0.5414 - val_loss: 0.4537 - val_acc: 0.6050\n",
            "Epoch 78/500\n",
            "4/4 [==============================] - 0s 11ms/step - loss: 0.4637 - acc: 0.5427 - val_loss: 0.4523 - val_acc: 0.6050\n",
            "Epoch 79/500\n",
            "4/4 [==============================] - 0s 10ms/step - loss: 0.4632 - acc: 0.5417 - val_loss: 0.4510 - val_acc: 0.6050\n",
            "Epoch 80/500\n",
            "4/4 [==============================] - 0s 10ms/step - loss: 0.4625 - acc: 0.5468 - val_loss: 0.4497 - val_acc: 0.6050\n",
            "Epoch 81/500\n",
            "4/4 [==============================] - 0s 9ms/step - loss: 0.4619 - acc: 0.5482 - val_loss: 0.4484 - val_acc: 0.6100\n",
            "Epoch 82/500\n",
            "4/4 [==============================] - 0s 11ms/step - loss: 0.4617 - acc: 0.5476 - val_loss: 0.4472 - val_acc: 0.6050\n",
            "Epoch 83/500\n",
            "4/4 [==============================] - 0s 9ms/step - loss: 0.4608 - acc: 0.5490 - val_loss: 0.4461 - val_acc: 0.6000\n",
            "Epoch 84/500\n",
            "4/4 [==============================] - 0s 11ms/step - loss: 0.4602 - acc: 0.5517 - val_loss: 0.4450 - val_acc: 0.6000\n",
            "Epoch 85/500\n",
            "4/4 [==============================] - 0s 11ms/step - loss: 0.4597 - acc: 0.5501 - val_loss: 0.4440 - val_acc: 0.5950\n",
            "Epoch 86/500\n",
            "4/4 [==============================] - 0s 9ms/step - loss: 0.4591 - acc: 0.5522 - val_loss: 0.4430 - val_acc: 0.5950\n",
            "Epoch 87/500\n",
            "4/4 [==============================] - 0s 14ms/step - loss: 0.4588 - acc: 0.5517 - val_loss: 0.4420 - val_acc: 0.6000\n",
            "Epoch 88/500\n",
            "4/4 [==============================] - 0s 9ms/step - loss: 0.4582 - acc: 0.5536 - val_loss: 0.4411 - val_acc: 0.6000\n",
            "Epoch 89/500\n",
            "4/4 [==============================] - 0s 10ms/step - loss: 0.4578 - acc: 0.5533 - val_loss: 0.4402 - val_acc: 0.6000\n",
            "Epoch 90/500\n",
            "4/4 [==============================] - 0s 11ms/step - loss: 0.4572 - acc: 0.5533 - val_loss: 0.4394 - val_acc: 0.6000\n",
            "Epoch 91/500\n",
            "4/4 [==============================] - 0s 9ms/step - loss: 0.4569 - acc: 0.5555 - val_loss: 0.4386 - val_acc: 0.6000\n",
            "Epoch 92/500\n",
            "4/4 [==============================] - 0s 12ms/step - loss: 0.4564 - acc: 0.5574 - val_loss: 0.4379 - val_acc: 0.6000\n",
            "Epoch 93/500\n",
            "4/4 [==============================] - 0s 10ms/step - loss: 0.4562 - acc: 0.5544 - val_loss: 0.4371 - val_acc: 0.6050\n",
            "Epoch 94/500\n",
            "4/4 [==============================] - 0s 14ms/step - loss: 0.4556 - acc: 0.5582 - val_loss: 0.4364 - val_acc: 0.6050\n",
            "Epoch 95/500\n",
            "4/4 [==============================] - 0s 9ms/step - loss: 0.4553 - acc: 0.5590 - val_loss: 0.4357 - val_acc: 0.6050\n",
            "Epoch 96/500\n",
            "4/4 [==============================] - 0s 9ms/step - loss: 0.4549 - acc: 0.5598 - val_loss: 0.4351 - val_acc: 0.6100\n",
            "Epoch 97/500\n",
            "4/4 [==============================] - 0s 9ms/step - loss: 0.4545 - acc: 0.5595 - val_loss: 0.4344 - val_acc: 0.6100\n",
            "Epoch 98/500\n",
            "4/4 [==============================] - 0s 11ms/step - loss: 0.4540 - acc: 0.5609 - val_loss: 0.4338 - val_acc: 0.6100\n",
            "Epoch 99/500\n",
            "4/4 [==============================] - 0s 12ms/step - loss: 0.4537 - acc: 0.5603 - val_loss: 0.4332 - val_acc: 0.6050\n",
            "Epoch 100/500\n",
            "4/4 [==============================] - 0s 10ms/step - loss: 0.4536 - acc: 0.5617 - val_loss: 0.4327 - val_acc: 0.6050\n",
            "Epoch 101/500\n",
            "4/4 [==============================] - 0s 10ms/step - loss: 0.4531 - acc: 0.5598 - val_loss: 0.4322 - val_acc: 0.6050\n",
            "Epoch 102/500\n",
            "4/4 [==============================] - 0s 10ms/step - loss: 0.4528 - acc: 0.5609 - val_loss: 0.4317 - val_acc: 0.6050\n",
            "Epoch 103/500\n",
            "4/4 [==============================] - 0s 11ms/step - loss: 0.4526 - acc: 0.5620 - val_loss: 0.4312 - val_acc: 0.6050\n",
            "Epoch 104/500\n",
            "4/4 [==============================] - 0s 10ms/step - loss: 0.4523 - acc: 0.5644 - val_loss: 0.4308 - val_acc: 0.6000\n",
            "Epoch 105/500\n",
            "4/4 [==============================] - 0s 10ms/step - loss: 0.4520 - acc: 0.5633 - val_loss: 0.4303 - val_acc: 0.6000\n",
            "Epoch 106/500\n",
            "4/4 [==============================] - 0s 11ms/step - loss: 0.4517 - acc: 0.5595 - val_loss: 0.4299 - val_acc: 0.6050\n",
            "Epoch 107/500\n",
            "4/4 [==============================] - 0s 11ms/step - loss: 0.4513 - acc: 0.5639 - val_loss: 0.4295 - val_acc: 0.6050\n",
            "Epoch 108/500\n",
            "4/4 [==============================] - 0s 10ms/step - loss: 0.4510 - acc: 0.5636 - val_loss: 0.4291 - val_acc: 0.6050\n",
            "Epoch 109/500\n",
            "4/4 [==============================] - 0s 11ms/step - loss: 0.4508 - acc: 0.5647 - val_loss: 0.4287 - val_acc: 0.6000\n",
            "Epoch 110/500\n",
            "4/4 [==============================] - 0s 10ms/step - loss: 0.4505 - acc: 0.5652 - val_loss: 0.4284 - val_acc: 0.5950\n",
            "Epoch 111/500\n",
            "4/4 [==============================] - 0s 9ms/step - loss: 0.4502 - acc: 0.5655 - val_loss: 0.4280 - val_acc: 0.5950\n",
            "Epoch 112/500\n",
            "4/4 [==============================] - 0s 15ms/step - loss: 0.4502 - acc: 0.5641 - val_loss: 0.4277 - val_acc: 0.5950\n",
            "Epoch 113/500\n",
            "4/4 [==============================] - 0s 10ms/step - loss: 0.4500 - acc: 0.5647 - val_loss: 0.4273 - val_acc: 0.5950\n",
            "Epoch 114/500\n",
            "4/4 [==============================] - 0s 10ms/step - loss: 0.4496 - acc: 0.5668 - val_loss: 0.4270 - val_acc: 0.5950\n",
            "Epoch 115/500\n",
            "4/4 [==============================] - 0s 10ms/step - loss: 0.4493 - acc: 0.5690 - val_loss: 0.4267 - val_acc: 0.5900\n",
            "Epoch 116/500\n",
            "4/4 [==============================] - 0s 10ms/step - loss: 0.4492 - acc: 0.5698 - val_loss: 0.4264 - val_acc: 0.5900\n",
            "Epoch 117/500\n",
            "4/4 [==============================] - 0s 12ms/step - loss: 0.4489 - acc: 0.5695 - val_loss: 0.4261 - val_acc: 0.5900\n",
            "Epoch 118/500\n",
            "4/4 [==============================] - 0s 11ms/step - loss: 0.4487 - acc: 0.5695 - val_loss: 0.4258 - val_acc: 0.6000\n",
            "Epoch 119/500\n",
            "4/4 [==============================] - 0s 10ms/step - loss: 0.4484 - acc: 0.5722 - val_loss: 0.4255 - val_acc: 0.6050\n",
            "Epoch 120/500\n",
            "4/4 [==============================] - 0s 10ms/step - loss: 0.4483 - acc: 0.5701 - val_loss: 0.4253 - val_acc: 0.6050\n",
            "Epoch 121/500\n",
            "4/4 [==============================] - 0s 10ms/step - loss: 0.4480 - acc: 0.5720 - val_loss: 0.4250 - val_acc: 0.6050\n",
            "Epoch 122/500\n",
            "4/4 [==============================] - 0s 9ms/step - loss: 0.4479 - acc: 0.5755 - val_loss: 0.4248 - val_acc: 0.6050\n",
            "Epoch 123/500\n",
            "4/4 [==============================] - 0s 10ms/step - loss: 0.4477 - acc: 0.5728 - val_loss: 0.4245 - val_acc: 0.6050\n",
            "Epoch 124/500\n",
            "4/4 [==============================] - 0s 10ms/step - loss: 0.4478 - acc: 0.5733 - val_loss: 0.4243 - val_acc: 0.6050\n",
            "Epoch 125/500\n",
            "4/4 [==============================] - 0s 11ms/step - loss: 0.4473 - acc: 0.5763 - val_loss: 0.4240 - val_acc: 0.6050\n",
            "Epoch 126/500\n",
            "4/4 [==============================] - 0s 11ms/step - loss: 0.4473 - acc: 0.5747 - val_loss: 0.4238 - val_acc: 0.6100\n",
            "Epoch 127/500\n",
            "4/4 [==============================] - 0s 12ms/step - loss: 0.4468 - acc: 0.5777 - val_loss: 0.4235 - val_acc: 0.6100\n",
            "Epoch 128/500\n",
            "4/4 [==============================] - 0s 10ms/step - loss: 0.4466 - acc: 0.5774 - val_loss: 0.4233 - val_acc: 0.6100\n",
            "Epoch 129/500\n",
            "4/4 [==============================] - 0s 10ms/step - loss: 0.4464 - acc: 0.5768 - val_loss: 0.4231 - val_acc: 0.6100\n",
            "Epoch 130/500\n",
            "4/4 [==============================] - 0s 10ms/step - loss: 0.4462 - acc: 0.5795 - val_loss: 0.4229 - val_acc: 0.6000\n",
            "Epoch 131/500\n",
            "4/4 [==============================] - 0s 17ms/step - loss: 0.4463 - acc: 0.5801 - val_loss: 0.4226 - val_acc: 0.6000\n",
            "Epoch 132/500\n",
            "4/4 [==============================] - 0s 10ms/step - loss: 0.4460 - acc: 0.5828 - val_loss: 0.4224 - val_acc: 0.6000\n",
            "Epoch 133/500\n",
            "4/4 [==============================] - 0s 10ms/step - loss: 0.4459 - acc: 0.5844 - val_loss: 0.4222 - val_acc: 0.5950\n",
            "Epoch 134/500\n",
            "4/4 [==============================] - 0s 10ms/step - loss: 0.4455 - acc: 0.5836 - val_loss: 0.4220 - val_acc: 0.5950\n",
            "Epoch 135/500\n",
            "4/4 [==============================] - 0s 11ms/step - loss: 0.4453 - acc: 0.5869 - val_loss: 0.4218 - val_acc: 0.5950\n",
            "Epoch 136/500\n",
            "4/4 [==============================] - 0s 11ms/step - loss: 0.4452 - acc: 0.5847 - val_loss: 0.4216 - val_acc: 0.6050\n",
            "Epoch 137/500\n",
            "4/4 [==============================] - 0s 11ms/step - loss: 0.4450 - acc: 0.5871 - val_loss: 0.4214 - val_acc: 0.6050\n",
            "Epoch 138/500\n",
            "4/4 [==============================] - 0s 10ms/step - loss: 0.4449 - acc: 0.5887 - val_loss: 0.4212 - val_acc: 0.6100\n",
            "Epoch 139/500\n",
            "4/4 [==============================] - 0s 10ms/step - loss: 0.4447 - acc: 0.5866 - val_loss: 0.4211 - val_acc: 0.6100\n",
            "Epoch 140/500\n",
            "4/4 [==============================] - 0s 10ms/step - loss: 0.4446 - acc: 0.5879 - val_loss: 0.4209 - val_acc: 0.6050\n",
            "Epoch 141/500\n",
            "4/4 [==============================] - 0s 9ms/step - loss: 0.4443 - acc: 0.5912 - val_loss: 0.4207 - val_acc: 0.6050\n",
            "Epoch 142/500\n",
            "4/4 [==============================] - 0s 9ms/step - loss: 0.4442 - acc: 0.5915 - val_loss: 0.4205 - val_acc: 0.6050\n",
            "Epoch 143/500\n",
            "4/4 [==============================] - 0s 10ms/step - loss: 0.4440 - acc: 0.5906 - val_loss: 0.4203 - val_acc: 0.6100\n",
            "Epoch 144/500\n",
            "4/4 [==============================] - 0s 9ms/step - loss: 0.4437 - acc: 0.5915 - val_loss: 0.4202 - val_acc: 0.6100\n",
            "Epoch 145/500\n",
            "4/4 [==============================] - 0s 10ms/step - loss: 0.4437 - acc: 0.5952 - val_loss: 0.4200 - val_acc: 0.6050\n",
            "Epoch 146/500\n",
            "4/4 [==============================] - 0s 11ms/step - loss: 0.4434 - acc: 0.5963 - val_loss: 0.4198 - val_acc: 0.6100\n",
            "Epoch 147/500\n",
            "4/4 [==============================] - 0s 10ms/step - loss: 0.4434 - acc: 0.5920 - val_loss: 0.4196 - val_acc: 0.6200\n",
            "Epoch 148/500\n",
            "4/4 [==============================] - 0s 12ms/step - loss: 0.4433 - acc: 0.5966 - val_loss: 0.4194 - val_acc: 0.6200\n",
            "Epoch 149/500\n",
            "4/4 [==============================] - 0s 12ms/step - loss: 0.4429 - acc: 0.5942 - val_loss: 0.4193 - val_acc: 0.6150\n",
            "Epoch 150/500\n",
            "4/4 [==============================] - 0s 11ms/step - loss: 0.4427 - acc: 0.5979 - val_loss: 0.4191 - val_acc: 0.6150\n",
            "Epoch 151/500\n",
            "4/4 [==============================] - 0s 11ms/step - loss: 0.4425 - acc: 0.5942 - val_loss: 0.4189 - val_acc: 0.6150\n",
            "Epoch 152/500\n",
            "4/4 [==============================] - 0s 9ms/step - loss: 0.4425 - acc: 0.5958 - val_loss: 0.4187 - val_acc: 0.6150\n",
            "Epoch 153/500\n",
            "4/4 [==============================] - 0s 12ms/step - loss: 0.4422 - acc: 0.5966 - val_loss: 0.4186 - val_acc: 0.6150\n",
            "Epoch 154/500\n",
            "4/4 [==============================] - 0s 10ms/step - loss: 0.4420 - acc: 0.5974 - val_loss: 0.4184 - val_acc: 0.6150\n",
            "Epoch 155/500\n",
            "4/4 [==============================] - 0s 10ms/step - loss: 0.4419 - acc: 0.5966 - val_loss: 0.4182 - val_acc: 0.6150\n",
            "Epoch 156/500\n",
            "4/4 [==============================] - 0s 12ms/step - loss: 0.4414 - acc: 0.5998 - val_loss: 0.4180 - val_acc: 0.6150\n",
            "Epoch 157/500\n",
            "4/4 [==============================] - 0s 11ms/step - loss: 0.4415 - acc: 0.5996 - val_loss: 0.4179 - val_acc: 0.6150\n",
            "Epoch 158/500\n",
            "4/4 [==============================] - 0s 11ms/step - loss: 0.4412 - acc: 0.5977 - val_loss: 0.4177 - val_acc: 0.6150\n",
            "Epoch 159/500\n",
            "4/4 [==============================] - 0s 13ms/step - loss: 0.4410 - acc: 0.6015 - val_loss: 0.4175 - val_acc: 0.6150\n",
            "Epoch 160/500\n",
            "4/4 [==============================] - 0s 11ms/step - loss: 0.4407 - acc: 0.5993 - val_loss: 0.4173 - val_acc: 0.6200\n",
            "Epoch 161/500\n",
            "4/4 [==============================] - 0s 11ms/step - loss: 0.4406 - acc: 0.5993 - val_loss: 0.4172 - val_acc: 0.6200\n",
            "Epoch 162/500\n",
            "4/4 [==============================] - 0s 10ms/step - loss: 0.4404 - acc: 0.6028 - val_loss: 0.4170 - val_acc: 0.6200\n",
            "Epoch 163/500\n",
            "4/4 [==============================] - 0s 10ms/step - loss: 0.4401 - acc: 0.6031 - val_loss: 0.4168 - val_acc: 0.6200\n",
            "Epoch 164/500\n",
            "4/4 [==============================] - 0s 10ms/step - loss: 0.4400 - acc: 0.6023 - val_loss: 0.4167 - val_acc: 0.6200\n",
            "Epoch 165/500\n",
            "4/4 [==============================] - 0s 12ms/step - loss: 0.4400 - acc: 0.6042 - val_loss: 0.4165 - val_acc: 0.6250\n",
            "Epoch 166/500\n",
            "4/4 [==============================] - 0s 10ms/step - loss: 0.4394 - acc: 0.6034 - val_loss: 0.4163 - val_acc: 0.6250\n",
            "Epoch 167/500\n",
            "4/4 [==============================] - 0s 11ms/step - loss: 0.4397 - acc: 0.6034 - val_loss: 0.4162 - val_acc: 0.6250\n",
            "Epoch 168/500\n",
            "4/4 [==============================] - 0s 9ms/step - loss: 0.4390 - acc: 0.6025 - val_loss: 0.4160 - val_acc: 0.6250\n",
            "Epoch 169/500\n",
            "4/4 [==============================] - 0s 17ms/step - loss: 0.4388 - acc: 0.6077 - val_loss: 0.4158 - val_acc: 0.6250\n",
            "Epoch 170/500\n",
            "4/4 [==============================] - 0s 13ms/step - loss: 0.4386 - acc: 0.6050 - val_loss: 0.4156 - val_acc: 0.6250\n",
            "Epoch 171/500\n",
            "4/4 [==============================] - 0s 10ms/step - loss: 0.4384 - acc: 0.6061 - val_loss: 0.4154 - val_acc: 0.6350\n",
            "Epoch 172/500\n",
            "4/4 [==============================] - 0s 11ms/step - loss: 0.4382 - acc: 0.6077 - val_loss: 0.4152 - val_acc: 0.6350\n",
            "Epoch 173/500\n",
            "4/4 [==============================] - 0s 11ms/step - loss: 0.4379 - acc: 0.6093 - val_loss: 0.4151 - val_acc: 0.6400\n",
            "Epoch 174/500\n",
            "4/4 [==============================] - 0s 10ms/step - loss: 0.4376 - acc: 0.6093 - val_loss: 0.4149 - val_acc: 0.6400\n",
            "Epoch 175/500\n",
            "4/4 [==============================] - 0s 10ms/step - loss: 0.4374 - acc: 0.6090 - val_loss: 0.4147 - val_acc: 0.6400\n",
            "Epoch 176/500\n",
            "4/4 [==============================] - 0s 11ms/step - loss: 0.4371 - acc: 0.6115 - val_loss: 0.4146 - val_acc: 0.6400\n",
            "Epoch 177/500\n",
            "4/4 [==============================] - 0s 11ms/step - loss: 0.4369 - acc: 0.6115 - val_loss: 0.4144 - val_acc: 0.6450\n",
            "Epoch 178/500\n",
            "4/4 [==============================] - 0s 10ms/step - loss: 0.4366 - acc: 0.6131 - val_loss: 0.4142 - val_acc: 0.6450\n",
            "Epoch 179/500\n",
            "4/4 [==============================] - 0s 10ms/step - loss: 0.4364 - acc: 0.6155 - val_loss: 0.4140 - val_acc: 0.6450\n",
            "Epoch 180/500\n",
            "4/4 [==============================] - 0s 10ms/step - loss: 0.4364 - acc: 0.6142 - val_loss: 0.4139 - val_acc: 0.6400\n",
            "Epoch 181/500\n",
            "4/4 [==============================] - 0s 10ms/step - loss: 0.4360 - acc: 0.6174 - val_loss: 0.4137 - val_acc: 0.6400\n",
            "Epoch 182/500\n",
            "4/4 [==============================] - 0s 12ms/step - loss: 0.4358 - acc: 0.6185 - val_loss: 0.4135 - val_acc: 0.6400\n",
            "Epoch 183/500\n",
            "4/4 [==============================] - 0s 12ms/step - loss: 0.4355 - acc: 0.6185 - val_loss: 0.4133 - val_acc: 0.6400\n",
            "Epoch 184/500\n",
            "4/4 [==============================] - 0s 11ms/step - loss: 0.4351 - acc: 0.6172 - val_loss: 0.4132 - val_acc: 0.6400\n",
            "Epoch 185/500\n",
            "4/4 [==============================] - 0s 11ms/step - loss: 0.4350 - acc: 0.6185 - val_loss: 0.4130 - val_acc: 0.6400\n",
            "Epoch 186/500\n",
            "4/4 [==============================] - 0s 11ms/step - loss: 0.4347 - acc: 0.6193 - val_loss: 0.4128 - val_acc: 0.6400\n",
            "Epoch 187/500\n",
            "4/4 [==============================] - 0s 11ms/step - loss: 0.4342 - acc: 0.6226 - val_loss: 0.4126 - val_acc: 0.6250\n",
            "Epoch 188/500\n",
            "4/4 [==============================] - 0s 12ms/step - loss: 0.4339 - acc: 0.6226 - val_loss: 0.4124 - val_acc: 0.6250\n",
            "Epoch 189/500\n",
            "4/4 [==============================] - 0s 10ms/step - loss: 0.4336 - acc: 0.6215 - val_loss: 0.4123 - val_acc: 0.6250\n",
            "Epoch 190/500\n",
            "4/4 [==============================] - 0s 10ms/step - loss: 0.4333 - acc: 0.6228 - val_loss: 0.4121 - val_acc: 0.6200\n",
            "Epoch 191/500\n",
            "4/4 [==============================] - 0s 10ms/step - loss: 0.4332 - acc: 0.6228 - val_loss: 0.4119 - val_acc: 0.6250\n",
            "Epoch 192/500\n",
            "4/4 [==============================] - 0s 10ms/step - loss: 0.4327 - acc: 0.6247 - val_loss: 0.4117 - val_acc: 0.6200\n",
            "Epoch 193/500\n",
            "4/4 [==============================] - 0s 10ms/step - loss: 0.4325 - acc: 0.6261 - val_loss: 0.4115 - val_acc: 0.6200\n",
            "Epoch 194/500\n",
            "4/4 [==============================] - 0s 10ms/step - loss: 0.4322 - acc: 0.6261 - val_loss: 0.4114 - val_acc: 0.6200\n",
            "Epoch 195/500\n",
            "4/4 [==============================] - 0s 11ms/step - loss: 0.4320 - acc: 0.6277 - val_loss: 0.4112 - val_acc: 0.6250\n",
            "Epoch 196/500\n",
            "4/4 [==============================] - 0s 12ms/step - loss: 0.4316 - acc: 0.6282 - val_loss: 0.4110 - val_acc: 0.6300\n",
            "Epoch 197/500\n",
            "4/4 [==============================] - 0s 13ms/step - loss: 0.4314 - acc: 0.6296 - val_loss: 0.4108 - val_acc: 0.6400\n",
            "Epoch 198/500\n",
            "4/4 [==============================] - 0s 11ms/step - loss: 0.4308 - acc: 0.6288 - val_loss: 0.4107 - val_acc: 0.6400\n",
            "Epoch 199/500\n",
            "4/4 [==============================] - 0s 10ms/step - loss: 0.4305 - acc: 0.6339 - val_loss: 0.4105 - val_acc: 0.6450\n",
            "Epoch 200/500\n",
            "4/4 [==============================] - 0s 10ms/step - loss: 0.4301 - acc: 0.6301 - val_loss: 0.4103 - val_acc: 0.6400\n",
            "Epoch 201/500\n",
            "4/4 [==============================] - 0s 11ms/step - loss: 0.4300 - acc: 0.6347 - val_loss: 0.4101 - val_acc: 0.6400\n",
            "Epoch 202/500\n",
            "4/4 [==============================] - 0s 11ms/step - loss: 0.4296 - acc: 0.6345 - val_loss: 0.4100 - val_acc: 0.6500\n",
            "Epoch 203/500\n",
            "4/4 [==============================] - 0s 9ms/step - loss: 0.4291 - acc: 0.6358 - val_loss: 0.4098 - val_acc: 0.6400\n",
            "Epoch 204/500\n",
            "4/4 [==============================] - 0s 10ms/step - loss: 0.4291 - acc: 0.6323 - val_loss: 0.4096 - val_acc: 0.6400\n",
            "Epoch 205/500\n",
            "4/4 [==============================] - 0s 11ms/step - loss: 0.4286 - acc: 0.6342 - val_loss: 0.4094 - val_acc: 0.6400\n",
            "Epoch 206/500\n",
            "4/4 [==============================] - 0s 11ms/step - loss: 0.4282 - acc: 0.6380 - val_loss: 0.4093 - val_acc: 0.6400\n",
            "Epoch 207/500\n",
            "4/4 [==============================] - 0s 9ms/step - loss: 0.4281 - acc: 0.6402 - val_loss: 0.4091 - val_acc: 0.6400\n",
            "Epoch 208/500\n",
            "4/4 [==============================] - 0s 12ms/step - loss: 0.4276 - acc: 0.6383 - val_loss: 0.4089 - val_acc: 0.6450\n",
            "Epoch 209/500\n",
            "4/4 [==============================] - 0s 12ms/step - loss: 0.4272 - acc: 0.6420 - val_loss: 0.4087 - val_acc: 0.6450\n",
            "Epoch 210/500\n",
            "4/4 [==============================] - 0s 12ms/step - loss: 0.4269 - acc: 0.6418 - val_loss: 0.4086 - val_acc: 0.6450\n",
            "Epoch 211/500\n",
            "4/4 [==============================] - 0s 11ms/step - loss: 0.4266 - acc: 0.6426 - val_loss: 0.4084 - val_acc: 0.6400\n",
            "Epoch 212/500\n",
            "4/4 [==============================] - 0s 9ms/step - loss: 0.4265 - acc: 0.6426 - val_loss: 0.4082 - val_acc: 0.6450\n",
            "Epoch 213/500\n",
            "4/4 [==============================] - 0s 11ms/step - loss: 0.4260 - acc: 0.6439 - val_loss: 0.4080 - val_acc: 0.6450\n",
            "Epoch 214/500\n",
            "4/4 [==============================] - 0s 10ms/step - loss: 0.4257 - acc: 0.6448 - val_loss: 0.4079 - val_acc: 0.6450\n",
            "Epoch 215/500\n",
            "4/4 [==============================] - 0s 12ms/step - loss: 0.4255 - acc: 0.6469 - val_loss: 0.4077 - val_acc: 0.6450\n",
            "Epoch 216/500\n",
            "4/4 [==============================] - 0s 12ms/step - loss: 0.4251 - acc: 0.6464 - val_loss: 0.4075 - val_acc: 0.6450\n",
            "Epoch 217/500\n",
            "4/4 [==============================] - 0s 10ms/step - loss: 0.4248 - acc: 0.6491 - val_loss: 0.4073 - val_acc: 0.6450\n",
            "Epoch 218/500\n",
            "4/4 [==============================] - 0s 9ms/step - loss: 0.4246 - acc: 0.6494 - val_loss: 0.4072 - val_acc: 0.6450\n",
            "Epoch 219/500\n",
            "4/4 [==============================] - 0s 11ms/step - loss: 0.4243 - acc: 0.6488 - val_loss: 0.4070 - val_acc: 0.6450\n",
            "Epoch 220/500\n",
            "4/4 [==============================] - 0s 11ms/step - loss: 0.4240 - acc: 0.6534 - val_loss: 0.4068 - val_acc: 0.6450\n",
            "Epoch 221/500\n",
            "4/4 [==============================] - 0s 10ms/step - loss: 0.4238 - acc: 0.6556 - val_loss: 0.4066 - val_acc: 0.6450\n",
            "Epoch 222/500\n",
            "4/4 [==============================] - 0s 10ms/step - loss: 0.4235 - acc: 0.6550 - val_loss: 0.4064 - val_acc: 0.6450\n",
            "Epoch 223/500\n",
            "4/4 [==============================] - 0s 10ms/step - loss: 0.4234 - acc: 0.6542 - val_loss: 0.4062 - val_acc: 0.6450\n",
            "Epoch 224/500\n",
            "4/4 [==============================] - 0s 11ms/step - loss: 0.4231 - acc: 0.6577 - val_loss: 0.4061 - val_acc: 0.6450\n",
            "Epoch 225/500\n",
            "4/4 [==============================] - 0s 11ms/step - loss: 0.4227 - acc: 0.6564 - val_loss: 0.4059 - val_acc: 0.6450\n",
            "Epoch 226/500\n",
            "4/4 [==============================] - 0s 10ms/step - loss: 0.4225 - acc: 0.6567 - val_loss: 0.4057 - val_acc: 0.6450\n",
            "Epoch 227/500\n",
            "4/4 [==============================] - 0s 10ms/step - loss: 0.4224 - acc: 0.6583 - val_loss: 0.4055 - val_acc: 0.6400\n",
            "Epoch 228/500\n",
            "4/4 [==============================] - 0s 9ms/step - loss: 0.4221 - acc: 0.6588 - val_loss: 0.4054 - val_acc: 0.6450\n",
            "Epoch 229/500\n",
            "4/4 [==============================] - 0s 9ms/step - loss: 0.4221 - acc: 0.6567 - val_loss: 0.4052 - val_acc: 0.6450\n",
            "Epoch 230/500\n",
            "4/4 [==============================] - 0s 12ms/step - loss: 0.4217 - acc: 0.6604 - val_loss: 0.4050 - val_acc: 0.6450\n",
            "Epoch 231/500\n",
            "4/4 [==============================] - 0s 10ms/step - loss: 0.4216 - acc: 0.6591 - val_loss: 0.4048 - val_acc: 0.6500\n",
            "Epoch 232/500\n",
            "4/4 [==============================] - 0s 12ms/step - loss: 0.4213 - acc: 0.6631 - val_loss: 0.4047 - val_acc: 0.6500\n",
            "Epoch 233/500\n",
            "4/4 [==============================] - 0s 10ms/step - loss: 0.4211 - acc: 0.6642 - val_loss: 0.4045 - val_acc: 0.6450\n",
            "Epoch 234/500\n",
            "4/4 [==============================] - 0s 13ms/step - loss: 0.4210 - acc: 0.6631 - val_loss: 0.4043 - val_acc: 0.6450\n",
            "Epoch 235/500\n",
            "4/4 [==============================] - 0s 9ms/step - loss: 0.4210 - acc: 0.6623 - val_loss: 0.4041 - val_acc: 0.6450\n",
            "Epoch 236/500\n",
            "4/4 [==============================] - 0s 10ms/step - loss: 0.4205 - acc: 0.6650 - val_loss: 0.4040 - val_acc: 0.6500\n",
            "Epoch 237/500\n",
            "4/4 [==============================] - 0s 10ms/step - loss: 0.4204 - acc: 0.6656 - val_loss: 0.4038 - val_acc: 0.6500\n",
            "Epoch 238/500\n",
            "4/4 [==============================] - 0s 10ms/step - loss: 0.4202 - acc: 0.6672 - val_loss: 0.4036 - val_acc: 0.6500\n",
            "Epoch 239/500\n",
            "4/4 [==============================] - 0s 10ms/step - loss: 0.4201 - acc: 0.6653 - val_loss: 0.4035 - val_acc: 0.6500\n",
            "Epoch 240/500\n",
            "4/4 [==============================] - 0s 9ms/step - loss: 0.4200 - acc: 0.6680 - val_loss: 0.4033 - val_acc: 0.6500\n",
            "Epoch 241/500\n",
            "4/4 [==============================] - 0s 11ms/step - loss: 0.4198 - acc: 0.6694 - val_loss: 0.4031 - val_acc: 0.6500\n",
            "Epoch 242/500\n",
            "4/4 [==============================] - 0s 11ms/step - loss: 0.4197 - acc: 0.6672 - val_loss: 0.4030 - val_acc: 0.6500\n",
            "Epoch 243/500\n",
            "4/4 [==============================] - 0s 9ms/step - loss: 0.4198 - acc: 0.6688 - val_loss: 0.4029 - val_acc: 0.6500\n",
            "Epoch 244/500\n",
            "4/4 [==============================] - 0s 11ms/step - loss: 0.4199 - acc: 0.6661 - val_loss: 0.4027 - val_acc: 0.6500\n",
            "Epoch 245/500\n",
            "4/4 [==============================] - 0s 12ms/step - loss: 0.4195 - acc: 0.6707 - val_loss: 0.4026 - val_acc: 0.6500\n",
            "Epoch 246/500\n",
            "4/4 [==============================] - 0s 10ms/step - loss: 0.4192 - acc: 0.6688 - val_loss: 0.4025 - val_acc: 0.6500\n",
            "Epoch 247/500\n",
            "4/4 [==============================] - 0s 11ms/step - loss: 0.4191 - acc: 0.6669 - val_loss: 0.4024 - val_acc: 0.6500\n",
            "Epoch 248/500\n",
            "4/4 [==============================] - 0s 10ms/step - loss: 0.4189 - acc: 0.6710 - val_loss: 0.4022 - val_acc: 0.6450\n",
            "Epoch 249/500\n",
            "4/4 [==============================] - 0s 11ms/step - loss: 0.4188 - acc: 0.6718 - val_loss: 0.4021 - val_acc: 0.6450\n",
            "Epoch 250/500\n",
            "4/4 [==============================] - 0s 17ms/step - loss: 0.4190 - acc: 0.6686 - val_loss: 0.4020 - val_acc: 0.6450\n",
            "Epoch 251/500\n",
            "4/4 [==============================] - 0s 11ms/step - loss: 0.4188 - acc: 0.6699 - val_loss: 0.4019 - val_acc: 0.6450\n",
            "Epoch 252/500\n",
            "4/4 [==============================] - 0s 11ms/step - loss: 0.4187 - acc: 0.6691 - val_loss: 0.4018 - val_acc: 0.6450\n",
            "Epoch 253/500\n",
            "4/4 [==============================] - 0s 11ms/step - loss: 0.4183 - acc: 0.6732 - val_loss: 0.4017 - val_acc: 0.6450\n",
            "Epoch 254/500\n",
            "4/4 [==============================] - 0s 12ms/step - loss: 0.4183 - acc: 0.6723 - val_loss: 0.4016 - val_acc: 0.6500\n",
            "Epoch 255/500\n",
            "4/4 [==============================] - 0s 10ms/step - loss: 0.4183 - acc: 0.6699 - val_loss: 0.4015 - val_acc: 0.6550\n",
            "Epoch 256/500\n",
            "4/4 [==============================] - 0s 11ms/step - loss: 0.4182 - acc: 0.6713 - val_loss: 0.4014 - val_acc: 0.6500\n",
            "Epoch 257/500\n",
            "4/4 [==============================] - 0s 11ms/step - loss: 0.4180 - acc: 0.6721 - val_loss: 0.4013 - val_acc: 0.6500\n",
            "Epoch 258/500\n",
            "4/4 [==============================] - 0s 11ms/step - loss: 0.4181 - acc: 0.6705 - val_loss: 0.4012 - val_acc: 0.6600\n",
            "Epoch 259/500\n",
            "4/4 [==============================] - 0s 11ms/step - loss: 0.4180 - acc: 0.6737 - val_loss: 0.4011 - val_acc: 0.6600\n",
            "Epoch 260/500\n",
            "4/4 [==============================] - 0s 10ms/step - loss: 0.4178 - acc: 0.6721 - val_loss: 0.4011 - val_acc: 0.6650\n",
            "Epoch 261/500\n",
            "4/4 [==============================] - 0s 10ms/step - loss: 0.4176 - acc: 0.6740 - val_loss: 0.4010 - val_acc: 0.6600\n",
            "Epoch 262/500\n",
            "4/4 [==============================] - 0s 10ms/step - loss: 0.4178 - acc: 0.6734 - val_loss: 0.4010 - val_acc: 0.6600\n",
            "Epoch 263/500\n",
            "4/4 [==============================] - 0s 10ms/step - loss: 0.4175 - acc: 0.6732 - val_loss: 0.4009 - val_acc: 0.6600\n",
            "Epoch 264/500\n",
            "4/4 [==============================] - 0s 12ms/step - loss: 0.4175 - acc: 0.6726 - val_loss: 0.4008 - val_acc: 0.6600\n",
            "Epoch 265/500\n",
            "4/4 [==============================] - 0s 10ms/step - loss: 0.4175 - acc: 0.6715 - val_loss: 0.4008 - val_acc: 0.6650\n",
            "Epoch 266/500\n",
            "4/4 [==============================] - 0s 11ms/step - loss: 0.4172 - acc: 0.6745 - val_loss: 0.4008 - val_acc: 0.6650\n",
            "Epoch 267/500\n",
            "4/4 [==============================] - 0s 10ms/step - loss: 0.4172 - acc: 0.6761 - val_loss: 0.4007 - val_acc: 0.6650\n",
            "Epoch 268/500\n",
            "4/4 [==============================] - 0s 11ms/step - loss: 0.4171 - acc: 0.6751 - val_loss: 0.4006 - val_acc: 0.6650\n",
            "Epoch 269/500\n",
            "4/4 [==============================] - 0s 11ms/step - loss: 0.4170 - acc: 0.6748 - val_loss: 0.4005 - val_acc: 0.6650\n",
            "Epoch 270/500\n",
            "4/4 [==============================] - 0s 10ms/step - loss: 0.4170 - acc: 0.6723 - val_loss: 0.4005 - val_acc: 0.6650\n",
            "Epoch 271/500\n",
            "4/4 [==============================] - 0s 11ms/step - loss: 0.4169 - acc: 0.6772 - val_loss: 0.4005 - val_acc: 0.6650\n",
            "Epoch 272/500\n",
            "4/4 [==============================] - 0s 17ms/step - loss: 0.4169 - acc: 0.6734 - val_loss: 0.4004 - val_acc: 0.6650\n",
            "Epoch 273/500\n",
            "4/4 [==============================] - 0s 11ms/step - loss: 0.4168 - acc: 0.6718 - val_loss: 0.4004 - val_acc: 0.6600\n",
            "Epoch 274/500\n",
            "4/4 [==============================] - 0s 11ms/step - loss: 0.4167 - acc: 0.6783 - val_loss: 0.4003 - val_acc: 0.6600\n",
            "Epoch 275/500\n",
            "4/4 [==============================] - 0s 12ms/step - loss: 0.4167 - acc: 0.6753 - val_loss: 0.4002 - val_acc: 0.6600\n",
            "Epoch 276/500\n",
            "4/4 [==============================] - 0s 19ms/step - loss: 0.4166 - acc: 0.6729 - val_loss: 0.4002 - val_acc: 0.6700\n",
            "Epoch 277/500\n",
            "4/4 [==============================] - 0s 10ms/step - loss: 0.4165 - acc: 0.6783 - val_loss: 0.4002 - val_acc: 0.6700\n",
            "Epoch 278/500\n",
            "4/4 [==============================] - 0s 10ms/step - loss: 0.4165 - acc: 0.6769 - val_loss: 0.4002 - val_acc: 0.6700\n",
            "Epoch 279/500\n",
            "4/4 [==============================] - 0s 13ms/step - loss: 0.4166 - acc: 0.6764 - val_loss: 0.4002 - val_acc: 0.6700\n",
            "Epoch 280/500\n",
            "4/4 [==============================] - 0s 10ms/step - loss: 0.4162 - acc: 0.6753 - val_loss: 0.4001 - val_acc: 0.6650\n",
            "Epoch 281/500\n",
            "4/4 [==============================] - 0s 14ms/step - loss: 0.4162 - acc: 0.6745 - val_loss: 0.4000 - val_acc: 0.6700\n",
            "Epoch 282/500\n",
            "4/4 [==============================] - 0s 11ms/step - loss: 0.4162 - acc: 0.6772 - val_loss: 0.4000 - val_acc: 0.6700\n",
            "Epoch 283/500\n",
            "4/4 [==============================] - 0s 12ms/step - loss: 0.4164 - acc: 0.6772 - val_loss: 0.3999 - val_acc: 0.6700\n",
            "Epoch 284/500\n",
            "4/4 [==============================] - 0s 11ms/step - loss: 0.4161 - acc: 0.6759 - val_loss: 0.3999 - val_acc: 0.6650\n",
            "Epoch 285/500\n",
            "4/4 [==============================] - 0s 11ms/step - loss: 0.4160 - acc: 0.6759 - val_loss: 0.3999 - val_acc: 0.6650\n",
            "Epoch 286/500\n",
            "4/4 [==============================] - 0s 12ms/step - loss: 0.4161 - acc: 0.6764 - val_loss: 0.3999 - val_acc: 0.6650\n",
            "Epoch 287/500\n",
            "4/4 [==============================] - 0s 11ms/step - loss: 0.4160 - acc: 0.6759 - val_loss: 0.3998 - val_acc: 0.6650\n",
            "Epoch 288/500\n",
            "4/4 [==============================] - 0s 12ms/step - loss: 0.4158 - acc: 0.6783 - val_loss: 0.3998 - val_acc: 0.6650\n",
            "Epoch 289/500\n",
            "4/4 [==============================] - 0s 13ms/step - loss: 0.4158 - acc: 0.6780 - val_loss: 0.3998 - val_acc: 0.6650\n",
            "Epoch 290/500\n",
            "4/4 [==============================] - 0s 11ms/step - loss: 0.4157 - acc: 0.6791 - val_loss: 0.3997 - val_acc: 0.6650\n",
            "Epoch 291/500\n",
            "4/4 [==============================] - 0s 11ms/step - loss: 0.4155 - acc: 0.6791 - val_loss: 0.3997 - val_acc: 0.6650\n",
            "Epoch 292/500\n",
            "4/4 [==============================] - 0s 11ms/step - loss: 0.4155 - acc: 0.6767 - val_loss: 0.3996 - val_acc: 0.6650\n",
            "Epoch 293/500\n",
            "4/4 [==============================] - 0s 10ms/step - loss: 0.4154 - acc: 0.6772 - val_loss: 0.3996 - val_acc: 0.6650\n",
            "Epoch 294/500\n",
            "4/4 [==============================] - 0s 11ms/step - loss: 0.4153 - acc: 0.6767 - val_loss: 0.3995 - val_acc: 0.6700\n",
            "Epoch 295/500\n",
            "4/4 [==============================] - 0s 10ms/step - loss: 0.4155 - acc: 0.6786 - val_loss: 0.3995 - val_acc: 0.6700\n",
            "Epoch 296/500\n",
            "4/4 [==============================] - 0s 10ms/step - loss: 0.4155 - acc: 0.6799 - val_loss: 0.3995 - val_acc: 0.6700\n",
            "Epoch 297/500\n",
            "4/4 [==============================] - 0s 11ms/step - loss: 0.4153 - acc: 0.6767 - val_loss: 0.3995 - val_acc: 0.6700\n",
            "Epoch 298/500\n",
            "4/4 [==============================] - 0s 16ms/step - loss: 0.4152 - acc: 0.6786 - val_loss: 0.3994 - val_acc: 0.6750\n",
            "Epoch 299/500\n",
            "4/4 [==============================] - 0s 11ms/step - loss: 0.4152 - acc: 0.6783 - val_loss: 0.3994 - val_acc: 0.6750\n",
            "Epoch 300/500\n",
            "4/4 [==============================] - 0s 11ms/step - loss: 0.4151 - acc: 0.6807 - val_loss: 0.3994 - val_acc: 0.6750\n",
            "Epoch 301/500\n",
            "4/4 [==============================] - 0s 11ms/step - loss: 0.4151 - acc: 0.6769 - val_loss: 0.3994 - val_acc: 0.6750\n",
            "Epoch 302/500\n",
            "4/4 [==============================] - 0s 12ms/step - loss: 0.4150 - acc: 0.6807 - val_loss: 0.3994 - val_acc: 0.6750\n",
            "Epoch 303/500\n",
            "4/4 [==============================] - 0s 12ms/step - loss: 0.4150 - acc: 0.6802 - val_loss: 0.3993 - val_acc: 0.6750\n",
            "Epoch 304/500\n",
            "4/4 [==============================] - 0s 11ms/step - loss: 0.4149 - acc: 0.6807 - val_loss: 0.3993 - val_acc: 0.6750\n",
            "Epoch 305/500\n",
            "4/4 [==============================] - 0s 12ms/step - loss: 0.4149 - acc: 0.6780 - val_loss: 0.3993 - val_acc: 0.6750\n",
            "Epoch 306/500\n",
            "4/4 [==============================] - 0s 10ms/step - loss: 0.4148 - acc: 0.6832 - val_loss: 0.3992 - val_acc: 0.6750\n",
            "Epoch 307/500\n",
            "4/4 [==============================] - 0s 10ms/step - loss: 0.4147 - acc: 0.6829 - val_loss: 0.3993 - val_acc: 0.6750\n",
            "Epoch 308/500\n",
            "4/4 [==============================] - 0s 10ms/step - loss: 0.4148 - acc: 0.6821 - val_loss: 0.3992 - val_acc: 0.6750\n",
            "Epoch 309/500\n",
            "4/4 [==============================] - 0s 12ms/step - loss: 0.4145 - acc: 0.6786 - val_loss: 0.3991 - val_acc: 0.6750\n",
            "Epoch 310/500\n",
            "4/4 [==============================] - 0s 14ms/step - loss: 0.4145 - acc: 0.6815 - val_loss: 0.3990 - val_acc: 0.6800\n",
            "Epoch 311/500\n",
            "4/4 [==============================] - 0s 14ms/step - loss: 0.4144 - acc: 0.6837 - val_loss: 0.3990 - val_acc: 0.6800\n",
            "Epoch 312/500\n",
            "4/4 [==============================] - 0s 10ms/step - loss: 0.4145 - acc: 0.6815 - val_loss: 0.3990 - val_acc: 0.6800\n",
            "Epoch 313/500\n",
            "4/4 [==============================] - 0s 10ms/step - loss: 0.4144 - acc: 0.6824 - val_loss: 0.3990 - val_acc: 0.6800\n",
            "Epoch 314/500\n",
            "4/4 [==============================] - 0s 11ms/step - loss: 0.4142 - acc: 0.6813 - val_loss: 0.3990 - val_acc: 0.6800\n",
            "Epoch 315/500\n",
            "4/4 [==============================] - 0s 11ms/step - loss: 0.4142 - acc: 0.6832 - val_loss: 0.3989 - val_acc: 0.6800\n",
            "Epoch 316/500\n",
            "4/4 [==============================] - 0s 12ms/step - loss: 0.4143 - acc: 0.6818 - val_loss: 0.3987 - val_acc: 0.6800\n",
            "Epoch 317/500\n",
            "4/4 [==============================] - 0s 13ms/step - loss: 0.4141 - acc: 0.6797 - val_loss: 0.3987 - val_acc: 0.6800\n",
            "Epoch 318/500\n",
            "4/4 [==============================] - 0s 11ms/step - loss: 0.4141 - acc: 0.6843 - val_loss: 0.3987 - val_acc: 0.6800\n",
            "Epoch 319/500\n",
            "4/4 [==============================] - 0s 10ms/step - loss: 0.4140 - acc: 0.6845 - val_loss: 0.3987 - val_acc: 0.6800\n",
            "Epoch 320/500\n",
            "4/4 [==============================] - 0s 13ms/step - loss: 0.4140 - acc: 0.6826 - val_loss: 0.3987 - val_acc: 0.6800\n",
            "Epoch 321/500\n",
            "4/4 [==============================] - 0s 11ms/step - loss: 0.4139 - acc: 0.6845 - val_loss: 0.3987 - val_acc: 0.6800\n",
            "Epoch 322/500\n",
            "4/4 [==============================] - 0s 11ms/step - loss: 0.4141 - acc: 0.6840 - val_loss: 0.3986 - val_acc: 0.6800\n",
            "Epoch 323/500\n",
            "4/4 [==============================] - 0s 10ms/step - loss: 0.4139 - acc: 0.6851 - val_loss: 0.3985 - val_acc: 0.6800\n",
            "Epoch 324/500\n",
            "4/4 [==============================] - 0s 10ms/step - loss: 0.4137 - acc: 0.6845 - val_loss: 0.3985 - val_acc: 0.6800\n",
            "Epoch 325/500\n",
            "4/4 [==============================] - 0s 11ms/step - loss: 0.4139 - acc: 0.6818 - val_loss: 0.3985 - val_acc: 0.6800\n",
            "Epoch 326/500\n",
            "4/4 [==============================] - 0s 11ms/step - loss: 0.4136 - acc: 0.6834 - val_loss: 0.3985 - val_acc: 0.6800\n",
            "Epoch 327/500\n",
            "4/4 [==============================] - 0s 13ms/step - loss: 0.4135 - acc: 0.6856 - val_loss: 0.3985 - val_acc: 0.6850\n",
            "Epoch 328/500\n",
            "4/4 [==============================] - 0s 10ms/step - loss: 0.4136 - acc: 0.6843 - val_loss: 0.3984 - val_acc: 0.6850\n",
            "Epoch 329/500\n",
            "4/4 [==============================] - 0s 10ms/step - loss: 0.4134 - acc: 0.6851 - val_loss: 0.3984 - val_acc: 0.6850\n",
            "Epoch 330/500\n",
            "4/4 [==============================] - 0s 12ms/step - loss: 0.4134 - acc: 0.6851 - val_loss: 0.3983 - val_acc: 0.6850\n",
            "Epoch 331/500\n",
            "4/4 [==============================] - 0s 13ms/step - loss: 0.4133 - acc: 0.6826 - val_loss: 0.3983 - val_acc: 0.6850\n",
            "Epoch 332/500\n",
            "4/4 [==============================] - 0s 13ms/step - loss: 0.4133 - acc: 0.6791 - val_loss: 0.3982 - val_acc: 0.6900\n",
            "Epoch 333/500\n",
            "4/4 [==============================] - 0s 11ms/step - loss: 0.4135 - acc: 0.6824 - val_loss: 0.3982 - val_acc: 0.6900\n",
            "Epoch 334/500\n",
            "4/4 [==============================] - 0s 11ms/step - loss: 0.4132 - acc: 0.6870 - val_loss: 0.3982 - val_acc: 0.6900\n",
            "Epoch 335/500\n",
            "4/4 [==============================] - 0s 11ms/step - loss: 0.4132 - acc: 0.6864 - val_loss: 0.3982 - val_acc: 0.6900\n",
            "Epoch 336/500\n",
            "4/4 [==============================] - 0s 13ms/step - loss: 0.4132 - acc: 0.6872 - val_loss: 0.3981 - val_acc: 0.6900\n",
            "Epoch 337/500\n",
            "4/4 [==============================] - 0s 11ms/step - loss: 0.4130 - acc: 0.6867 - val_loss: 0.3980 - val_acc: 0.6900\n",
            "Epoch 338/500\n",
            "4/4 [==============================] - 0s 11ms/step - loss: 0.4131 - acc: 0.6845 - val_loss: 0.3980 - val_acc: 0.6900\n",
            "Epoch 339/500\n",
            "4/4 [==============================] - 0s 11ms/step - loss: 0.4129 - acc: 0.6840 - val_loss: 0.3979 - val_acc: 0.6900\n",
            "Epoch 340/500\n",
            "4/4 [==============================] - 0s 11ms/step - loss: 0.4129 - acc: 0.6875 - val_loss: 0.3980 - val_acc: 0.6900\n",
            "Epoch 341/500\n",
            "4/4 [==============================] - 0s 10ms/step - loss: 0.4129 - acc: 0.6883 - val_loss: 0.3979 - val_acc: 0.6900\n",
            "Epoch 342/500\n",
            "4/4 [==============================] - 0s 14ms/step - loss: 0.4128 - acc: 0.6870 - val_loss: 0.3979 - val_acc: 0.6850\n",
            "Epoch 343/500\n",
            "4/4 [==============================] - 0s 11ms/step - loss: 0.4128 - acc: 0.6867 - val_loss: 0.3978 - val_acc: 0.6900\n",
            "Epoch 344/500\n",
            "4/4 [==============================] - 0s 14ms/step - loss: 0.4125 - acc: 0.6859 - val_loss: 0.3978 - val_acc: 0.6900\n",
            "Epoch 345/500\n",
            "4/4 [==============================] - 0s 12ms/step - loss: 0.4125 - acc: 0.6864 - val_loss: 0.3977 - val_acc: 0.6900\n",
            "Epoch 346/500\n",
            "4/4 [==============================] - 0s 14ms/step - loss: 0.4126 - acc: 0.6894 - val_loss: 0.3977 - val_acc: 0.6900\n",
            "Epoch 347/500\n",
            "4/4 [==============================] - 0s 11ms/step - loss: 0.4126 - acc: 0.6864 - val_loss: 0.3977 - val_acc: 0.6900\n",
            "Epoch 348/500\n",
            "4/4 [==============================] - 0s 10ms/step - loss: 0.4127 - acc: 0.6856 - val_loss: 0.3977 - val_acc: 0.6900\n",
            "Epoch 349/500\n",
            "4/4 [==============================] - 0s 14ms/step - loss: 0.4123 - acc: 0.6897 - val_loss: 0.3976 - val_acc: 0.6950\n",
            "Epoch 350/500\n",
            "4/4 [==============================] - 0s 11ms/step - loss: 0.4123 - acc: 0.6872 - val_loss: 0.3974 - val_acc: 0.6950\n",
            "Epoch 351/500\n",
            "4/4 [==============================] - 0s 11ms/step - loss: 0.4121 - acc: 0.6870 - val_loss: 0.3974 - val_acc: 0.6950\n",
            "Epoch 352/500\n",
            "4/4 [==============================] - 0s 11ms/step - loss: 0.4123 - acc: 0.6815 - val_loss: 0.3975 - val_acc: 0.6950\n",
            "Epoch 353/500\n",
            "4/4 [==============================] - 0s 10ms/step - loss: 0.4123 - acc: 0.6897 - val_loss: 0.3975 - val_acc: 0.6950\n",
            "Epoch 354/500\n",
            "4/4 [==============================] - 0s 11ms/step - loss: 0.4121 - acc: 0.6870 - val_loss: 0.3974 - val_acc: 0.6950\n",
            "Epoch 355/500\n",
            "4/4 [==============================] - 0s 11ms/step - loss: 0.4121 - acc: 0.6883 - val_loss: 0.3973 - val_acc: 0.6950\n",
            "Epoch 356/500\n",
            "4/4 [==============================] - 0s 11ms/step - loss: 0.4119 - acc: 0.6878 - val_loss: 0.3973 - val_acc: 0.6900\n",
            "Epoch 357/500\n",
            "4/4 [==============================] - 0s 12ms/step - loss: 0.4121 - acc: 0.6889 - val_loss: 0.3972 - val_acc: 0.6900\n",
            "Epoch 358/500\n",
            "4/4 [==============================] - 0s 11ms/step - loss: 0.4120 - acc: 0.6880 - val_loss: 0.3972 - val_acc: 0.6950\n",
            "Epoch 359/500\n",
            "4/4 [==============================] - 0s 11ms/step - loss: 0.4121 - acc: 0.6897 - val_loss: 0.3971 - val_acc: 0.6900\n",
            "Epoch 360/500\n",
            "4/4 [==============================] - 0s 10ms/step - loss: 0.4118 - acc: 0.6926 - val_loss: 0.3971 - val_acc: 0.6900\n",
            "Epoch 361/500\n",
            "4/4 [==============================] - 0s 13ms/step - loss: 0.4118 - acc: 0.6891 - val_loss: 0.3971 - val_acc: 0.6900\n",
            "Epoch 362/500\n",
            "4/4 [==============================] - 0s 11ms/step - loss: 0.4118 - acc: 0.6880 - val_loss: 0.3971 - val_acc: 0.6950\n",
            "Epoch 363/500\n",
            "4/4 [==============================] - 0s 11ms/step - loss: 0.4118 - acc: 0.6910 - val_loss: 0.3971 - val_acc: 0.6950\n",
            "Epoch 364/500\n",
            "4/4 [==============================] - 0s 17ms/step - loss: 0.4116 - acc: 0.6886 - val_loss: 0.3971 - val_acc: 0.6950\n",
            "Epoch 365/500\n",
            "4/4 [==============================] - 0s 11ms/step - loss: 0.4115 - acc: 0.6929 - val_loss: 0.3970 - val_acc: 0.6950\n",
            "Epoch 366/500\n",
            "4/4 [==============================] - 0s 10ms/step - loss: 0.4114 - acc: 0.6921 - val_loss: 0.3970 - val_acc: 0.6950\n",
            "Epoch 367/500\n",
            "4/4 [==============================] - 0s 11ms/step - loss: 0.4116 - acc: 0.6875 - val_loss: 0.3969 - val_acc: 0.6950\n",
            "Epoch 368/500\n",
            "4/4 [==============================] - 0s 11ms/step - loss: 0.4116 - acc: 0.6899 - val_loss: 0.3968 - val_acc: 0.6900\n",
            "Epoch 369/500\n",
            "4/4 [==============================] - 0s 11ms/step - loss: 0.4113 - acc: 0.6905 - val_loss: 0.3968 - val_acc: 0.6900\n",
            "Epoch 370/500\n",
            "4/4 [==============================] - 0s 11ms/step - loss: 0.4112 - acc: 0.6880 - val_loss: 0.3968 - val_acc: 0.6900\n",
            "Epoch 371/500\n",
            "4/4 [==============================] - 0s 10ms/step - loss: 0.4111 - acc: 0.6905 - val_loss: 0.3968 - val_acc: 0.6900\n",
            "Epoch 372/500\n",
            "4/4 [==============================] - 0s 12ms/step - loss: 0.4113 - acc: 0.6894 - val_loss: 0.3967 - val_acc: 0.6900\n",
            "Epoch 373/500\n",
            "4/4 [==============================] - 0s 11ms/step - loss: 0.4112 - acc: 0.6921 - val_loss: 0.3967 - val_acc: 0.6900\n",
            "Epoch 374/500\n",
            "4/4 [==============================] - 0s 13ms/step - loss: 0.4112 - acc: 0.6870 - val_loss: 0.3966 - val_acc: 0.6900\n",
            "Epoch 375/500\n",
            "4/4 [==============================] - 0s 11ms/step - loss: 0.4110 - acc: 0.6905 - val_loss: 0.3966 - val_acc: 0.6900\n",
            "Epoch 376/500\n",
            "4/4 [==============================] - 0s 11ms/step - loss: 0.4111 - acc: 0.6872 - val_loss: 0.3966 - val_acc: 0.6900\n",
            "Epoch 377/500\n",
            "4/4 [==============================] - 0s 12ms/step - loss: 0.4110 - acc: 0.6916 - val_loss: 0.3966 - val_acc: 0.6900\n",
            "Epoch 378/500\n",
            "4/4 [==============================] - 0s 12ms/step - loss: 0.4107 - acc: 0.6905 - val_loss: 0.3965 - val_acc: 0.6950\n",
            "Epoch 379/500\n",
            "4/4 [==============================] - 0s 10ms/step - loss: 0.4107 - acc: 0.6924 - val_loss: 0.3965 - val_acc: 0.6950\n",
            "Epoch 380/500\n",
            "4/4 [==============================] - 0s 13ms/step - loss: 0.4108 - acc: 0.6894 - val_loss: 0.3964 - val_acc: 0.6950\n",
            "Epoch 381/500\n",
            "4/4 [==============================] - 0s 12ms/step - loss: 0.4107 - acc: 0.6926 - val_loss: 0.3964 - val_acc: 0.6950\n",
            "Epoch 382/500\n",
            "4/4 [==============================] - 0s 11ms/step - loss: 0.4106 - acc: 0.6918 - val_loss: 0.3963 - val_acc: 0.6950\n",
            "Epoch 383/500\n",
            "4/4 [==============================] - 0s 10ms/step - loss: 0.4106 - acc: 0.6924 - val_loss: 0.3963 - val_acc: 0.7000\n",
            "Epoch 384/500\n",
            "4/4 [==============================] - 0s 14ms/step - loss: 0.4107 - acc: 0.6937 - val_loss: 0.3962 - val_acc: 0.7000\n",
            "Epoch 385/500\n",
            "4/4 [==============================] - 0s 13ms/step - loss: 0.4106 - acc: 0.6916 - val_loss: 0.3963 - val_acc: 0.7000\n",
            "Epoch 386/500\n",
            "4/4 [==============================] - 0s 15ms/step - loss: 0.4107 - acc: 0.6924 - val_loss: 0.3962 - val_acc: 0.6950\n",
            "Epoch 387/500\n",
            "4/4 [==============================] - 0s 10ms/step - loss: 0.4105 - acc: 0.6916 - val_loss: 0.3962 - val_acc: 0.6950\n",
            "Epoch 388/500\n",
            "4/4 [==============================] - 0s 16ms/step - loss: 0.4103 - acc: 0.6935 - val_loss: 0.3961 - val_acc: 0.6950\n",
            "Epoch 389/500\n",
            "4/4 [==============================] - 0s 12ms/step - loss: 0.4103 - acc: 0.6918 - val_loss: 0.3961 - val_acc: 0.6950\n",
            "Epoch 390/500\n",
            "4/4 [==============================] - 0s 11ms/step - loss: 0.4102 - acc: 0.6940 - val_loss: 0.3961 - val_acc: 0.6950\n",
            "Epoch 391/500\n",
            "4/4 [==============================] - 0s 11ms/step - loss: 0.4104 - acc: 0.6929 - val_loss: 0.3961 - val_acc: 0.6950\n",
            "Epoch 392/500\n",
            "4/4 [==============================] - 0s 11ms/step - loss: 0.4105 - acc: 0.6970 - val_loss: 0.3961 - val_acc: 0.6950\n",
            "Epoch 393/500\n",
            "4/4 [==============================] - 0s 10ms/step - loss: 0.4101 - acc: 0.6967 - val_loss: 0.3959 - val_acc: 0.6950\n",
            "Epoch 394/500\n",
            "4/4 [==============================] - 0s 11ms/step - loss: 0.4102 - acc: 0.6945 - val_loss: 0.3959 - val_acc: 0.6950\n",
            "Epoch 395/500\n",
            "4/4 [==============================] - 0s 13ms/step - loss: 0.4102 - acc: 0.6959 - val_loss: 0.3959 - val_acc: 0.6950\n",
            "Epoch 396/500\n",
            "4/4 [==============================] - 0s 11ms/step - loss: 0.4101 - acc: 0.6945 - val_loss: 0.3959 - val_acc: 0.6950\n",
            "Epoch 397/500\n",
            "4/4 [==============================] - 0s 11ms/step - loss: 0.4100 - acc: 0.6972 - val_loss: 0.3958 - val_acc: 0.6950\n",
            "Epoch 398/500\n",
            "4/4 [==============================] - 0s 12ms/step - loss: 0.4100 - acc: 0.6926 - val_loss: 0.3958 - val_acc: 0.6950\n",
            "Epoch 399/500\n",
            "4/4 [==============================] - 0s 10ms/step - loss: 0.4097 - acc: 0.6948 - val_loss: 0.3958 - val_acc: 0.6950\n",
            "Epoch 400/500\n",
            "4/4 [==============================] - 0s 13ms/step - loss: 0.4099 - acc: 0.6951 - val_loss: 0.3958 - val_acc: 0.6950\n",
            "Epoch 401/500\n",
            "4/4 [==============================] - 0s 11ms/step - loss: 0.4097 - acc: 0.6962 - val_loss: 0.3958 - val_acc: 0.6950\n",
            "Epoch 402/500\n",
            "4/4 [==============================] - 0s 14ms/step - loss: 0.4098 - acc: 0.6964 - val_loss: 0.3958 - val_acc: 0.6950\n",
            "Epoch 403/500\n",
            "4/4 [==============================] - 0s 12ms/step - loss: 0.4096 - acc: 0.6956 - val_loss: 0.3957 - val_acc: 0.6950\n",
            "Epoch 404/500\n",
            "4/4 [==============================] - 0s 12ms/step - loss: 0.4098 - acc: 0.6959 - val_loss: 0.3957 - val_acc: 0.6950\n",
            "Epoch 405/500\n",
            "4/4 [==============================] - 0s 10ms/step - loss: 0.4095 - acc: 0.6967 - val_loss: 0.3956 - val_acc: 0.6950\n",
            "Epoch 406/500\n",
            "4/4 [==============================] - 0s 11ms/step - loss: 0.4095 - acc: 0.6989 - val_loss: 0.3956 - val_acc: 0.6950\n",
            "Epoch 407/500\n",
            "4/4 [==============================] - 0s 17ms/step - loss: 0.4095 - acc: 0.6986 - val_loss: 0.3956 - val_acc: 0.6900\n",
            "Epoch 408/500\n",
            "4/4 [==============================] - 0s 11ms/step - loss: 0.4096 - acc: 0.6924 - val_loss: 0.3955 - val_acc: 0.6900\n",
            "Epoch 409/500\n",
            "4/4 [==============================] - 0s 12ms/step - loss: 0.4097 - acc: 0.6951 - val_loss: 0.3955 - val_acc: 0.6900\n",
            "Epoch 410/500\n",
            "4/4 [==============================] - 0s 13ms/step - loss: 0.4094 - acc: 0.7002 - val_loss: 0.3955 - val_acc: 0.6900\n",
            "Epoch 411/500\n",
            "4/4 [==============================] - 0s 14ms/step - loss: 0.4092 - acc: 0.6991 - val_loss: 0.3954 - val_acc: 0.6900\n",
            "Epoch 412/500\n",
            "4/4 [==============================] - 0s 12ms/step - loss: 0.4092 - acc: 0.6967 - val_loss: 0.3954 - val_acc: 0.6900\n",
            "Epoch 413/500\n",
            "4/4 [==============================] - 0s 12ms/step - loss: 0.4092 - acc: 0.6972 - val_loss: 0.3953 - val_acc: 0.6900\n",
            "Epoch 414/500\n",
            "4/4 [==============================] - 0s 14ms/step - loss: 0.4094 - acc: 0.6999 - val_loss: 0.3954 - val_acc: 0.6900\n",
            "Epoch 415/500\n",
            "4/4 [==============================] - 0s 11ms/step - loss: 0.4091 - acc: 0.6981 - val_loss: 0.3953 - val_acc: 0.6900\n",
            "Epoch 416/500\n",
            "4/4 [==============================] - 0s 13ms/step - loss: 0.4089 - acc: 0.6994 - val_loss: 0.3953 - val_acc: 0.6900\n",
            "Epoch 417/500\n",
            "4/4 [==============================] - 0s 12ms/step - loss: 0.4089 - acc: 0.6983 - val_loss: 0.3953 - val_acc: 0.6900\n",
            "Epoch 418/500\n",
            "4/4 [==============================] - 0s 11ms/step - loss: 0.4090 - acc: 0.7005 - val_loss: 0.3953 - val_acc: 0.6900\n",
            "Epoch 419/500\n",
            "4/4 [==============================] - 0s 13ms/step - loss: 0.4095 - acc: 0.6962 - val_loss: 0.3952 - val_acc: 0.6900\n",
            "Epoch 420/500\n",
            "4/4 [==============================] - 0s 14ms/step - loss: 0.4090 - acc: 0.6999 - val_loss: 0.3951 - val_acc: 0.6900\n",
            "Epoch 421/500\n",
            "4/4 [==============================] - 0s 14ms/step - loss: 0.4089 - acc: 0.7010 - val_loss: 0.3951 - val_acc: 0.6900\n",
            "Epoch 422/500\n",
            "4/4 [==============================] - 0s 12ms/step - loss: 0.4088 - acc: 0.6983 - val_loss: 0.3951 - val_acc: 0.6900\n",
            "Epoch 423/500\n",
            "4/4 [==============================] - 0s 13ms/step - loss: 0.4087 - acc: 0.6986 - val_loss: 0.3951 - val_acc: 0.6900\n",
            "Epoch 424/500\n",
            "4/4 [==============================] - 0s 11ms/step - loss: 0.4087 - acc: 0.7005 - val_loss: 0.3951 - val_acc: 0.6900\n",
            "Epoch 425/500\n",
            "4/4 [==============================] - 0s 16ms/step - loss: 0.4086 - acc: 0.6999 - val_loss: 0.3951 - val_acc: 0.6900\n",
            "Epoch 426/500\n",
            "4/4 [==============================] - 0s 13ms/step - loss: 0.4087 - acc: 0.6970 - val_loss: 0.3950 - val_acc: 0.6900\n",
            "Epoch 427/500\n",
            "4/4 [==============================] - 0s 11ms/step - loss: 0.4087 - acc: 0.7005 - val_loss: 0.3949 - val_acc: 0.6900\n",
            "Epoch 428/500\n",
            "4/4 [==============================] - 0s 15ms/step - loss: 0.4085 - acc: 0.6972 - val_loss: 0.3949 - val_acc: 0.6900\n",
            "Epoch 429/500\n",
            "4/4 [==============================] - 0s 11ms/step - loss: 0.4085 - acc: 0.7016 - val_loss: 0.3950 - val_acc: 0.6900\n",
            "Epoch 430/500\n",
            "4/4 [==============================] - 0s 12ms/step - loss: 0.4084 - acc: 0.6997 - val_loss: 0.3950 - val_acc: 0.6850\n",
            "Epoch 431/500\n",
            "4/4 [==============================] - 0s 11ms/step - loss: 0.4084 - acc: 0.7002 - val_loss: 0.3950 - val_acc: 0.6850\n",
            "Epoch 432/500\n",
            "4/4 [==============================] - 0s 11ms/step - loss: 0.4083 - acc: 0.7021 - val_loss: 0.3949 - val_acc: 0.6850\n",
            "Epoch 433/500\n",
            "4/4 [==============================] - 0s 11ms/step - loss: 0.4085 - acc: 0.7021 - val_loss: 0.3949 - val_acc: 0.6850\n",
            "Epoch 434/500\n",
            "4/4 [==============================] - 0s 14ms/step - loss: 0.4083 - acc: 0.7008 - val_loss: 0.3948 - val_acc: 0.6900\n",
            "Epoch 435/500\n",
            "4/4 [==============================] - 0s 10ms/step - loss: 0.4082 - acc: 0.7005 - val_loss: 0.3948 - val_acc: 0.6850\n",
            "Epoch 436/500\n",
            "4/4 [==============================] - 0s 14ms/step - loss: 0.4085 - acc: 0.7040 - val_loss: 0.3948 - val_acc: 0.6850\n",
            "Epoch 437/500\n",
            "4/4 [==============================] - 0s 12ms/step - loss: 0.4081 - acc: 0.7016 - val_loss: 0.3948 - val_acc: 0.6850\n",
            "Epoch 438/500\n",
            "4/4 [==============================] - 0s 10ms/step - loss: 0.4083 - acc: 0.7021 - val_loss: 0.3948 - val_acc: 0.6850\n",
            "Epoch 439/500\n",
            "4/4 [==============================] - 0s 11ms/step - loss: 0.4081 - acc: 0.7018 - val_loss: 0.3948 - val_acc: 0.6850\n",
            "Epoch 440/500\n",
            "4/4 [==============================] - 0s 11ms/step - loss: 0.4081 - acc: 0.6999 - val_loss: 0.3947 - val_acc: 0.6850\n",
            "Epoch 441/500\n",
            "4/4 [==============================] - 0s 14ms/step - loss: 0.4080 - acc: 0.7035 - val_loss: 0.3947 - val_acc: 0.6850\n",
            "Epoch 442/500\n",
            "4/4 [==============================] - 0s 11ms/step - loss: 0.4081 - acc: 0.7035 - val_loss: 0.3946 - val_acc: 0.6900\n",
            "Epoch 443/500\n",
            "4/4 [==============================] - 0s 12ms/step - loss: 0.4079 - acc: 0.7029 - val_loss: 0.3946 - val_acc: 0.6900\n",
            "Epoch 444/500\n",
            "4/4 [==============================] - 0s 9ms/step - loss: 0.4080 - acc: 0.6989 - val_loss: 0.3946 - val_acc: 0.6850\n",
            "Epoch 445/500\n",
            "4/4 [==============================] - 0s 12ms/step - loss: 0.4078 - acc: 0.7021 - val_loss: 0.3946 - val_acc: 0.6900\n",
            "Epoch 446/500\n",
            "4/4 [==============================] - 0s 11ms/step - loss: 0.4079 - acc: 0.7037 - val_loss: 0.3947 - val_acc: 0.6850\n",
            "Epoch 447/500\n",
            "4/4 [==============================] - 0s 11ms/step - loss: 0.4078 - acc: 0.7029 - val_loss: 0.3946 - val_acc: 0.6850\n",
            "Epoch 448/500\n",
            "4/4 [==============================] - 0s 14ms/step - loss: 0.4078 - acc: 0.7013 - val_loss: 0.3945 - val_acc: 0.6800\n",
            "Epoch 449/500\n",
            "4/4 [==============================] - 0s 13ms/step - loss: 0.4080 - acc: 0.6959 - val_loss: 0.3945 - val_acc: 0.6800\n",
            "Epoch 450/500\n",
            "4/4 [==============================] - 0s 13ms/step - loss: 0.4078 - acc: 0.7029 - val_loss: 0.3945 - val_acc: 0.6800\n",
            "Epoch 451/500\n",
            "4/4 [==============================] - 0s 11ms/step - loss: 0.4079 - acc: 0.7005 - val_loss: 0.3945 - val_acc: 0.6800\n",
            "Epoch 452/500\n",
            "4/4 [==============================] - 0s 13ms/step - loss: 0.4076 - acc: 0.6994 - val_loss: 0.3945 - val_acc: 0.6800\n",
            "Epoch 453/500\n",
            "4/4 [==============================] - 0s 11ms/step - loss: 0.4076 - acc: 0.7040 - val_loss: 0.3944 - val_acc: 0.6800\n",
            "Epoch 454/500\n",
            "4/4 [==============================] - 0s 11ms/step - loss: 0.4077 - acc: 0.6997 - val_loss: 0.3944 - val_acc: 0.6850\n",
            "Epoch 455/500\n",
            "4/4 [==============================] - 0s 10ms/step - loss: 0.4075 - acc: 0.6999 - val_loss: 0.3944 - val_acc: 0.6800\n",
            "Epoch 456/500\n",
            "4/4 [==============================] - 0s 12ms/step - loss: 0.4076 - acc: 0.7032 - val_loss: 0.3944 - val_acc: 0.6850\n",
            "Epoch 457/500\n",
            "4/4 [==============================] - 0s 11ms/step - loss: 0.4077 - acc: 0.7005 - val_loss: 0.3944 - val_acc: 0.6850\n",
            "Epoch 458/500\n",
            "4/4 [==============================] - 0s 18ms/step - loss: 0.4077 - acc: 0.7016 - val_loss: 0.3943 - val_acc: 0.6900\n",
            "Epoch 459/500\n",
            "4/4 [==============================] - 0s 13ms/step - loss: 0.4075 - acc: 0.7027 - val_loss: 0.3942 - val_acc: 0.6900\n",
            "Epoch 460/500\n",
            "4/4 [==============================] - 0s 10ms/step - loss: 0.4074 - acc: 0.7010 - val_loss: 0.3942 - val_acc: 0.6900\n",
            "Epoch 461/500\n",
            "4/4 [==============================] - 0s 11ms/step - loss: 0.4074 - acc: 0.7008 - val_loss: 0.3942 - val_acc: 0.6900\n",
            "Epoch 462/500\n",
            "4/4 [==============================] - 0s 11ms/step - loss: 0.4075 - acc: 0.7037 - val_loss: 0.3943 - val_acc: 0.6800\n",
            "Epoch 463/500\n",
            "4/4 [==============================] - 0s 12ms/step - loss: 0.4072 - acc: 0.7018 - val_loss: 0.3943 - val_acc: 0.6800\n",
            "Epoch 464/500\n",
            "4/4 [==============================] - 0s 12ms/step - loss: 0.4073 - acc: 0.7040 - val_loss: 0.3942 - val_acc: 0.6850\n",
            "Epoch 465/500\n",
            "4/4 [==============================] - 0s 11ms/step - loss: 0.4073 - acc: 0.7051 - val_loss: 0.3941 - val_acc: 0.6850\n",
            "Epoch 466/500\n",
            "4/4 [==============================] - 0s 12ms/step - loss: 0.4071 - acc: 0.7024 - val_loss: 0.3941 - val_acc: 0.6850\n",
            "Epoch 467/500\n",
            "4/4 [==============================] - 0s 10ms/step - loss: 0.4072 - acc: 0.7016 - val_loss: 0.3941 - val_acc: 0.6850\n",
            "Epoch 468/500\n",
            "4/4 [==============================] - 0s 13ms/step - loss: 0.4073 - acc: 0.7016 - val_loss: 0.3941 - val_acc: 0.6850\n",
            "Epoch 469/500\n",
            "4/4 [==============================] - 0s 12ms/step - loss: 0.4070 - acc: 0.7018 - val_loss: 0.3940 - val_acc: 0.6850\n",
            "Epoch 470/500\n",
            "4/4 [==============================] - 0s 16ms/step - loss: 0.4071 - acc: 0.7018 - val_loss: 0.3940 - val_acc: 0.6850\n",
            "Epoch 471/500\n",
            "4/4 [==============================] - 0s 12ms/step - loss: 0.4071 - acc: 0.7024 - val_loss: 0.3940 - val_acc: 0.6850\n",
            "Epoch 472/500\n",
            "4/4 [==============================] - 0s 13ms/step - loss: 0.4073 - acc: 0.7035 - val_loss: 0.3941 - val_acc: 0.6850\n",
            "Epoch 473/500\n",
            "4/4 [==============================] - 0s 11ms/step - loss: 0.4069 - acc: 0.7021 - val_loss: 0.3941 - val_acc: 0.6850\n",
            "Epoch 474/500\n",
            "4/4 [==============================] - 0s 10ms/step - loss: 0.4072 - acc: 0.6970 - val_loss: 0.3940 - val_acc: 0.6850\n",
            "Epoch 475/500\n",
            "4/4 [==============================] - 0s 13ms/step - loss: 0.4070 - acc: 0.6975 - val_loss: 0.3939 - val_acc: 0.6850\n",
            "Epoch 476/500\n",
            "4/4 [==============================] - 0s 12ms/step - loss: 0.4069 - acc: 0.7016 - val_loss: 0.3940 - val_acc: 0.6850\n",
            "Epoch 477/500\n",
            "4/4 [==============================] - 0s 11ms/step - loss: 0.4069 - acc: 0.7013 - val_loss: 0.3939 - val_acc: 0.6850\n",
            "Epoch 478/500\n",
            "4/4 [==============================] - 0s 12ms/step - loss: 0.4071 - acc: 0.7002 - val_loss: 0.3939 - val_acc: 0.6850\n",
            "Epoch 479/500\n",
            "4/4 [==============================] - 0s 13ms/step - loss: 0.4073 - acc: 0.6989 - val_loss: 0.3939 - val_acc: 0.6850\n",
            "Epoch 480/500\n",
            "4/4 [==============================] - 0s 11ms/step - loss: 0.4068 - acc: 0.7021 - val_loss: 0.3939 - val_acc: 0.6850\n",
            "Epoch 481/500\n",
            "4/4 [==============================] - 0s 11ms/step - loss: 0.4068 - acc: 0.7021 - val_loss: 0.3938 - val_acc: 0.6800\n",
            "Epoch 482/500\n",
            "4/4 [==============================] - 0s 11ms/step - loss: 0.4069 - acc: 0.6986 - val_loss: 0.3938 - val_acc: 0.6800\n",
            "Epoch 483/500\n",
            "4/4 [==============================] - 0s 12ms/step - loss: 0.4069 - acc: 0.7032 - val_loss: 0.3939 - val_acc: 0.6800\n",
            "Epoch 484/500\n",
            "4/4 [==============================] - 0s 11ms/step - loss: 0.4068 - acc: 0.7016 - val_loss: 0.3938 - val_acc: 0.6800\n",
            "Epoch 485/500\n",
            "4/4 [==============================] - 0s 12ms/step - loss: 0.4066 - acc: 0.7002 - val_loss: 0.3938 - val_acc: 0.6800\n",
            "Epoch 486/500\n",
            "4/4 [==============================] - 0s 11ms/step - loss: 0.4067 - acc: 0.6991 - val_loss: 0.3937 - val_acc: 0.6800\n",
            "Epoch 487/500\n",
            "4/4 [==============================] - 0s 12ms/step - loss: 0.4066 - acc: 0.7002 - val_loss: 0.3937 - val_acc: 0.6850\n",
            "Epoch 488/500\n",
            "4/4 [==============================] - 0s 11ms/step - loss: 0.4067 - acc: 0.7029 - val_loss: 0.3937 - val_acc: 0.6850\n",
            "Epoch 489/500\n",
            "4/4 [==============================] - 0s 13ms/step - loss: 0.4066 - acc: 0.6997 - val_loss: 0.3937 - val_acc: 0.6850\n",
            "Epoch 490/500\n",
            "4/4 [==============================] - 0s 13ms/step - loss: 0.4066 - acc: 0.6986 - val_loss: 0.3937 - val_acc: 0.6850\n",
            "Epoch 491/500\n",
            "4/4 [==============================] - 0s 11ms/step - loss: 0.4066 - acc: 0.6986 - val_loss: 0.3936 - val_acc: 0.6850\n",
            "Epoch 492/500\n",
            "4/4 [==============================] - 0s 14ms/step - loss: 0.4066 - acc: 0.7002 - val_loss: 0.3936 - val_acc: 0.6850\n",
            "Epoch 493/500\n",
            "4/4 [==============================] - 0s 10ms/step - loss: 0.4065 - acc: 0.7016 - val_loss: 0.3936 - val_acc: 0.6850\n",
            "Epoch 494/500\n",
            "4/4 [==============================] - 0s 13ms/step - loss: 0.4064 - acc: 0.6999 - val_loss: 0.3937 - val_acc: 0.6850\n",
            "Epoch 495/500\n",
            "4/4 [==============================] - 0s 13ms/step - loss: 0.4065 - acc: 0.7021 - val_loss: 0.3936 - val_acc: 0.6850\n",
            "Epoch 496/500\n",
            "4/4 [==============================] - 0s 11ms/step - loss: 0.4065 - acc: 0.7016 - val_loss: 0.3935 - val_acc: 0.6850\n",
            "Epoch 497/500\n",
            "4/4 [==============================] - 0s 14ms/step - loss: 0.4063 - acc: 0.7045 - val_loss: 0.3936 - val_acc: 0.6850\n",
            "Epoch 498/500\n",
            "4/4 [==============================] - 0s 14ms/step - loss: 0.4064 - acc: 0.7027 - val_loss: 0.3936 - val_acc: 0.6850\n",
            "Epoch 499/500\n",
            "4/4 [==============================] - 0s 13ms/step - loss: 0.4063 - acc: 0.7010 - val_loss: 0.3935 - val_acc: 0.6850\n",
            "Epoch 500/500\n",
            "4/4 [==============================] - 0s 11ms/step - loss: 0.4063 - acc: 0.7021 - val_loss: 0.3935 - val_acc: 0.6850\n"
          ],
          "name": "stdout"
        },
        {
          "output_type": "display_data",
          "data": {
            "image/png": "[encoded data removed]",
            "text/plain": [
              "<Figure size 1080x360 with 2 Axes>"
            ]
          },
          "metadata": {
            "needs_background": "light"
          }
        },
        {
          "output_type": "display_data",
          "data": {
            "image/png": "[encoded data removed]",
            "text/plain": [
              "<Figure size 1440x288 with 20 Axes>"
            ]
          },
          "metadata": {
            "needs_background": "light"
          }
        }
      ]
    },
    {
      "cell_type": "code",
      "metadata": {
        "colab": {
          "base_uri": "https://localhost:8080/"
        },
        "id": "KFwnOg77g60z",
        "outputId": "5ab1d27a-4f9f-4986-824a-3ee638e7782c"
      },
      "source": [
        "decoded_stocks"
      ],
      "execution_count": null,
      "outputs": [
        {
          "output_type": "execute_result",
          "data": {
            "text/plain": [
              "array([[0.02762344, 0.11844161, 0.18637726, ..., 0.7748903 , 0.9006505 ,\n",
              "        0.99069834],\n",
              "       [0.04214135, 0.08062035, 0.12573528, ..., 0.71817756, 0.87465006,\n",
              "        0.9923061 ],\n",
              "       [0.03083602, 0.06451842, 0.13227609, ..., 0.72922754, 0.8644161 ,\n",
              "        0.990608  ],\n",
              "       ...,\n",
              "       [0.36419272, 0.79940003, 0.91477853, ..., 0.33158714, 0.16006306,\n",
              "        0.02396265],\n",
              "       [0.82880265, 0.9405859 , 0.9394896 , ..., 0.23496565, 0.1294688 ,\n",
              "        0.01389146],\n",
              "       [0.9731481 , 0.95245767, 0.9126656 , ..., 0.12233514, 0.08410484,\n",
              "        0.01706862]], dtype=float32)"
            ]
          },
          "metadata": {},
          "execution_count": 238
        }
      ]
    },
    {
      "cell_type": "code",
      "metadata": {
        "id": "NqU0euiIjZLq"
      },
      "source": [
        "compress_x_train = encoder.predict(x_train_sample)\n",
        "compress_x_test = encoder.predict(x_test_sample)"
      ],
      "execution_count": null,
      "outputs": []
    },
    {
      "cell_type": "code",
      "metadata": {
        "id": "xqPLEsuzj41s"
      },
      "source": [
        "new_feature = np.concatenate([compress_x_train, compress_x_test])\n",
        "tmp_df = pd.DataFrame(new_feature, columns = ['comp_fe1', 'comp_fe2', 'comp_fe3'])"
      ],
      "execution_count": null,
      "outputs": []
    },
    {
      "cell_type": "code",
      "metadata": {
        "colab": {
          "base_uri": "https://localhost:8080/"
        },
        "id": "hJkc6bYDlb24",
        "outputId": "5ff11908-38ce-46d5-feb5-be7b7796ab45"
      },
      "source": [
        "tmp_df.shape"
      ],
      "execution_count": null,
      "outputs": [
        {
          "output_type": "execute_result",
          "data": {
            "text/plain": [
              "(3896, 3)"
            ]
          },
          "metadata": {},
          "execution_count": 241
        }
      ]
    },
    {
      "cell_type": "code",
      "metadata": {
        "id": "x5F0iZB-j6_k"
      },
      "source": [
        "n_df = df.iloc[11:]\n",
        "tmp_df.index = n_df.index"
      ],
      "execution_count": null,
      "outputs": []
    },
    {
      "cell_type": "code",
      "metadata": {
        "colab": {
          "base_uri": "https://localhost:8080/",
          "height": 447
        },
        "id": "ASwl0l80j9hB",
        "outputId": "7d5af4d3-ae54-4b96-bd18-59b9d324dd67"
      },
      "source": [
        "tmp_df"
      ],
      "execution_count": null,
      "outputs": [
        {
          "output_type": "execute_result",
          "data": {
            "text/html": [
              "<div>\n",
              "<style scoped>\n",
              "    .dataframe tbody tr th:only-of-type {\n",
              "        vertical-align: middle;\n",
              "    }\n",
              "\n",
              "    .dataframe tbody tr th {\n",
              "        vertical-align: top;\n",
              "    }\n",
              "\n",
              "    .dataframe thead th {\n",
              "        text-align: right;\n",
              "    }\n",
              "</style>\n",
              "<table border=\"1\" class=\"dataframe\">\n",
              "  <thead>\n",
              "    <tr style=\"text-align: right;\">\n",
              "      <th></th>\n",
              "      <th>comp_fe1</th>\n",
              "      <th>comp_fe2</th>\n",
              "      <th>comp_fe3</th>\n",
              "    </tr>\n",
              "    <tr>\n",
              "      <th>Date</th>\n",
              "      <th></th>\n",
              "      <th></th>\n",
              "      <th></th>\n",
              "    </tr>\n",
              "  </thead>\n",
              "  <tbody>\n",
              "    <tr>\n",
              "      <th>2005-04-18</th>\n",
              "      <td>0.000000</td>\n",
              "      <td>0.000000</td>\n",
              "      <td>0.0</td>\n",
              "    </tr>\n",
              "    <tr>\n",
              "      <th>2005-04-19</th>\n",
              "      <td>0.178179</td>\n",
              "      <td>0.000000</td>\n",
              "      <td>0.0</td>\n",
              "    </tr>\n",
              "    <tr>\n",
              "      <th>2005-04-20</th>\n",
              "      <td>0.330656</td>\n",
              "      <td>0.099895</td>\n",
              "      <td>0.0</td>\n",
              "    </tr>\n",
              "    <tr>\n",
              "      <th>2005-04-21</th>\n",
              "      <td>0.291000</td>\n",
              "      <td>0.089868</td>\n",
              "      <td>0.0</td>\n",
              "    </tr>\n",
              "    <tr>\n",
              "      <th>2005-04-22</th>\n",
              "      <td>0.000000</td>\n",
              "      <td>0.000000</td>\n",
              "      <td>0.0</td>\n",
              "    </tr>\n",
              "    <tr>\n",
              "      <th>...</th>\n",
              "      <td>...</td>\n",
              "      <td>...</td>\n",
              "      <td>...</td>\n",
              "    </tr>\n",
              "    <tr>\n",
              "      <th>2021-08-13</th>\n",
              "      <td>0.290627</td>\n",
              "      <td>0.046508</td>\n",
              "      <td>0.0</td>\n",
              "    </tr>\n",
              "    <tr>\n",
              "      <th>2021-08-17</th>\n",
              "      <td>0.221219</td>\n",
              "      <td>0.006705</td>\n",
              "      <td>0.0</td>\n",
              "    </tr>\n",
              "    <tr>\n",
              "      <th>2021-08-18</th>\n",
              "      <td>0.117215</td>\n",
              "      <td>0.000000</td>\n",
              "      <td>0.0</td>\n",
              "    </tr>\n",
              "    <tr>\n",
              "      <th>2021-08-19</th>\n",
              "      <td>0.000000</td>\n",
              "      <td>0.000000</td>\n",
              "      <td>0.0</td>\n",
              "    </tr>\n",
              "    <tr>\n",
              "      <th>2021-08-20</th>\n",
              "      <td>0.000000</td>\n",
              "      <td>0.000000</td>\n",
              "      <td>0.0</td>\n",
              "    </tr>\n",
              "  </tbody>\n",
              "</table>\n",
              "<p>3896 rows × 3 columns</p>\n",
              "</div>"
            ],
            "text/plain": [
              "            comp_fe1  comp_fe2  comp_fe3\n",
              "Date                                    \n",
              "2005-04-18  0.000000  0.000000       0.0\n",
              "2005-04-19  0.178179  0.000000       0.0\n",
              "2005-04-20  0.330656  0.099895       0.0\n",
              "2005-04-21  0.291000  0.089868       0.0\n",
              "2005-04-22  0.000000  0.000000       0.0\n",
              "...              ...       ...       ...\n",
              "2021-08-13  0.290627  0.046508       0.0\n",
              "2021-08-17  0.221219  0.006705       0.0\n",
              "2021-08-18  0.117215  0.000000       0.0\n",
              "2021-08-19  0.000000  0.000000       0.0\n",
              "2021-08-20  0.000000  0.000000       0.0\n",
              "\n",
              "[3896 rows x 3 columns]"
            ]
          },
          "metadata": {},
          "execution_count": 243
        }
      ]
    },
    {
      "cell_type": "code",
      "metadata": {
        "id": "vn-i3_gekMLB"
      },
      "source": [
        "df = pd.merge(df, tmp_df,left_index=True, right_index=True,how='inner')"
      ],
      "execution_count": null,
      "outputs": []
    },
    {
      "cell_type": "code",
      "metadata": {
        "colab": {
          "base_uri": "https://localhost:8080/"
        },
        "id": "XRz6vHzhkb7d",
        "outputId": "e37daaa9-5573-4b8c-f9a1-321f8d6d0d55"
      },
      "source": [
        "df.columns"
      ],
      "execution_count": null,
      "outputs": [
        {
          "output_type": "execute_result",
          "data": {
            "text/plain": [
              "Index(['Open', 'High', 'Low', 'Close', 'Adj Close', 'Volume', 'S&P500', 'SOX',\n",
              "       'VIX', 'KOSPI', 'CCI', 'MA5', 'MA10', 'RASD5', 'RASD10', 'MACD', 'ATR',\n",
              "       'ub', 'middle', 'lb', 'ROC', 'WPR', 'MA20', 'MA60', 'MA20_ratio',\n",
              "       'MA60_ratio', 'MA20_volume', 'MA60_volumne', 'comp_fe1', 'comp_fe2',\n",
              "       'comp_fe3'],\n",
              "      dtype='object')"
            ]
          },
          "metadata": {},
          "execution_count": 245
        }
      ]
    },
    {
      "cell_type": "code",
      "metadata": {
        "id": "93SmZfTGpyj5"
      },
      "source": [
        "df = df.drop(columns = ['MA5'], axis = 1)"
      ],
      "execution_count": null,
      "outputs": []
    },
    {
      "cell_type": "markdown",
      "metadata": {
        "id": "Ie8vkQukkiHo"
      },
      "source": [
        "# feature"
      ]
    },
    {
      "cell_type": "code",
      "metadata": {
        "id": "7CWj1WBvkkUO"
      },
      "source": [
        "df['next_price'] = df['Close'].shift(-30) # 30일 후 예상"
      ],
      "execution_count": null,
      "outputs": []
    },
    {
      "cell_type": "markdown",
      "metadata": {
        "id": "v3mcpWZomU3-"
      },
      "source": [
        "# 라벨링"
      ]
    },
    {
      "cell_type": "code",
      "metadata": {
        "id": "AQJp3Y1_kmQp"
      },
      "source": [
        "diffs = df['next_price']-df['Close']\n",
        "df['label'] = np.where(diffs>0,1,0)"
      ],
      "execution_count": null,
      "outputs": []
    },
    {
      "cell_type": "code",
      "metadata": {
        "colab": {
          "base_uri": "https://localhost:8080/",
          "height": 280
        },
        "id": "AURUl2qVmXQi",
        "outputId": "7bdb0122-8dae-46b5-fdee-9e5b45badb36"
      },
      "source": [
        "df['label'].value_counts().plot.bar()"
      ],
      "execution_count": null,
      "outputs": [
        {
          "output_type": "execute_result",
          "data": {
            "text/plain": [
              "<matplotlib.axes._subplots.AxesSubplot at 0x7f9516630190>"
            ]
          },
          "metadata": {},
          "execution_count": 82
        },
        {
          "output_type": "display_data",
          "data": {
            "image/png": "[encoded data removed]",
            "text/plain": [
              "<Figure size 432x288 with 1 Axes>"
            ]
          },
          "metadata": {
            "needs_background": "light"
          }
        }
      ]
    },
    {
      "cell_type": "code",
      "metadata": {
        "id": "KRXeyx4amivR",
        "colab": {
          "base_uri": "https://localhost:8080/",
          "height": 338
        },
        "outputId": "71339f82-c4c5-4cdd-cb8f-07b5e6657414"
      },
      "source": [
        "# 예측기간 2011-01-03 ~ 2020-12-31\n",
        "df = df.loc['2011-01-03':'2020-12-31']\n",
        "df.head()\n"
      ],
      "execution_count": null,
      "outputs": [
        {
          "output_type": "execute_result",
          "data": {
            "text/html": [
              "<div>\n",
              "<style scoped>\n",
              "    .dataframe tbody tr th:only-of-type {\n",
              "        vertical-align: middle;\n",
              "    }\n",
              "\n",
              "    .dataframe tbody tr th {\n",
              "        vertical-align: top;\n",
              "    }\n",
              "\n",
              "    .dataframe thead th {\n",
              "        text-align: right;\n",
              "    }\n",
              "</style>\n",
              "<table border=\"1\" class=\"dataframe\">\n",
              "  <thead>\n",
              "    <tr style=\"text-align: right;\">\n",
              "      <th></th>\n",
              "      <th>Open</th>\n",
              "      <th>High</th>\n",
              "      <th>Low</th>\n",
              "      <th>Close</th>\n",
              "      <th>Adj Close</th>\n",
              "      <th>Volume</th>\n",
              "      <th>S&amp;P500</th>\n",
              "      <th>SOX</th>\n",
              "      <th>VIX</th>\n",
              "      <th>KOSPI</th>\n",
              "      <th>log_return</th>\n",
              "      <th>CCI</th>\n",
              "      <th>MA5</th>\n",
              "      <th>MA10</th>\n",
              "      <th>MA20</th>\n",
              "      <th>MA60</th>\n",
              "      <th>MA20_ratio</th>\n",
              "      <th>MA60_ratio</th>\n",
              "      <th>RASD5</th>\n",
              "      <th>RASD10</th>\n",
              "      <th>MACD</th>\n",
              "      <th>ATR</th>\n",
              "      <th>ub</th>\n",
              "      <th>middle</th>\n",
              "      <th>lb</th>\n",
              "      <th>MTM1</th>\n",
              "      <th>MTM3</th>\n",
              "      <th>ROC</th>\n",
              "      <th>WPR</th>\n",
              "      <th>next_price</th>\n",
              "      <th>label</th>\n",
              "    </tr>\n",
              "    <tr>\n",
              "      <th>Date</th>\n",
              "      <th></th>\n",
              "      <th></th>\n",
              "      <th></th>\n",
              "      <th></th>\n",
              "      <th></th>\n",
              "      <th></th>\n",
              "      <th></th>\n",
              "      <th></th>\n",
              "      <th></th>\n",
              "      <th></th>\n",
              "      <th></th>\n",
              "      <th></th>\n",
              "      <th></th>\n",
              "      <th></th>\n",
              "      <th></th>\n",
              "      <th></th>\n",
              "      <th></th>\n",
              "      <th></th>\n",
              "      <th></th>\n",
              "      <th></th>\n",
              "      <th></th>\n",
              "      <th></th>\n",
              "      <th></th>\n",
              "      <th></th>\n",
              "      <th></th>\n",
              "      <th></th>\n",
              "      <th></th>\n",
              "      <th></th>\n",
              "      <th></th>\n",
              "      <th></th>\n",
              "      <th></th>\n",
              "    </tr>\n",
              "  </thead>\n",
              "  <tbody>\n",
              "    <tr>\n",
              "      <th>2011-01-03</th>\n",
              "      <td>56138.042969</td>\n",
              "      <td>56260.617188</td>\n",
              "      <td>53931.746094</td>\n",
              "      <td>54299.460938</td>\n",
              "      <td>53262.128906</td>\n",
              "      <td>620732</td>\n",
              "      <td>1271.869995</td>\n",
              "      <td>415.049988</td>\n",
              "      <td>17.610001</td>\n",
              "      <td>2070.080078</td>\n",
              "      <td>-0.024527</td>\n",
              "      <td>154.460116</td>\n",
              "      <td>53122.768750</td>\n",
              "      <td>52031.876563</td>\n",
              "      <td>49623.333984</td>\n",
              "      <td>48967.572917</td>\n",
              "      <td>1.094232</td>\n",
              "      <td>1.108886</td>\n",
              "      <td>1236.712248</td>\n",
              "      <td>1151.430055</td>\n",
              "      <td>1620.414990</td>\n",
              "      <td>1677.743121</td>\n",
              "      <td>55274.042427</td>\n",
              "      <td>49623.333984</td>\n",
              "      <td>43972.625542</td>\n",
              "      <td>-1348.292969</td>\n",
              "      <td>2451.441406</td>\n",
              "      <td>4.481133</td>\n",
              "      <td>-20.512837</td>\n",
              "      <td>47435.421875</td>\n",
              "      <td>0</td>\n",
              "    </tr>\n",
              "    <tr>\n",
              "      <th>2011-01-04</th>\n",
              "      <td>54789.750000</td>\n",
              "      <td>55280.039062</td>\n",
              "      <td>53196.312500</td>\n",
              "      <td>54299.460938</td>\n",
              "      <td>53262.128906</td>\n",
              "      <td>622788</td>\n",
              "      <td>1270.199951</td>\n",
              "      <td>415.579987</td>\n",
              "      <td>17.379999</td>\n",
              "      <td>2085.139893</td>\n",
              "      <td>0.000000</td>\n",
              "      <td>110.166821</td>\n",
              "      <td>53907.230469</td>\n",
              "      <td>52313.792578</td>\n",
              "      <td>50058.465039</td>\n",
              "      <td>48998.215951</td>\n",
              "      <td>1.084721</td>\n",
              "      <td>1.108193</td>\n",
              "      <td>1380.811404</td>\n",
              "      <td>1117.982020</td>\n",
              "      <td>1703.556372</td>\n",
              "      <td>1706.741938</td>\n",
              "      <td>55742.112759</td>\n",
              "      <td>50058.465039</td>\n",
              "      <td>44374.817319</td>\n",
              "      <td>0.000000</td>\n",
              "      <td>858.003906</td>\n",
              "      <td>3.504673</td>\n",
              "      <td>-20.512837</td>\n",
              "      <td>44493.691406</td>\n",
              "      <td>0</td>\n",
              "    </tr>\n",
              "    <tr>\n",
              "      <th>2011-01-05</th>\n",
              "      <td>53686.601562</td>\n",
              "      <td>55770.328125</td>\n",
              "      <td>53686.601562</td>\n",
              "      <td>54544.605469</td>\n",
              "      <td>53502.585938</td>\n",
              "      <td>764757</td>\n",
              "      <td>1276.560059</td>\n",
              "      <td>417.089996</td>\n",
              "      <td>17.020000</td>\n",
              "      <td>2082.550049</td>\n",
              "      <td>0.004504</td>\n",
              "      <td>104.650453</td>\n",
              "      <td>54446.547656</td>\n",
              "      <td>52742.794922</td>\n",
              "      <td>50475.210352</td>\n",
              "      <td>49034.987565</td>\n",
              "      <td>1.080622</td>\n",
              "      <td>1.112361</td>\n",
              "      <td>1397.787736</td>\n",
              "      <td>1046.805197</td>\n",
              "      <td>1768.837573</td>\n",
              "      <td>1733.669411</td>\n",
              "      <td>56191.121155</td>\n",
              "      <td>50475.210352</td>\n",
              "      <td>44759.299548</td>\n",
              "      <td>245.144531</td>\n",
              "      <td>-1103.148438</td>\n",
              "      <td>4.215453</td>\n",
              "      <td>-18.918935</td>\n",
              "      <td>46454.843750</td>\n",
              "      <td>0</td>\n",
              "    </tr>\n",
              "    <tr>\n",
              "      <th>2011-01-06</th>\n",
              "      <td>55034.894531</td>\n",
              "      <td>55280.039062</td>\n",
              "      <td>53809.171875</td>\n",
              "      <td>54299.460938</td>\n",
              "      <td>53262.128906</td>\n",
              "      <td>779263</td>\n",
              "      <td>1273.849976</td>\n",
              "      <td>424.769989</td>\n",
              "      <td>17.400000</td>\n",
              "      <td>2077.610107</td>\n",
              "      <td>-0.004504</td>\n",
              "      <td>80.880012</td>\n",
              "      <td>54618.148438</td>\n",
              "      <td>53049.225391</td>\n",
              "      <td>50861.312500</td>\n",
              "      <td>49088.102148</td>\n",
              "      <td>1.067599</td>\n",
              "      <td>1.106163</td>\n",
              "      <td>1270.956296</td>\n",
              "      <td>989.796333</td>\n",
              "      <td>1780.270430</td>\n",
              "      <td>1714.897824</td>\n",
              "      <td>56514.785614</td>\n",
              "      <td>50861.312500</td>\n",
              "      <td>45207.839386</td>\n",
              "      <td>-245.144531</td>\n",
              "      <td>0.000000</td>\n",
              "      <td>6.235010</td>\n",
              "      <td>-25.806465</td>\n",
              "      <td>45596.839844</td>\n",
              "      <td>0</td>\n",
              "    </tr>\n",
              "    <tr>\n",
              "      <th>2011-01-07</th>\n",
              "      <td>54299.460938</td>\n",
              "      <td>55770.328125</td>\n",
              "      <td>54299.460938</td>\n",
              "      <td>55157.464844</td>\n",
              "      <td>54103.734375</td>\n",
              "      <td>826631</td>\n",
              "      <td>1271.500000</td>\n",
              "      <td>425.760010</td>\n",
              "      <td>17.139999</td>\n",
              "      <td>2086.199951</td>\n",
              "      <td>0.015678</td>\n",
              "      <td>89.220552</td>\n",
              "      <td>54520.090625</td>\n",
              "      <td>53416.941797</td>\n",
              "      <td>51259.671875</td>\n",
              "      <td>49165.731120</td>\n",
              "      <td>1.076040</td>\n",
              "      <td>1.121868</td>\n",
              "      <td>931.557834</td>\n",
              "      <td>956.362888</td>\n",
              "      <td>1837.384571</td>\n",
              "      <td>1697.467064</td>\n",
              "      <td>56945.011148</td>\n",
              "      <td>51259.671875</td>\n",
              "      <td>45574.332602</td>\n",
              "      <td>858.003906</td>\n",
              "      <td>858.003906</td>\n",
              "      <td>9.223294</td>\n",
              "      <td>-15.789515</td>\n",
              "      <td>45596.839844</td>\n",
              "      <td>0</td>\n",
              "    </tr>\n",
              "  </tbody>\n",
              "</table>\n",
              "</div>"
            ],
            "text/plain": [
              "                    Open          High  ...    next_price  label\n",
              "Date                                    ...                     \n",
              "2011-01-03  56138.042969  56260.617188  ...  47435.421875      0\n",
              "2011-01-04  54789.750000  55280.039062  ...  44493.691406      0\n",
              "2011-01-05  53686.601562  55770.328125  ...  46454.843750      0\n",
              "2011-01-06  55034.894531  55280.039062  ...  45596.839844      0\n",
              "2011-01-07  54299.460938  55770.328125  ...  45596.839844      0\n",
              "\n",
              "[5 rows x 31 columns]"
            ]
          },
          "metadata": {},
          "execution_count": 83
        }
      ]
    },
    {
      "cell_type": "code",
      "metadata": {
        "colab": {
          "base_uri": "https://localhost:8080/"
        },
        "id": "VQHAr0tz489W",
        "outputId": "0d1513f3-45af-4ccd-9610-8fa47d880902"
      },
      "source": [
        "X = df.drop(['next_price','label'], axis=1)\n",
        "y = df['label']\n",
        "\n",
        "y.shape"
      ],
      "execution_count": null,
      "outputs": [
        {
          "output_type": "execute_result",
          "data": {
            "text/plain": [
              "(2361,)"
            ]
          },
          "metadata": {},
          "execution_count": 84
        }
      ]
    },
    {
      "cell_type": "code",
      "metadata": {
        "colab": {
          "base_uri": "https://localhost:8080/"
        },
        "id": "G-MQpvfSAgkd",
        "outputId": "c596fefe-0b6c-49ed-a8a6-1a49ebb2f6c8"
      },
      "source": [
        "X.shape"
      ],
      "execution_count": null,
      "outputs": [
        {
          "output_type": "execute_result",
          "data": {
            "text/plain": [
              "(2361, 29)"
            ]
          },
          "metadata": {},
          "execution_count": 85
        }
      ]
    },
    {
      "cell_type": "markdown",
      "metadata": {
        "id": "_-4Qg4kVDHEd"
      },
      "source": [
        "# 전처리"
      ]
    },
    {
      "cell_type": "code",
      "metadata": {
        "id": "dzzpDKBVmkdH"
      },
      "source": [
        "from sklearn.preprocessing import LabelEncoder,MinMaxScaler\n",
        "\n",
        "scaler = MinMaxScaler()\n",
        "scaler.fit(X)\n",
        "X_scaled = scaler.transform(X)\n",
        "\n",
        "le = LabelEncoder()        \n",
        "y = le.fit_transform(y)   \n"
      ],
      "execution_count": null,
      "outputs": []
    },
    {
      "cell_type": "code",
      "metadata": {
        "colab": {
          "base_uri": "https://localhost:8080/"
        },
        "id": "AkCsrBQTmo-g",
        "outputId": "ddec830b-24a2-4819-e4da-0bb79315ad22"
      },
      "source": [
        "sum(y)/len(df) * 100"
      ],
      "execution_count": null,
      "outputs": [
        {
          "output_type": "execute_result",
          "data": {
            "text/plain": [
              "56.3744176196527"
            ]
          },
          "metadata": {},
          "execution_count": 87
        }
      ]
    },
    {
      "cell_type": "code",
      "metadata": {
        "colab": {
          "base_uri": "https://localhost:8080/"
        },
        "id": "REDYiwo-8MvW",
        "outputId": "e0d55f1e-8a43-4d33-990e-1e00c92966e0"
      },
      "source": [
        "X_scaled.shape"
      ],
      "execution_count": null,
      "outputs": [
        {
          "output_type": "execute_result",
          "data": {
            "text/plain": [
              "(2361, 29)"
            ]
          },
          "metadata": {},
          "execution_count": 88
        }
      ]
    },
    {
      "cell_type": "code",
      "metadata": {
        "id": "KLoG5WGtmswi"
      },
      "source": [
        "X_train, X_test, y_train, y_test = train_test_split(X_scaled,y, test_size=0.2, random_state=1234, stratify=y)"
      ],
      "execution_count": null,
      "outputs": []
    },
    {
      "cell_type": "markdown",
      "metadata": {
        "id": "uARSF-UKmxBd"
      },
      "source": [
        "# 함수 정의"
      ]
    },
    {
      "cell_type": "code",
      "metadata": {
        "id": "sqBfHoHImvXG"
      },
      "source": [
        "def report(clf):\n",
        "    y_pred = clf.predict(X_test)\n",
        "    print(classification_report(y_test, y_pred))\n",
        "    print('Random Forest Accuracy:', np.mean(y_pred == y_test))\n",
        "    ax = plt.figure(figsize=(10, 5))\n",
        "    sns.heatmap(confusion_matrix(y_test, y_pred), linewidths=0.5, fmt='.1f', annot=True)"
      ],
      "execution_count": null,
      "outputs": []
    },
    {
      "cell_type": "code",
      "metadata": {
        "id": "mBtDy1q2mzlN"
      },
      "source": [
        "def feature_importance(clf):\n",
        "    feature_importance = clf.feature_importances_\n",
        "    # plot\n",
        "    df_fi = pd.DataFrame({'columns':X.columns, 'importances':feature_importance})\n",
        "    df_fi = df_fi[df_fi['importances'] > 0] # importance가 0이상인 것만 \n",
        "    df_fi = df_fi.sort_values(by=['importances'], ascending=False)\n",
        "\n",
        "    fig = plt.figure(figsize=(15,7))\n",
        "    ax = sns.barplot(df_fi['columns'], df_fi['importances'])\n",
        "    ax.set_xticklabels(df_fi['columns'], rotation=80, fontsize=13)\n",
        "    plt.tight_layout()\n",
        "    plt.show()"
      ],
      "execution_count": null,
      "outputs": []
    },
    {
      "cell_type": "markdown",
      "metadata": {
        "id": "gDHe32uTm11e"
      },
      "source": [
        "# 모델"
      ]
    },
    {
      "cell_type": "code",
      "metadata": {
        "id": "rZTXbq8xm1Zi"
      },
      "source": [
        "logistic = LogisticRegression(solver='liblinear',penalty='l2',C= 0.1,random_state=1)\n",
        "tree = DecisionTreeClassifier(max_depth=4,criterion='entropy',random_state=1)\n",
        "knn = KNeighborsClassifier(n_neighbors=41,p=2,metric='minkowski')\n",
        "\n",
        "voting_estimators = [('logistic', logistic), ('tree', tree), ('knn', knn)]\n",
        "\n",
        "voting = VotingClassifier(estimators = voting_estimators,voting='soft')\n",
        "\n",
        "forest = RandomForestClassifier(criterion='entropy',n_estimators=700,random_state=1)\n",
        "\n",
        "lgb = LGBMClassifier(random_state=42)\n",
        "xgb = XGBClassifier(tree_method='hist',random_state=41)\n",
        "\n",
        "adaboost = AdaBoostClassifier(base_estimator=tree, \n",
        "                                n_estimators=100,\n",
        "                                learning_rate = 0.01, \n",
        "                                random_state=42)\n",
        "\n",
        "clf_labels = ['Random forest','Ada boost','XGB','LIGHTGBM']\n",
        "\n",
        "all_clf = [ forest,adaboost,xgb,lgb]"
      ],
      "execution_count": null,
      "outputs": []
    },
    {
      "cell_type": "code",
      "metadata": {
        "id": "vJ62AEXbE7i8",
        "colab": {
          "base_uri": "https://localhost:8080/"
        },
        "outputId": "c7e1590f-48fb-4488-c7c7-680ec3135919"
      },
      "source": [
        "'''\n",
        "from sklearn.model_selection import GridSearchCV\n",
        "\n",
        "params = {\n",
        "    'n_estimators':[700],\n",
        "    'max_depth' : [4, 6, 8, 10,50,200], \n",
        "    'min_samples_leaf' : [0,1,2,8, 12, 18],\n",
        "    'min_samples_split' : [0,1,2,8, 16, 20]\n",
        "}\n",
        "# RandomForestClassifier 객체 생성 후 GridSearchCV 수행\n",
        "grid_cv = GridSearchCV(forest, param_grid=params, cv=2, n_jobs=-1)\n",
        "grid_cv.fit(X_train, y_train)\n",
        "\n",
        "print('최적 하이퍼 파라미터:\\n', grid_cv.best_params_)\n",
        "print('최고 예측 정확도: {0:.4f}'.format(grid_cv.best_score_))\n",
        "'''"
      ],
      "execution_count": null,
      "outputs": [
        {
          "output_type": "execute_result",
          "data": {
            "application/vnd.google.colaboratory.intrinsic+json": {
              "type": "string"
            },
            "text/plain": [
              "\"\\nfrom sklearn.model_selection import GridSearchCV\\n\\nparams = {\\n    'n_estimators':[700],\\n    'max_depth' : [4, 6, 8, 10,50,200], \\n    'min_samples_leaf' : [0,1,2,8, 12, 18],\\n    'min_samples_split' : [0,1,2,8, 16, 20]\\n}\\n# RandomForestClassifier 객체 생성 후 GridSearchCV 수행\\ngrid_cv = GridSearchCV(forest, param_grid=params, cv=2, n_jobs=-1)\\ngrid_cv.fit(X_train, y_train)\\n\\nprint('최적 하이퍼 파라미터:\\n', grid_cv.best_params_)\\nprint('최고 예측 정확도: {0:.4f}'.format(grid_cv.best_score_))\\n\""
            ]
          },
          "metadata": {},
          "execution_count": 47
        }
      ]
    },
    {
      "cell_type": "markdown",
      "metadata": {
        "id": "CZTC1AAym78c"
      },
      "source": [
        "# AUC 검정"
      ]
    },
    {
      "cell_type": "code",
      "metadata": {
        "id": "sEfIfHLlm457",
        "colab": {
          "base_uri": "https://localhost:8080/"
        },
        "outputId": "fb09c467-17a6-41fe-a381-6a1b473d1ead"
      },
      "source": [
        "for clf, label in zip(all_clf, clf_labels):\n",
        "  scores = cross_val_score(estimator=clf,X=X_train,y=y_train,cv=10,scoring='roc_auc')\n",
        "  print(\"ROC AUC: %0.3f (+/- %0.3f) [%s]\"\n",
        "  % (scores.mean(), scores.std(), label))"
      ],
      "execution_count": null,
      "outputs": [
        {
          "output_type": "stream",
          "text": [
            "ROC AUC: 0.979 (+/- 0.008) [Random forest]\n",
            "ROC AUC: 0.932 (+/- 0.020) [Ada boost]\n",
            "ROC AUC: 0.933 (+/- 0.016) [XGB]\n",
            "ROC AUC: 0.975 (+/- 0.010) [LIGHTGBM]\n"
          ],
          "name": "stdout"
        }
      ]
    },
    {
      "cell_type": "markdown",
      "metadata": {
        "id": "RzCGTZTxm_WI"
      },
      "source": [
        "# ROC 커브"
      ]
    },
    {
      "cell_type": "code",
      "metadata": {
        "id": "YJWAk2Ebm6x-",
        "colab": {
          "base_uri": "https://localhost:8080/",
          "height": 279
        },
        "outputId": "1054db83-e0a5-417c-a173-ac0063c2779b"
      },
      "source": [
        "colors = ['black', 'orange', 'blue', 'green']\n",
        "linestyles = [':', '-','solid','dashdot']\n",
        "for clf, label, clr, ls \\\n",
        "        in zip(all_clf, clf_labels, colors, linestyles):\n",
        "\n",
        "  clf.fit(X_train, y_train)\n",
        "  y_pred = clf.predict_proba(X_test)[:, 1]\n",
        "  fpr, tpr, thresholds = roc_curve(y_true=y_test,\n",
        "                                  y_score=y_pred)\n",
        "  roc_auc = auc(x=fpr, y=tpr) # 교차검증 X\n",
        "  plt.plot(fpr, tpr,\n",
        "            color=clr,\n",
        "            linestyle=ls,\n",
        "            label='%s (auc = %0.3f)' % (label, roc_auc))\n",
        "  \n",
        "plt.legend(loc='lower right')\n",
        "plt.plot([0, 1], [0, 1],\n",
        "          linestyle='--',\n",
        "          color='gray',\n",
        "          linewidth=2)\n",
        "\n",
        "plt.xlim([-0.1, 1.1])\n",
        "plt.ylim([-0.1, 1.1])\n",
        "plt.grid(alpha=0.5)\n",
        "plt.xlabel('False positive rate (FPR)')\n",
        "plt.ylabel('True positive rate (TPR)')\n",
        "\n",
        "plt.show()"
      ],
      "execution_count": null,
      "outputs": [
        {
          "output_type": "display_data",
          "data": {
            "image/png": "[encoded data removed]",
            "text/plain": [
              "<Figure size 432x288 with 1 Axes>"
            ]
          },
          "metadata": {
            "needs_background": "light"
          }
        }
      ]
    },
    {
      "cell_type": "markdown",
      "metadata": {
        "id": "l2PQtmxfnMZk"
      },
      "source": [
        "# RF"
      ]
    },
    {
      "cell_type": "code",
      "metadata": {
        "id": "Q8SWo1zynNoZ",
        "colab": {
          "base_uri": "https://localhost:8080/",
          "height": 497
        },
        "outputId": "ee77331e-a41c-411e-c5fe-221406ffd575"
      },
      "source": [
        "report(forest)"
      ],
      "execution_count": null,
      "outputs": [
        {
          "output_type": "stream",
          "text": [
            "              precision    recall  f1-score   support\n",
            "\n",
            "           0       0.93      0.91      0.92       206\n",
            "           1       0.93      0.94      0.94       267\n",
            "\n",
            "    accuracy                           0.93       473\n",
            "   macro avg       0.93      0.93      0.93       473\n",
            "weighted avg       0.93      0.93      0.93       473\n",
            "\n",
            "Random Forest Accuracy: 0.9302325581395349\n"
          ],
          "name": "stdout"
        },
        {
          "output_type": "display_data",
          "data": {
            "image/png": "[encoded data removed]",
            "text/plain": [
              "<Figure size 720x360 with 2 Axes>"
            ]
          },
          "metadata": {
            "needs_background": "light"
          }
        }
      ]
    },
    {
      "cell_type": "code",
      "metadata": {
        "id": "xO2zzqtKnRen",
        "colab": {
          "base_uri": "https://localhost:8080/",
          "height": 371
        },
        "outputId": "f406a3fa-381b-4798-e607-c31aa9704d63"
      },
      "source": [
        "feature_importance(forest)"
      ],
      "execution_count": null,
      "outputs": [
        {
          "output_type": "stream",
          "text": [
            "/usr/local/lib/python3.7/dist-packages/seaborn/_decorators.py:43: FutureWarning: Pass the following variables as keyword args: x, y. From version 0.12, the only valid positional argument will be `data`, and passing other arguments without an explicit keyword will result in an error or misinterpretation.\n",
            "  FutureWarning\n"
          ],
          "name": "stderr"
        },
        {
          "output_type": "display_data",
          "data": {
            "image/png": "[encoded data removed]",
            "text/plain": [
              "<Figure size 1080x504 with 1 Axes>"
            ]
          },
          "metadata": {
            "needs_background": "light"
          }
        }
      ]
    },
    {
      "cell_type": "markdown",
      "metadata": {
        "id": "LRfBeKsunH0w"
      },
      "source": [
        "# voting"
      ]
    },
    {
      "cell_type": "code",
      "metadata": {
        "id": "M6xaEQm6mryi",
        "colab": {
          "base_uri": "https://localhost:8080/",
          "height": 318
        },
        "outputId": "1522c919-cc31-4d5b-dfc1-c35ef442c410"
      },
      "source": [
        "report(voting)"
      ],
      "execution_count": null,
      "outputs": [
        {
          "output_type": "error",
          "ename": "NotFittedError",
          "evalue": "ignored",
          "traceback": [
            "\u001b[0;31m---------------------------------------------------------------------------\u001b[0m",
            "\u001b[0;31mNotFittedError\u001b[0m                            Traceback (most recent call last)",
            "\u001b[0;32m<ipython-input-115-b35477af608c>\u001b[0m in \u001b[0;36m<module>\u001b[0;34m()\u001b[0m\n\u001b[0;32m----> 1\u001b[0;31m \u001b[0mreport\u001b[0m\u001b[0;34m(\u001b[0m\u001b[0mvoting\u001b[0m\u001b[0;34m)\u001b[0m\u001b[0;34m\u001b[0m\u001b[0;34m\u001b[0m\u001b[0m\n\u001b[0m",
            "\u001b[0;32m<ipython-input-110-4236561ac50b>\u001b[0m in \u001b[0;36mreport\u001b[0;34m(clf)\u001b[0m\n\u001b[1;32m      1\u001b[0m \u001b[0;32mdef\u001b[0m \u001b[0mreport\u001b[0m\u001b[0;34m(\u001b[0m\u001b[0mclf\u001b[0m\u001b[0;34m)\u001b[0m\u001b[0;34m:\u001b[0m\u001b[0;34m\u001b[0m\u001b[0;34m\u001b[0m\u001b[0m\n\u001b[0;32m----> 2\u001b[0;31m     \u001b[0my_pred\u001b[0m \u001b[0;34m=\u001b[0m \u001b[0mclf\u001b[0m\u001b[0;34m.\u001b[0m\u001b[0mpredict\u001b[0m\u001b[0;34m(\u001b[0m\u001b[0mX_test\u001b[0m\u001b[0;34m)\u001b[0m\u001b[0;34m\u001b[0m\u001b[0;34m\u001b[0m\u001b[0m\n\u001b[0m\u001b[1;32m      3\u001b[0m     \u001b[0mprint\u001b[0m\u001b[0;34m(\u001b[0m\u001b[0mclassification_report\u001b[0m\u001b[0;34m(\u001b[0m\u001b[0my_test\u001b[0m\u001b[0;34m,\u001b[0m \u001b[0my_pred\u001b[0m\u001b[0;34m)\u001b[0m\u001b[0;34m)\u001b[0m\u001b[0;34m\u001b[0m\u001b[0;34m\u001b[0m\u001b[0m\n\u001b[1;32m      4\u001b[0m     \u001b[0mprint\u001b[0m\u001b[0;34m(\u001b[0m\u001b[0;34m'Random Forest Accuracy:'\u001b[0m\u001b[0;34m,\u001b[0m \u001b[0mnp\u001b[0m\u001b[0;34m.\u001b[0m\u001b[0mmean\u001b[0m\u001b[0;34m(\u001b[0m\u001b[0my_pred\u001b[0m \u001b[0;34m==\u001b[0m \u001b[0my_test\u001b[0m\u001b[0;34m)\u001b[0m\u001b[0;34m)\u001b[0m\u001b[0;34m\u001b[0m\u001b[0;34m\u001b[0m\u001b[0m\n\u001b[1;32m      5\u001b[0m     \u001b[0max\u001b[0m \u001b[0;34m=\u001b[0m \u001b[0mplt\u001b[0m\u001b[0;34m.\u001b[0m\u001b[0mfigure\u001b[0m\u001b[0;34m(\u001b[0m\u001b[0mfigsize\u001b[0m\u001b[0;34m=\u001b[0m\u001b[0;34m(\u001b[0m\u001b[0;36m10\u001b[0m\u001b[0;34m,\u001b[0m \u001b[0;36m5\u001b[0m\u001b[0;34m)\u001b[0m\u001b[0;34m)\u001b[0m\u001b[0;34m\u001b[0m\u001b[0;34m\u001b[0m\u001b[0m\n",
            "\u001b[0;32m/usr/local/lib/python3.7/dist-packages/sklearn/ensemble/_voting.py\u001b[0m in \u001b[0;36mpredict\u001b[0;34m(self, X)\u001b[0m\n\u001b[1;32m    235\u001b[0m             \u001b[0mPredicted\u001b[0m \u001b[0;32mclass\u001b[0m \u001b[0mlabels\u001b[0m\u001b[0;34m.\u001b[0m\u001b[0;34m\u001b[0m\u001b[0;34m\u001b[0m\u001b[0m\n\u001b[1;32m    236\u001b[0m         \"\"\"\n\u001b[0;32m--> 237\u001b[0;31m         \u001b[0mcheck_is_fitted\u001b[0m\u001b[0;34m(\u001b[0m\u001b[0mself\u001b[0m\u001b[0;34m)\u001b[0m\u001b[0;34m\u001b[0m\u001b[0;34m\u001b[0m\u001b[0m\n\u001b[0m\u001b[1;32m    238\u001b[0m         \u001b[0;32mif\u001b[0m \u001b[0mself\u001b[0m\u001b[0;34m.\u001b[0m\u001b[0mvoting\u001b[0m \u001b[0;34m==\u001b[0m \u001b[0;34m'soft'\u001b[0m\u001b[0;34m:\u001b[0m\u001b[0;34m\u001b[0m\u001b[0;34m\u001b[0m\u001b[0m\n\u001b[1;32m    239\u001b[0m             \u001b[0mmaj\u001b[0m \u001b[0;34m=\u001b[0m \u001b[0mnp\u001b[0m\u001b[0;34m.\u001b[0m\u001b[0margmax\u001b[0m\u001b[0;34m(\u001b[0m\u001b[0mself\u001b[0m\u001b[0;34m.\u001b[0m\u001b[0mpredict_proba\u001b[0m\u001b[0;34m(\u001b[0m\u001b[0mX\u001b[0m\u001b[0;34m)\u001b[0m\u001b[0;34m,\u001b[0m \u001b[0maxis\u001b[0m\u001b[0;34m=\u001b[0m\u001b[0;36m1\u001b[0m\u001b[0;34m)\u001b[0m\u001b[0;34m\u001b[0m\u001b[0;34m\u001b[0m\u001b[0m\n",
            "\u001b[0;32m/usr/local/lib/python3.7/dist-packages/sklearn/utils/validation.py\u001b[0m in \u001b[0;36mcheck_is_fitted\u001b[0;34m(estimator, attributes, msg, all_or_any)\u001b[0m\n\u001b[1;32m    965\u001b[0m \u001b[0;34m\u001b[0m\u001b[0m\n\u001b[1;32m    966\u001b[0m     \u001b[0;32mif\u001b[0m \u001b[0;32mnot\u001b[0m \u001b[0mattrs\u001b[0m\u001b[0;34m:\u001b[0m\u001b[0;34m\u001b[0m\u001b[0;34m\u001b[0m\u001b[0m\n\u001b[0;32m--> 967\u001b[0;31m         \u001b[0;32mraise\u001b[0m \u001b[0mNotFittedError\u001b[0m\u001b[0;34m(\u001b[0m\u001b[0mmsg\u001b[0m \u001b[0;34m%\u001b[0m \u001b[0;34m{\u001b[0m\u001b[0;34m'name'\u001b[0m\u001b[0;34m:\u001b[0m \u001b[0mtype\u001b[0m\u001b[0;34m(\u001b[0m\u001b[0mestimator\u001b[0m\u001b[0;34m)\u001b[0m\u001b[0;34m.\u001b[0m\u001b[0m__name__\u001b[0m\u001b[0;34m}\u001b[0m\u001b[0;34m)\u001b[0m\u001b[0;34m\u001b[0m\u001b[0;34m\u001b[0m\u001b[0m\n\u001b[0m\u001b[1;32m    968\u001b[0m \u001b[0;34m\u001b[0m\u001b[0m\n\u001b[1;32m    969\u001b[0m \u001b[0;34m\u001b[0m\u001b[0m\n",
            "\u001b[0;31mNotFittedError\u001b[0m: This VotingClassifier instance is not fitted yet. Call 'fit' with appropriate arguments before using this estimator."
          ]
        }
      ]
    },
    {
      "cell_type": "markdown",
      "metadata": {
        "id": "6xtV04dtnR7h"
      },
      "source": [
        "# DT"
      ]
    },
    {
      "cell_type": "code",
      "metadata": {
        "id": "aO7LzcAXnVET"
      },
      "source": [
        "report(tree)"
      ],
      "execution_count": null,
      "outputs": []
    },
    {
      "cell_type": "code",
      "metadata": {
        "id": "xuSzPUpznZHu"
      },
      "source": [
        "feature_importance(forest)"
      ],
      "execution_count": null,
      "outputs": []
    },
    {
      "cell_type": "markdown",
      "metadata": {
        "id": "nzHQKzSlnay_"
      },
      "source": [
        "# LGBM"
      ]
    },
    {
      "cell_type": "code",
      "metadata": {
        "id": "DkHHMrVondu0",
        "colab": {
          "base_uri": "https://localhost:8080/",
          "height": 496
        },
        "outputId": "2e95bd07-8f16-48be-86a4-6704ea5db885"
      },
      "source": [
        "report(lgb)"
      ],
      "execution_count": null,
      "outputs": [
        {
          "output_type": "stream",
          "text": [
            "              precision    recall  f1-score   support\n",
            "\n",
            "           0       0.61      0.63      0.62       215\n",
            "           1       0.70      0.68      0.69       273\n",
            "\n",
            "    accuracy                           0.66       488\n",
            "   macro avg       0.66      0.66      0.66       488\n",
            "weighted avg       0.66      0.66      0.66       488\n",
            "\n",
            "Random Forest Accuracy: 0.6598360655737705\n"
          ],
          "name": "stdout"
        },
        {
          "output_type": "display_data",
          "data": {
            "image/png": "[encoded data removed]",
            "text/plain": [
              "<Figure size 720x360 with 2 Axes>"
            ]
          },
          "metadata": {
            "needs_background": "light"
          }
        }
      ]
    },
    {
      "cell_type": "code",
      "metadata": {
        "id": "-J9uIpuFngHN",
        "colab": {
          "base_uri": "https://localhost:8080/",
          "height": 363
        },
        "outputId": "74a353a6-c207-450b-d837-25873b0fda72"
      },
      "source": [
        "feature_importance(lgb)"
      ],
      "execution_count": null,
      "outputs": [
        {
          "output_type": "stream",
          "text": [
            "/usr/local/lib/python3.7/dist-packages/seaborn/_decorators.py:43: FutureWarning: Pass the following variables as keyword args: x, y. From version 0.12, the only valid positional argument will be `data`, and passing other arguments without an explicit keyword will result in an error or misinterpretation.\n",
            "  FutureWarning\n"
          ],
          "name": "stderr"
        },
        {
          "output_type": "display_data",
          "data": {
            "image/png": "[encoded data removed]",
            "text/plain": [
              "<Figure size 1080x504 with 1 Axes>"
            ]
          },
          "metadata": {
            "needs_background": "light"
          }
        }
      ]
    },
    {
      "cell_type": "markdown",
      "metadata": {
        "id": "KrKcU_hsniCQ"
      },
      "source": [
        "#XGB"
      ]
    },
    {
      "cell_type": "code",
      "metadata": {
        "id": "ceKchcY-nyuy"
      },
      "source": [
        "report(xgb)"
      ],
      "execution_count": null,
      "outputs": []
    },
    {
      "cell_type": "code",
      "metadata": {
        "id": "SnqrowKsn1DQ"
      },
      "source": [
        "feature_importance(xgb)"
      ],
      "execution_count": null,
      "outputs": []
    },
    {
      "cell_type": "markdown",
      "metadata": {
        "id": "s3vRb-1Hn5fL"
      },
      "source": [
        "# ADA"
      ]
    },
    {
      "cell_type": "code",
      "metadata": {
        "id": "y1oDOxoqn4uH",
        "colab": {
          "base_uri": "https://localhost:8080/",
          "height": 496
        },
        "outputId": "f1331d07-ec9b-427f-c7e2-b2e0cba88501"
      },
      "source": [
        "report(adaboost)"
      ],
      "execution_count": null,
      "outputs": [
        {
          "output_type": "stream",
          "text": [
            "              precision    recall  f1-score   support\n",
            "\n",
            "           0       0.63      0.46      0.53       215\n",
            "           1       0.65      0.79      0.71       273\n",
            "\n",
            "    accuracy                           0.65       488\n",
            "   macro avg       0.64      0.63      0.62       488\n",
            "weighted avg       0.64      0.65      0.63       488\n",
            "\n",
            "Random Forest Accuracy: 0.6454918032786885\n"
          ],
          "name": "stdout"
        },
        {
          "output_type": "display_data",
          "data": {
            "image/png": "[encoded data removed]",
            "text/plain": [
              "<Figure size 720x360 with 2 Axes>"
            ]
          },
          "metadata": {
            "needs_background": "light"
          }
        }
      ]
    },
    {
      "cell_type": "code",
      "metadata": {
        "id": "FwZYolvfoCnf",
        "colab": {
          "base_uri": "https://localhost:8080/",
          "height": 496
        },
        "outputId": "de7d1976-7c60-49c9-db19-72e8949fa096"
      },
      "source": [
        "report(adaboost)"
      ],
      "execution_count": null,
      "outputs": [
        {
          "output_type": "stream",
          "text": [
            "              precision    recall  f1-score   support\n",
            "\n",
            "           0       0.63      0.46      0.53       215\n",
            "           1       0.65      0.79      0.71       273\n",
            "\n",
            "    accuracy                           0.65       488\n",
            "   macro avg       0.64      0.63      0.62       488\n",
            "weighted avg       0.64      0.65      0.63       488\n",
            "\n",
            "Random Forest Accuracy: 0.6454918032786885\n"
          ],
          "name": "stdout"
        },
        {
          "output_type": "display_data",
          "data": {
            "image/png": "[encoded data removed]",
            "text/plain": [
              "<Figure size 720x360 with 2 Axes>"
            ]
          },
          "metadata": {
            "needs_background": "light"
          }
        }
      ]
    },
    {
      "cell_type": "code",
      "metadata": {
        "id": "k4t54Jo7oEWt",
        "colab": {
          "base_uri": "https://localhost:8080/",
          "height": 568
        },
        "outputId": "f00ce9f4-f8dd-4f36-8f1d-ba00e3bb208a"
      },
      "source": [
        "feature_importance(adaboost)"
      ],
      "execution_count": null,
      "outputs": [
        {
          "output_type": "stream",
          "text": [
            "/usr/local/lib/python3.7/dist-packages/seaborn/_decorators.py:43: FutureWarning: Pass the following variables as keyword args: x, y. From version 0.12, the only valid positional argument will be `data`, and passing other arguments without an explicit keyword will result in an error or misinterpretation.\n",
            "  FutureWarning\n"
          ],
          "name": "stderr"
        },
        {
          "output_type": "display_data",
          "data": {
            "image/png": "[encoded data removed]",
            "text/plain": [
              "<Figure size 1080x504 with 1 Axes>"
            ]
          },
          "metadata": {
            "needs_background": "light"
          }
        }
      ]
    }
  ]
}