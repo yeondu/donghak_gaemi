{
  "nbformat": 4,
  "nbformat_minor": 0,
  "metadata": {
    "colab": {
      "name": "90일 후",
      "provenance": []
    },
    "kernelspec": {
      "name": "python3",
      "display_name": "Python 3"
    },
    "language_info": {
      "name": "python"
    }
  },
  "cells": [
    {
      "cell_type": "code",
      "metadata": {
        "id": "R4p_2FEigucw",
        "colab": {
          "base_uri": "https://localhost:8080/"
        },
        "outputId": "e7a7794e-b32c-4b3e-f303-55e77672c5fe"
      },
      "source": [
        "# TA-Lib 설치 코드\n",
        "url = 'https://anaconda.org/conda-forge/libta-lib/0.4.0/download/linux-64/libta-lib-0.4.0-h516909a_0.tar.bz2'\n",
        "!curl -L $url | tar xj -C /usr/lib/x86_64-linux-gnu/ lib --strip-components=1\n",
        "url = 'https://anaconda.org/conda-forge/ta-lib/0.4.19/download/linux-64/ta-lib-0.4.19-py37ha21ca33_2.tar.bz2'\n",
        "!curl -L $url | tar xj -C /usr/local/lib/python3.7/dist-packages/ lib/python3.7/site-packages/talib --strip-components=3\n",
        "import talib\n",
        "import numpy as np\n",
        "import matplotlib.pyplot as plt\n",
        "import seaborn as sns\n",
        "import pandas_datareader as pdr\n",
        "import scipy.stats as stats\n",
        "import math\n",
        "from sklearn.preprocessing import MinMaxScaler\n",
        "import collections\n",
        "import pandas as pd\n",
        "from sklearn import datasets\n",
        "from keras.layers import Input, Dense, Conv1D, MaxPooling1D, UpSampling1D, BatchNormalization, LSTM, RepeatVector\n",
        "from keras.models import Model\n",
        "from keras.models import model_from_json\n",
        "from keras import regularizers\n",
        "import datetime\n",
        "import time\n",
        "import requests as req\n",
        "from tqdm import tqdm\n",
        "import matplotlib.pyplot as plt\n",
        "%pylab inline\n",
        "from sklearn.model_selection import train_test_split\n",
        "\n",
        "from sklearn.tree import DecisionTreeClassifier # 결정 트리\n",
        "from sklearn.neighbors import KNeighborsClassifier # KNN\n",
        "from sklearn.linear_model import LogisticRegression # 로지스틱 회귀\n",
        "from lightgbm import LGBMClassifier\n",
        "from xgboost import XGBClassifier\n",
        "from sklearn.ensemble import VotingClassifier,RandomForestClassifier,AdaBoostClassifier,GradientBoostingClassifier # 앙상블 \n",
        "\n",
        "from sklearn.metrics import confusion_matrix, classification_report # 정오분류표\n",
        "from sklearn.metrics import accuracy_score, precision_score, recall_score, f1_score, roc_auc_score \n",
        "from sklearn.metrics import roc_curve, auc, roc_auc_score,classification_report,confusion_matrix  # ROC곡선 그리기\n",
        "\n",
        "from sklearn.model_selection import learning_curve, validation_curve # 학습곡선, 검증곡선\n",
        "from sklearn.model_selection import GridSearchCV, cross_val_score  # 하이퍼파라미터 튜닝, 교차타당도"
      ],
      "execution_count": null,
      "outputs": [
        {
          "output_type": "stream",
          "text": [
            "  % Total    % Received % Xferd  Average Speed   Time    Time     Time  Current\n",
            "                                 Dload  Upload   Total   Spent    Left  Speed\n",
            "100  3665    0  3665    0     0  13675      0 --:--:-- --:--:-- --:--:-- 13624\n",
            "100  503k  100  503k    0     0   816k      0 --:--:-- --:--:-- --:--:--  816k\n",
            "  % Total    % Received % Xferd  Average Speed   Time    Time     Time  Current\n",
            "                                 Dload  Upload   Total   Spent    Left  Speed\n",
            "100  3673    0  3673    0     0  15831      0 --:--:-- --:--:-- --:--:-- 15831\n",
            "100  406k  100  406k    0     0   670k      0 --:--:-- --:--:-- --:--:-- 3103k\n",
            "Populating the interactive namespace from numpy and matplotlib\n"
          ],
          "name": "stdout"
        }
      ]
    },
    {
      "cell_type": "markdown",
      "metadata": {
        "id": "XmH91KuW-2DZ"
      },
      "source": [
        "# 데이터 불러오기(original)"
      ]
    },
    {
      "cell_type": "code",
      "metadata": {
        "id": "PkW91ZLng2nv"
      },
      "source": [
        "df = pd.read_csv(\"/content/drive/MyDrive/data/original_data.csv\", index_col =['Date'], parse_dates=True)"
      ],
      "execution_count": null,
      "outputs": []
    },
    {
      "cell_type": "code",
      "metadata": {
        "id": "juATs4NK8kmp",
        "colab": {
          "base_uri": "https://localhost:8080/",
          "height": 356
        },
        "outputId": "9672694a-94cc-4c21-bc66-2de557da77d3"
      },
      "source": [
        "df.tail()"
      ],
      "execution_count": null,
      "outputs": [
        {
          "output_type": "execute_result",
          "data": {
            "text/html": [
              "<div>\n",
              "<style scoped>\n",
              "    .dataframe tbody tr th:only-of-type {\n",
              "        vertical-align: middle;\n",
              "    }\n",
              "\n",
              "    .dataframe tbody tr th {\n",
              "        vertical-align: top;\n",
              "    }\n",
              "\n",
              "    .dataframe thead th {\n",
              "        text-align: right;\n",
              "    }\n",
              "</style>\n",
              "<table border=\"1\" class=\"dataframe\">\n",
              "  <thead>\n",
              "    <tr style=\"text-align: right;\">\n",
              "      <th></th>\n",
              "      <th>Open</th>\n",
              "      <th>High</th>\n",
              "      <th>Low</th>\n",
              "      <th>Close</th>\n",
              "      <th>Adj Close</th>\n",
              "      <th>Volume</th>\n",
              "      <th>S&amp;P500</th>\n",
              "      <th>SOX</th>\n",
              "      <th>VIX</th>\n",
              "      <th>KOSPI</th>\n",
              "      <th>log_return</th>\n",
              "      <th>CCI</th>\n",
              "      <th>MA5</th>\n",
              "      <th>MA10</th>\n",
              "      <th>MA20</th>\n",
              "      <th>MA60</th>\n",
              "      <th>MA20_ratio</th>\n",
              "      <th>MA60_ratio</th>\n",
              "      <th>MA20_volume</th>\n",
              "      <th>MA60_volumne</th>\n",
              "      <th>RASD5</th>\n",
              "      <th>RASD10</th>\n",
              "      <th>MACD</th>\n",
              "      <th>ATR</th>\n",
              "      <th>ub</th>\n",
              "      <th>middle</th>\n",
              "      <th>lb</th>\n",
              "      <th>MTM1</th>\n",
              "      <th>MTM3</th>\n",
              "      <th>ROC</th>\n",
              "      <th>WPR</th>\n",
              "    </tr>\n",
              "    <tr>\n",
              "      <th>Date</th>\n",
              "      <th></th>\n",
              "      <th></th>\n",
              "      <th></th>\n",
              "      <th></th>\n",
              "      <th></th>\n",
              "      <th></th>\n",
              "      <th></th>\n",
              "      <th></th>\n",
              "      <th></th>\n",
              "      <th></th>\n",
              "      <th></th>\n",
              "      <th></th>\n",
              "      <th></th>\n",
              "      <th></th>\n",
              "      <th></th>\n",
              "      <th></th>\n",
              "      <th></th>\n",
              "      <th></th>\n",
              "      <th></th>\n",
              "      <th></th>\n",
              "      <th></th>\n",
              "      <th></th>\n",
              "      <th></th>\n",
              "      <th></th>\n",
              "      <th></th>\n",
              "      <th></th>\n",
              "      <th></th>\n",
              "      <th></th>\n",
              "      <th></th>\n",
              "      <th></th>\n",
              "      <th></th>\n",
              "    </tr>\n",
              "  </thead>\n",
              "  <tbody>\n",
              "    <tr>\n",
              "      <th>2021-08-19</th>\n",
              "      <td>431000.0</td>\n",
              "      <td>434000.0</td>\n",
              "      <td>424500.0</td>\n",
              "      <td>424500.0</td>\n",
              "      <td>424500.0</td>\n",
              "      <td>504352</td>\n",
              "      <td>4405.799805</td>\n",
              "      <td>3235.870117</td>\n",
              "      <td>21.670000</td>\n",
              "      <td>3097.830078</td>\n",
              "      <td>-0.010545</td>\n",
              "      <td>-94.145759</td>\n",
              "      <td>431800.0</td>\n",
              "      <td>438500.0</td>\n",
              "      <td>439525.0</td>\n",
              "      <td>413150.000000</td>\n",
              "      <td>0.965815</td>\n",
              "      <td>1.027472</td>\n",
              "      <td>665965.15</td>\n",
              "      <td>779609.133333</td>\n",
              "      <td>5051.843593</td>\n",
              "      <td>5044.528400</td>\n",
              "      <td>1884.242572</td>\n",
              "      <td>12140.316581</td>\n",
              "      <td>456049.148995</td>\n",
              "      <td>439525.0</td>\n",
              "      <td>423000.851005</td>\n",
              "      <td>-4500.0</td>\n",
              "      <td>-12000.0</td>\n",
              "      <td>16.942149</td>\n",
              "      <td>-86.567164</td>\n",
              "    </tr>\n",
              "    <tr>\n",
              "      <th>2021-08-20</th>\n",
              "      <td>425000.0</td>\n",
              "      <td>432000.0</td>\n",
              "      <td>421000.0</td>\n",
              "      <td>422500.0</td>\n",
              "      <td>422500.0</td>\n",
              "      <td>587940</td>\n",
              "      <td>4441.669922</td>\n",
              "      <td>3256.500000</td>\n",
              "      <td>18.559999</td>\n",
              "      <td>3060.510010</td>\n",
              "      <td>-0.004723</td>\n",
              "      <td>-100.375738</td>\n",
              "      <td>428200.0</td>\n",
              "      <td>436500.0</td>\n",
              "      <td>438650.0</td>\n",
              "      <td>414225.000000</td>\n",
              "      <td>0.963182</td>\n",
              "      <td>1.019977</td>\n",
              "      <td>643568.05</td>\n",
              "      <td>773346.983333</td>\n",
              "      <td>5534.340346</td>\n",
              "      <td>5057.375240</td>\n",
              "      <td>727.170577</td>\n",
              "      <td>12058.865397</td>\n",
              "      <td>456758.285396</td>\n",
              "      <td>438650.0</td>\n",
              "      <td>420541.714604</td>\n",
              "      <td>-2000.0</td>\n",
              "      <td>-6000.0</td>\n",
              "      <td>18.016760</td>\n",
              "      <td>-92.537313</td>\n",
              "    </tr>\n",
              "    <tr>\n",
              "      <th>2021-08-23</th>\n",
              "      <td>428000.0</td>\n",
              "      <td>436000.0</td>\n",
              "      <td>423500.0</td>\n",
              "      <td>429500.0</td>\n",
              "      <td>429500.0</td>\n",
              "      <td>515679</td>\n",
              "      <td>4479.529785</td>\n",
              "      <td>3342.010010</td>\n",
              "      <td>17.150000</td>\n",
              "      <td>3090.209961</td>\n",
              "      <td>0.016432</td>\n",
              "      <td>-55.850234</td>\n",
              "      <td>426800.0</td>\n",
              "      <td>435000.0</td>\n",
              "      <td>437525.0</td>\n",
              "      <td>415416.666667</td>\n",
              "      <td>0.981658</td>\n",
              "      <td>1.033902</td>\n",
              "      <td>614650.70</td>\n",
              "      <td>774623.100000</td>\n",
              "      <td>5267.825466</td>\n",
              "      <td>4714.171343</td>\n",
              "      <td>370.750404</td>\n",
              "      <td>12161.803583</td>\n",
              "      <td>454959.090168</td>\n",
              "      <td>437525.0</td>\n",
              "      <td>420090.909832</td>\n",
              "      <td>7000.0</td>\n",
              "      <td>500.0</td>\n",
              "      <td>19.972067</td>\n",
              "      <td>-71.641791</td>\n",
              "    </tr>\n",
              "    <tr>\n",
              "      <th>2021-08-24</th>\n",
              "      <td>435000.0</td>\n",
              "      <td>439000.0</td>\n",
              "      <td>431500.0</td>\n",
              "      <td>437500.0</td>\n",
              "      <td>437500.0</td>\n",
              "      <td>546884</td>\n",
              "      <td>4486.229980</td>\n",
              "      <td>3345.392822</td>\n",
              "      <td>17.219999</td>\n",
              "      <td>NaN</td>\n",
              "      <td>0.018455</td>\n",
              "      <td>-4.754008</td>\n",
              "      <td>428600.0</td>\n",
              "      <td>434000.0</td>\n",
              "      <td>436800.0</td>\n",
              "      <td>416666.666667</td>\n",
              "      <td>1.001603</td>\n",
              "      <td>1.050000</td>\n",
              "      <td>599231.05</td>\n",
              "      <td>777119.200000</td>\n",
              "      <td>5007.206967</td>\n",
              "      <td>4495.087997</td>\n",
              "      <td>725.455392</td>\n",
              "      <td>11971.674755</td>\n",
              "      <td>452922.654868</td>\n",
              "      <td>436800.0</td>\n",
              "      <td>420677.345132</td>\n",
              "      <td>8000.0</td>\n",
              "      <td>13000.0</td>\n",
              "      <td>20.689655</td>\n",
              "      <td>-47.761194</td>\n",
              "    </tr>\n",
              "    <tr>\n",
              "      <th>2021-08-25</th>\n",
              "      <td>434000.0</td>\n",
              "      <td>439000.0</td>\n",
              "      <td>432500.0</td>\n",
              "      <td>433000.0</td>\n",
              "      <td>433000.0</td>\n",
              "      <td>170243</td>\n",
              "      <td>NaN</td>\n",
              "      <td>NaN</td>\n",
              "      <td>NaN</td>\n",
              "      <td>3143.060059</td>\n",
              "      <td>-0.010339</td>\n",
              "      <td>-19.594203</td>\n",
              "      <td>429400.0</td>\n",
              "      <td>432650.0</td>\n",
              "      <td>435850.0</td>\n",
              "      <td>417766.666667</td>\n",
              "      <td>0.993461</td>\n",
              "      <td>1.036464</td>\n",
              "      <td>569861.30</td>\n",
              "      <td>773221.416667</td>\n",
              "      <td>4817.458343</td>\n",
              "      <td>4523.945382</td>\n",
              "      <td>636.116503</td>\n",
              "      <td>11580.840844</td>\n",
              "      <td>450444.862110</td>\n",
              "      <td>435850.0</td>\n",
              "      <td>421255.137890</td>\n",
              "      <td>-4500.0</td>\n",
              "      <td>10500.0</td>\n",
              "      <td>17.983651</td>\n",
              "      <td>-61.194030</td>\n",
              "    </tr>\n",
              "  </tbody>\n",
              "</table>\n",
              "</div>"
            ],
            "text/plain": [
              "                Open      High       Low  ...     MTM3        ROC        WPR\n",
              "Date                                      ...                               \n",
              "2021-08-19  431000.0  434000.0  424500.0  ... -12000.0  16.942149 -86.567164\n",
              "2021-08-20  425000.0  432000.0  421000.0  ...  -6000.0  18.016760 -92.537313\n",
              "2021-08-23  428000.0  436000.0  423500.0  ...    500.0  19.972067 -71.641791\n",
              "2021-08-24  435000.0  439000.0  431500.0  ...  13000.0  20.689655 -47.761194\n",
              "2021-08-25  434000.0  439000.0  432500.0  ...  10500.0  17.983651 -61.194030\n",
              "\n",
              "[5 rows x 31 columns]"
            ]
          },
          "metadata": {},
          "execution_count": 3
        }
      ]
    },
    {
      "cell_type": "code",
      "metadata": {
        "id": "IXYxqi-_9za4"
      },
      "source": [
        "#df = df.drop(['MA20_volume', 'MA60_volumne'], axis = 1)\n",
        "#df.columns\n",
        "        \n",
        "#df.columns\n",
        "\n",
        "df = df.drop(['log_return', 'MTM1', 'MTM3'], axis = 1)\n",
        "\n",
        "#diff = df['MA20_ratio']-df['MA60_ratio']\n",
        "#df['golden'] = np.where(diff>0,1,-1)"
      ],
      "execution_count": null,
      "outputs": []
    },
    {
      "cell_type": "code",
      "metadata": {
        "colab": {
          "base_uri": "https://localhost:8080/"
        },
        "id": "YOvjFuHXjd1_",
        "outputId": "3c55b1a5-b792-477f-bc7d-1636502fd50f"
      },
      "source": [
        "df.isnull().any()"
      ],
      "execution_count": null,
      "outputs": [
        {
          "output_type": "execute_result",
          "data": {
            "text/plain": [
              "Open            False\n",
              "High            False\n",
              "Low             False\n",
              "Close           False\n",
              "Adj Close       False\n",
              "Volume          False\n",
              "S&P500           True\n",
              "SOX              True\n",
              "VIX              True\n",
              "KOSPI            True\n",
              "CCI              True\n",
              "MA5              True\n",
              "MA10             True\n",
              "MA20             True\n",
              "MA60             True\n",
              "MA20_ratio       True\n",
              "MA60_ratio       True\n",
              "MA20_volume      True\n",
              "MA60_volumne     True\n",
              "RASD5            True\n",
              "RASD10           True\n",
              "MACD             True\n",
              "ATR              True\n",
              "ub               True\n",
              "middle           True\n",
              "lb               True\n",
              "ROC              True\n",
              "WPR              True\n",
              "dtype: bool"
            ]
          },
          "metadata": {},
          "execution_count": 5
        }
      ]
    },
    {
      "cell_type": "code",
      "metadata": {
        "id": "VJWkQcFSjg5k"
      },
      "source": [
        "df = df.dropna(axis=0)"
      ],
      "execution_count": null,
      "outputs": []
    },
    {
      "cell_type": "code",
      "metadata": {
        "colab": {
          "base_uri": "https://localhost:8080/",
          "height": 339
        },
        "id": "wJbPuJVshgpM",
        "outputId": "f96a585d-ace4-4e0b-ed3a-7f566bf2d816"
      },
      "source": [
        "df.head()"
      ],
      "execution_count": null,
      "outputs": [
        {
          "output_type": "execute_result",
          "data": {
            "text/html": [
              "<div>\n",
              "<style scoped>\n",
              "    .dataframe tbody tr th:only-of-type {\n",
              "        vertical-align: middle;\n",
              "    }\n",
              "\n",
              "    .dataframe tbody tr th {\n",
              "        vertical-align: top;\n",
              "    }\n",
              "\n",
              "    .dataframe thead th {\n",
              "        text-align: right;\n",
              "    }\n",
              "</style>\n",
              "<table border=\"1\" class=\"dataframe\">\n",
              "  <thead>\n",
              "    <tr style=\"text-align: right;\">\n",
              "      <th></th>\n",
              "      <th>Open</th>\n",
              "      <th>High</th>\n",
              "      <th>Low</th>\n",
              "      <th>Close</th>\n",
              "      <th>Adj Close</th>\n",
              "      <th>Volume</th>\n",
              "      <th>S&amp;P500</th>\n",
              "      <th>SOX</th>\n",
              "      <th>VIX</th>\n",
              "      <th>KOSPI</th>\n",
              "      <th>CCI</th>\n",
              "      <th>MA5</th>\n",
              "      <th>MA10</th>\n",
              "      <th>MA20</th>\n",
              "      <th>MA60</th>\n",
              "      <th>MA20_ratio</th>\n",
              "      <th>MA60_ratio</th>\n",
              "      <th>MA20_volume</th>\n",
              "      <th>MA60_volumne</th>\n",
              "      <th>RASD5</th>\n",
              "      <th>RASD10</th>\n",
              "      <th>MACD</th>\n",
              "      <th>ATR</th>\n",
              "      <th>ub</th>\n",
              "      <th>middle</th>\n",
              "      <th>lb</th>\n",
              "      <th>ROC</th>\n",
              "      <th>WPR</th>\n",
              "    </tr>\n",
              "    <tr>\n",
              "      <th>Date</th>\n",
              "      <th></th>\n",
              "      <th></th>\n",
              "      <th></th>\n",
              "      <th></th>\n",
              "      <th></th>\n",
              "      <th></th>\n",
              "      <th></th>\n",
              "      <th></th>\n",
              "      <th></th>\n",
              "      <th></th>\n",
              "      <th></th>\n",
              "      <th></th>\n",
              "      <th></th>\n",
              "      <th></th>\n",
              "      <th></th>\n",
              "      <th></th>\n",
              "      <th></th>\n",
              "      <th></th>\n",
              "      <th></th>\n",
              "      <th></th>\n",
              "      <th></th>\n",
              "      <th></th>\n",
              "      <th></th>\n",
              "      <th></th>\n",
              "      <th></th>\n",
              "      <th></th>\n",
              "      <th></th>\n",
              "      <th></th>\n",
              "    </tr>\n",
              "  </thead>\n",
              "  <tbody>\n",
              "    <tr>\n",
              "      <th>2005-03-31</th>\n",
              "      <td>7395.186035</td>\n",
              "      <td>7436.043457</td>\n",
              "      <td>7223.585449</td>\n",
              "      <td>7239.928223</td>\n",
              "      <td>7101.616211</td>\n",
              "      <td>1958030</td>\n",
              "      <td>1180.589966</td>\n",
              "      <td>416.989990</td>\n",
              "      <td>14.02</td>\n",
              "      <td>965.679993</td>\n",
              "      <td>77.408536</td>\n",
              "      <td>7277.516895</td>\n",
              "      <td>7039.726953</td>\n",
              "      <td>7114.904565</td>\n",
              "      <td>7271.660718</td>\n",
              "      <td>1.017572</td>\n",
              "      <td>0.995636</td>\n",
              "      <td>2085301.95</td>\n",
              "      <td>2.623862e+06</td>\n",
              "      <td>213.150136</td>\n",
              "      <td>158.625026</td>\n",
              "      <td>-12.354711</td>\n",
              "      <td>227.920020</td>\n",
              "      <td>7561.611597</td>\n",
              "      <td>7114.904565</td>\n",
              "      <td>6668.197534</td>\n",
              "      <td>3.023257</td>\n",
              "      <td>-28.155320</td>\n",
              "    </tr>\n",
              "    <tr>\n",
              "      <th>2005-04-01</th>\n",
              "      <td>7166.384766</td>\n",
              "      <td>7313.471680</td>\n",
              "      <td>7166.384766</td>\n",
              "      <td>7272.614258</td>\n",
              "      <td>7133.678711</td>\n",
              "      <td>1740199</td>\n",
              "      <td>1172.920044</td>\n",
              "      <td>411.220001</td>\n",
              "      <td>14.09</td>\n",
              "      <td>981.900024</td>\n",
              "      <td>63.909019</td>\n",
              "      <td>7288.957031</td>\n",
              "      <td>7082.218652</td>\n",
              "      <td>7119.398877</td>\n",
              "      <td>7277.108374</td>\n",
              "      <td>1.021521</td>\n",
              "      <td>0.999382</td>\n",
              "      <td>2074349.20</td>\n",
              "      <td>2.623312e+06</td>\n",
              "      <td>181.928256</td>\n",
              "      <td>147.849453</td>\n",
              "      <td>-0.317474</td>\n",
              "      <td>222.146227</td>\n",
              "      <td>7570.531720</td>\n",
              "      <td>7119.398877</td>\n",
              "      <td>6668.266034</td>\n",
              "      <td>4.705887</td>\n",
              "      <td>-22.772258</td>\n",
              "    </tr>\n",
              "    <tr>\n",
              "      <th>2005-04-04</th>\n",
              "      <td>7346.157227</td>\n",
              "      <td>7346.157227</td>\n",
              "      <td>7166.384766</td>\n",
              "      <td>7190.899414</td>\n",
              "      <td>7053.524414</td>\n",
              "      <td>1038979</td>\n",
              "      <td>1176.119995</td>\n",
              "      <td>409.420013</td>\n",
              "      <td>14.11</td>\n",
              "      <td>982.500000</td>\n",
              "      <td>56.086788</td>\n",
              "      <td>7256.271191</td>\n",
              "      <td>7110.001660</td>\n",
              "      <td>7120.624609</td>\n",
              "      <td>7280.513159</td>\n",
              "      <td>1.009869</td>\n",
              "      <td>0.987691</td>\n",
              "      <td>2047915.75</td>\n",
              "      <td>2.515946e+06</td>\n",
              "      <td>134.852992</td>\n",
              "      <td>141.939089</td>\n",
              "      <td>2.598465</td>\n",
              "      <td>219.119529</td>\n",
              "      <td>7572.394200</td>\n",
              "      <td>7120.624609</td>\n",
              "      <td>6668.855019</td>\n",
              "      <td>2.923979</td>\n",
              "      <td>-32.673255</td>\n",
              "    </tr>\n",
              "    <tr>\n",
              "      <th>2005-04-06</th>\n",
              "      <td>7174.556152</td>\n",
              "      <td>7517.758301</td>\n",
              "      <td>7174.556152</td>\n",
              "      <td>7444.214844</td>\n",
              "      <td>7302.000000</td>\n",
              "      <td>3884242</td>\n",
              "      <td>1184.069946</td>\n",
              "      <td>410.869995</td>\n",
              "      <td>13.15</td>\n",
              "      <td>988.000000</td>\n",
              "      <td>88.750882</td>\n",
              "      <td>7267.711230</td>\n",
              "      <td>7221.133740</td>\n",
              "      <td>7126.753198</td>\n",
              "      <td>7280.785539</td>\n",
              "      <td>1.044545</td>\n",
              "      <td>1.022447</td>\n",
              "      <td>1948668.10</td>\n",
              "      <td>2.425143e+06</td>\n",
              "      <td>52.904059</td>\n",
              "      <td>138.366320</td>\n",
              "      <td>26.772312</td>\n",
              "      <td>213.449135</td>\n",
              "      <td>7591.889648</td>\n",
              "      <td>7126.753198</td>\n",
              "      <td>6661.616748</td>\n",
              "      <td>0.662983</td>\n",
              "      <td>-8.333352</td>\n",
              "    </tr>\n",
              "    <tr>\n",
              "      <th>2005-04-07</th>\n",
              "      <td>7517.758301</td>\n",
              "      <td>7648.501953</td>\n",
              "      <td>7493.244141</td>\n",
              "      <td>7566.787109</td>\n",
              "      <td>7422.230957</td>\n",
              "      <td>2261525</td>\n",
              "      <td>1191.140015</td>\n",
              "      <td>418.970001</td>\n",
              "      <td>12.33</td>\n",
              "      <td>988.900024</td>\n",
              "      <td>136.064574</td>\n",
              "      <td>7333.083008</td>\n",
              "      <td>7305.299951</td>\n",
              "      <td>7140.236133</td>\n",
              "      <td>7282.283643</td>\n",
              "      <td>1.059739</td>\n",
              "      <td>1.039068</td>\n",
              "      <td>1919297.65</td>\n",
              "      <td>2.404644e+06</td>\n",
              "      <td>72.292447</td>\n",
              "      <td>142.721292</td>\n",
              "      <td>53.417980</td>\n",
              "      <td>212.794705</td>\n",
              "      <td>7638.779194</td>\n",
              "      <td>7140.236133</td>\n",
              "      <td>6641.693071</td>\n",
              "      <td>1.202186</td>\n",
              "      <td>-8.064523</td>\n",
              "    </tr>\n",
              "  </tbody>\n",
              "</table>\n",
              "</div>"
            ],
            "text/plain": [
              "                   Open         High  ...       ROC        WPR\n",
              "Date                                  ...                     \n",
              "2005-03-31  7395.186035  7436.043457  ...  3.023257 -28.155320\n",
              "2005-04-01  7166.384766  7313.471680  ...  4.705887 -22.772258\n",
              "2005-04-04  7346.157227  7346.157227  ...  2.923979 -32.673255\n",
              "2005-04-06  7174.556152  7517.758301  ...  0.662983  -8.333352\n",
              "2005-04-07  7517.758301  7648.501953  ...  1.202186  -8.064523\n",
              "\n",
              "[5 rows x 28 columns]"
            ]
          },
          "metadata": {},
          "execution_count": 7
        }
      ]
    },
    {
      "cell_type": "code",
      "metadata": {
        "colab": {
          "base_uri": "https://localhost:8080/"
        },
        "id": "rEo3CF0O4RGj",
        "outputId": "efbdde21-e852-4b89-ab42-f39d9828c321"
      },
      "source": [
        "df.shape"
      ],
      "execution_count": null,
      "outputs": [
        {
          "output_type": "execute_result",
          "data": {
            "text/plain": [
              "(3908, 28)"
            ]
          },
          "metadata": {},
          "execution_count": 8
        }
      ]
    },
    {
      "cell_type": "markdown",
      "metadata": {
        "id": "obu023j3iPvY"
      },
      "source": [
        "# encoder로 특징 추출"
      ]
    },
    {
      "cell_type": "code",
      "metadata": {
        "colab": {
          "base_uri": "https://localhost:8080/"
        },
        "id": "GrXRXzgQhCPs",
        "outputId": "62687319-0467-442c-e454-233ab3d39f5e"
      },
      "source": [
        "RASD5 = df['RASD5']\n",
        "RASD5.head()"
      ],
      "execution_count": null,
      "outputs": [
        {
          "output_type": "execute_result",
          "data": {
            "text/plain": [
              "Date\n",
              "2005-03-31    213.150136\n",
              "2005-04-01    181.928256\n",
              "2005-04-04    134.852992\n",
              "2005-04-06     52.904059\n",
              "2005-04-07     72.292447\n",
              "Name: RASD5, dtype: float64"
            ]
          },
          "metadata": {},
          "execution_count": 9
        }
      ]
    },
    {
      "cell_type": "code",
      "metadata": {
        "colab": {
          "base_uri": "https://localhost:8080/",
          "height": 287
        },
        "id": "gCD2VjT0isTJ",
        "outputId": "8232a0a4-ebd3-4837-fa75-0da348cd229b"
      },
      "source": [
        "RASD5.plot()"
      ],
      "execution_count": null,
      "outputs": [
        {
          "output_type": "execute_result",
          "data": {
            "text/plain": [
              "<matplotlib.axes._subplots.AxesSubplot at 0x7f63783b5d50>"
            ]
          },
          "metadata": {},
          "execution_count": 10
        },
        {
          "output_type": "display_data",
          "data": {
            "image/png": "[encoded data removed]",
            "text/plain": [
              "<Figure size 432x288 with 1 Axes>"
            ]
          },
          "metadata": {
            "needs_background": "light"
          }
        }
      ]
    },
    {
      "cell_type": "code",
      "metadata": {
        "colab": {
          "base_uri": "https://localhost:8080/"
        },
        "id": "ipkhQn7UlEAl",
        "outputId": "1d6508e2-dcdc-4b28-93a4-434a54abde25"
      },
      "source": [
        "RASD5.isnull()"
      ],
      "execution_count": null,
      "outputs": [
        {
          "output_type": "execute_result",
          "data": {
            "text/plain": [
              "Date\n",
              "2005-03-31    False\n",
              "2005-04-01    False\n",
              "2005-04-04    False\n",
              "2005-04-06    False\n",
              "2005-04-07    False\n",
              "              ...  \n",
              "2021-08-17    False\n",
              "2021-08-18    False\n",
              "2021-08-19    False\n",
              "2021-08-20    False\n",
              "2021-08-23    False\n",
              "Name: RASD5, Length: 3908, dtype: bool"
            ]
          },
          "metadata": {},
          "execution_count": 11
        }
      ]
    },
    {
      "cell_type": "code",
      "metadata": {
        "id": "4JkOUzUwixuW"
      },
      "source": [
        "window_length = 10\n",
        "encoding_dim = 3\n",
        "scaler = MinMaxScaler()\n",
        "x_train = np.array([scaler.fit_transform(RASD5.values[i-window_length:i].reshape(-1,1)) for i in range(window_length+1, len(RASD5))])"
      ],
      "execution_count": null,
      "outputs": []
    },
    {
      "cell_type": "code",
      "metadata": {
        "colab": {
          "base_uri": "https://localhost:8080/"
        },
        "id": "mGTN7wNOjINq",
        "outputId": "9260bb31-233a-413d-d6c5-611a8e76239e"
      },
      "source": [
        "# 훈련 데이터 형태\n",
        "x_train.shape"
      ],
      "execution_count": null,
      "outputs": [
        {
          "output_type": "execute_result",
          "data": {
            "text/plain": [
              "(3897, 10, 1)"
            ]
          },
          "metadata": {},
          "execution_count": 13
        }
      ]
    },
    {
      "cell_type": "code",
      "metadata": {
        "colab": {
          "base_uri": "https://localhost:8080/"
        },
        "id": "x6TwHVw2jIzJ",
        "outputId": "175b1cb6-8f36-4393-ca11-95dbedf49ddc"
      },
      "source": [
        "# 훈련 데이터셋과 테스트 데이터셋 분할\n",
        "test_samples = 200 # 아직도 이거 왜 나누는지 모르겠음\n",
        "x_train = x_train[:-test_samples]\n",
        "x_test = x_train[-test_samples:]\n",
        "\n",
        "x_train = x_train.astype('float32')\n",
        "x_test = x_test.astype('float32')\n",
        "\n",
        "# 전체 데이터 중 테스트 데이터가 사용된 비중 계산\n",
        "print(\"테스트 데이터 비중: {}%\".format((test_samples/len(x_train))*100))"
      ],
      "execution_count": null,
      "outputs": [
        {
          "output_type": "stream",
          "text": [
            "테스트 데이터 비중: 5.409791723018664%\n"
          ],
          "name": "stdout"
        }
      ]
    },
    {
      "cell_type": "code",
      "metadata": {
        "id": "lbwimmoZjMuO"
      },
      "source": [
        "def plot_examples(stock_input, stock_decoded):\n",
        "    n = 10  \n",
        "    plt.figure(figsize=(20, 4))\n",
        "    for i, idx in enumerate(list(np.arange(0, test_samples, 20))):\n",
        "        # display original\n",
        "        ax = plt.subplot(2, n, i + 1)\n",
        "        if i == 0:\n",
        "            ax.set_ylabel(\"Input\", fontweight=600)\n",
        "        else:\n",
        "            ax.get_yaxis().set_visible(False)\n",
        "        plt.plot(stock_input[idx])\n",
        "        ax.get_xaxis().set_visible(False)\n",
        "        \n",
        "\n",
        "        # display reconstruction\n",
        "        ax = plt.subplot(2, n, i + 1 + n)\n",
        "        if i == 0:\n",
        "            ax.set_ylabel(\"Output\", fontweight=600)\n",
        "        else:\n",
        "            ax.get_yaxis().set_visible(False)\n",
        "        plt.plot(stock_decoded[idx])\n",
        "        ax.get_xaxis().set_visible(False)\n",
        "        \n",
        "        \n",
        "def plot_history(history):\n",
        "    plt.figure(figsize=(15, 5))\n",
        "    ax = plt.subplot(1, 2, 1)\n",
        "    plt.plot(history.history[\"loss\"])\n",
        "    plt.title(\"Train loss\")\n",
        "    ax = plt.subplot(1, 2, 2)\n",
        "    plt.plot(history.history[\"val_loss\"])\n",
        "    plt.title(\"Test loss\")\n"
      ],
      "execution_count": null,
      "outputs": []
    },
    {
      "cell_type": "code",
      "metadata": {
        "colab": {
          "base_uri": "https://localhost:8080/",
          "height": 1000
        },
        "id": "mZbxKpSBjP-d",
        "outputId": "710a4b3f-ca38-40f6-d229-7f578008e986"
      },
      "source": [
        "from keras.callbacks import EarlyStopping\n",
        "import tensorflow as tf\n",
        "x_train_sample = x_train.reshape((len(x_train), np.prod(x_train.shape[1:])))\n",
        "x_test_sample = x_test.reshape((len(x_test), np.prod(x_test.shape[1:])))\n",
        "\n",
        "\n",
        "input_window = Input(shape=(window_length,))\n",
        "\n",
        "x = Dense(6, activation='relu')(input_window)\n",
        "x = BatchNormalization()(x)\n",
        "encoded = Dense(encoding_dim, activation='relu')(x)\n",
        "# \"decoded\" is the lossy reconstruction of the input\n",
        "\n",
        "x = Dense(6, activation='relu')(encoded)\n",
        "x = BatchNormalization()(x)\n",
        "decoded = Dense(window_length, activation='sigmoid')(x)\n",
        "\n",
        "# this model maps an input to its reconstruction\n",
        "autoencoder = Model(input_window, decoded)\n",
        "\n",
        "# this model maps an input to its encoded representation\n",
        "encoder = Model(input_window, encoded)\n",
        "\n",
        "autoencoder.summary()\n",
        "\n",
        "# early stopping 정의\n",
        "es = EarlyStopping(monitor='val_loss', mode='min', verbose=1, patience=50)\n",
        "\n",
        "autoencoder.compile(optimizer='adam', loss='binary_crossentropy', metrics = ['acc'])\n",
        "history = autoencoder.fit(x_train_sample, x_train_sample,\n",
        "                epochs=500,\n",
        "                batch_size=1024,\n",
        "                shuffle=True,\n",
        "                callbacks = [es],\n",
        "                validation_data=(x_test_sample, x_test_sample))\n",
        "\n",
        "decoded_stocks = autoencoder.predict(x_test_sample)\n",
        "plot_history(history)\n",
        "plot_examples(x_test_sample, decoded_stocks)"
      ],
      "execution_count": null,
      "outputs": [
        {
          "output_type": "stream",
          "text": [
            "Model: \"model\"\n",
            "_________________________________________________________________\n",
            "Layer (type)                 Output Shape              Param #   \n",
            "=================================================================\n",
            "input_1 (InputLayer)         [(None, 10)]              0         \n",
            "_________________________________________________________________\n",
            "dense (Dense)                (None, 6)                 66        \n",
            "_________________________________________________________________\n",
            "batch_normalization (BatchNo (None, 6)                 24        \n",
            "_________________________________________________________________\n",
            "dense_1 (Dense)              (None, 3)                 21        \n",
            "_________________________________________________________________\n",
            "dense_2 (Dense)              (None, 6)                 24        \n",
            "_________________________________________________________________\n",
            "batch_normalization_1 (Batch (None, 6)                 24        \n",
            "_________________________________________________________________\n",
            "dense_3 (Dense)              (None, 10)                70        \n",
            "=================================================================\n",
            "Total params: 229\n",
            "Trainable params: 205\n",
            "Non-trainable params: 24\n",
            "_________________________________________________________________\n",
            "Epoch 1/500\n",
            "4/4 [==============================] - 1s 82ms/step - loss: 0.7521 - acc: 0.0387 - val_loss: 0.6933 - val_acc: 0.0300\n",
            "Epoch 2/500\n",
            "4/4 [==============================] - 0s 10ms/step - loss: 0.7443 - acc: 0.0408 - val_loss: 0.6929 - val_acc: 0.0400\n",
            "Epoch 3/500\n",
            "4/4 [==============================] - 0s 10ms/step - loss: 0.7371 - acc: 0.0373 - val_loss: 0.6926 - val_acc: 0.0500\n",
            "Epoch 4/500\n",
            "4/4 [==============================] - 0s 9ms/step - loss: 0.7303 - acc: 0.0419 - val_loss: 0.6922 - val_acc: 0.0550\n",
            "Epoch 5/500\n",
            "4/4 [==============================] - 0s 9ms/step - loss: 0.7239 - acc: 0.0490 - val_loss: 0.6918 - val_acc: 0.0550\n",
            "Epoch 6/500\n",
            "4/4 [==============================] - 0s 11ms/step - loss: 0.7176 - acc: 0.0517 - val_loss: 0.6915 - val_acc: 0.0700\n",
            "Epoch 7/500\n",
            "4/4 [==============================] - 0s 11ms/step - loss: 0.7116 - acc: 0.0579 - val_loss: 0.6911 - val_acc: 0.0900\n",
            "Epoch 8/500\n",
            "4/4 [==============================] - 0s 11ms/step - loss: 0.7061 - acc: 0.0614 - val_loss: 0.6907 - val_acc: 0.1250\n",
            "Epoch 9/500\n",
            "4/4 [==============================] - 0s 11ms/step - loss: 0.7008 - acc: 0.0633 - val_loss: 0.6902 - val_acc: 0.1600\n",
            "Epoch 10/500\n",
            "4/4 [==============================] - 0s 10ms/step - loss: 0.6955 - acc: 0.0668 - val_loss: 0.6898 - val_acc: 0.2050\n",
            "Epoch 11/500\n",
            "4/4 [==============================] - 0s 10ms/step - loss: 0.6903 - acc: 0.0879 - val_loss: 0.6893 - val_acc: 0.2350\n",
            "Epoch 12/500\n",
            "4/4 [==============================] - 0s 9ms/step - loss: 0.6858 - acc: 0.1147 - val_loss: 0.6887 - val_acc: 0.2750\n",
            "Epoch 13/500\n",
            "4/4 [==============================] - 0s 19ms/step - loss: 0.6808 - acc: 0.1231 - val_loss: 0.6882 - val_acc: 0.2650\n",
            "Epoch 14/500\n",
            "4/4 [==============================] - 0s 14ms/step - loss: 0.6762 - acc: 0.1250 - val_loss: 0.6876 - val_acc: 0.3100\n",
            "Epoch 15/500\n",
            "4/4 [==============================] - 0s 10ms/step - loss: 0.6713 - acc: 0.1320 - val_loss: 0.6869 - val_acc: 0.3150\n",
            "Epoch 16/500\n",
            "4/4 [==============================] - 0s 10ms/step - loss: 0.6664 - acc: 0.1515 - val_loss: 0.6862 - val_acc: 0.3150\n",
            "Epoch 17/500\n",
            "4/4 [==============================] - 0s 11ms/step - loss: 0.6612 - acc: 0.1682 - val_loss: 0.6855 - val_acc: 0.3150\n",
            "Epoch 18/500\n",
            "4/4 [==============================] - 0s 11ms/step - loss: 0.6560 - acc: 0.1712 - val_loss: 0.6847 - val_acc: 0.3150\n",
            "Epoch 19/500\n",
            "4/4 [==============================] - 0s 11ms/step - loss: 0.6512 - acc: 0.1739 - val_loss: 0.6838 - val_acc: 0.3150\n",
            "Epoch 20/500\n",
            "4/4 [==============================] - 0s 12ms/step - loss: 0.6462 - acc: 0.1739 - val_loss: 0.6829 - val_acc: 0.3150\n",
            "Epoch 21/500\n",
            "4/4 [==============================] - 0s 11ms/step - loss: 0.6413 - acc: 0.1747 - val_loss: 0.6820 - val_acc: 0.3150\n",
            "Epoch 22/500\n",
            "4/4 [==============================] - 0s 9ms/step - loss: 0.6365 - acc: 0.1739 - val_loss: 0.6810 - val_acc: 0.3150\n",
            "Epoch 23/500\n",
            "4/4 [==============================] - 0s 10ms/step - loss: 0.6323 - acc: 0.1737 - val_loss: 0.6801 - val_acc: 0.3200\n",
            "Epoch 24/500\n",
            "4/4 [==============================] - 0s 10ms/step - loss: 0.6285 - acc: 0.1747 - val_loss: 0.6792 - val_acc: 0.3150\n",
            "Epoch 25/500\n",
            "4/4 [==============================] - 0s 10ms/step - loss: 0.6250 - acc: 0.1739 - val_loss: 0.6782 - val_acc: 0.3100\n",
            "Epoch 26/500\n",
            "4/4 [==============================] - 0s 10ms/step - loss: 0.6213 - acc: 0.1783 - val_loss: 0.6773 - val_acc: 0.3000\n",
            "Epoch 27/500\n",
            "4/4 [==============================] - 0s 12ms/step - loss: 0.6180 - acc: 0.1761 - val_loss: 0.6763 - val_acc: 0.3000\n",
            "Epoch 28/500\n",
            "4/4 [==============================] - 0s 10ms/step - loss: 0.6147 - acc: 0.1753 - val_loss: 0.6752 - val_acc: 0.3000\n",
            "Epoch 29/500\n",
            "4/4 [==============================] - 0s 13ms/step - loss: 0.6115 - acc: 0.1764 - val_loss: 0.6742 - val_acc: 0.3000\n",
            "Epoch 30/500\n",
            "4/4 [==============================] - 0s 11ms/step - loss: 0.6083 - acc: 0.1742 - val_loss: 0.6731 - val_acc: 0.2950\n",
            "Epoch 31/500\n",
            "4/4 [==============================] - 0s 10ms/step - loss: 0.6052 - acc: 0.1734 - val_loss: 0.6720 - val_acc: 0.2700\n",
            "Epoch 32/500\n",
            "4/4 [==============================] - 0s 12ms/step - loss: 0.6021 - acc: 0.1715 - val_loss: 0.6708 - val_acc: 0.2500\n",
            "Epoch 33/500\n",
            "4/4 [==============================] - 0s 11ms/step - loss: 0.5993 - acc: 0.1696 - val_loss: 0.6695 - val_acc: 0.2500\n",
            "Epoch 34/500\n",
            "4/4 [==============================] - 0s 10ms/step - loss: 0.5961 - acc: 0.1701 - val_loss: 0.6680 - val_acc: 0.2500\n",
            "Epoch 35/500\n",
            "4/4 [==============================] - 0s 10ms/step - loss: 0.5932 - acc: 0.1696 - val_loss: 0.6665 - val_acc: 0.2500\n",
            "Epoch 36/500\n",
            "4/4 [==============================] - 0s 11ms/step - loss: 0.5905 - acc: 0.1685 - val_loss: 0.6649 - val_acc: 0.2450\n",
            "Epoch 37/500\n",
            "4/4 [==============================] - 0s 11ms/step - loss: 0.5879 - acc: 0.1691 - val_loss: 0.6632 - val_acc: 0.2450\n",
            "Epoch 38/500\n",
            "4/4 [==============================] - 0s 12ms/step - loss: 0.5851 - acc: 0.1701 - val_loss: 0.6613 - val_acc: 0.2450\n",
            "Epoch 39/500\n",
            "4/4 [==============================] - 0s 10ms/step - loss: 0.5826 - acc: 0.1750 - val_loss: 0.6594 - val_acc: 0.2450\n",
            "Epoch 40/500\n",
            "4/4 [==============================] - 0s 10ms/step - loss: 0.5801 - acc: 0.1834 - val_loss: 0.6574 - val_acc: 0.2600\n",
            "Epoch 41/500\n",
            "4/4 [==============================] - 0s 10ms/step - loss: 0.5775 - acc: 0.1858 - val_loss: 0.6553 - val_acc: 0.2850\n",
            "Epoch 42/500\n",
            "4/4 [==============================] - 0s 10ms/step - loss: 0.5750 - acc: 0.1958 - val_loss: 0.6532 - val_acc: 0.3100\n",
            "Epoch 43/500\n",
            "4/4 [==============================] - 0s 10ms/step - loss: 0.5726 - acc: 0.2039 - val_loss: 0.6511 - val_acc: 0.3300\n",
            "Epoch 44/500\n",
            "4/4 [==============================] - 0s 10ms/step - loss: 0.5704 - acc: 0.2091 - val_loss: 0.6489 - val_acc: 0.3450\n",
            "Epoch 45/500\n",
            "4/4 [==============================] - 0s 12ms/step - loss: 0.5682 - acc: 0.2161 - val_loss: 0.6467 - val_acc: 0.3550\n",
            "Epoch 46/500\n",
            "4/4 [==============================] - 0s 10ms/step - loss: 0.5662 - acc: 0.2250 - val_loss: 0.6446 - val_acc: 0.3600\n",
            "Epoch 47/500\n",
            "4/4 [==============================] - 0s 9ms/step - loss: 0.5644 - acc: 0.2288 - val_loss: 0.6424 - val_acc: 0.3600\n",
            "Epoch 48/500\n",
            "4/4 [==============================] - 0s 11ms/step - loss: 0.5623 - acc: 0.2345 - val_loss: 0.6400 - val_acc: 0.3600\n",
            "Epoch 49/500\n",
            "4/4 [==============================] - 0s 10ms/step - loss: 0.5607 - acc: 0.2391 - val_loss: 0.6374 - val_acc: 0.3550\n",
            "Epoch 50/500\n",
            "4/4 [==============================] - 0s 10ms/step - loss: 0.5586 - acc: 0.2426 - val_loss: 0.6348 - val_acc: 0.3500\n",
            "Epoch 51/500\n",
            "4/4 [==============================] - 0s 10ms/step - loss: 0.5568 - acc: 0.2502 - val_loss: 0.6321 - val_acc: 0.3550\n",
            "Epoch 52/500\n",
            "4/4 [==============================] - 0s 11ms/step - loss: 0.5551 - acc: 0.2489 - val_loss: 0.6293 - val_acc: 0.3550\n",
            "Epoch 53/500\n",
            "4/4 [==============================] - 0s 10ms/step - loss: 0.5530 - acc: 0.2540 - val_loss: 0.6265 - val_acc: 0.3550\n",
            "Epoch 54/500\n",
            "4/4 [==============================] - 0s 11ms/step - loss: 0.5511 - acc: 0.2572 - val_loss: 0.6237 - val_acc: 0.3450\n",
            "Epoch 55/500\n",
            "4/4 [==============================] - 0s 11ms/step - loss: 0.5492 - acc: 0.2572 - val_loss: 0.6209 - val_acc: 0.3450\n",
            "Epoch 56/500\n",
            "4/4 [==============================] - 0s 11ms/step - loss: 0.5471 - acc: 0.2624 - val_loss: 0.6181 - val_acc: 0.3450\n",
            "Epoch 57/500\n",
            "4/4 [==============================] - 0s 11ms/step - loss: 0.5450 - acc: 0.2664 - val_loss: 0.6153 - val_acc: 0.3450\n",
            "Epoch 58/500\n",
            "4/4 [==============================] - 0s 10ms/step - loss: 0.5428 - acc: 0.2697 - val_loss: 0.6127 - val_acc: 0.3450\n",
            "Epoch 59/500\n",
            "4/4 [==============================] - 0s 12ms/step - loss: 0.5402 - acc: 0.2756 - val_loss: 0.6103 - val_acc: 0.3350\n",
            "Epoch 60/500\n",
            "4/4 [==============================] - 0s 9ms/step - loss: 0.5377 - acc: 0.2800 - val_loss: 0.6081 - val_acc: 0.3400\n",
            "Epoch 61/500\n",
            "4/4 [==============================] - 0s 11ms/step - loss: 0.5351 - acc: 0.2862 - val_loss: 0.6061 - val_acc: 0.3450\n",
            "Epoch 62/500\n",
            "4/4 [==============================] - 0s 12ms/step - loss: 0.5331 - acc: 0.2875 - val_loss: 0.6044 - val_acc: 0.3450\n",
            "Epoch 63/500\n",
            "4/4 [==============================] - 0s 10ms/step - loss: 0.5307 - acc: 0.2889 - val_loss: 0.6024 - val_acc: 0.3450\n",
            "Epoch 64/500\n",
            "4/4 [==============================] - 0s 10ms/step - loss: 0.5286 - acc: 0.2902 - val_loss: 0.6006 - val_acc: 0.3500\n",
            "Epoch 65/500\n",
            "4/4 [==============================] - 0s 10ms/step - loss: 0.5265 - acc: 0.3016 - val_loss: 0.5985 - val_acc: 0.3550\n",
            "Epoch 66/500\n",
            "4/4 [==============================] - 0s 11ms/step - loss: 0.5242 - acc: 0.3205 - val_loss: 0.5964 - val_acc: 0.3550\n",
            "Epoch 67/500\n",
            "4/4 [==============================] - 0s 11ms/step - loss: 0.5223 - acc: 0.3473 - val_loss: 0.5941 - val_acc: 0.3550\n",
            "Epoch 68/500\n",
            "4/4 [==============================] - 0s 11ms/step - loss: 0.5201 - acc: 0.3570 - val_loss: 0.5917 - val_acc: 0.3550\n",
            "Epoch 69/500\n",
            "4/4 [==============================] - 0s 10ms/step - loss: 0.5180 - acc: 0.3660 - val_loss: 0.5894 - val_acc: 0.3650\n",
            "Epoch 70/500\n",
            "4/4 [==============================] - 0s 10ms/step - loss: 0.5158 - acc: 0.3681 - val_loss: 0.5870 - val_acc: 0.3650\n",
            "Epoch 71/500\n",
            "4/4 [==============================] - 0s 10ms/step - loss: 0.5138 - acc: 0.3763 - val_loss: 0.5843 - val_acc: 0.3650\n",
            "Epoch 72/500\n",
            "4/4 [==============================] - 0s 10ms/step - loss: 0.5118 - acc: 0.3822 - val_loss: 0.5817 - val_acc: 0.3700\n",
            "Epoch 73/500\n",
            "4/4 [==============================] - 0s 10ms/step - loss: 0.5094 - acc: 0.3844 - val_loss: 0.5787 - val_acc: 0.3750\n",
            "Epoch 74/500\n",
            "4/4 [==============================] - 0s 11ms/step - loss: 0.5075 - acc: 0.3914 - val_loss: 0.5758 - val_acc: 0.3750\n",
            "Epoch 75/500\n",
            "4/4 [==============================] - 0s 12ms/step - loss: 0.5054 - acc: 0.3949 - val_loss: 0.5728 - val_acc: 0.3750\n",
            "Epoch 76/500\n",
            "4/4 [==============================] - 0s 13ms/step - loss: 0.5033 - acc: 0.3922 - val_loss: 0.5701 - val_acc: 0.3900\n",
            "Epoch 77/500\n",
            "4/4 [==============================] - 0s 14ms/step - loss: 0.5011 - acc: 0.4006 - val_loss: 0.5675 - val_acc: 0.3950\n",
            "Epoch 78/500\n",
            "4/4 [==============================] - 0s 15ms/step - loss: 0.4992 - acc: 0.4114 - val_loss: 0.5650 - val_acc: 0.3950\n",
            "Epoch 79/500\n",
            "4/4 [==============================] - 0s 10ms/step - loss: 0.4973 - acc: 0.4374 - val_loss: 0.5627 - val_acc: 0.3900\n",
            "Epoch 80/500\n",
            "4/4 [==============================] - 0s 12ms/step - loss: 0.4958 - acc: 0.4452 - val_loss: 0.5604 - val_acc: 0.3900\n",
            "Epoch 81/500\n",
            "4/4 [==============================] - 0s 11ms/step - loss: 0.4938 - acc: 0.4525 - val_loss: 0.5586 - val_acc: 0.3800\n",
            "Epoch 82/500\n",
            "4/4 [==============================] - 0s 11ms/step - loss: 0.4924 - acc: 0.4501 - val_loss: 0.5570 - val_acc: 0.3800\n",
            "Epoch 83/500\n",
            "4/4 [==============================] - 0s 11ms/step - loss: 0.4908 - acc: 0.4533 - val_loss: 0.5556 - val_acc: 0.3750\n",
            "Epoch 84/500\n",
            "4/4 [==============================] - 0s 10ms/step - loss: 0.4896 - acc: 0.4588 - val_loss: 0.5546 - val_acc: 0.3750\n",
            "Epoch 85/500\n",
            "4/4 [==============================] - 0s 13ms/step - loss: 0.4880 - acc: 0.4650 - val_loss: 0.5534 - val_acc: 0.3700\n",
            "Epoch 86/500\n",
            "4/4 [==============================] - 0s 13ms/step - loss: 0.4869 - acc: 0.4669 - val_loss: 0.5523 - val_acc: 0.3700\n",
            "Epoch 87/500\n",
            "4/4 [==============================] - 0s 14ms/step - loss: 0.4858 - acc: 0.4693 - val_loss: 0.5510 - val_acc: 0.3700\n",
            "Epoch 88/500\n",
            "4/4 [==============================] - 0s 14ms/step - loss: 0.4846 - acc: 0.4815 - val_loss: 0.5495 - val_acc: 0.3700\n",
            "Epoch 89/500\n",
            "4/4 [==============================] - 0s 10ms/step - loss: 0.4838 - acc: 0.4774 - val_loss: 0.5478 - val_acc: 0.3800\n",
            "Epoch 90/500\n",
            "4/4 [==============================] - 0s 13ms/step - loss: 0.4826 - acc: 0.4834 - val_loss: 0.5459 - val_acc: 0.3800\n",
            "Epoch 91/500\n",
            "4/4 [==============================] - 0s 10ms/step - loss: 0.4818 - acc: 0.4853 - val_loss: 0.5438 - val_acc: 0.3800\n",
            "Epoch 92/500\n",
            "4/4 [==============================] - 0s 10ms/step - loss: 0.4809 - acc: 0.4826 - val_loss: 0.5414 - val_acc: 0.3900\n",
            "Epoch 93/500\n",
            "4/4 [==============================] - 0s 11ms/step - loss: 0.4798 - acc: 0.4877 - val_loss: 0.5396 - val_acc: 0.3950\n",
            "Epoch 94/500\n",
            "4/4 [==============================] - 0s 14ms/step - loss: 0.4790 - acc: 0.4853 - val_loss: 0.5379 - val_acc: 0.4000\n",
            "Epoch 95/500\n",
            "4/4 [==============================] - 0s 10ms/step - loss: 0.4783 - acc: 0.4882 - val_loss: 0.5363 - val_acc: 0.4250\n",
            "Epoch 96/500\n",
            "4/4 [==============================] - 0s 11ms/step - loss: 0.4776 - acc: 0.4877 - val_loss: 0.5342 - val_acc: 0.4400\n",
            "Epoch 97/500\n",
            "4/4 [==============================] - 0s 11ms/step - loss: 0.4769 - acc: 0.4880 - val_loss: 0.5319 - val_acc: 0.4550\n",
            "Epoch 98/500\n",
            "4/4 [==============================] - 0s 11ms/step - loss: 0.4760 - acc: 0.4877 - val_loss: 0.5294 - val_acc: 0.4600\n",
            "Epoch 99/500\n",
            "4/4 [==============================] - 0s 10ms/step - loss: 0.4755 - acc: 0.4888 - val_loss: 0.5271 - val_acc: 0.4750\n",
            "Epoch 100/500\n",
            "4/4 [==============================] - 0s 10ms/step - loss: 0.4751 - acc: 0.4955 - val_loss: 0.5245 - val_acc: 0.4700\n",
            "Epoch 101/500\n",
            "4/4 [==============================] - 0s 13ms/step - loss: 0.4742 - acc: 0.4890 - val_loss: 0.5223 - val_acc: 0.4700\n",
            "Epoch 102/500\n",
            "4/4 [==============================] - 0s 12ms/step - loss: 0.4736 - acc: 0.4874 - val_loss: 0.5200 - val_acc: 0.4650\n",
            "Epoch 103/500\n",
            "4/4 [==============================] - 0s 11ms/step - loss: 0.4729 - acc: 0.4934 - val_loss: 0.5177 - val_acc: 0.4650\n",
            "Epoch 104/500\n",
            "4/4 [==============================] - 0s 12ms/step - loss: 0.4724 - acc: 0.4942 - val_loss: 0.5160 - val_acc: 0.4650\n",
            "Epoch 105/500\n",
            "4/4 [==============================] - 0s 12ms/step - loss: 0.4719 - acc: 0.4993 - val_loss: 0.5141 - val_acc: 0.4800\n",
            "Epoch 106/500\n",
            "4/4 [==============================] - 0s 11ms/step - loss: 0.4714 - acc: 0.4980 - val_loss: 0.5120 - val_acc: 0.4800\n",
            "Epoch 107/500\n",
            "4/4 [==============================] - 0s 13ms/step - loss: 0.4712 - acc: 0.5023 - val_loss: 0.5098 - val_acc: 0.4900\n",
            "Epoch 108/500\n",
            "4/4 [==============================] - 0s 10ms/step - loss: 0.4706 - acc: 0.5037 - val_loss: 0.5075 - val_acc: 0.4950\n",
            "Epoch 109/500\n",
            "4/4 [==============================] - 0s 11ms/step - loss: 0.4701 - acc: 0.5093 - val_loss: 0.5056 - val_acc: 0.4950\n",
            "Epoch 110/500\n",
            "4/4 [==============================] - 0s 11ms/step - loss: 0.4696 - acc: 0.5082 - val_loss: 0.5041 - val_acc: 0.5000\n",
            "Epoch 111/500\n",
            "4/4 [==============================] - 0s 11ms/step - loss: 0.4693 - acc: 0.5069 - val_loss: 0.5029 - val_acc: 0.4950\n",
            "Epoch 112/500\n",
            "4/4 [==============================] - 0s 18ms/step - loss: 0.4693 - acc: 0.5183 - val_loss: 0.5017 - val_acc: 0.5000\n",
            "Epoch 113/500\n",
            "4/4 [==============================] - 0s 11ms/step - loss: 0.4684 - acc: 0.5112 - val_loss: 0.4997 - val_acc: 0.4900\n",
            "Epoch 114/500\n",
            "4/4 [==============================] - 0s 12ms/step - loss: 0.4680 - acc: 0.5139 - val_loss: 0.4979 - val_acc: 0.4950\n",
            "Epoch 115/500\n",
            "4/4 [==============================] - 0s 11ms/step - loss: 0.4677 - acc: 0.5147 - val_loss: 0.4961 - val_acc: 0.4950\n",
            "Epoch 116/500\n",
            "4/4 [==============================] - 0s 10ms/step - loss: 0.4674 - acc: 0.5164 - val_loss: 0.4947 - val_acc: 0.4950\n",
            "Epoch 117/500\n",
            "4/4 [==============================] - 0s 12ms/step - loss: 0.4671 - acc: 0.5166 - val_loss: 0.4933 - val_acc: 0.5050\n",
            "Epoch 118/500\n",
            "4/4 [==============================] - 0s 12ms/step - loss: 0.4671 - acc: 0.5180 - val_loss: 0.4922 - val_acc: 0.4950\n",
            "Epoch 119/500\n",
            "4/4 [==============================] - 0s 11ms/step - loss: 0.4666 - acc: 0.5202 - val_loss: 0.4911 - val_acc: 0.5050\n",
            "Epoch 120/500\n",
            "4/4 [==============================] - 0s 11ms/step - loss: 0.4666 - acc: 0.5193 - val_loss: 0.4896 - val_acc: 0.5000\n",
            "Epoch 121/500\n",
            "4/4 [==============================] - 0s 11ms/step - loss: 0.4658 - acc: 0.5204 - val_loss: 0.4880 - val_acc: 0.5050\n",
            "Epoch 122/500\n",
            "4/4 [==============================] - 0s 13ms/step - loss: 0.4656 - acc: 0.5193 - val_loss: 0.4867 - val_acc: 0.5050\n",
            "Epoch 123/500\n",
            "4/4 [==============================] - 0s 12ms/step - loss: 0.4658 - acc: 0.5185 - val_loss: 0.4854 - val_acc: 0.5050\n",
            "Epoch 124/500\n",
            "4/4 [==============================] - 0s 13ms/step - loss: 0.4653 - acc: 0.5164 - val_loss: 0.4843 - val_acc: 0.5100\n",
            "Epoch 125/500\n",
            "4/4 [==============================] - 0s 12ms/step - loss: 0.4648 - acc: 0.5188 - val_loss: 0.4837 - val_acc: 0.5150\n",
            "Epoch 126/500\n",
            "4/4 [==============================] - 0s 10ms/step - loss: 0.4647 - acc: 0.5207 - val_loss: 0.4832 - val_acc: 0.5150\n",
            "Epoch 127/500\n",
            "4/4 [==============================] - 0s 12ms/step - loss: 0.4646 - acc: 0.5193 - val_loss: 0.4826 - val_acc: 0.5200\n",
            "Epoch 128/500\n",
            "4/4 [==============================] - 0s 12ms/step - loss: 0.4645 - acc: 0.5172 - val_loss: 0.4814 - val_acc: 0.5250\n",
            "Epoch 129/500\n",
            "4/4 [==============================] - 0s 11ms/step - loss: 0.4641 - acc: 0.5188 - val_loss: 0.4801 - val_acc: 0.5250\n",
            "Epoch 130/500\n",
            "4/4 [==============================] - 0s 10ms/step - loss: 0.4641 - acc: 0.5153 - val_loss: 0.4791 - val_acc: 0.5250\n",
            "Epoch 131/500\n",
            "4/4 [==============================] - 0s 11ms/step - loss: 0.4639 - acc: 0.5223 - val_loss: 0.4782 - val_acc: 0.5250\n",
            "Epoch 132/500\n",
            "4/4 [==============================] - 0s 11ms/step - loss: 0.4637 - acc: 0.5180 - val_loss: 0.4776 - val_acc: 0.5300\n",
            "Epoch 133/500\n",
            "4/4 [==============================] - 0s 11ms/step - loss: 0.4636 - acc: 0.5188 - val_loss: 0.4768 - val_acc: 0.5450\n",
            "Epoch 134/500\n",
            "4/4 [==============================] - 0s 11ms/step - loss: 0.4634 - acc: 0.5147 - val_loss: 0.4759 - val_acc: 0.5450\n",
            "Epoch 135/500\n",
            "4/4 [==============================] - 0s 10ms/step - loss: 0.4631 - acc: 0.5183 - val_loss: 0.4751 - val_acc: 0.5550\n",
            "Epoch 136/500\n",
            "4/4 [==============================] - 0s 12ms/step - loss: 0.4630 - acc: 0.5164 - val_loss: 0.4743 - val_acc: 0.5650\n",
            "Epoch 137/500\n",
            "4/4 [==============================] - 0s 13ms/step - loss: 0.4629 - acc: 0.5193 - val_loss: 0.4737 - val_acc: 0.5650\n",
            "Epoch 138/500\n",
            "4/4 [==============================] - 0s 13ms/step - loss: 0.4628 - acc: 0.5161 - val_loss: 0.4730 - val_acc: 0.5700\n",
            "Epoch 139/500\n",
            "4/4 [==============================] - 0s 11ms/step - loss: 0.4624 - acc: 0.5161 - val_loss: 0.4725 - val_acc: 0.5750\n",
            "Epoch 140/500\n",
            "4/4 [==============================] - 0s 11ms/step - loss: 0.4625 - acc: 0.5177 - val_loss: 0.4722 - val_acc: 0.5700\n",
            "Epoch 141/500\n",
            "4/4 [==============================] - 0s 10ms/step - loss: 0.4623 - acc: 0.5199 - val_loss: 0.4718 - val_acc: 0.5700\n",
            "Epoch 142/500\n",
            "4/4 [==============================] - 0s 11ms/step - loss: 0.4621 - acc: 0.5177 - val_loss: 0.4713 - val_acc: 0.5700\n",
            "Epoch 143/500\n",
            "4/4 [==============================] - 0s 12ms/step - loss: 0.4620 - acc: 0.5174 - val_loss: 0.4708 - val_acc: 0.5700\n",
            "Epoch 144/500\n",
            "4/4 [==============================] - 0s 11ms/step - loss: 0.4622 - acc: 0.5204 - val_loss: 0.4705 - val_acc: 0.5700\n",
            "Epoch 145/500\n",
            "4/4 [==============================] - 0s 12ms/step - loss: 0.4618 - acc: 0.5180 - val_loss: 0.4702 - val_acc: 0.5700\n",
            "Epoch 146/500\n",
            "4/4 [==============================] - 0s 10ms/step - loss: 0.4617 - acc: 0.5223 - val_loss: 0.4697 - val_acc: 0.5700\n",
            "Epoch 147/500\n",
            "4/4 [==============================] - 0s 11ms/step - loss: 0.4614 - acc: 0.5237 - val_loss: 0.4695 - val_acc: 0.5700\n",
            "Epoch 148/500\n",
            "4/4 [==============================] - 0s 10ms/step - loss: 0.4613 - acc: 0.5245 - val_loss: 0.4693 - val_acc: 0.5700\n",
            "Epoch 149/500\n",
            "4/4 [==============================] - 0s 11ms/step - loss: 0.4612 - acc: 0.5196 - val_loss: 0.4691 - val_acc: 0.5750\n",
            "Epoch 150/500\n",
            "4/4 [==============================] - 0s 10ms/step - loss: 0.4613 - acc: 0.5177 - val_loss: 0.4688 - val_acc: 0.5750\n",
            "Epoch 151/500\n",
            "4/4 [==============================] - 0s 13ms/step - loss: 0.4612 - acc: 0.5239 - val_loss: 0.4684 - val_acc: 0.5800\n",
            "Epoch 152/500\n",
            "4/4 [==============================] - 0s 16ms/step - loss: 0.4608 - acc: 0.5204 - val_loss: 0.4682 - val_acc: 0.5800\n",
            "Epoch 153/500\n",
            "4/4 [==============================] - 0s 11ms/step - loss: 0.4607 - acc: 0.5218 - val_loss: 0.4680 - val_acc: 0.5800\n",
            "Epoch 154/500\n",
            "4/4 [==============================] - 0s 17ms/step - loss: 0.4608 - acc: 0.5215 - val_loss: 0.4678 - val_acc: 0.5800\n",
            "Epoch 155/500\n",
            "4/4 [==============================] - 0s 13ms/step - loss: 0.4608 - acc: 0.5245 - val_loss: 0.4675 - val_acc: 0.5800\n",
            "Epoch 156/500\n",
            "4/4 [==============================] - 0s 12ms/step - loss: 0.4605 - acc: 0.5229 - val_loss: 0.4670 - val_acc: 0.5800\n",
            "Epoch 157/500\n",
            "4/4 [==============================] - 0s 12ms/step - loss: 0.4605 - acc: 0.5253 - val_loss: 0.4668 - val_acc: 0.5850\n",
            "Epoch 158/500\n",
            "4/4 [==============================] - 0s 11ms/step - loss: 0.4605 - acc: 0.5256 - val_loss: 0.4667 - val_acc: 0.5750\n",
            "Epoch 159/500\n",
            "4/4 [==============================] - 0s 12ms/step - loss: 0.4603 - acc: 0.5256 - val_loss: 0.4664 - val_acc: 0.5750\n",
            "Epoch 160/500\n",
            "4/4 [==============================] - 0s 14ms/step - loss: 0.4602 - acc: 0.5239 - val_loss: 0.4661 - val_acc: 0.5750\n",
            "Epoch 161/500\n",
            "4/4 [==============================] - 0s 12ms/step - loss: 0.4602 - acc: 0.5266 - val_loss: 0.4656 - val_acc: 0.5750\n",
            "Epoch 162/500\n",
            "4/4 [==============================] - 0s 11ms/step - loss: 0.4604 - acc: 0.5275 - val_loss: 0.4653 - val_acc: 0.5800\n",
            "Epoch 163/500\n",
            "4/4 [==============================] - 0s 11ms/step - loss: 0.4602 - acc: 0.5239 - val_loss: 0.4652 - val_acc: 0.5850\n",
            "Epoch 164/500\n",
            "4/4 [==============================] - 0s 18ms/step - loss: 0.4598 - acc: 0.5242 - val_loss: 0.4654 - val_acc: 0.5900\n",
            "Epoch 165/500\n",
            "4/4 [==============================] - 0s 11ms/step - loss: 0.4598 - acc: 0.5256 - val_loss: 0.4651 - val_acc: 0.5850\n",
            "Epoch 166/500\n",
            "4/4 [==============================] - 0s 11ms/step - loss: 0.4598 - acc: 0.5242 - val_loss: 0.4650 - val_acc: 0.5850\n",
            "Epoch 167/500\n",
            "4/4 [==============================] - 0s 11ms/step - loss: 0.4596 - acc: 0.5253 - val_loss: 0.4646 - val_acc: 0.5850\n",
            "Epoch 168/500\n",
            "4/4 [==============================] - 0s 12ms/step - loss: 0.4596 - acc: 0.5239 - val_loss: 0.4643 - val_acc: 0.5850\n",
            "Epoch 169/500\n",
            "4/4 [==============================] - 0s 11ms/step - loss: 0.4596 - acc: 0.5250 - val_loss: 0.4641 - val_acc: 0.5800\n",
            "Epoch 170/500\n",
            "4/4 [==============================] - 0s 12ms/step - loss: 0.4595 - acc: 0.5239 - val_loss: 0.4641 - val_acc: 0.5900\n",
            "Epoch 171/500\n",
            "4/4 [==============================] - 0s 11ms/step - loss: 0.4595 - acc: 0.5220 - val_loss: 0.4643 - val_acc: 0.5850\n",
            "Epoch 172/500\n",
            "4/4 [==============================] - 0s 11ms/step - loss: 0.4594 - acc: 0.5212 - val_loss: 0.4641 - val_acc: 0.5900\n",
            "Epoch 173/500\n",
            "4/4 [==============================] - 0s 11ms/step - loss: 0.4592 - acc: 0.5237 - val_loss: 0.4635 - val_acc: 0.5850\n",
            "Epoch 174/500\n",
            "4/4 [==============================] - 0s 10ms/step - loss: 0.4592 - acc: 0.5266 - val_loss: 0.4632 - val_acc: 0.5850\n",
            "Epoch 175/500\n",
            "4/4 [==============================] - 0s 11ms/step - loss: 0.4593 - acc: 0.5237 - val_loss: 0.4627 - val_acc: 0.5850\n",
            "Epoch 176/500\n",
            "4/4 [==============================] - 0s 11ms/step - loss: 0.4592 - acc: 0.5234 - val_loss: 0.4623 - val_acc: 0.5850\n",
            "Epoch 177/500\n",
            "4/4 [==============================] - 0s 10ms/step - loss: 0.4592 - acc: 0.5207 - val_loss: 0.4624 - val_acc: 0.5850\n",
            "Epoch 178/500\n",
            "4/4 [==============================] - 0s 12ms/step - loss: 0.4592 - acc: 0.5229 - val_loss: 0.4620 - val_acc: 0.5850\n",
            "Epoch 179/500\n",
            "4/4 [==============================] - 0s 12ms/step - loss: 0.4592 - acc: 0.5239 - val_loss: 0.4616 - val_acc: 0.5650\n",
            "Epoch 180/500\n",
            "4/4 [==============================] - 0s 11ms/step - loss: 0.4591 - acc: 0.5234 - val_loss: 0.4613 - val_acc: 0.5700\n",
            "Epoch 181/500\n",
            "4/4 [==============================] - 0s 13ms/step - loss: 0.4589 - acc: 0.5253 - val_loss: 0.4610 - val_acc: 0.5750\n",
            "Epoch 182/500\n",
            "4/4 [==============================] - 0s 11ms/step - loss: 0.4589 - acc: 0.5272 - val_loss: 0.4608 - val_acc: 0.5750\n",
            "Epoch 183/500\n",
            "4/4 [==============================] - 0s 12ms/step - loss: 0.4587 - acc: 0.5218 - val_loss: 0.4605 - val_acc: 0.5800\n",
            "Epoch 184/500\n",
            "4/4 [==============================] - 0s 13ms/step - loss: 0.4587 - acc: 0.5234 - val_loss: 0.4601 - val_acc: 0.5850\n",
            "Epoch 185/500\n",
            "4/4 [==============================] - 0s 11ms/step - loss: 0.4587 - acc: 0.5283 - val_loss: 0.4598 - val_acc: 0.5900\n",
            "Epoch 186/500\n",
            "4/4 [==============================] - 0s 11ms/step - loss: 0.4587 - acc: 0.5234 - val_loss: 0.4597 - val_acc: 0.5900\n",
            "Epoch 187/500\n",
            "4/4 [==============================] - 0s 11ms/step - loss: 0.4586 - acc: 0.5247 - val_loss: 0.4594 - val_acc: 0.5900\n",
            "Epoch 188/500\n",
            "4/4 [==============================] - 0s 11ms/step - loss: 0.4586 - acc: 0.5220 - val_loss: 0.4592 - val_acc: 0.5900\n",
            "Epoch 189/500\n",
            "4/4 [==============================] - 0s 11ms/step - loss: 0.4586 - acc: 0.5215 - val_loss: 0.4587 - val_acc: 0.5850\n",
            "Epoch 190/500\n",
            "4/4 [==============================] - 0s 10ms/step - loss: 0.4588 - acc: 0.5212 - val_loss: 0.4585 - val_acc: 0.5850\n",
            "Epoch 191/500\n",
            "4/4 [==============================] - 0s 10ms/step - loss: 0.4587 - acc: 0.5229 - val_loss: 0.4585 - val_acc: 0.5850\n",
            "Epoch 192/500\n",
            "4/4 [==============================] - 0s 11ms/step - loss: 0.4588 - acc: 0.5183 - val_loss: 0.4582 - val_acc: 0.5900\n",
            "Epoch 193/500\n",
            "4/4 [==============================] - 0s 11ms/step - loss: 0.4585 - acc: 0.5191 - val_loss: 0.4580 - val_acc: 0.5900\n",
            "Epoch 194/500\n",
            "4/4 [==============================] - 0s 12ms/step - loss: 0.4584 - acc: 0.5231 - val_loss: 0.4577 - val_acc: 0.5850\n",
            "Epoch 195/500\n",
            "4/4 [==============================] - 0s 11ms/step - loss: 0.4585 - acc: 0.5220 - val_loss: 0.4576 - val_acc: 0.5850\n",
            "Epoch 196/500\n",
            "4/4 [==============================] - 0s 15ms/step - loss: 0.4584 - acc: 0.5218 - val_loss: 0.4576 - val_acc: 0.5850\n",
            "Epoch 197/500\n",
            "4/4 [==============================] - 0s 13ms/step - loss: 0.4583 - acc: 0.5207 - val_loss: 0.4574 - val_acc: 0.5800\n",
            "Epoch 198/500\n",
            "4/4 [==============================] - 0s 12ms/step - loss: 0.4584 - acc: 0.5250 - val_loss: 0.4574 - val_acc: 0.5800\n",
            "Epoch 199/500\n",
            "4/4 [==============================] - 0s 11ms/step - loss: 0.4582 - acc: 0.5218 - val_loss: 0.4573 - val_acc: 0.5800\n",
            "Epoch 200/500\n",
            "4/4 [==============================] - 0s 13ms/step - loss: 0.4585 - acc: 0.5218 - val_loss: 0.4572 - val_acc: 0.5800\n",
            "Epoch 201/500\n",
            "4/4 [==============================] - 0s 14ms/step - loss: 0.4582 - acc: 0.5234 - val_loss: 0.4570 - val_acc: 0.5800\n",
            "Epoch 202/500\n",
            "4/4 [==============================] - 0s 12ms/step - loss: 0.4584 - acc: 0.5212 - val_loss: 0.4568 - val_acc: 0.5850\n",
            "Epoch 203/500\n",
            "4/4 [==============================] - 0s 12ms/step - loss: 0.4581 - acc: 0.5220 - val_loss: 0.4566 - val_acc: 0.5850\n",
            "Epoch 204/500\n",
            "4/4 [==============================] - 0s 13ms/step - loss: 0.4581 - acc: 0.5193 - val_loss: 0.4566 - val_acc: 0.5850\n",
            "Epoch 205/500\n",
            "4/4 [==============================] - 0s 10ms/step - loss: 0.4583 - acc: 0.5199 - val_loss: 0.4567 - val_acc: 0.5850\n",
            "Epoch 206/500\n",
            "4/4 [==============================] - 0s 11ms/step - loss: 0.4582 - acc: 0.5210 - val_loss: 0.4566 - val_acc: 0.5900\n",
            "Epoch 207/500\n",
            "4/4 [==============================] - 0s 13ms/step - loss: 0.4582 - acc: 0.5193 - val_loss: 0.4565 - val_acc: 0.6000\n",
            "Epoch 208/500\n",
            "4/4 [==============================] - 0s 10ms/step - loss: 0.4583 - acc: 0.5204 - val_loss: 0.4564 - val_acc: 0.6000\n",
            "Epoch 209/500\n",
            "4/4 [==============================] - 0s 11ms/step - loss: 0.4582 - acc: 0.5229 - val_loss: 0.4563 - val_acc: 0.6050\n",
            "Epoch 210/500\n",
            "4/4 [==============================] - 0s 12ms/step - loss: 0.4582 - acc: 0.5180 - val_loss: 0.4563 - val_acc: 0.6050\n",
            "Epoch 211/500\n",
            "4/4 [==============================] - 0s 13ms/step - loss: 0.4581 - acc: 0.5242 - val_loss: 0.4562 - val_acc: 0.6050\n",
            "Epoch 212/500\n",
            "4/4 [==============================] - 0s 11ms/step - loss: 0.4581 - acc: 0.5191 - val_loss: 0.4560 - val_acc: 0.6100\n",
            "Epoch 213/500\n",
            "4/4 [==============================] - 0s 11ms/step - loss: 0.4580 - acc: 0.5202 - val_loss: 0.4560 - val_acc: 0.6050\n",
            "Epoch 214/500\n",
            "4/4 [==============================] - 0s 11ms/step - loss: 0.4580 - acc: 0.5223 - val_loss: 0.4559 - val_acc: 0.6050\n",
            "Epoch 215/500\n",
            "4/4 [==============================] - 0s 11ms/step - loss: 0.4580 - acc: 0.5239 - val_loss: 0.4559 - val_acc: 0.6050\n",
            "Epoch 216/500\n",
            "4/4 [==============================] - 0s 14ms/step - loss: 0.4581 - acc: 0.5161 - val_loss: 0.4558 - val_acc: 0.6050\n",
            "Epoch 217/500\n",
            "4/4 [==============================] - 0s 11ms/step - loss: 0.4581 - acc: 0.5188 - val_loss: 0.4558 - val_acc: 0.6000\n",
            "Epoch 218/500\n",
            "4/4 [==============================] - 0s 12ms/step - loss: 0.4584 - acc: 0.5202 - val_loss: 0.4557 - val_acc: 0.6000\n",
            "Epoch 219/500\n",
            "4/4 [==============================] - 0s 12ms/step - loss: 0.4580 - acc: 0.5204 - val_loss: 0.4556 - val_acc: 0.6050\n",
            "Epoch 220/500\n",
            "4/4 [==============================] - 0s 12ms/step - loss: 0.4581 - acc: 0.5218 - val_loss: 0.4555 - val_acc: 0.6050\n",
            "Epoch 221/500\n",
            "4/4 [==============================] - 0s 13ms/step - loss: 0.4582 - acc: 0.5166 - val_loss: 0.4554 - val_acc: 0.5950\n",
            "Epoch 222/500\n",
            "4/4 [==============================] - 0s 11ms/step - loss: 0.4579 - acc: 0.5202 - val_loss: 0.4554 - val_acc: 0.5950\n",
            "Epoch 223/500\n",
            "4/4 [==============================] - 0s 13ms/step - loss: 0.4581 - acc: 0.5164 - val_loss: 0.4554 - val_acc: 0.5950\n",
            "Epoch 224/500\n",
            "4/4 [==============================] - 0s 10ms/step - loss: 0.4580 - acc: 0.5215 - val_loss: 0.4554 - val_acc: 0.5950\n",
            "Epoch 225/500\n",
            "4/4 [==============================] - 0s 11ms/step - loss: 0.4580 - acc: 0.5226 - val_loss: 0.4553 - val_acc: 0.5950\n",
            "Epoch 226/500\n",
            "4/4 [==============================] - 0s 11ms/step - loss: 0.4577 - acc: 0.5183 - val_loss: 0.4554 - val_acc: 0.5950\n",
            "Epoch 227/500\n",
            "4/4 [==============================] - 0s 13ms/step - loss: 0.4581 - acc: 0.5223 - val_loss: 0.4553 - val_acc: 0.6000\n",
            "Epoch 228/500\n",
            "4/4 [==============================] - 0s 11ms/step - loss: 0.4577 - acc: 0.5218 - val_loss: 0.4553 - val_acc: 0.5950\n",
            "Epoch 229/500\n",
            "4/4 [==============================] - 0s 11ms/step - loss: 0.4580 - acc: 0.5247 - val_loss: 0.4553 - val_acc: 0.5900\n",
            "Epoch 230/500\n",
            "4/4 [==============================] - 0s 11ms/step - loss: 0.4577 - acc: 0.5183 - val_loss: 0.4552 - val_acc: 0.5900\n",
            "Epoch 231/500\n",
            "4/4 [==============================] - 0s 12ms/step - loss: 0.4578 - acc: 0.5210 - val_loss: 0.4551 - val_acc: 0.5900\n",
            "Epoch 232/500\n",
            "4/4 [==============================] - 0s 12ms/step - loss: 0.4579 - acc: 0.5234 - val_loss: 0.4551 - val_acc: 0.5950\n",
            "Epoch 233/500\n",
            "4/4 [==============================] - 0s 11ms/step - loss: 0.4579 - acc: 0.5193 - val_loss: 0.4551 - val_acc: 0.5900\n",
            "Epoch 234/500\n",
            "4/4 [==============================] - 0s 11ms/step - loss: 0.4577 - acc: 0.5188 - val_loss: 0.4551 - val_acc: 0.5850\n",
            "Epoch 235/500\n",
            "4/4 [==============================] - 0s 11ms/step - loss: 0.4577 - acc: 0.5204 - val_loss: 0.4551 - val_acc: 0.5900\n",
            "Epoch 236/500\n",
            "4/4 [==============================] - 0s 11ms/step - loss: 0.4577 - acc: 0.5218 - val_loss: 0.4550 - val_acc: 0.5900\n",
            "Epoch 237/500\n",
            "4/4 [==============================] - 0s 14ms/step - loss: 0.4576 - acc: 0.5223 - val_loss: 0.4549 - val_acc: 0.5900\n",
            "Epoch 238/500\n",
            "4/4 [==============================] - 0s 12ms/step - loss: 0.4576 - acc: 0.5229 - val_loss: 0.4549 - val_acc: 0.5900\n",
            "Epoch 239/500\n",
            "4/4 [==============================] - 0s 11ms/step - loss: 0.4574 - acc: 0.5210 - val_loss: 0.4549 - val_acc: 0.5850\n",
            "Epoch 240/500\n",
            "4/4 [==============================] - 0s 12ms/step - loss: 0.4576 - acc: 0.5212 - val_loss: 0.4548 - val_acc: 0.5850\n",
            "Epoch 241/500\n",
            "4/4 [==============================] - 0s 11ms/step - loss: 0.4577 - acc: 0.5212 - val_loss: 0.4548 - val_acc: 0.5850\n",
            "Epoch 242/500\n",
            "4/4 [==============================] - 0s 11ms/step - loss: 0.4577 - acc: 0.5218 - val_loss: 0.4547 - val_acc: 0.5850\n",
            "Epoch 243/500\n",
            "4/4 [==============================] - 0s 10ms/step - loss: 0.4576 - acc: 0.5210 - val_loss: 0.4547 - val_acc: 0.5800\n",
            "Epoch 244/500\n",
            "4/4 [==============================] - 0s 11ms/step - loss: 0.4575 - acc: 0.5223 - val_loss: 0.4547 - val_acc: 0.5800\n",
            "Epoch 245/500\n",
            "4/4 [==============================] - 0s 12ms/step - loss: 0.4574 - acc: 0.5226 - val_loss: 0.4547 - val_acc: 0.5800\n",
            "Epoch 246/500\n",
            "4/4 [==============================] - 0s 11ms/step - loss: 0.4573 - acc: 0.5237 - val_loss: 0.4547 - val_acc: 0.5800\n",
            "Epoch 247/500\n",
            "4/4 [==============================] - 0s 11ms/step - loss: 0.4574 - acc: 0.5239 - val_loss: 0.4546 - val_acc: 0.5800\n",
            "Epoch 248/500\n",
            "4/4 [==============================] - 0s 12ms/step - loss: 0.4575 - acc: 0.5264 - val_loss: 0.4546 - val_acc: 0.5750\n",
            "Epoch 249/500\n",
            "4/4 [==============================] - 0s 13ms/step - loss: 0.4573 - acc: 0.5231 - val_loss: 0.4546 - val_acc: 0.5750\n",
            "Epoch 250/500\n",
            "4/4 [==============================] - 0s 13ms/step - loss: 0.4576 - acc: 0.5215 - val_loss: 0.4546 - val_acc: 0.5750\n",
            "Epoch 251/500\n",
            "4/4 [==============================] - 0s 12ms/step - loss: 0.4575 - acc: 0.5253 - val_loss: 0.4545 - val_acc: 0.5750\n",
            "Epoch 252/500\n",
            "4/4 [==============================] - 0s 11ms/step - loss: 0.4573 - acc: 0.5212 - val_loss: 0.4545 - val_acc: 0.5700\n",
            "Epoch 253/500\n",
            "4/4 [==============================] - 0s 13ms/step - loss: 0.4573 - acc: 0.5220 - val_loss: 0.4545 - val_acc: 0.5700\n",
            "Epoch 254/500\n",
            "4/4 [==============================] - 0s 12ms/step - loss: 0.4573 - acc: 0.5283 - val_loss: 0.4545 - val_acc: 0.5700\n",
            "Epoch 255/500\n",
            "4/4 [==============================] - 0s 15ms/step - loss: 0.4573 - acc: 0.5250 - val_loss: 0.4545 - val_acc: 0.5750\n",
            "Epoch 256/500\n",
            "4/4 [==============================] - 0s 12ms/step - loss: 0.4572 - acc: 0.5218 - val_loss: 0.4545 - val_acc: 0.5700\n",
            "Epoch 257/500\n",
            "4/4 [==============================] - 0s 12ms/step - loss: 0.4572 - acc: 0.5237 - val_loss: 0.4545 - val_acc: 0.5700\n",
            "Epoch 258/500\n",
            "4/4 [==============================] - 0s 13ms/step - loss: 0.4573 - acc: 0.5253 - val_loss: 0.4545 - val_acc: 0.5700\n",
            "Epoch 259/500\n",
            "4/4 [==============================] - 0s 11ms/step - loss: 0.4575 - acc: 0.5231 - val_loss: 0.4544 - val_acc: 0.5700\n",
            "Epoch 260/500\n",
            "4/4 [==============================] - 0s 10ms/step - loss: 0.4572 - acc: 0.5212 - val_loss: 0.4544 - val_acc: 0.5700\n",
            "Epoch 261/500\n",
            "4/4 [==============================] - 0s 10ms/step - loss: 0.4572 - acc: 0.5226 - val_loss: 0.4544 - val_acc: 0.5700\n",
            "Epoch 262/500\n",
            "4/4 [==============================] - 0s 12ms/step - loss: 0.4572 - acc: 0.5234 - val_loss: 0.4544 - val_acc: 0.5700\n",
            "Epoch 263/500\n",
            "4/4 [==============================] - 0s 19ms/step - loss: 0.4572 - acc: 0.5247 - val_loss: 0.4544 - val_acc: 0.5750\n",
            "Epoch 264/500\n",
            "4/4 [==============================] - 0s 13ms/step - loss: 0.4571 - acc: 0.5266 - val_loss: 0.4544 - val_acc: 0.5750\n",
            "Epoch 265/500\n",
            "4/4 [==============================] - 0s 10ms/step - loss: 0.4572 - acc: 0.5264 - val_loss: 0.4544 - val_acc: 0.5750\n",
            "Epoch 266/500\n",
            "4/4 [==============================] - 0s 13ms/step - loss: 0.4575 - acc: 0.5269 - val_loss: 0.4544 - val_acc: 0.5750\n",
            "Epoch 267/500\n",
            "4/4 [==============================] - 0s 11ms/step - loss: 0.4573 - acc: 0.5275 - val_loss: 0.4544 - val_acc: 0.5800\n",
            "Epoch 268/500\n",
            "4/4 [==============================] - 0s 12ms/step - loss: 0.4576 - acc: 0.5261 - val_loss: 0.4544 - val_acc: 0.5700\n",
            "Epoch 269/500\n",
            "4/4 [==============================] - 0s 11ms/step - loss: 0.4571 - acc: 0.5245 - val_loss: 0.4543 - val_acc: 0.5800\n",
            "Epoch 270/500\n",
            "4/4 [==============================] - 0s 12ms/step - loss: 0.4572 - acc: 0.5275 - val_loss: 0.4543 - val_acc: 0.5800\n",
            "Epoch 271/500\n",
            "4/4 [==============================] - 0s 12ms/step - loss: 0.4572 - acc: 0.5247 - val_loss: 0.4543 - val_acc: 0.5850\n",
            "Epoch 272/500\n",
            "4/4 [==============================] - 0s 12ms/step - loss: 0.4575 - acc: 0.5264 - val_loss: 0.4543 - val_acc: 0.5850\n",
            "Epoch 273/500\n",
            "4/4 [==============================] - 0s 11ms/step - loss: 0.4571 - acc: 0.5288 - val_loss: 0.4543 - val_acc: 0.5750\n",
            "Epoch 274/500\n",
            "4/4 [==============================] - 0s 11ms/step - loss: 0.4572 - acc: 0.5285 - val_loss: 0.4543 - val_acc: 0.5750\n",
            "Epoch 275/500\n",
            "4/4 [==============================] - 0s 12ms/step - loss: 0.4574 - acc: 0.5229 - val_loss: 0.4543 - val_acc: 0.5750\n",
            "Epoch 276/500\n",
            "4/4 [==============================] - 0s 11ms/step - loss: 0.4570 - acc: 0.5272 - val_loss: 0.4542 - val_acc: 0.5800\n",
            "Epoch 277/500\n",
            "4/4 [==============================] - 0s 14ms/step - loss: 0.4570 - acc: 0.5256 - val_loss: 0.4542 - val_acc: 0.5800\n",
            "Epoch 278/500\n",
            "4/4 [==============================] - 0s 12ms/step - loss: 0.4570 - acc: 0.5285 - val_loss: 0.4542 - val_acc: 0.5800\n",
            "Epoch 279/500\n",
            "4/4 [==============================] - 0s 13ms/step - loss: 0.4570 - acc: 0.5253 - val_loss: 0.4542 - val_acc: 0.5850\n",
            "Epoch 280/500\n",
            "4/4 [==============================] - 0s 11ms/step - loss: 0.4570 - acc: 0.5277 - val_loss: 0.4542 - val_acc: 0.5850\n",
            "Epoch 281/500\n",
            "4/4 [==============================] - 0s 13ms/step - loss: 0.4571 - acc: 0.5302 - val_loss: 0.4542 - val_acc: 0.5900\n",
            "Epoch 282/500\n",
            "4/4 [==============================] - 0s 18ms/step - loss: 0.4571 - acc: 0.5272 - val_loss: 0.4542 - val_acc: 0.5800\n",
            "Epoch 283/500\n",
            "4/4 [==============================] - 0s 11ms/step - loss: 0.4572 - acc: 0.5239 - val_loss: 0.4542 - val_acc: 0.5800\n",
            "Epoch 284/500\n",
            "4/4 [==============================] - 0s 11ms/step - loss: 0.4569 - acc: 0.5275 - val_loss: 0.4541 - val_acc: 0.5850\n",
            "Epoch 285/500\n",
            "4/4 [==============================] - 0s 12ms/step - loss: 0.4572 - acc: 0.5269 - val_loss: 0.4541 - val_acc: 0.5900\n",
            "Epoch 286/500\n",
            "4/4 [==============================] - 0s 12ms/step - loss: 0.4570 - acc: 0.5283 - val_loss: 0.4541 - val_acc: 0.5900\n",
            "Epoch 287/500\n",
            "4/4 [==============================] - 0s 13ms/step - loss: 0.4571 - acc: 0.5258 - val_loss: 0.4541 - val_acc: 0.5850\n",
            "Epoch 288/500\n",
            "4/4 [==============================] - 0s 10ms/step - loss: 0.4569 - acc: 0.5277 - val_loss: 0.4541 - val_acc: 0.5850\n",
            "Epoch 289/500\n",
            "4/4 [==============================] - 0s 12ms/step - loss: 0.4571 - acc: 0.5283 - val_loss: 0.4541 - val_acc: 0.5900\n",
            "Epoch 290/500\n",
            "4/4 [==============================] - 0s 12ms/step - loss: 0.4570 - acc: 0.5283 - val_loss: 0.4541 - val_acc: 0.5900\n",
            "Epoch 291/500\n",
            "4/4 [==============================] - 0s 11ms/step - loss: 0.4571 - acc: 0.5288 - val_loss: 0.4541 - val_acc: 0.5900\n",
            "Epoch 292/500\n",
            "4/4 [==============================] - 0s 11ms/step - loss: 0.4571 - acc: 0.5258 - val_loss: 0.4541 - val_acc: 0.5900\n",
            "Epoch 293/500\n",
            "4/4 [==============================] - 0s 11ms/step - loss: 0.4571 - acc: 0.5293 - val_loss: 0.4540 - val_acc: 0.5900\n",
            "Epoch 294/500\n",
            "4/4 [==============================] - 0s 11ms/step - loss: 0.4570 - acc: 0.5253 - val_loss: 0.4540 - val_acc: 0.5900\n",
            "Epoch 295/500\n",
            "4/4 [==============================] - 0s 13ms/step - loss: 0.4569 - acc: 0.5280 - val_loss: 0.4540 - val_acc: 0.5950\n",
            "Epoch 296/500\n",
            "4/4 [==============================] - 0s 11ms/step - loss: 0.4569 - acc: 0.5339 - val_loss: 0.4540 - val_acc: 0.5950\n",
            "Epoch 297/500\n",
            "4/4 [==============================] - 0s 11ms/step - loss: 0.4574 - acc: 0.5323 - val_loss: 0.4540 - val_acc: 0.5900\n",
            "Epoch 298/500\n",
            "4/4 [==============================] - 0s 11ms/step - loss: 0.4570 - acc: 0.5256 - val_loss: 0.4540 - val_acc: 0.5900\n",
            "Epoch 299/500\n",
            "4/4 [==============================] - 0s 12ms/step - loss: 0.4568 - acc: 0.5307 - val_loss: 0.4540 - val_acc: 0.5900\n",
            "Epoch 300/500\n",
            "4/4 [==============================] - 0s 18ms/step - loss: 0.4569 - acc: 0.5302 - val_loss: 0.4540 - val_acc: 0.5900\n",
            "Epoch 301/500\n",
            "4/4 [==============================] - 0s 14ms/step - loss: 0.4569 - acc: 0.5291 - val_loss: 0.4540 - val_acc: 0.5950\n",
            "Epoch 302/500\n",
            "4/4 [==============================] - 0s 12ms/step - loss: 0.4571 - acc: 0.5323 - val_loss: 0.4540 - val_acc: 0.6000\n",
            "Epoch 303/500\n",
            "4/4 [==============================] - 0s 19ms/step - loss: 0.4569 - acc: 0.5321 - val_loss: 0.4540 - val_acc: 0.6000\n",
            "Epoch 304/500\n",
            "4/4 [==============================] - 0s 12ms/step - loss: 0.4568 - acc: 0.5345 - val_loss: 0.4540 - val_acc: 0.5950\n",
            "Epoch 305/500\n",
            "4/4 [==============================] - 0s 12ms/step - loss: 0.4569 - acc: 0.5302 - val_loss: 0.4540 - val_acc: 0.5950\n",
            "Epoch 306/500\n",
            "4/4 [==============================] - 0s 15ms/step - loss: 0.4568 - acc: 0.5310 - val_loss: 0.4540 - val_acc: 0.5950\n",
            "Epoch 307/500\n",
            "4/4 [==============================] - 0s 12ms/step - loss: 0.4568 - acc: 0.5285 - val_loss: 0.4539 - val_acc: 0.6000\n",
            "Epoch 308/500\n",
            "4/4 [==============================] - 0s 10ms/step - loss: 0.4567 - acc: 0.5331 - val_loss: 0.4539 - val_acc: 0.5950\n",
            "Epoch 309/500\n",
            "4/4 [==============================] - 0s 11ms/step - loss: 0.4570 - acc: 0.5345 - val_loss: 0.4539 - val_acc: 0.5950\n",
            "Epoch 310/500\n",
            "4/4 [==============================] - 0s 13ms/step - loss: 0.4568 - acc: 0.5318 - val_loss: 0.4539 - val_acc: 0.6000\n",
            "Epoch 311/500\n",
            "4/4 [==============================] - 0s 14ms/step - loss: 0.4568 - acc: 0.5315 - val_loss: 0.4539 - val_acc: 0.5950\n",
            "Epoch 312/500\n",
            "4/4 [==============================] - 0s 15ms/step - loss: 0.4567 - acc: 0.5350 - val_loss: 0.4539 - val_acc: 0.6000\n",
            "Epoch 313/500\n",
            "4/4 [==============================] - 0s 20ms/step - loss: 0.4567 - acc: 0.5342 - val_loss: 0.4539 - val_acc: 0.6000\n",
            "Epoch 314/500\n",
            "4/4 [==============================] - 0s 13ms/step - loss: 0.4569 - acc: 0.5321 - val_loss: 0.4539 - val_acc: 0.6000\n",
            "Epoch 315/500\n",
            "4/4 [==============================] - 0s 11ms/step - loss: 0.4572 - acc: 0.5302 - val_loss: 0.4539 - val_acc: 0.6000\n",
            "Epoch 316/500\n",
            "4/4 [==============================] - 0s 12ms/step - loss: 0.4566 - acc: 0.5337 - val_loss: 0.4539 - val_acc: 0.6000\n",
            "Epoch 317/500\n",
            "4/4 [==============================] - 0s 11ms/step - loss: 0.4566 - acc: 0.5334 - val_loss: 0.4539 - val_acc: 0.5950\n",
            "Epoch 318/500\n",
            "4/4 [==============================] - 0s 13ms/step - loss: 0.4567 - acc: 0.5329 - val_loss: 0.4539 - val_acc: 0.5950\n",
            "Epoch 319/500\n",
            "4/4 [==============================] - 0s 14ms/step - loss: 0.4567 - acc: 0.5339 - val_loss: 0.4539 - val_acc: 0.5950\n",
            "Epoch 320/500\n",
            "4/4 [==============================] - 0s 11ms/step - loss: 0.4567 - acc: 0.5348 - val_loss: 0.4539 - val_acc: 0.5950\n",
            "Epoch 321/500\n",
            "4/4 [==============================] - 0s 13ms/step - loss: 0.4566 - acc: 0.5339 - val_loss: 0.4539 - val_acc: 0.5950\n",
            "Epoch 322/500\n",
            "4/4 [==============================] - 0s 12ms/step - loss: 0.4570 - acc: 0.5342 - val_loss: 0.4538 - val_acc: 0.6000\n",
            "Epoch 323/500\n",
            "4/4 [==============================] - 0s 12ms/step - loss: 0.4568 - acc: 0.5334 - val_loss: 0.4538 - val_acc: 0.5950\n",
            "Epoch 324/500\n",
            "4/4 [==============================] - 0s 11ms/step - loss: 0.4566 - acc: 0.5350 - val_loss: 0.4538 - val_acc: 0.5950\n",
            "Epoch 325/500\n",
            "4/4 [==============================] - 0s 12ms/step - loss: 0.4566 - acc: 0.5358 - val_loss: 0.4538 - val_acc: 0.6000\n",
            "Epoch 326/500\n",
            "4/4 [==============================] - 0s 11ms/step - loss: 0.4566 - acc: 0.5339 - val_loss: 0.4538 - val_acc: 0.6000\n",
            "Epoch 327/500\n",
            "4/4 [==============================] - 0s 12ms/step - loss: 0.4567 - acc: 0.5356 - val_loss: 0.4538 - val_acc: 0.5950\n",
            "Epoch 328/500\n",
            "4/4 [==============================] - 0s 13ms/step - loss: 0.4568 - acc: 0.5345 - val_loss: 0.4538 - val_acc: 0.5950\n",
            "Epoch 329/500\n",
            "4/4 [==============================] - 0s 11ms/step - loss: 0.4565 - acc: 0.5358 - val_loss: 0.4538 - val_acc: 0.5950\n",
            "Epoch 330/500\n",
            "4/4 [==============================] - 0s 13ms/step - loss: 0.4566 - acc: 0.5331 - val_loss: 0.4538 - val_acc: 0.5950\n",
            "Epoch 331/500\n",
            "4/4 [==============================] - 0s 14ms/step - loss: 0.4566 - acc: 0.5342 - val_loss: 0.4538 - val_acc: 0.6000\n",
            "Epoch 332/500\n",
            "4/4 [==============================] - 0s 15ms/step - loss: 0.4569 - acc: 0.5350 - val_loss: 0.4537 - val_acc: 0.6000\n",
            "Epoch 333/500\n",
            "4/4 [==============================] - 0s 17ms/step - loss: 0.4567 - acc: 0.5348 - val_loss: 0.4537 - val_acc: 0.6000\n",
            "Epoch 334/500\n",
            "4/4 [==============================] - 0s 11ms/step - loss: 0.4566 - acc: 0.5337 - val_loss: 0.4537 - val_acc: 0.6000\n",
            "Epoch 335/500\n",
            "4/4 [==============================] - 0s 11ms/step - loss: 0.4566 - acc: 0.5318 - val_loss: 0.4537 - val_acc: 0.6000\n",
            "Epoch 336/500\n",
            "4/4 [==============================] - 0s 12ms/step - loss: 0.4566 - acc: 0.5345 - val_loss: 0.4537 - val_acc: 0.6000\n",
            "Epoch 337/500\n",
            "4/4 [==============================] - 0s 13ms/step - loss: 0.4566 - acc: 0.5356 - val_loss: 0.4538 - val_acc: 0.5950\n",
            "Epoch 338/500\n",
            "4/4 [==============================] - 0s 11ms/step - loss: 0.4565 - acc: 0.5348 - val_loss: 0.4537 - val_acc: 0.5950\n",
            "Epoch 339/500\n",
            "4/4 [==============================] - 0s 12ms/step - loss: 0.4565 - acc: 0.5391 - val_loss: 0.4537 - val_acc: 0.5950\n",
            "Epoch 340/500\n",
            "4/4 [==============================] - 0s 14ms/step - loss: 0.4565 - acc: 0.5391 - val_loss: 0.4537 - val_acc: 0.6000\n",
            "Epoch 341/500\n",
            "4/4 [==============================] - 0s 12ms/step - loss: 0.4566 - acc: 0.5369 - val_loss: 0.4537 - val_acc: 0.6000\n",
            "Epoch 342/500\n",
            "4/4 [==============================] - 0s 11ms/step - loss: 0.4568 - acc: 0.5329 - val_loss: 0.4537 - val_acc: 0.6000\n",
            "Epoch 343/500\n",
            "4/4 [==============================] - 0s 12ms/step - loss: 0.4565 - acc: 0.5369 - val_loss: 0.4537 - val_acc: 0.6100\n",
            "Epoch 344/500\n",
            "4/4 [==============================] - 0s 11ms/step - loss: 0.4565 - acc: 0.5383 - val_loss: 0.4537 - val_acc: 0.6050\n",
            "Epoch 345/500\n",
            "4/4 [==============================] - 0s 11ms/step - loss: 0.4565 - acc: 0.5369 - val_loss: 0.4537 - val_acc: 0.6000\n",
            "Epoch 346/500\n",
            "4/4 [==============================] - 0s 14ms/step - loss: 0.4564 - acc: 0.5407 - val_loss: 0.4538 - val_acc: 0.6000\n",
            "Epoch 347/500\n",
            "4/4 [==============================] - 0s 15ms/step - loss: 0.4565 - acc: 0.5345 - val_loss: 0.4537 - val_acc: 0.6000\n",
            "Epoch 348/500\n",
            "4/4 [==============================] - 0s 13ms/step - loss: 0.4566 - acc: 0.5404 - val_loss: 0.4537 - val_acc: 0.6000\n",
            "Epoch 349/500\n",
            "4/4 [==============================] - 0s 12ms/step - loss: 0.4565 - acc: 0.5364 - val_loss: 0.4537 - val_acc: 0.6000\n",
            "Epoch 350/500\n",
            "4/4 [==============================] - 0s 13ms/step - loss: 0.4565 - acc: 0.5345 - val_loss: 0.4537 - val_acc: 0.6050\n",
            "Epoch 351/500\n",
            "4/4 [==============================] - 0s 12ms/step - loss: 0.4568 - acc: 0.5375 - val_loss: 0.4537 - val_acc: 0.6050\n",
            "Epoch 352/500\n",
            "4/4 [==============================] - 0s 16ms/step - loss: 0.4565 - acc: 0.5404 - val_loss: 0.4537 - val_acc: 0.6050\n",
            "Epoch 353/500\n",
            "4/4 [==============================] - 0s 12ms/step - loss: 0.4565 - acc: 0.5410 - val_loss: 0.4537 - val_acc: 0.6050\n",
            "Epoch 354/500\n",
            "4/4 [==============================] - 0s 11ms/step - loss: 0.4565 - acc: 0.5404 - val_loss: 0.4537 - val_acc: 0.6000\n",
            "Epoch 355/500\n",
            "4/4 [==============================] - 0s 11ms/step - loss: 0.4566 - acc: 0.5375 - val_loss: 0.4537 - val_acc: 0.6000\n",
            "Epoch 356/500\n",
            "4/4 [==============================] - 0s 13ms/step - loss: 0.4567 - acc: 0.5367 - val_loss: 0.4537 - val_acc: 0.6000\n",
            "Epoch 357/500\n",
            "4/4 [==============================] - 0s 11ms/step - loss: 0.4565 - acc: 0.5399 - val_loss: 0.4537 - val_acc: 0.6000\n",
            "Epoch 358/500\n",
            "4/4 [==============================] - 0s 11ms/step - loss: 0.4565 - acc: 0.5350 - val_loss: 0.4537 - val_acc: 0.6000\n",
            "Epoch 359/500\n",
            "4/4 [==============================] - 0s 12ms/step - loss: 0.4566 - acc: 0.5399 - val_loss: 0.4537 - val_acc: 0.6000\n",
            "Epoch 360/500\n",
            "4/4 [==============================] - 0s 16ms/step - loss: 0.4564 - acc: 0.5421 - val_loss: 0.4537 - val_acc: 0.6000\n",
            "Epoch 361/500\n",
            "4/4 [==============================] - 0s 12ms/step - loss: 0.4566 - acc: 0.5407 - val_loss: 0.4537 - val_acc: 0.6050\n",
            "Epoch 362/500\n",
            "4/4 [==============================] - 0s 13ms/step - loss: 0.4566 - acc: 0.5369 - val_loss: 0.4537 - val_acc: 0.6050\n",
            "Epoch 363/500\n",
            "4/4 [==============================] - 0s 11ms/step - loss: 0.4564 - acc: 0.5388 - val_loss: 0.4537 - val_acc: 0.6000\n",
            "Epoch 364/500\n",
            "4/4 [==============================] - 0s 12ms/step - loss: 0.4567 - acc: 0.5410 - val_loss: 0.4537 - val_acc: 0.6000\n",
            "Epoch 365/500\n",
            "4/4 [==============================] - 0s 13ms/step - loss: 0.4563 - acc: 0.5396 - val_loss: 0.4537 - val_acc: 0.6100\n",
            "Epoch 366/500\n",
            "4/4 [==============================] - 0s 15ms/step - loss: 0.4567 - acc: 0.5334 - val_loss: 0.4537 - val_acc: 0.6000\n",
            "Epoch 367/500\n",
            "4/4 [==============================] - 0s 13ms/step - loss: 0.4564 - acc: 0.5377 - val_loss: 0.4537 - val_acc: 0.6050\n",
            "Epoch 368/500\n",
            "4/4 [==============================] - 0s 11ms/step - loss: 0.4564 - acc: 0.5372 - val_loss: 0.4537 - val_acc: 0.6000\n",
            "Epoch 369/500\n",
            "4/4 [==============================] - 0s 12ms/step - loss: 0.4564 - acc: 0.5394 - val_loss: 0.4537 - val_acc: 0.6050\n",
            "Epoch 370/500\n",
            "4/4 [==============================] - 0s 12ms/step - loss: 0.4564 - acc: 0.5394 - val_loss: 0.4537 - val_acc: 0.6000\n",
            "Epoch 371/500\n",
            "4/4 [==============================] - 0s 12ms/step - loss: 0.4563 - acc: 0.5402 - val_loss: 0.4536 - val_acc: 0.6050\n",
            "Epoch 372/500\n",
            "4/4 [==============================] - 0s 12ms/step - loss: 0.4564 - acc: 0.5437 - val_loss: 0.4536 - val_acc: 0.6100\n",
            "Epoch 373/500\n",
            "4/4 [==============================] - 0s 12ms/step - loss: 0.4564 - acc: 0.5418 - val_loss: 0.4536 - val_acc: 0.6150\n",
            "Epoch 374/500\n",
            "4/4 [==============================] - 0s 12ms/step - loss: 0.4564 - acc: 0.5396 - val_loss: 0.4536 - val_acc: 0.6150\n",
            "Epoch 375/500\n",
            "4/4 [==============================] - 0s 12ms/step - loss: 0.4564 - acc: 0.5385 - val_loss: 0.4537 - val_acc: 0.6000\n",
            "Epoch 376/500\n",
            "4/4 [==============================] - 0s 11ms/step - loss: 0.4563 - acc: 0.5396 - val_loss: 0.4537 - val_acc: 0.6050\n",
            "Epoch 377/500\n",
            "4/4 [==============================] - 0s 11ms/step - loss: 0.4563 - acc: 0.5394 - val_loss: 0.4537 - val_acc: 0.6050\n",
            "Epoch 378/500\n",
            "4/4 [==============================] - 0s 15ms/step - loss: 0.4563 - acc: 0.5399 - val_loss: 0.4536 - val_acc: 0.6100\n",
            "Epoch 379/500\n",
            "4/4 [==============================] - 0s 13ms/step - loss: 0.4562 - acc: 0.5399 - val_loss: 0.4536 - val_acc: 0.6150\n",
            "Epoch 380/500\n",
            "4/4 [==============================] - 0s 12ms/step - loss: 0.4566 - acc: 0.5404 - val_loss: 0.4536 - val_acc: 0.6150\n",
            "Epoch 381/500\n",
            "4/4 [==============================] - 0s 13ms/step - loss: 0.4564 - acc: 0.5396 - val_loss: 0.4536 - val_acc: 0.6100\n",
            "Epoch 382/500\n",
            "4/4 [==============================] - 0s 12ms/step - loss: 0.4565 - acc: 0.5407 - val_loss: 0.4536 - val_acc: 0.6150\n",
            "Epoch 383/500\n",
            "4/4 [==============================] - 0s 12ms/step - loss: 0.4562 - acc: 0.5431 - val_loss: 0.4536 - val_acc: 0.6050\n",
            "Epoch 384/500\n",
            "4/4 [==============================] - 0s 15ms/step - loss: 0.4563 - acc: 0.5431 - val_loss: 0.4536 - val_acc: 0.6100\n",
            "Epoch 385/500\n",
            "4/4 [==============================] - 0s 13ms/step - loss: 0.4562 - acc: 0.5385 - val_loss: 0.4536 - val_acc: 0.6050\n",
            "Epoch 386/500\n",
            "4/4 [==============================] - 0s 12ms/step - loss: 0.4563 - acc: 0.5350 - val_loss: 0.4536 - val_acc: 0.6100\n",
            "Epoch 387/500\n",
            "4/4 [==============================] - 0s 11ms/step - loss: 0.4562 - acc: 0.5391 - val_loss: 0.4536 - val_acc: 0.6100\n",
            "Epoch 388/500\n",
            "4/4 [==============================] - 0s 11ms/step - loss: 0.4567 - acc: 0.5464 - val_loss: 0.4536 - val_acc: 0.6100\n",
            "Epoch 389/500\n",
            "4/4 [==============================] - 0s 17ms/step - loss: 0.4564 - acc: 0.5396 - val_loss: 0.4536 - val_acc: 0.6100\n",
            "Epoch 390/500\n",
            "4/4 [==============================] - 0s 15ms/step - loss: 0.4562 - acc: 0.5372 - val_loss: 0.4536 - val_acc: 0.6100\n",
            "Epoch 391/500\n",
            "4/4 [==============================] - 0s 11ms/step - loss: 0.4564 - acc: 0.5372 - val_loss: 0.4536 - val_acc: 0.6050\n",
            "Epoch 392/500\n",
            "4/4 [==============================] - 0s 13ms/step - loss: 0.4562 - acc: 0.5388 - val_loss: 0.4536 - val_acc: 0.6100\n",
            "Epoch 393/500\n",
            "4/4 [==============================] - 0s 12ms/step - loss: 0.4562 - acc: 0.5434 - val_loss: 0.4535 - val_acc: 0.6100\n",
            "Epoch 394/500\n",
            "4/4 [==============================] - 0s 13ms/step - loss: 0.4561 - acc: 0.5426 - val_loss: 0.4535 - val_acc: 0.6150\n",
            "Epoch 395/500\n",
            "4/4 [==============================] - 0s 12ms/step - loss: 0.4563 - acc: 0.5404 - val_loss: 0.4536 - val_acc: 0.6150\n",
            "Epoch 396/500\n",
            "4/4 [==============================] - 0s 14ms/step - loss: 0.4562 - acc: 0.5415 - val_loss: 0.4536 - val_acc: 0.6100\n",
            "Epoch 397/500\n",
            "4/4 [==============================] - 0s 12ms/step - loss: 0.4563 - acc: 0.5391 - val_loss: 0.4536 - val_acc: 0.6150\n",
            "Epoch 398/500\n",
            "4/4 [==============================] - 0s 12ms/step - loss: 0.4564 - acc: 0.5421 - val_loss: 0.4536 - val_acc: 0.6100\n",
            "Epoch 399/500\n",
            "4/4 [==============================] - 0s 15ms/step - loss: 0.4563 - acc: 0.5448 - val_loss: 0.4536 - val_acc: 0.6150\n",
            "Epoch 400/500\n",
            "4/4 [==============================] - 0s 12ms/step - loss: 0.4563 - acc: 0.5429 - val_loss: 0.4536 - val_acc: 0.6150\n",
            "Epoch 401/500\n",
            "4/4 [==============================] - 0s 15ms/step - loss: 0.4565 - acc: 0.5429 - val_loss: 0.4535 - val_acc: 0.6150\n",
            "Epoch 402/500\n",
            "4/4 [==============================] - 0s 13ms/step - loss: 0.4564 - acc: 0.5431 - val_loss: 0.4536 - val_acc: 0.6100\n",
            "Epoch 403/500\n",
            "4/4 [==============================] - 0s 12ms/step - loss: 0.4564 - acc: 0.5426 - val_loss: 0.4535 - val_acc: 0.6150\n",
            "Epoch 404/500\n",
            "4/4 [==============================] - 0s 12ms/step - loss: 0.4562 - acc: 0.5410 - val_loss: 0.4535 - val_acc: 0.6150\n",
            "Epoch 405/500\n",
            "4/4 [==============================] - 0s 13ms/step - loss: 0.4561 - acc: 0.5448 - val_loss: 0.4535 - val_acc: 0.6150\n",
            "Epoch 406/500\n",
            "4/4 [==============================] - 0s 12ms/step - loss: 0.4562 - acc: 0.5434 - val_loss: 0.4535 - val_acc: 0.6100\n",
            "Epoch 407/500\n",
            "4/4 [==============================] - 0s 12ms/step - loss: 0.4561 - acc: 0.5412 - val_loss: 0.4535 - val_acc: 0.6150\n",
            "Epoch 408/500\n",
            "4/4 [==============================] - 0s 12ms/step - loss: 0.4563 - acc: 0.5445 - val_loss: 0.4535 - val_acc: 0.6150\n",
            "Epoch 409/500\n",
            "4/4 [==============================] - 0s 12ms/step - loss: 0.4563 - acc: 0.5434 - val_loss: 0.4536 - val_acc: 0.6150\n",
            "Epoch 410/500\n",
            "4/4 [==============================] - 0s 11ms/step - loss: 0.4562 - acc: 0.5404 - val_loss: 0.4536 - val_acc: 0.6100\n",
            "Epoch 411/500\n",
            "4/4 [==============================] - 0s 12ms/step - loss: 0.4562 - acc: 0.5442 - val_loss: 0.4535 - val_acc: 0.6150\n",
            "Epoch 412/500\n",
            "4/4 [==============================] - 0s 12ms/step - loss: 0.4565 - acc: 0.5445 - val_loss: 0.4535 - val_acc: 0.6150\n",
            "Epoch 413/500\n",
            "4/4 [==============================] - 0s 13ms/step - loss: 0.4561 - acc: 0.5431 - val_loss: 0.4534 - val_acc: 0.6150\n",
            "Epoch 414/500\n",
            "4/4 [==============================] - 0s 11ms/step - loss: 0.4563 - acc: 0.5421 - val_loss: 0.4535 - val_acc: 0.6150\n",
            "Epoch 415/500\n",
            "4/4 [==============================] - 0s 12ms/step - loss: 0.4560 - acc: 0.5431 - val_loss: 0.4535 - val_acc: 0.6150\n",
            "Epoch 416/500\n",
            "4/4 [==============================] - 0s 14ms/step - loss: 0.4563 - acc: 0.5431 - val_loss: 0.4535 - val_acc: 0.6150\n",
            "Epoch 417/500\n",
            "4/4 [==============================] - 0s 12ms/step - loss: 0.4560 - acc: 0.5453 - val_loss: 0.4535 - val_acc: 0.6200\n",
            "Epoch 418/500\n",
            "4/4 [==============================] - 0s 12ms/step - loss: 0.4561 - acc: 0.5477 - val_loss: 0.4535 - val_acc: 0.6150\n",
            "Epoch 419/500\n",
            "4/4 [==============================] - 0s 16ms/step - loss: 0.4561 - acc: 0.5410 - val_loss: 0.4535 - val_acc: 0.6150\n",
            "Epoch 420/500\n",
            "4/4 [==============================] - 0s 12ms/step - loss: 0.4561 - acc: 0.5456 - val_loss: 0.4535 - val_acc: 0.6150\n",
            "Epoch 421/500\n",
            "4/4 [==============================] - 0s 11ms/step - loss: 0.4560 - acc: 0.5453 - val_loss: 0.4534 - val_acc: 0.6150\n",
            "Epoch 422/500\n",
            "4/4 [==============================] - 0s 12ms/step - loss: 0.4562 - acc: 0.5480 - val_loss: 0.4534 - val_acc: 0.6150\n",
            "Epoch 423/500\n",
            "4/4 [==============================] - 0s 11ms/step - loss: 0.4562 - acc: 0.5453 - val_loss: 0.4535 - val_acc: 0.6150\n",
            "Epoch 424/500\n",
            "4/4 [==============================] - 0s 11ms/step - loss: 0.4560 - acc: 0.5475 - val_loss: 0.4535 - val_acc: 0.6200\n",
            "Epoch 425/500\n",
            "4/4 [==============================] - 0s 12ms/step - loss: 0.4560 - acc: 0.5453 - val_loss: 0.4535 - val_acc: 0.6150\n",
            "Epoch 426/500\n",
            "4/4 [==============================] - 0s 14ms/step - loss: 0.4560 - acc: 0.5469 - val_loss: 0.4535 - val_acc: 0.6200\n",
            "Epoch 427/500\n",
            "4/4 [==============================] - 0s 13ms/step - loss: 0.4560 - acc: 0.5450 - val_loss: 0.4534 - val_acc: 0.6200\n",
            "Epoch 428/500\n",
            "4/4 [==============================] - 0s 12ms/step - loss: 0.4561 - acc: 0.5469 - val_loss: 0.4534 - val_acc: 0.6150\n",
            "Epoch 429/500\n",
            "4/4 [==============================] - 0s 12ms/step - loss: 0.4559 - acc: 0.5464 - val_loss: 0.4534 - val_acc: 0.6200\n",
            "Epoch 430/500\n",
            "4/4 [==============================] - 0s 19ms/step - loss: 0.4562 - acc: 0.5477 - val_loss: 0.4534 - val_acc: 0.6200\n",
            "Epoch 431/500\n",
            "4/4 [==============================] - 0s 11ms/step - loss: 0.4563 - acc: 0.5464 - val_loss: 0.4534 - val_acc: 0.6200\n",
            "Epoch 432/500\n",
            "4/4 [==============================] - 0s 11ms/step - loss: 0.4561 - acc: 0.5526 - val_loss: 0.4535 - val_acc: 0.6250\n",
            "Epoch 433/500\n",
            "4/4 [==============================] - 0s 12ms/step - loss: 0.4559 - acc: 0.5458 - val_loss: 0.4536 - val_acc: 0.6200\n",
            "Epoch 434/500\n",
            "4/4 [==============================] - 0s 14ms/step - loss: 0.4561 - acc: 0.5440 - val_loss: 0.4536 - val_acc: 0.6200\n",
            "Epoch 435/500\n",
            "4/4 [==============================] - 0s 12ms/step - loss: 0.4560 - acc: 0.5453 - val_loss: 0.4536 - val_acc: 0.6200\n",
            "Epoch 436/500\n",
            "4/4 [==============================] - 0s 12ms/step - loss: 0.4561 - acc: 0.5486 - val_loss: 0.4536 - val_acc: 0.6200\n",
            "Epoch 437/500\n",
            "4/4 [==============================] - 0s 20ms/step - loss: 0.4560 - acc: 0.5469 - val_loss: 0.4536 - val_acc: 0.6200\n",
            "Epoch 438/500\n",
            "4/4 [==============================] - 0s 17ms/step - loss: 0.4559 - acc: 0.5510 - val_loss: 0.4536 - val_acc: 0.6150\n",
            "Epoch 439/500\n",
            "4/4 [==============================] - 0s 13ms/step - loss: 0.4561 - acc: 0.5456 - val_loss: 0.4536 - val_acc: 0.6150\n",
            "Epoch 440/500\n",
            "4/4 [==============================] - 0s 13ms/step - loss: 0.4559 - acc: 0.5467 - val_loss: 0.4537 - val_acc: 0.6150\n",
            "Epoch 441/500\n",
            "4/4 [==============================] - 0s 12ms/step - loss: 0.4559 - acc: 0.5491 - val_loss: 0.4537 - val_acc: 0.6100\n",
            "Epoch 442/500\n",
            "4/4 [==============================] - 0s 12ms/step - loss: 0.4559 - acc: 0.5461 - val_loss: 0.4536 - val_acc: 0.6200\n",
            "Epoch 443/500\n",
            "4/4 [==============================] - 0s 12ms/step - loss: 0.4560 - acc: 0.5475 - val_loss: 0.4536 - val_acc: 0.6150\n",
            "Epoch 444/500\n",
            "4/4 [==============================] - 0s 11ms/step - loss: 0.4564 - acc: 0.5464 - val_loss: 0.4536 - val_acc: 0.6150\n",
            "Epoch 445/500\n",
            "4/4 [==============================] - 0s 12ms/step - loss: 0.4558 - acc: 0.5491 - val_loss: 0.4537 - val_acc: 0.6100\n",
            "Epoch 446/500\n",
            "4/4 [==============================] - 0s 12ms/step - loss: 0.4558 - acc: 0.5491 - val_loss: 0.4537 - val_acc: 0.6100\n",
            "Epoch 447/500\n",
            "4/4 [==============================] - 0s 12ms/step - loss: 0.4558 - acc: 0.5510 - val_loss: 0.4537 - val_acc: 0.6100\n",
            "Epoch 448/500\n",
            "4/4 [==============================] - 0s 11ms/step - loss: 0.4560 - acc: 0.5453 - val_loss: 0.4536 - val_acc: 0.6150\n",
            "Epoch 449/500\n",
            "4/4 [==============================] - 0s 13ms/step - loss: 0.4558 - acc: 0.5483 - val_loss: 0.4537 - val_acc: 0.6150\n",
            "Epoch 450/500\n",
            "4/4 [==============================] - 0s 15ms/step - loss: 0.4558 - acc: 0.5483 - val_loss: 0.4537 - val_acc: 0.6150\n",
            "Epoch 451/500\n",
            "4/4 [==============================] - 0s 13ms/step - loss: 0.4558 - acc: 0.5491 - val_loss: 0.4537 - val_acc: 0.6150\n",
            "Epoch 452/500\n",
            "4/4 [==============================] - 0s 18ms/step - loss: 0.4560 - acc: 0.5491 - val_loss: 0.4537 - val_acc: 0.6150\n",
            "Epoch 453/500\n",
            "4/4 [==============================] - 0s 12ms/step - loss: 0.4560 - acc: 0.5496 - val_loss: 0.4537 - val_acc: 0.6150\n",
            "Epoch 454/500\n",
            "4/4 [==============================] - 0s 15ms/step - loss: 0.4557 - acc: 0.5488 - val_loss: 0.4536 - val_acc: 0.6150\n",
            "Epoch 455/500\n",
            "4/4 [==============================] - 0s 12ms/step - loss: 0.4559 - acc: 0.5532 - val_loss: 0.4536 - val_acc: 0.6150\n",
            "Epoch 456/500\n",
            "4/4 [==============================] - 0s 13ms/step - loss: 0.4557 - acc: 0.5467 - val_loss: 0.4536 - val_acc: 0.6150\n",
            "Epoch 457/500\n",
            "4/4 [==============================] - 0s 14ms/step - loss: 0.4556 - acc: 0.5483 - val_loss: 0.4537 - val_acc: 0.6150\n",
            "Epoch 458/500\n",
            "4/4 [==============================] - 0s 11ms/step - loss: 0.4558 - acc: 0.5496 - val_loss: 0.4537 - val_acc: 0.6200\n",
            "Epoch 459/500\n",
            "4/4 [==============================] - 0s 14ms/step - loss: 0.4558 - acc: 0.5496 - val_loss: 0.4537 - val_acc: 0.6200\n",
            "Epoch 460/500\n",
            "4/4 [==============================] - 0s 12ms/step - loss: 0.4558 - acc: 0.5496 - val_loss: 0.4536 - val_acc: 0.6200\n",
            "Epoch 461/500\n",
            "4/4 [==============================] - 0s 12ms/step - loss: 0.4558 - acc: 0.5486 - val_loss: 0.4536 - val_acc: 0.6250\n",
            "Epoch 462/500\n",
            "4/4 [==============================] - 0s 15ms/step - loss: 0.4557 - acc: 0.5496 - val_loss: 0.4537 - val_acc: 0.6250\n",
            "Epoch 463/500\n",
            "4/4 [==============================] - 0s 18ms/step - loss: 0.4557 - acc: 0.5486 - val_loss: 0.4536 - val_acc: 0.6200\n",
            "Epoch 464/500\n",
            "4/4 [==============================] - 0s 12ms/step - loss: 0.4558 - acc: 0.5502 - val_loss: 0.4536 - val_acc: 0.6200\n",
            "Epoch 465/500\n",
            "4/4 [==============================] - 0s 12ms/step - loss: 0.4558 - acc: 0.5496 - val_loss: 0.4536 - val_acc: 0.6200\n",
            "Epoch 466/500\n",
            "4/4 [==============================] - 0s 12ms/step - loss: 0.4556 - acc: 0.5532 - val_loss: 0.4537 - val_acc: 0.6200\n",
            "Epoch 467/500\n",
            "4/4 [==============================] - 0s 11ms/step - loss: 0.4556 - acc: 0.5523 - val_loss: 0.4537 - val_acc: 0.6250\n",
            "Epoch 468/500\n",
            "4/4 [==============================] - 0s 12ms/step - loss: 0.4558 - acc: 0.5504 - val_loss: 0.4536 - val_acc: 0.6200\n",
            "Epoch 469/500\n",
            "4/4 [==============================] - 0s 18ms/step - loss: 0.4556 - acc: 0.5521 - val_loss: 0.4536 - val_acc: 0.6150\n",
            "Epoch 470/500\n",
            "4/4 [==============================] - 0s 13ms/step - loss: 0.4557 - acc: 0.5526 - val_loss: 0.4537 - val_acc: 0.6200\n",
            "Epoch 471/500\n",
            "4/4 [==============================] - 0s 12ms/step - loss: 0.4556 - acc: 0.5515 - val_loss: 0.4537 - val_acc: 0.6200\n",
            "Epoch 472/500\n",
            "4/4 [==============================] - 0s 13ms/step - loss: 0.4554 - acc: 0.5526 - val_loss: 0.4536 - val_acc: 0.6150\n",
            "Epoch 473/500\n",
            "4/4 [==============================] - 0s 13ms/step - loss: 0.4555 - acc: 0.5513 - val_loss: 0.4536 - val_acc: 0.6200\n",
            "Epoch 474/500\n",
            "4/4 [==============================] - 0s 12ms/step - loss: 0.4555 - acc: 0.5510 - val_loss: 0.4536 - val_acc: 0.6200\n",
            "Epoch 475/500\n",
            "4/4 [==============================] - 0s 18ms/step - loss: 0.4554 - acc: 0.5534 - val_loss: 0.4535 - val_acc: 0.6200\n",
            "Epoch 476/500\n",
            "4/4 [==============================] - 0s 14ms/step - loss: 0.4556 - acc: 0.5526 - val_loss: 0.4535 - val_acc: 0.6200\n",
            "Epoch 477/500\n",
            "4/4 [==============================] - 0s 12ms/step - loss: 0.4554 - acc: 0.5537 - val_loss: 0.4535 - val_acc: 0.6200\n",
            "Epoch 478/500\n",
            "4/4 [==============================] - 0s 12ms/step - loss: 0.4555 - acc: 0.5534 - val_loss: 0.4534 - val_acc: 0.6200\n",
            "Epoch 00478: early stopping\n"
          ],
          "name": "stdout"
        },
        {
          "output_type": "display_data",
          "data": {
            "image/png": "[encoded data removed]",
            "text/plain": [
              "<Figure size 1080x360 with 2 Axes>"
            ]
          },
          "metadata": {
            "needs_background": "light"
          }
        },
        {
          "output_type": "display_data",
          "data": {
            "image/png": "[encoded data removed]",
            "text/plain": [
              "<Figure size 1440x288 with 20 Axes>"
            ]
          },
          "metadata": {
            "needs_background": "light"
          }
        }
      ]
    },
    {
      "cell_type": "code",
      "metadata": {
        "colab": {
          "base_uri": "https://localhost:8080/"
        },
        "id": "KFwnOg77g60z",
        "outputId": "94c10db4-df14-40cc-e406-e764be90f2d6"
      },
      "source": [
        "decoded_stocks"
      ],
      "execution_count": null,
      "outputs": [
        {
          "output_type": "execute_result",
          "data": {
            "text/plain": [
              "array([[0.39485812, 0.23884141, 0.15279776, ..., 0.65533054, 0.8359107 ,\n",
              "        0.92115116],\n",
              "       [0.30552077, 0.18057433, 0.12184367, ..., 0.7240786 , 0.87689066,\n",
              "        0.9446325 ],\n",
              "       [0.13808891, 0.10174713, 0.10074836, ..., 0.8321675 , 0.9048823 ,\n",
              "        0.94361305],\n",
              "       ...,\n",
              "       [0.0533312 , 0.09228903, 0.2137698 , ..., 0.8583288 , 0.76404417,\n",
              "        0.59971553],\n",
              "       [0.06651106, 0.13348368, 0.31972623, ..., 0.8096658 , 0.6199071 ,\n",
              "        0.33936292],\n",
              "       [0.15468794, 0.25653356, 0.44958547, ..., 0.6699035 , 0.44525552,\n",
              "        0.19613805]], dtype=float32)"
            ]
          },
          "metadata": {},
          "execution_count": 17
        }
      ]
    },
    {
      "cell_type": "code",
      "metadata": {
        "id": "NqU0euiIjZLq"
      },
      "source": [
        "compress_x_train = encoder.predict(x_train_sample)\n",
        "compress_x_test = encoder.predict(x_test_sample)"
      ],
      "execution_count": null,
      "outputs": []
    },
    {
      "cell_type": "code",
      "metadata": {
        "id": "xqPLEsuzj41s"
      },
      "source": [
        "new_feature = np.concatenate([compress_x_train, compress_x_test])\n",
        "tmp_df = pd.DataFrame(new_feature, columns = ['comp_fe1', 'comp_fe2', 'comp_fe3'])"
      ],
      "execution_count": null,
      "outputs": []
    },
    {
      "cell_type": "code",
      "metadata": {
        "colab": {
          "base_uri": "https://localhost:8080/"
        },
        "id": "hJkc6bYDlb24",
        "outputId": "ca39564a-3c20-470e-abb0-fc893ddb9cdd"
      },
      "source": [
        "tmp_df.shape"
      ],
      "execution_count": null,
      "outputs": [
        {
          "output_type": "execute_result",
          "data": {
            "text/plain": [
              "(3897, 3)"
            ]
          },
          "metadata": {},
          "execution_count": 20
        }
      ]
    },
    {
      "cell_type": "code",
      "metadata": {
        "id": "x5F0iZB-j6_k"
      },
      "source": [
        "n_df = df.iloc[11:]\n",
        "tmp_df.index = n_df.index"
      ],
      "execution_count": null,
      "outputs": []
    },
    {
      "cell_type": "code",
      "metadata": {
        "colab": {
          "base_uri": "https://localhost:8080/",
          "height": 449
        },
        "id": "ASwl0l80j9hB",
        "outputId": "401f8552-2473-4abc-eec4-696b0cf1487e"
      },
      "source": [
        "tmp_df"
      ],
      "execution_count": null,
      "outputs": [
        {
          "output_type": "execute_result",
          "data": {
            "text/html": [
              "<div>\n",
              "<style scoped>\n",
              "    .dataframe tbody tr th:only-of-type {\n",
              "        vertical-align: middle;\n",
              "    }\n",
              "\n",
              "    .dataframe tbody tr th {\n",
              "        vertical-align: top;\n",
              "    }\n",
              "\n",
              "    .dataframe thead th {\n",
              "        text-align: right;\n",
              "    }\n",
              "</style>\n",
              "<table border=\"1\" class=\"dataframe\">\n",
              "  <thead>\n",
              "    <tr style=\"text-align: right;\">\n",
              "      <th></th>\n",
              "      <th>comp_fe1</th>\n",
              "      <th>comp_fe2</th>\n",
              "      <th>comp_fe3</th>\n",
              "    </tr>\n",
              "    <tr>\n",
              "      <th>Date</th>\n",
              "      <th></th>\n",
              "      <th></th>\n",
              "      <th></th>\n",
              "    </tr>\n",
              "  </thead>\n",
              "  <tbody>\n",
              "    <tr>\n",
              "      <th>2005-04-18</th>\n",
              "      <td>1.681837</td>\n",
              "      <td>1.525225</td>\n",
              "      <td>0.758490</td>\n",
              "    </tr>\n",
              "    <tr>\n",
              "      <th>2005-04-19</th>\n",
              "      <td>1.353903</td>\n",
              "      <td>0.914355</td>\n",
              "      <td>0.979622</td>\n",
              "    </tr>\n",
              "    <tr>\n",
              "      <th>2005-04-20</th>\n",
              "      <td>1.093739</td>\n",
              "      <td>0.789915</td>\n",
              "      <td>1.402744</td>\n",
              "    </tr>\n",
              "    <tr>\n",
              "      <th>2005-04-21</th>\n",
              "      <td>1.016869</td>\n",
              "      <td>1.193853</td>\n",
              "      <td>1.830824</td>\n",
              "    </tr>\n",
              "    <tr>\n",
              "      <th>2005-04-22</th>\n",
              "      <td>0.881886</td>\n",
              "      <td>1.367229</td>\n",
              "      <td>2.213983</td>\n",
              "    </tr>\n",
              "    <tr>\n",
              "      <th>...</th>\n",
              "      <td>...</td>\n",
              "      <td>...</td>\n",
              "      <td>...</td>\n",
              "    </tr>\n",
              "    <tr>\n",
              "      <th>2021-08-17</th>\n",
              "      <td>0.939722</td>\n",
              "      <td>1.166774</td>\n",
              "      <td>1.963049</td>\n",
              "    </tr>\n",
              "    <tr>\n",
              "      <th>2021-08-18</th>\n",
              "      <td>0.760159</td>\n",
              "      <td>0.567948</td>\n",
              "      <td>1.902353</td>\n",
              "    </tr>\n",
              "    <tr>\n",
              "      <th>2021-08-19</th>\n",
              "      <td>0.912804</td>\n",
              "      <td>0.252819</td>\n",
              "      <td>1.387182</td>\n",
              "    </tr>\n",
              "    <tr>\n",
              "      <th>2021-08-20</th>\n",
              "      <td>1.144603</td>\n",
              "      <td>0.202454</td>\n",
              "      <td>0.899311</td>\n",
              "    </tr>\n",
              "    <tr>\n",
              "      <th>2021-08-23</th>\n",
              "      <td>1.437807</td>\n",
              "      <td>0.434504</td>\n",
              "      <td>0.485584</td>\n",
              "    </tr>\n",
              "  </tbody>\n",
              "</table>\n",
              "<p>3897 rows × 3 columns</p>\n",
              "</div>"
            ],
            "text/plain": [
              "            comp_fe1  comp_fe2  comp_fe3\n",
              "Date                                    \n",
              "2005-04-18  1.681837  1.525225  0.758490\n",
              "2005-04-19  1.353903  0.914355  0.979622\n",
              "2005-04-20  1.093739  0.789915  1.402744\n",
              "2005-04-21  1.016869  1.193853  1.830824\n",
              "2005-04-22  0.881886  1.367229  2.213983\n",
              "...              ...       ...       ...\n",
              "2021-08-17  0.939722  1.166774  1.963049\n",
              "2021-08-18  0.760159  0.567948  1.902353\n",
              "2021-08-19  0.912804  0.252819  1.387182\n",
              "2021-08-20  1.144603  0.202454  0.899311\n",
              "2021-08-23  1.437807  0.434504  0.485584\n",
              "\n",
              "[3897 rows x 3 columns]"
            ]
          },
          "metadata": {},
          "execution_count": 22
        }
      ]
    },
    {
      "cell_type": "code",
      "metadata": {
        "id": "vn-i3_gekMLB"
      },
      "source": [
        "df = pd.merge(df, tmp_df,left_index=True, right_index=True,how='inner')"
      ],
      "execution_count": null,
      "outputs": []
    },
    {
      "cell_type": "code",
      "metadata": {
        "colab": {
          "base_uri": "https://localhost:8080/"
        },
        "id": "XRz6vHzhkb7d",
        "outputId": "c9fe2e48-6d1b-4abc-a3f5-0189a8433694"
      },
      "source": [
        "df.columns"
      ],
      "execution_count": null,
      "outputs": [
        {
          "output_type": "execute_result",
          "data": {
            "text/plain": [
              "Index(['Open', 'High', 'Low', 'Close', 'Adj Close', 'Volume', 'S&P500', 'SOX',\n",
              "       'VIX', 'KOSPI', 'CCI', 'MA5', 'MA10', 'MA20', 'MA60', 'MA20_ratio',\n",
              "       'MA60_ratio', 'MA20_volume', 'MA60_volumne', 'RASD5', 'RASD10', 'MACD',\n",
              "       'ATR', 'ub', 'middle', 'lb', 'ROC', 'WPR', 'comp_fe1', 'comp_fe2',\n",
              "       'comp_fe3'],\n",
              "      dtype='object')"
            ]
          },
          "metadata": {},
          "execution_count": 24
        }
      ]
    },
    {
      "cell_type": "code",
      "metadata": {
        "id": "93SmZfTGpyj5"
      },
      "source": [
        "df = df.drop(columns = ['RASD5'], axis = 1)"
      ],
      "execution_count": null,
      "outputs": []
    },
    {
      "cell_type": "markdown",
      "metadata": {
        "id": "Ie8vkQukkiHo"
      },
      "source": [
        "# feature"
      ]
    },
    {
      "cell_type": "code",
      "metadata": {
        "id": "7CWj1WBvkkUO"
      },
      "source": [
        "df['next_price'] = df['Close'].shift(-90) # 90일 후 예상"
      ],
      "execution_count": null,
      "outputs": []
    },
    {
      "cell_type": "markdown",
      "metadata": {
        "id": "v3mcpWZomU3-"
      },
      "source": [
        "# 라벨링"
      ]
    },
    {
      "cell_type": "code",
      "metadata": {
        "id": "AQJp3Y1_kmQp"
      },
      "source": [
        "diffs = df['next_price']-df['Close']\n",
        "df['label'] = np.where(diffs>0,1,0)"
      ],
      "execution_count": null,
      "outputs": []
    },
    {
      "cell_type": "code",
      "metadata": {
        "colab": {
          "base_uri": "https://localhost:8080/",
          "height": 280
        },
        "id": "AURUl2qVmXQi",
        "outputId": "a91b10f6-bac2-4747-b551-e50d6625b1cc"
      },
      "source": [
        "df['label'].value_counts().plot.bar()"
      ],
      "execution_count": null,
      "outputs": [
        {
          "output_type": "execute_result",
          "data": {
            "text/plain": [
              "<matplotlib.axes._subplots.AxesSubplot at 0x7f63783b5210>"
            ]
          },
          "metadata": {},
          "execution_count": 28
        },
        {
          "output_type": "display_data",
          "data": {
            "image/png": "[encoded data removed]",
            "text/plain": [
              "<Figure size 432x288 with 1 Axes>"
            ]
          },
          "metadata": {
            "needs_background": "light"
          }
        }
      ]
    },
    {
      "cell_type": "code",
      "metadata": {
        "id": "KRXeyx4amivR",
        "colab": {
          "base_uri": "https://localhost:8080/",
          "height": 339
        },
        "outputId": "997d2279-1e94-4525-f87b-0ea08f0ae7bd"
      },
      "source": [
        "# 예측기간 2011-01-03 ~ 2020-12-31\n",
        "df = df.loc['2011-01-03':'2020-12-31']\n",
        "df.head()\n"
      ],
      "execution_count": null,
      "outputs": [
        {
          "output_type": "execute_result",
          "data": {
            "text/html": [
              "<div>\n",
              "<style scoped>\n",
              "    .dataframe tbody tr th:only-of-type {\n",
              "        vertical-align: middle;\n",
              "    }\n",
              "\n",
              "    .dataframe tbody tr th {\n",
              "        vertical-align: top;\n",
              "    }\n",
              "\n",
              "    .dataframe thead th {\n",
              "        text-align: right;\n",
              "    }\n",
              "</style>\n",
              "<table border=\"1\" class=\"dataframe\">\n",
              "  <thead>\n",
              "    <tr style=\"text-align: right;\">\n",
              "      <th></th>\n",
              "      <th>Open</th>\n",
              "      <th>High</th>\n",
              "      <th>Low</th>\n",
              "      <th>Close</th>\n",
              "      <th>Adj Close</th>\n",
              "      <th>Volume</th>\n",
              "      <th>S&amp;P500</th>\n",
              "      <th>SOX</th>\n",
              "      <th>VIX</th>\n",
              "      <th>KOSPI</th>\n",
              "      <th>CCI</th>\n",
              "      <th>MA5</th>\n",
              "      <th>MA10</th>\n",
              "      <th>MA20</th>\n",
              "      <th>MA60</th>\n",
              "      <th>MA20_ratio</th>\n",
              "      <th>MA60_ratio</th>\n",
              "      <th>MA20_volume</th>\n",
              "      <th>MA60_volumne</th>\n",
              "      <th>RASD10</th>\n",
              "      <th>MACD</th>\n",
              "      <th>ATR</th>\n",
              "      <th>ub</th>\n",
              "      <th>middle</th>\n",
              "      <th>lb</th>\n",
              "      <th>ROC</th>\n",
              "      <th>WPR</th>\n",
              "      <th>comp_fe1</th>\n",
              "      <th>comp_fe2</th>\n",
              "      <th>comp_fe3</th>\n",
              "      <th>next_price</th>\n",
              "      <th>label</th>\n",
              "    </tr>\n",
              "    <tr>\n",
              "      <th>Date</th>\n",
              "      <th></th>\n",
              "      <th></th>\n",
              "      <th></th>\n",
              "      <th></th>\n",
              "      <th></th>\n",
              "      <th></th>\n",
              "      <th></th>\n",
              "      <th></th>\n",
              "      <th></th>\n",
              "      <th></th>\n",
              "      <th></th>\n",
              "      <th></th>\n",
              "      <th></th>\n",
              "      <th></th>\n",
              "      <th></th>\n",
              "      <th></th>\n",
              "      <th></th>\n",
              "      <th></th>\n",
              "      <th></th>\n",
              "      <th></th>\n",
              "      <th></th>\n",
              "      <th></th>\n",
              "      <th></th>\n",
              "      <th></th>\n",
              "      <th></th>\n",
              "      <th></th>\n",
              "      <th></th>\n",
              "      <th></th>\n",
              "      <th></th>\n",
              "      <th></th>\n",
              "      <th></th>\n",
              "      <th></th>\n",
              "    </tr>\n",
              "  </thead>\n",
              "  <tbody>\n",
              "    <tr>\n",
              "      <th>2011-01-03</th>\n",
              "      <td>56138.042969</td>\n",
              "      <td>56260.617188</td>\n",
              "      <td>53931.746094</td>\n",
              "      <td>54299.460938</td>\n",
              "      <td>53262.128906</td>\n",
              "      <td>620732</td>\n",
              "      <td>1271.869995</td>\n",
              "      <td>415.049988</td>\n",
              "      <td>17.610001</td>\n",
              "      <td>2070.080078</td>\n",
              "      <td>154.460116</td>\n",
              "      <td>53122.768750</td>\n",
              "      <td>52031.876563</td>\n",
              "      <td>49623.333984</td>\n",
              "      <td>48967.572917</td>\n",
              "      <td>1.094232</td>\n",
              "      <td>1.108886</td>\n",
              "      <td>743832.35</td>\n",
              "      <td>783104.850000</td>\n",
              "      <td>1151.430055</td>\n",
              "      <td>1620.414990</td>\n",
              "      <td>1677.743121</td>\n",
              "      <td>55274.042427</td>\n",
              "      <td>49623.333984</td>\n",
              "      <td>43972.625542</td>\n",
              "      <td>4.481133</td>\n",
              "      <td>-20.512837</td>\n",
              "      <td>1.277800</td>\n",
              "      <td>0.439901</td>\n",
              "      <td>0.802157</td>\n",
              "      <td>47557.992188</td>\n",
              "      <td>0</td>\n",
              "    </tr>\n",
              "    <tr>\n",
              "      <th>2011-01-04</th>\n",
              "      <td>54789.750000</td>\n",
              "      <td>55280.039062</td>\n",
              "      <td>53196.312500</td>\n",
              "      <td>54299.460938</td>\n",
              "      <td>53262.128906</td>\n",
              "      <td>622788</td>\n",
              "      <td>1270.199951</td>\n",
              "      <td>415.579987</td>\n",
              "      <td>17.379999</td>\n",
              "      <td>2085.139893</td>\n",
              "      <td>110.166821</td>\n",
              "      <td>53907.230469</td>\n",
              "      <td>52313.792578</td>\n",
              "      <td>50058.465039</td>\n",
              "      <td>48998.215951</td>\n",
              "      <td>1.084721</td>\n",
              "      <td>1.108193</td>\n",
              "      <td>742153.15</td>\n",
              "      <td>783491.083333</td>\n",
              "      <td>1117.982020</td>\n",
              "      <td>1703.556372</td>\n",
              "      <td>1706.741938</td>\n",
              "      <td>55742.112759</td>\n",
              "      <td>50058.465039</td>\n",
              "      <td>44374.817319</td>\n",
              "      <td>3.504673</td>\n",
              "      <td>-20.512837</td>\n",
              "      <td>1.325723</td>\n",
              "      <td>0.881929</td>\n",
              "      <td>1.012423</td>\n",
              "      <td>46332.273438</td>\n",
              "      <td>0</td>\n",
              "    </tr>\n",
              "    <tr>\n",
              "      <th>2011-01-05</th>\n",
              "      <td>53686.601562</td>\n",
              "      <td>55770.328125</td>\n",
              "      <td>53686.601562</td>\n",
              "      <td>54544.605469</td>\n",
              "      <td>53502.585938</td>\n",
              "      <td>764757</td>\n",
              "      <td>1276.560059</td>\n",
              "      <td>417.089996</td>\n",
              "      <td>17.020000</td>\n",
              "      <td>2082.550049</td>\n",
              "      <td>104.650453</td>\n",
              "      <td>54446.547656</td>\n",
              "      <td>52742.794922</td>\n",
              "      <td>50475.210352</td>\n",
              "      <td>49034.987565</td>\n",
              "      <td>1.080622</td>\n",
              "      <td>1.112361</td>\n",
              "      <td>750439.50</td>\n",
              "      <td>786111.033333</td>\n",
              "      <td>1046.805197</td>\n",
              "      <td>1768.837573</td>\n",
              "      <td>1733.669411</td>\n",
              "      <td>56191.121155</td>\n",
              "      <td>50475.210352</td>\n",
              "      <td>44759.299548</td>\n",
              "      <td>4.215453</td>\n",
              "      <td>-18.918935</td>\n",
              "      <td>1.231304</td>\n",
              "      <td>1.435590</td>\n",
              "      <td>1.577776</td>\n",
              "      <td>46209.699219</td>\n",
              "      <td>0</td>\n",
              "    </tr>\n",
              "    <tr>\n",
              "      <th>2011-01-06</th>\n",
              "      <td>55034.894531</td>\n",
              "      <td>55280.039062</td>\n",
              "      <td>53809.171875</td>\n",
              "      <td>54299.460938</td>\n",
              "      <td>53262.128906</td>\n",
              "      <td>779263</td>\n",
              "      <td>1273.849976</td>\n",
              "      <td>424.769989</td>\n",
              "      <td>17.400000</td>\n",
              "      <td>2077.610107</td>\n",
              "      <td>80.880012</td>\n",
              "      <td>54618.148438</td>\n",
              "      <td>53049.225391</td>\n",
              "      <td>50861.312500</td>\n",
              "      <td>49088.102148</td>\n",
              "      <td>1.067599</td>\n",
              "      <td>1.106163</td>\n",
              "      <td>752022.65</td>\n",
              "      <td>793468.600000</td>\n",
              "      <td>989.796333</td>\n",
              "      <td>1780.270430</td>\n",
              "      <td>1714.897824</td>\n",
              "      <td>56514.785614</td>\n",
              "      <td>50861.312500</td>\n",
              "      <td>45207.839386</td>\n",
              "      <td>6.235010</td>\n",
              "      <td>-25.806465</td>\n",
              "      <td>1.054813</td>\n",
              "      <td>1.487110</td>\n",
              "      <td>1.958298</td>\n",
              "      <td>47067.703125</td>\n",
              "      <td>0</td>\n",
              "    </tr>\n",
              "    <tr>\n",
              "      <th>2011-01-07</th>\n",
              "      <td>54299.460938</td>\n",
              "      <td>55770.328125</td>\n",
              "      <td>54299.460938</td>\n",
              "      <td>55157.464844</td>\n",
              "      <td>54103.734375</td>\n",
              "      <td>826631</td>\n",
              "      <td>1271.500000</td>\n",
              "      <td>425.760010</td>\n",
              "      <td>17.139999</td>\n",
              "      <td>2086.199951</td>\n",
              "      <td>89.220552</td>\n",
              "      <td>54520.090625</td>\n",
              "      <td>53416.941797</td>\n",
              "      <td>51259.671875</td>\n",
              "      <td>49165.731120</td>\n",
              "      <td>1.076040</td>\n",
              "      <td>1.121868</td>\n",
              "      <td>752334.90</td>\n",
              "      <td>787604.433333</td>\n",
              "      <td>956.362888</td>\n",
              "      <td>1837.384571</td>\n",
              "      <td>1697.467064</td>\n",
              "      <td>56945.011148</td>\n",
              "      <td>51259.671875</td>\n",
              "      <td>45574.332602</td>\n",
              "      <td>9.223294</td>\n",
              "      <td>-15.789515</td>\n",
              "      <td>0.937681</td>\n",
              "      <td>1.203010</td>\n",
              "      <td>1.991959</td>\n",
              "      <td>46332.273438</td>\n",
              "      <td>0</td>\n",
              "    </tr>\n",
              "  </tbody>\n",
              "</table>\n",
              "</div>"
            ],
            "text/plain": [
              "                    Open          High  ...    next_price  label\n",
              "Date                                    ...                     \n",
              "2011-01-03  56138.042969  56260.617188  ...  47557.992188      0\n",
              "2011-01-04  54789.750000  55280.039062  ...  46332.273438      0\n",
              "2011-01-05  53686.601562  55770.328125  ...  46209.699219      0\n",
              "2011-01-06  55034.894531  55280.039062  ...  47067.703125      0\n",
              "2011-01-07  54299.460938  55770.328125  ...  46332.273438      0\n",
              "\n",
              "[5 rows x 32 columns]"
            ]
          },
          "metadata": {},
          "execution_count": 29
        }
      ]
    },
    {
      "cell_type": "code",
      "metadata": {
        "colab": {
          "base_uri": "https://localhost:8080/"
        },
        "id": "VQHAr0tz489W",
        "outputId": "9b45aef4-d4a5-4bbe-e022-cef7be55b1e1"
      },
      "source": [
        "X = df.drop(['next_price','label'], axis=1)\n",
        "y = df['label']\n",
        "\n",
        "y.shape"
      ],
      "execution_count": null,
      "outputs": [
        {
          "output_type": "execute_result",
          "data": {
            "text/plain": [
              "(2361,)"
            ]
          },
          "metadata": {},
          "execution_count": 30
        }
      ]
    },
    {
      "cell_type": "code",
      "metadata": {
        "colab": {
          "base_uri": "https://localhost:8080/"
        },
        "id": "G-MQpvfSAgkd",
        "outputId": "03e53bd3-8abf-42d9-d124-7655d6241f2e"
      },
      "source": [
        "X.shape"
      ],
      "execution_count": null,
      "outputs": [
        {
          "output_type": "execute_result",
          "data": {
            "text/plain": [
              "(2361, 30)"
            ]
          },
          "metadata": {},
          "execution_count": 31
        }
      ]
    },
    {
      "cell_type": "markdown",
      "metadata": {
        "id": "_-4Qg4kVDHEd"
      },
      "source": [
        "# 전처리"
      ]
    },
    {
      "cell_type": "code",
      "metadata": {
        "id": "dzzpDKBVmkdH"
      },
      "source": [
        "from sklearn.preprocessing import LabelEncoder,MinMaxScaler\n",
        "\n",
        "scaler = MinMaxScaler()\n",
        "scaler.fit(X)\n",
        "X_scaled = scaler.transform(X)\n",
        "\n",
        "le = LabelEncoder()        \n",
        "y = le.fit_transform(y)   \n"
      ],
      "execution_count": null,
      "outputs": []
    },
    {
      "cell_type": "code",
      "metadata": {
        "colab": {
          "base_uri": "https://localhost:8080/"
        },
        "id": "AkCsrBQTmo-g",
        "outputId": "7d8a71ec-0f21-40e6-ddcf-affdc56dab16"
      },
      "source": [
        "sum(y)/len(df) * 100"
      ],
      "execution_count": null,
      "outputs": [
        {
          "output_type": "execute_result",
          "data": {
            "text/plain": [
              "61.71113934773401"
            ]
          },
          "metadata": {},
          "execution_count": 33
        }
      ]
    },
    {
      "cell_type": "code",
      "metadata": {
        "colab": {
          "base_uri": "https://localhost:8080/"
        },
        "id": "REDYiwo-8MvW",
        "outputId": "68558c5a-3b06-461c-b3a3-c32ff7a1217b"
      },
      "source": [
        "X_scaled.shape"
      ],
      "execution_count": null,
      "outputs": [
        {
          "output_type": "execute_result",
          "data": {
            "text/plain": [
              "(2361, 30)"
            ]
          },
          "metadata": {},
          "execution_count": 34
        }
      ]
    },
    {
      "cell_type": "code",
      "metadata": {
        "id": "KLoG5WGtmswi"
      },
      "source": [
        "X_train, X_test, y_train, y_test = train_test_split(X_scaled,y, test_size=0.2, random_state=1234, stratify=y)"
      ],
      "execution_count": null,
      "outputs": []
    },
    {
      "cell_type": "markdown",
      "metadata": {
        "id": "uARSF-UKmxBd"
      },
      "source": [
        "# 함수 정의"
      ]
    },
    {
      "cell_type": "code",
      "metadata": {
        "id": "sqBfHoHImvXG"
      },
      "source": [
        "def report(clf):\n",
        "    y_pred = clf.predict(X_test)\n",
        "    print(classification_report(y_test, y_pred))\n",
        "    print('Random Forest Accuracy:', np.mean(y_pred == y_test))\n",
        "    ax = plt.figure(figsize=(10, 5))\n",
        "    sns.heatmap(confusion_matrix(y_test, y_pred), linewidths=0.5, fmt='.1f', annot=True)"
      ],
      "execution_count": null,
      "outputs": []
    },
    {
      "cell_type": "code",
      "metadata": {
        "id": "mBtDy1q2mzlN"
      },
      "source": [
        "def feature_importance(clf):\n",
        "    feature_importance = clf.feature_importances_\n",
        "    # plot\n",
        "    df_fi = pd.DataFrame({'columns':X.columns, 'importances':feature_importance})\n",
        "    df_fi = df_fi[df_fi['importances'] > 0] # importance가 0이상인 것만 \n",
        "    df_fi = df_fi.sort_values(by=['importances'], ascending=False)\n",
        "\n",
        "    fig = plt.figure(figsize=(15,7))\n",
        "    ax = sns.barplot(df_fi['columns'], df_fi['importances'])\n",
        "    ax.set_xticklabels(df_fi['columns'], rotation=80, fontsize=13)\n",
        "    plt.tight_layout()\n",
        "    plt.show()"
      ],
      "execution_count": null,
      "outputs": []
    },
    {
      "cell_type": "markdown",
      "metadata": {
        "id": "gDHe32uTm11e"
      },
      "source": [
        "# 모델"
      ]
    },
    {
      "cell_type": "code",
      "metadata": {
        "id": "rZTXbq8xm1Zi"
      },
      "source": [
        "logistic = LogisticRegression(solver='liblinear',penalty='l2',C= 0.1,random_state=1)\n",
        "tree = DecisionTreeClassifier(max_depth=4,criterion='entropy',random_state=1)\n",
        "knn = KNeighborsClassifier(n_neighbors=41,p=2,metric='minkowski')\n",
        "\n",
        "voting_estimators = [('logistic', logistic), ('tree', tree), ('knn', knn)]\n",
        "\n",
        "voting = VotingClassifier(estimators = voting_estimators,voting='soft')\n",
        "\n",
        "forest = RandomForestClassifier(criterion='entropy',n_estimators=700,random_state=1)\n",
        "\n",
        "lgb = LGBMClassifier(random_state=42)\n",
        "xgb = XGBClassifier(tree_method='hist',random_state=41)\n",
        "\n",
        "adaboost = AdaBoostClassifier(base_estimator=tree, \n",
        "                                n_estimators=100,\n",
        "                                learning_rate = 0.01, \n",
        "                                random_state=42)\n",
        "\n",
        "clf_labels = ['Random forest','Ada boost','XGB','LIGHTGBM']\n",
        "\n",
        "all_clf = [ forest,adaboost,xgb,lgb]"
      ],
      "execution_count": null,
      "outputs": []
    },
    {
      "cell_type": "code",
      "metadata": {
        "id": "M0Gm25syExZo"
      },
      "source": [
        "#forest.get_params()"
      ],
      "execution_count": null,
      "outputs": []
    },
    {
      "cell_type": "code",
      "metadata": {
        "id": "vJ62AEXbE7i8",
        "colab": {
          "base_uri": "https://localhost:8080/"
        },
        "outputId": "bba1b99d-3d17-43ec-8021-3512942ee5da"
      },
      "source": [
        "'''\n",
        "from sklearn.model_selection import GridSearchCV\n",
        "\n",
        "params = {\n",
        "    'n_estimators':[700],\n",
        "    'max_depth' : [4, 6, 8, 10], \n",
        "    'min_samples_leaf' : [8, 12, 18],\n",
        "    'min_samples_split' : [8, 16, 20]\n",
        "}\n",
        "# RandomForestClassifier 객체 생성 후 GridSearchCV 수행\n",
        "grid_cv = GridSearchCV(forest, param_grid=params, cv=2, n_jobs=-1)\n",
        "grid_cv.fit(X_train, y_train)\n",
        "\n",
        "print('최적 하이퍼 파라미터:\\n', grid_cv.best_params_)\n",
        "print('최고 예측 정확도: {0:.4f}'.format(grid_cv.best_score_))\n",
        "'''"
      ],
      "execution_count": null,
      "outputs": [
        {
          "output_type": "execute_result",
          "data": {
            "application/vnd.google.colaboratory.intrinsic+json": {
              "type": "string"
            },
            "text/plain": [
              "\"\\nfrom sklearn.model_selection import GridSearchCV\\n\\nparams = {\\n    'n_estimators':[700],\\n    'max_depth' : [4, 6, 8, 10], \\n    'min_samples_leaf' : [8, 12, 18],\\n    'min_samples_split' : [8, 16, 20]\\n}\\n# RandomForestClassifier 객체 생성 후 GridSearchCV 수행\\ngrid_cv = GridSearchCV(forest, param_grid=params, cv=2, n_jobs=-1)\\ngrid_cv.fit(X_train, y_train)\\n\\nprint('최적 하이퍼 파라미터:\\n', grid_cv.best_params_)\\nprint('최고 예측 정확도: {0:.4f}'.format(grid_cv.best_score_))\\n\""
            ]
          },
          "metadata": {},
          "execution_count": 40
        }
      ]
    },
    {
      "cell_type": "markdown",
      "metadata": {
        "id": "CZTC1AAym78c"
      },
      "source": [
        "# AUC 검정"
      ]
    },
    {
      "cell_type": "code",
      "metadata": {
        "id": "sEfIfHLlm457",
        "colab": {
          "base_uri": "https://localhost:8080/"
        },
        "outputId": "6cda6a76-e532-42b3-b801-f14a8a46d8d5"
      },
      "source": [
        "for clf, label in zip(all_clf, clf_labels):\n",
        "  scores = cross_val_score(estimator=clf,X=X_train,y=y_train,cv=10,scoring='roc_auc')\n",
        "  print(\"ROC AUC: %0.3f (+/- %0.3f) [%s]\"\n",
        "  % (scores.mean(), scores.std(), label))"
      ],
      "execution_count": null,
      "outputs": [
        {
          "output_type": "stream",
          "text": [
            "ROC AUC: 0.986 (+/- 0.007) [Random forest]\n",
            "ROC AUC: 0.973 (+/- 0.017) [Ada boost]\n",
            "ROC AUC: 0.977 (+/- 0.011) [XGB]\n",
            "ROC AUC: 0.987 (+/- 0.008) [LIGHTGBM]\n"
          ],
          "name": "stdout"
        }
      ]
    },
    {
      "cell_type": "markdown",
      "metadata": {
        "id": "RzCGTZTxm_WI"
      },
      "source": [
        "# ROC 커브"
      ]
    },
    {
      "cell_type": "code",
      "metadata": {
        "id": "YJWAk2Ebm6x-",
        "colab": {
          "base_uri": "https://localhost:8080/",
          "height": 279
        },
        "outputId": "fcb50455-948b-4e90-e5d7-53eeffd77f25"
      },
      "source": [
        "colors = ['black', 'orange', 'blue', 'green']\n",
        "linestyles = [':', '-','solid','dashdot']\n",
        "for clf, label, clr, ls \\\n",
        "        in zip(all_clf, clf_labels, colors, linestyles):\n",
        "\n",
        "  clf.fit(X_train, y_train)\n",
        "  y_pred = clf.predict_proba(X_test)[:, 1]\n",
        "  fpr, tpr, thresholds = roc_curve(y_true=y_test,\n",
        "                                  y_score=y_pred)\n",
        "  roc_auc = auc(x=fpr, y=tpr) # 교차검증 X\n",
        "  plt.plot(fpr, tpr,\n",
        "            color=clr,\n",
        "            linestyle=ls,\n",
        "            label='%s (auc = %0.3f)' % (label, roc_auc))\n",
        "  \n",
        "plt.legend(loc='lower right')\n",
        "plt.plot([0, 1], [0, 1],\n",
        "          linestyle='--',\n",
        "          color='gray',\n",
        "          linewidth=2)\n",
        "\n",
        "plt.xlim([-0.1, 1.1])\n",
        "plt.ylim([-0.1, 1.1])\n",
        "plt.grid(alpha=0.5)\n",
        "plt.xlabel('False positive rate (FPR)')\n",
        "plt.ylabel('True positive rate (TPR)')\n",
        "\n",
        "plt.show()"
      ],
      "execution_count": null,
      "outputs": [
        {
          "output_type": "display_data",
          "data": {
            "image/png": "[encoded data removed]",
            "text/plain": [
              "<Figure size 432x288 with 1 Axes>"
            ]
          },
          "metadata": {
            "needs_background": "light"
          }
        }
      ]
    },
    {
      "cell_type": "markdown",
      "metadata": {
        "id": "l2PQtmxfnMZk"
      },
      "source": [
        "# RF"
      ]
    },
    {
      "cell_type": "code",
      "metadata": {
        "id": "Q8SWo1zynNoZ",
        "colab": {
          "base_uri": "https://localhost:8080/"
        },
        "outputId": "c15d76bf-822f-4de2-ffac-14f17ec7b5be"
      },
      "source": [
        "report(forest)"
      ],
      "execution_count": null,
      "outputs": [
        {
          "output_type": "stream",
          "text": [
            "              precision    recall  f1-score   support\n",
            "\n",
            "           0       0.94      0.94      0.94       181\n",
            "           1       0.96      0.97      0.96       292\n",
            "\n",
            "    accuracy                           0.96       473\n",
            "   macro avg       0.95      0.95      0.95       473\n",
            "weighted avg       0.96      0.96      0.96       473\n",
            "\n",
            "Random Forest Accuracy: 0.9556025369978859\n"
          ],
          "name": "stdout"
        },
        {
          "output_type": "display_data",
          "data": {
            "image/png": "[encoded data removed]",
            "text/plain": [
              "<Figure size 720x360 with 2 Axes>"
            ]
          },
          "metadata": {
            "needs_background": "light"
          }
        }
      ]
    },
    {
      "cell_type": "code",
      "metadata": {
        "id": "xO2zzqtKnRen",
        "colab": {
          "base_uri": "https://localhost:8080/"
        },
        "outputId": "c37f90db-747b-419e-f574-f7d8097febfd"
      },
      "source": [
        "feature_importance(forest)"
      ],
      "execution_count": null,
      "outputs": [
        {
          "output_type": "stream",
          "text": [
            "/usr/local/lib/python3.7/dist-packages/seaborn/_decorators.py:43: FutureWarning: Pass the following variables as keyword args: x, y. From version 0.12, the only valid positional argument will be `data`, and passing other arguments without an explicit keyword will result in an error or misinterpretation.\n",
            "  FutureWarning\n"
          ],
          "name": "stderr"
        },
        {
          "output_type": "display_data",
          "data": {
            "image/png": "[encoded data removed]",
            "text/plain": [
              "<Figure size 1080x504 with 1 Axes>"
            ]
          },
          "metadata": {
            "needs_background": "light"
          }
        }
      ]
    },
    {
      "cell_type": "markdown",
      "metadata": {
        "id": "LRfBeKsunH0w"
      },
      "source": [
        "# voting"
      ]
    },
    {
      "cell_type": "code",
      "metadata": {
        "id": "M6xaEQm6mryi",
        "colab": {
          "base_uri": "https://localhost:8080/",
          "height": 318
        },
        "outputId": "1522c919-cc31-4d5b-dfc1-c35ef442c410"
      },
      "source": [
        "report(voting)"
      ],
      "execution_count": null,
      "outputs": [
        {
          "output_type": "error",
          "ename": "NotFittedError",
          "evalue": "ignored",
          "traceback": [
            "\u001b[0;31m---------------------------------------------------------------------------\u001b[0m",
            "\u001b[0;31mNotFittedError\u001b[0m                            Traceback (most recent call last)",
            "\u001b[0;32m<ipython-input-115-b35477af608c>\u001b[0m in \u001b[0;36m<module>\u001b[0;34m()\u001b[0m\n\u001b[0;32m----> 1\u001b[0;31m \u001b[0mreport\u001b[0m\u001b[0;34m(\u001b[0m\u001b[0mvoting\u001b[0m\u001b[0;34m)\u001b[0m\u001b[0;34m\u001b[0m\u001b[0;34m\u001b[0m\u001b[0m\n\u001b[0m",
            "\u001b[0;32m<ipython-input-110-4236561ac50b>\u001b[0m in \u001b[0;36mreport\u001b[0;34m(clf)\u001b[0m\n\u001b[1;32m      1\u001b[0m \u001b[0;32mdef\u001b[0m \u001b[0mreport\u001b[0m\u001b[0;34m(\u001b[0m\u001b[0mclf\u001b[0m\u001b[0;34m)\u001b[0m\u001b[0;34m:\u001b[0m\u001b[0;34m\u001b[0m\u001b[0;34m\u001b[0m\u001b[0m\n\u001b[0;32m----> 2\u001b[0;31m     \u001b[0my_pred\u001b[0m \u001b[0;34m=\u001b[0m \u001b[0mclf\u001b[0m\u001b[0;34m.\u001b[0m\u001b[0mpredict\u001b[0m\u001b[0;34m(\u001b[0m\u001b[0mX_test\u001b[0m\u001b[0;34m)\u001b[0m\u001b[0;34m\u001b[0m\u001b[0;34m\u001b[0m\u001b[0m\n\u001b[0m\u001b[1;32m      3\u001b[0m     \u001b[0mprint\u001b[0m\u001b[0;34m(\u001b[0m\u001b[0mclassification_report\u001b[0m\u001b[0;34m(\u001b[0m\u001b[0my_test\u001b[0m\u001b[0;34m,\u001b[0m \u001b[0my_pred\u001b[0m\u001b[0;34m)\u001b[0m\u001b[0;34m)\u001b[0m\u001b[0;34m\u001b[0m\u001b[0;34m\u001b[0m\u001b[0m\n\u001b[1;32m      4\u001b[0m     \u001b[0mprint\u001b[0m\u001b[0;34m(\u001b[0m\u001b[0;34m'Random Forest Accuracy:'\u001b[0m\u001b[0;34m,\u001b[0m \u001b[0mnp\u001b[0m\u001b[0;34m.\u001b[0m\u001b[0mmean\u001b[0m\u001b[0;34m(\u001b[0m\u001b[0my_pred\u001b[0m \u001b[0;34m==\u001b[0m \u001b[0my_test\u001b[0m\u001b[0;34m)\u001b[0m\u001b[0;34m)\u001b[0m\u001b[0;34m\u001b[0m\u001b[0;34m\u001b[0m\u001b[0m\n\u001b[1;32m      5\u001b[0m     \u001b[0max\u001b[0m \u001b[0;34m=\u001b[0m \u001b[0mplt\u001b[0m\u001b[0;34m.\u001b[0m\u001b[0mfigure\u001b[0m\u001b[0;34m(\u001b[0m\u001b[0mfigsize\u001b[0m\u001b[0;34m=\u001b[0m\u001b[0;34m(\u001b[0m\u001b[0;36m10\u001b[0m\u001b[0;34m,\u001b[0m \u001b[0;36m5\u001b[0m\u001b[0;34m)\u001b[0m\u001b[0;34m)\u001b[0m\u001b[0;34m\u001b[0m\u001b[0;34m\u001b[0m\u001b[0m\n",
            "\u001b[0;32m/usr/local/lib/python3.7/dist-packages/sklearn/ensemble/_voting.py\u001b[0m in \u001b[0;36mpredict\u001b[0;34m(self, X)\u001b[0m\n\u001b[1;32m    235\u001b[0m             \u001b[0mPredicted\u001b[0m \u001b[0;32mclass\u001b[0m \u001b[0mlabels\u001b[0m\u001b[0;34m.\u001b[0m\u001b[0;34m\u001b[0m\u001b[0;34m\u001b[0m\u001b[0m\n\u001b[1;32m    236\u001b[0m         \"\"\"\n\u001b[0;32m--> 237\u001b[0;31m         \u001b[0mcheck_is_fitted\u001b[0m\u001b[0;34m(\u001b[0m\u001b[0mself\u001b[0m\u001b[0;34m)\u001b[0m\u001b[0;34m\u001b[0m\u001b[0;34m\u001b[0m\u001b[0m\n\u001b[0m\u001b[1;32m    238\u001b[0m         \u001b[0;32mif\u001b[0m \u001b[0mself\u001b[0m\u001b[0;34m.\u001b[0m\u001b[0mvoting\u001b[0m \u001b[0;34m==\u001b[0m \u001b[0;34m'soft'\u001b[0m\u001b[0;34m:\u001b[0m\u001b[0;34m\u001b[0m\u001b[0;34m\u001b[0m\u001b[0m\n\u001b[1;32m    239\u001b[0m             \u001b[0mmaj\u001b[0m \u001b[0;34m=\u001b[0m \u001b[0mnp\u001b[0m\u001b[0;34m.\u001b[0m\u001b[0margmax\u001b[0m\u001b[0;34m(\u001b[0m\u001b[0mself\u001b[0m\u001b[0;34m.\u001b[0m\u001b[0mpredict_proba\u001b[0m\u001b[0;34m(\u001b[0m\u001b[0mX\u001b[0m\u001b[0;34m)\u001b[0m\u001b[0;34m,\u001b[0m \u001b[0maxis\u001b[0m\u001b[0;34m=\u001b[0m\u001b[0;36m1\u001b[0m\u001b[0;34m)\u001b[0m\u001b[0;34m\u001b[0m\u001b[0;34m\u001b[0m\u001b[0m\n",
            "\u001b[0;32m/usr/local/lib/python3.7/dist-packages/sklearn/utils/validation.py\u001b[0m in \u001b[0;36mcheck_is_fitted\u001b[0;34m(estimator, attributes, msg, all_or_any)\u001b[0m\n\u001b[1;32m    965\u001b[0m \u001b[0;34m\u001b[0m\u001b[0m\n\u001b[1;32m    966\u001b[0m     \u001b[0;32mif\u001b[0m \u001b[0;32mnot\u001b[0m \u001b[0mattrs\u001b[0m\u001b[0;34m:\u001b[0m\u001b[0;34m\u001b[0m\u001b[0;34m\u001b[0m\u001b[0m\n\u001b[0;32m--> 967\u001b[0;31m         \u001b[0;32mraise\u001b[0m \u001b[0mNotFittedError\u001b[0m\u001b[0;34m(\u001b[0m\u001b[0mmsg\u001b[0m \u001b[0;34m%\u001b[0m \u001b[0;34m{\u001b[0m\u001b[0;34m'name'\u001b[0m\u001b[0;34m:\u001b[0m \u001b[0mtype\u001b[0m\u001b[0;34m(\u001b[0m\u001b[0mestimator\u001b[0m\u001b[0;34m)\u001b[0m\u001b[0;34m.\u001b[0m\u001b[0m__name__\u001b[0m\u001b[0;34m}\u001b[0m\u001b[0;34m)\u001b[0m\u001b[0;34m\u001b[0m\u001b[0;34m\u001b[0m\u001b[0m\n\u001b[0m\u001b[1;32m    968\u001b[0m \u001b[0;34m\u001b[0m\u001b[0m\n\u001b[1;32m    969\u001b[0m \u001b[0;34m\u001b[0m\u001b[0m\n",
            "\u001b[0;31mNotFittedError\u001b[0m: This VotingClassifier instance is not fitted yet. Call 'fit' with appropriate arguments before using this estimator."
          ]
        }
      ]
    },
    {
      "cell_type": "markdown",
      "metadata": {
        "id": "6xtV04dtnR7h"
      },
      "source": [
        "# DT"
      ]
    },
    {
      "cell_type": "code",
      "metadata": {
        "id": "aO7LzcAXnVET"
      },
      "source": [
        "report(tree)"
      ],
      "execution_count": null,
      "outputs": []
    },
    {
      "cell_type": "code",
      "metadata": {
        "id": "xuSzPUpznZHu"
      },
      "source": [
        "feature_importance(forest)"
      ],
      "execution_count": null,
      "outputs": []
    },
    {
      "cell_type": "markdown",
      "metadata": {
        "id": "nzHQKzSlnay_"
      },
      "source": [
        "# LGBM"
      ]
    },
    {
      "cell_type": "code",
      "metadata": {
        "id": "DkHHMrVondu0",
        "colab": {
          "base_uri": "https://localhost:8080/",
          "height": 496
        },
        "outputId": "ff4cfd71-f0b3-414b-8108-fdbaabc9488a"
      },
      "source": [
        "report(lgb)"
      ],
      "execution_count": null,
      "outputs": [
        {
          "output_type": "stream",
          "text": [
            "              precision    recall  f1-score   support\n",
            "\n",
            "           0       0.94      0.93      0.93       181\n",
            "           1       0.96      0.96      0.96       292\n",
            "\n",
            "    accuracy                           0.95       473\n",
            "   macro avg       0.95      0.95      0.95       473\n",
            "weighted avg       0.95      0.95      0.95       473\n",
            "\n",
            "Random Forest Accuracy: 0.9492600422832981\n"
          ],
          "name": "stdout"
        },
        {
          "output_type": "display_data",
          "data": {
            "image/png": "[encoded data removed]",
            "text/plain": [
              "<Figure size 720x360 with 2 Axes>"
            ]
          },
          "metadata": {
            "needs_background": "light"
          }
        }
      ]
    },
    {
      "cell_type": "code",
      "metadata": {
        "id": "-J9uIpuFngHN",
        "colab": {
          "base_uri": "https://localhost:8080/",
          "height": 371
        },
        "outputId": "2366bf0c-98cd-44b3-a895-22286a74f08e"
      },
      "source": [
        "feature_importance(lgb)"
      ],
      "execution_count": null,
      "outputs": [
        {
          "output_type": "stream",
          "text": [
            "/usr/local/lib/python3.7/dist-packages/seaborn/_decorators.py:43: FutureWarning: Pass the following variables as keyword args: x, y. From version 0.12, the only valid positional argument will be `data`, and passing other arguments without an explicit keyword will result in an error or misinterpretation.\n",
            "  FutureWarning\n"
          ],
          "name": "stderr"
        },
        {
          "output_type": "display_data",
          "data": {
            "image/png": "[encoded data removed]",
            "text/plain": [
              "<Figure size 1080x504 with 1 Axes>"
            ]
          },
          "metadata": {
            "needs_background": "light"
          }
        }
      ]
    },
    {
      "cell_type": "markdown",
      "metadata": {
        "id": "KrKcU_hsniCQ"
      },
      "source": [
        "#XGB"
      ]
    },
    {
      "cell_type": "code",
      "metadata": {
        "id": "ceKchcY-nyuy"
      },
      "source": [
        "report(xgb)"
      ],
      "execution_count": null,
      "outputs": []
    },
    {
      "cell_type": "code",
      "metadata": {
        "id": "SnqrowKsn1DQ"
      },
      "source": [
        "feature_importance(xgb)"
      ],
      "execution_count": null,
      "outputs": []
    },
    {
      "cell_type": "markdown",
      "metadata": {
        "id": "s3vRb-1Hn5fL"
      },
      "source": [
        "# ADA"
      ]
    },
    {
      "cell_type": "code",
      "metadata": {
        "id": "y1oDOxoqn4uH"
      },
      "source": [
        "report(adaboost)"
      ],
      "execution_count": null,
      "outputs": []
    },
    {
      "cell_type": "code",
      "metadata": {
        "id": "FwZYolvfoCnf"
      },
      "source": [
        "report(adaboost)"
      ],
      "execution_count": null,
      "outputs": []
    },
    {
      "cell_type": "code",
      "metadata": {
        "id": "k4t54Jo7oEWt",
        "colab": {
          "base_uri": "https://localhost:8080/",
          "height": 371
        },
        "outputId": "b854d9c6-71a7-4344-dc06-923b03bda2b2"
      },
      "source": [
        "feature_importance(adaboost)"
      ],
      "execution_count": null,
      "outputs": [
        {
          "output_type": "stream",
          "text": [
            "/usr/local/lib/python3.7/dist-packages/seaborn/_decorators.py:43: FutureWarning: Pass the following variables as keyword args: x, y. From version 0.12, the only valid positional argument will be `data`, and passing other arguments without an explicit keyword will result in an error or misinterpretation.\n",
            "  FutureWarning\n"
          ],
          "name": "stderr"
        },
        {
          "output_type": "display_data",
          "data": {
            "image/png": "[encoded data removed]",
            "text/plain": [
              "<Figure size 1080x504 with 1 Axes>"
            ]
          },
          "metadata": {
            "needs_background": "light"
          }
        }
      ]
    }
  ]
}